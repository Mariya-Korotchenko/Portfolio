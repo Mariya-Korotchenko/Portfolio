{
 "cells": [
  {
   "cell_type": "markdown",
   "id": "1aa1bf3c",
   "metadata": {},
   "source": [
    "# Исследование лояльности пользователей"
   ]
  },
  {
   "cell_type": "markdown",
   "id": "596fee3e",
   "metadata": {},
   "source": [
    "**Ссылка на проект:** https://public.tableau.com/shared/KTFZK27SZ?:display_count=n&:origin=viz_share_link\n",
    "\n",
    "**Ссылка на презентацию:**\n",
    "https://disk.yandex.ru/i/A0N3yC3AmlCFiw\n",
    "\n",
    "**Цель исследования:** Определить текущий уровень потребительской лояльности, или NPS (от англ. Net Promoter Score) среди клиентов из России.\n",
    "\n",
    "**Задачи исследования:** проанализировать данные и дать ответы на следующие вопросы:\\\n",
    "Как распределены участники опроса по возрасту и полу? Каких пользователей больше: новых или старых? Пользователи из каких городов активнее участвовали в опросе?\\\n",
    "Какие группы пользователей наиболее лояльны к сервису? Какие менее?\\\n",
    "Какой общий NPS среди всех опрошенных?\\\n",
    "Как можно описать клиентов, которые относятся к группе cторонников (англ. promoters)?\\\n",
    "\n",
    "В результате обработки данных получилась следующая таблица:\\\n",
    "user_id\tИдентификатор клиента\\\n",
    "lt_day\tКоличество дней «жизни» клиента\\\n",
    "is_new\tПоле хранит информацию о том, является ли клиент новым\\\n",
    "age\tВозраст\\\n",
    "gender_segment\tПол (для удобства работы с полем преобразуйте значения в текстовый вид)\\\n",
    "os_name\tТип операционной системы\\\n",
    "cpe_type_name\tТип устройства\\\n",
    "country\tСтрана проживания\\\n",
    "city\tГород проживания\\\n",
    "age_segment\tВозрастной сегмент\\\n",
    "traffic_segment\tСегмент по объёму потребляемого трафика\\\n",
    "lifetime_segment\tСегмент по количеству дней «жизни»\\\n",
    "nps_score\tОценка клиента в NPS-опросе\\\n",
    "nps_group\tПоле хранит информацию о том, к какой группе относится оценка клиента в опросе."
   ]
  },
  {
   "cell_type": "code",
   "execution_count": 1,
   "id": "fc7efa54",
   "metadata": {},
   "outputs": [],
   "source": [
    "import os\n",
    "import pandas as pd\n",
    "import numpy as np\n",
    "\n",
    "from sqlalchemy import create_engine"
   ]
  },
  {
   "cell_type": "code",
   "execution_count": 2,
   "id": "0017f8e7",
   "metadata": {},
   "outputs": [],
   "source": [
    "path_to_db_local = 'telecomm_csi.db'\n",
    "path_to_db_platform = '/datasets/telecomm_csi.db'\n",
    "path_to_db = None\n",
    "\n",
    "if os.path.exists(path_to_db_local):\n",
    "    path_to_db = path_to_db_local\n",
    "elif os.path.exists(path_to_db_platform):\n",
    "    path_to_db = path_to_db_platform\n",
    "else:\n",
    "    raise Exception('Файл с базой данных SQLite не найден!')\n",
    "\n",
    "if path_to_db:\n",
    "    engine = create_engine(f'sqlite:///{path_to_db}', echo=False)"
   ]
  },
  {
   "cell_type": "code",
   "execution_count": 3,
   "id": "84ebad43",
   "metadata": {},
   "outputs": [],
   "source": [
    "query = \"\"\"\n",
    "SELECT u.user_id, \n",
    "       u.lt_day,\n",
    "       CASE\n",
    "           WHEN u.lt_day <= 365 THEN 'Новый'\n",
    "           ELSE 'Старый'\n",
    "       END AS is_new,\n",
    "       u.age,\n",
    "       CASE\n",
    "           WHEN u.gender_segment == 1 THEN 'Женщина'\n",
    "           WHEN u.gender_segment == 0 THEN 'Мужчина'\n",
    "           ELSE 'Неизвестно'\n",
    "       END AS gender_segment,   \n",
    "       u.os_name,\n",
    "       u.cpe_type_name,\n",
    "       l.country,\n",
    "       l.city,    \n",
    "       SUBSTRING(a.title, 4) AS age_segment,\n",
    "       SUBSTRING(t.title, 4) AS traffic_segment,\n",
    "       SUBSTRING(l.title, 4) AS lifetime_segment,\n",
    "       u.nps_score,\n",
    "       CASE\n",
    "           WHEN nps_score >= 9 THEN 'Сторонник'\n",
    "           WHEN nps_score >= 7 THEN 'Нейтрал'\n",
    "           ELSE 'Критик'\n",
    "      END AS nps_group   \n",
    "FROM user AS u\n",
    "INNER JOIN location AS l ON u.location_id=l.location_id\n",
    "INNER JOIN age_segment AS a ON u.age_gr_id=a.age_gr_id\n",
    "INNER JOIN traffic_segment AS t ON u.tr_gr_id=t.tr_gr_id\n",
    "INNER JOIN lifetime_segment AS l ON u.lt_gr_id=l.lt_gr_id;\n",
    "\"\"\""
   ]
  },
  {
   "cell_type": "code",
   "execution_count": 4,
   "id": "3965faf2",
   "metadata": {
    "scrolled": true
   },
   "outputs": [
    {
     "data": {
      "text/html": [
       "<div>\n",
       "<style scoped>\n",
       "    .dataframe tbody tr th:only-of-type {\n",
       "        vertical-align: middle;\n",
       "    }\n",
       "\n",
       "    .dataframe tbody tr th {\n",
       "        vertical-align: top;\n",
       "    }\n",
       "\n",
       "    .dataframe thead th {\n",
       "        text-align: right;\n",
       "    }\n",
       "</style>\n",
       "<table border=\"1\" class=\"dataframe\">\n",
       "  <thead>\n",
       "    <tr style=\"text-align: right;\">\n",
       "      <th></th>\n",
       "      <th>user_id</th>\n",
       "      <th>lt_day</th>\n",
       "      <th>is_new</th>\n",
       "      <th>age</th>\n",
       "      <th>gender_segment</th>\n",
       "      <th>os_name</th>\n",
       "      <th>cpe_type_name</th>\n",
       "      <th>country</th>\n",
       "      <th>city</th>\n",
       "      <th>age_segment</th>\n",
       "      <th>traffic_segment</th>\n",
       "      <th>lifetime_segment</th>\n",
       "      <th>nps_score</th>\n",
       "      <th>nps_group</th>\n",
       "    </tr>\n",
       "  </thead>\n",
       "  <tbody>\n",
       "    <tr>\n",
       "      <th>0</th>\n",
       "      <td>A001A2</td>\n",
       "      <td>2320</td>\n",
       "      <td>Старый</td>\n",
       "      <td>45.0</td>\n",
       "      <td>Женщина</td>\n",
       "      <td>ANDROID</td>\n",
       "      <td>SMARTPHONE</td>\n",
       "      <td>Россия</td>\n",
       "      <td>Уфа</td>\n",
       "      <td>45-54</td>\n",
       "      <td>1-5</td>\n",
       "      <td>36+</td>\n",
       "      <td>10</td>\n",
       "      <td>Сторонник</td>\n",
       "    </tr>\n",
       "    <tr>\n",
       "      <th>1</th>\n",
       "      <td>A001WF</td>\n",
       "      <td>2344</td>\n",
       "      <td>Старый</td>\n",
       "      <td>53.0</td>\n",
       "      <td>Мужчина</td>\n",
       "      <td>ANDROID</td>\n",
       "      <td>SMARTPHONE</td>\n",
       "      <td>Россия</td>\n",
       "      <td>Киров</td>\n",
       "      <td>45-54</td>\n",
       "      <td>1-5</td>\n",
       "      <td>36+</td>\n",
       "      <td>10</td>\n",
       "      <td>Сторонник</td>\n",
       "    </tr>\n",
       "    <tr>\n",
       "      <th>2</th>\n",
       "      <td>A003Q7</td>\n",
       "      <td>467</td>\n",
       "      <td>Старый</td>\n",
       "      <td>57.0</td>\n",
       "      <td>Мужчина</td>\n",
       "      <td>ANDROID</td>\n",
       "      <td>SMARTPHONE</td>\n",
       "      <td>Россия</td>\n",
       "      <td>Москва</td>\n",
       "      <td>55-64</td>\n",
       "      <td>20-25</td>\n",
       "      <td>13-24</td>\n",
       "      <td>10</td>\n",
       "      <td>Сторонник</td>\n",
       "    </tr>\n",
       "    <tr>\n",
       "      <th>3</th>\n",
       "      <td>A004TB</td>\n",
       "      <td>4190</td>\n",
       "      <td>Старый</td>\n",
       "      <td>44.0</td>\n",
       "      <td>Женщина</td>\n",
       "      <td>IOS</td>\n",
       "      <td>SMARTPHONE</td>\n",
       "      <td>Россия</td>\n",
       "      <td>РостовнаДону</td>\n",
       "      <td>35-44</td>\n",
       "      <td>0.1-1</td>\n",
       "      <td>36+</td>\n",
       "      <td>10</td>\n",
       "      <td>Сторонник</td>\n",
       "    </tr>\n",
       "    <tr>\n",
       "      <th>4</th>\n",
       "      <td>A004XT</td>\n",
       "      <td>1163</td>\n",
       "      <td>Старый</td>\n",
       "      <td>24.0</td>\n",
       "      <td>Мужчина</td>\n",
       "      <td>ANDROID</td>\n",
       "      <td>SMARTPHONE</td>\n",
       "      <td>Россия</td>\n",
       "      <td>Рязань</td>\n",
       "      <td>16-24</td>\n",
       "      <td>5-10</td>\n",
       "      <td>36+</td>\n",
       "      <td>10</td>\n",
       "      <td>Сторонник</td>\n",
       "    </tr>\n",
       "    <tr>\n",
       "      <th>5</th>\n",
       "      <td>A005O0</td>\n",
       "      <td>5501</td>\n",
       "      <td>Старый</td>\n",
       "      <td>42.0</td>\n",
       "      <td>Женщина</td>\n",
       "      <td>ANDROID</td>\n",
       "      <td>SMARTPHONE</td>\n",
       "      <td>Россия</td>\n",
       "      <td>Омск</td>\n",
       "      <td>35-44</td>\n",
       "      <td>5-10</td>\n",
       "      <td>36+</td>\n",
       "      <td>6</td>\n",
       "      <td>Критик</td>\n",
       "    </tr>\n",
       "    <tr>\n",
       "      <th>6</th>\n",
       "      <td>A0061R</td>\n",
       "      <td>1236</td>\n",
       "      <td>Старый</td>\n",
       "      <td>45.0</td>\n",
       "      <td>Мужчина</td>\n",
       "      <td>ANDROID</td>\n",
       "      <td>SMARTPHONE</td>\n",
       "      <td>Россия</td>\n",
       "      <td>Уфа</td>\n",
       "      <td>45-54</td>\n",
       "      <td>10-15</td>\n",
       "      <td>36+</td>\n",
       "      <td>10</td>\n",
       "      <td>Сторонник</td>\n",
       "    </tr>\n",
       "    <tr>\n",
       "      <th>7</th>\n",
       "      <td>A009KS</td>\n",
       "      <td>313</td>\n",
       "      <td>Новый</td>\n",
       "      <td>35.0</td>\n",
       "      <td>Мужчина</td>\n",
       "      <td>ANDROID</td>\n",
       "      <td>SMARTPHONE</td>\n",
       "      <td>Россия</td>\n",
       "      <td>Москва</td>\n",
       "      <td>35-44</td>\n",
       "      <td>45-50</td>\n",
       "      <td>7-12</td>\n",
       "      <td>10</td>\n",
       "      <td>Сторонник</td>\n",
       "    </tr>\n",
       "    <tr>\n",
       "      <th>8</th>\n",
       "      <td>A00AES</td>\n",
       "      <td>3238</td>\n",
       "      <td>Старый</td>\n",
       "      <td>36.0</td>\n",
       "      <td>Женщина</td>\n",
       "      <td>ANDROID</td>\n",
       "      <td>SMARTPHONE</td>\n",
       "      <td>Россия</td>\n",
       "      <td>СанктПетербург</td>\n",
       "      <td>35-44</td>\n",
       "      <td>1-5</td>\n",
       "      <td>36+</td>\n",
       "      <td>10</td>\n",
       "      <td>Сторонник</td>\n",
       "    </tr>\n",
       "    <tr>\n",
       "      <th>9</th>\n",
       "      <td>A00F70</td>\n",
       "      <td>4479</td>\n",
       "      <td>Старый</td>\n",
       "      <td>54.0</td>\n",
       "      <td>Женщина</td>\n",
       "      <td>ANDROID</td>\n",
       "      <td>SMARTPHONE</td>\n",
       "      <td>Россия</td>\n",
       "      <td>Волгоград</td>\n",
       "      <td>45-54</td>\n",
       "      <td>15-20</td>\n",
       "      <td>36+</td>\n",
       "      <td>9</td>\n",
       "      <td>Сторонник</td>\n",
       "    </tr>\n",
       "  </tbody>\n",
       "</table>\n",
       "</div>"
      ],
      "text/plain": [
       "  user_id  lt_day  is_new   age gender_segment  os_name cpe_type_name country  \\\n",
       "0  A001A2    2320  Старый  45.0        Женщина  ANDROID    SMARTPHONE  Россия   \n",
       "1  A001WF    2344  Старый  53.0        Мужчина  ANDROID    SMARTPHONE  Россия   \n",
       "2  A003Q7     467  Старый  57.0        Мужчина  ANDROID    SMARTPHONE  Россия   \n",
       "3  A004TB    4190  Старый  44.0        Женщина      IOS    SMARTPHONE  Россия   \n",
       "4  A004XT    1163  Старый  24.0        Мужчина  ANDROID    SMARTPHONE  Россия   \n",
       "5  A005O0    5501  Старый  42.0        Женщина  ANDROID    SMARTPHONE  Россия   \n",
       "6  A0061R    1236  Старый  45.0        Мужчина  ANDROID    SMARTPHONE  Россия   \n",
       "7  A009KS     313   Новый  35.0        Мужчина  ANDROID    SMARTPHONE  Россия   \n",
       "8  A00AES    3238  Старый  36.0        Женщина  ANDROID    SMARTPHONE  Россия   \n",
       "9  A00F70    4479  Старый  54.0        Женщина  ANDROID    SMARTPHONE  Россия   \n",
       "\n",
       "             city age_segment traffic_segment lifetime_segment  nps_score  \\\n",
       "0             Уфа       45-54             1-5              36+         10   \n",
       "1           Киров       45-54             1-5              36+         10   \n",
       "2          Москва       55-64           20-25            13-24         10   \n",
       "3    РостовнаДону       35-44           0.1-1              36+         10   \n",
       "4          Рязань       16-24            5-10              36+         10   \n",
       "5            Омск       35-44            5-10              36+          6   \n",
       "6             Уфа       45-54           10-15              36+         10   \n",
       "7          Москва       35-44           45-50             7-12         10   \n",
       "8  СанктПетербург       35-44             1-5              36+         10   \n",
       "9       Волгоград       45-54           15-20              36+          9   \n",
       "\n",
       "   nps_group  \n",
       "0  Сторонник  \n",
       "1  Сторонник  \n",
       "2  Сторонник  \n",
       "3  Сторонник  \n",
       "4  Сторонник  \n",
       "5     Критик  \n",
       "6  Сторонник  \n",
       "7  Сторонник  \n",
       "8  Сторонник  \n",
       "9  Сторонник  "
      ]
     },
     "execution_count": 4,
     "metadata": {},
     "output_type": "execute_result"
    }
   ],
   "source": [
    "df = pd.read_sql(query, engine)\n",
    "df.head(10)"
   ]
  },
  {
   "cell_type": "code",
   "execution_count": 5,
   "id": "9db04858",
   "metadata": {},
   "outputs": [],
   "source": [
    "df.to_csv('telecomm_csi_tableau.csv', index=False)"
   ]
  }
 ],
 "metadata": {
  "ExecuteTimeLog": [
   {
    "duration": 536,
    "start_time": "2024-05-04T11:39:21.889Z"
   },
   {
    "duration": 86,
    "start_time": "2024-05-04T11:39:23.818Z"
   },
   {
    "duration": 3,
    "start_time": "2024-05-04T11:39:26.491Z"
   },
   {
    "duration": 5841,
    "start_time": "2024-05-04T11:39:28.633Z"
   },
   {
    "duration": 5450,
    "start_time": "2024-05-04T11:39:45.976Z"
   },
   {
    "duration": 3,
    "start_time": "2024-05-04T11:39:51.578Z"
   },
   {
    "duration": 3,
    "start_time": "2024-05-04T11:46:56.817Z"
   },
   {
    "duration": 5926,
    "start_time": "2024-05-04T11:46:59.352Z"
   },
   {
    "duration": 4,
    "start_time": "2024-05-04T11:48:13.911Z"
   },
   {
    "duration": 5839,
    "start_time": "2024-05-04T11:48:18.655Z"
   },
   {
    "duration": 5050,
    "start_time": "2024-05-04T11:49:19.821Z"
   },
   {
    "duration": 5287,
    "start_time": "2024-05-04T11:49:32.135Z"
   },
   {
    "duration": 6010,
    "start_time": "2024-05-04T11:50:03.873Z"
   },
   {
    "duration": 5168,
    "start_time": "2024-05-04T11:50:15.318Z"
   },
   {
    "duration": 560,
    "start_time": "2024-05-07T20:15:42.086Z"
   },
   {
    "duration": 11,
    "start_time": "2024-05-07T20:15:42.648Z"
   },
   {
    "duration": 3,
    "start_time": "2024-05-07T20:15:42.661Z"
   },
   {
    "duration": 6518,
    "start_time": "2024-05-07T20:15:42.665Z"
   },
   {
    "duration": 4909,
    "start_time": "2024-05-07T20:15:49.185Z"
   },
   {
    "duration": 845,
    "start_time": "2024-05-07T20:18:10.623Z"
   },
   {
    "duration": 516,
    "start_time": "2024-05-07T20:36:44.515Z"
   },
   {
    "duration": 11,
    "start_time": "2024-05-07T20:36:45.033Z"
   },
   {
    "duration": 16,
    "start_time": "2024-05-07T20:36:45.045Z"
   },
   {
    "duration": 6710,
    "start_time": "2024-05-07T20:36:45.062Z"
   },
   {
    "duration": 4805,
    "start_time": "2024-05-07T20:36:51.774Z"
   },
   {
    "duration": 515,
    "start_time": "2024-05-08T13:26:25.328Z"
   },
   {
    "duration": 14,
    "start_time": "2024-05-08T13:26:25.845Z"
   },
   {
    "duration": 3,
    "start_time": "2024-05-08T13:26:25.861Z"
   },
   {
    "duration": 6214,
    "start_time": "2024-05-08T13:26:25.866Z"
   },
   {
    "duration": 4598,
    "start_time": "2024-05-08T13:26:32.082Z"
   }
  ],
  "kernelspec": {
   "display_name": "Python 3 (ipykernel)",
   "language": "python",
   "name": "python3"
  },
  "language_info": {
   "codemirror_mode": {
    "name": "ipython",
    "version": 3
   },
   "file_extension": ".py",
   "mimetype": "text/x-python",
   "name": "python",
   "nbconvert_exporter": "python",
   "pygments_lexer": "ipython3",
   "version": "3.11.9"
  },
  "toc": {
   "base_numbering": 1,
   "nav_menu": {},
   "number_sections": true,
   "sideBar": true,
   "skip_h1_title": true,
   "title_cell": "Table of Contents",
   "title_sidebar": "Contents",
   "toc_cell": false,
   "toc_position": {},
   "toc_section_display": true,
   "toc_window_display": false
  }
 },
 "nbformat": 4,
 "nbformat_minor": 5
}
