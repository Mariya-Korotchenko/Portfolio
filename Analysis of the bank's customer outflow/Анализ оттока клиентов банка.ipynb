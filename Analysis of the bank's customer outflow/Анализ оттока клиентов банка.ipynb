{
 "cells": [
  {
   "cell_type": "markdown",
   "metadata": {},
   "source": [
    "  <div class=\"alert alert-info\">\n",
    "  Привет, Мария! Меня зовут Светлана Чих и я буду проверять твой проект. Моя основная цель — не указать на совершенные тобою ошибки, а поделиться своим опытом и помочь тебе. Предлагаю общаться на «ты». Но если это не удобно - дай знать, и мы перейдем на «вы».\n",
    "\n",
    "  <div class=\"alert alert-success\">\n",
    "  <b>👍 Успех:</b> Зелёным цветом отмечены удачные и элегантные решения, на которые можно опираться в будущих проектах.\n",
    "  </div>\n",
    "  <div class=\"alert alert-warning\">\n",
    "  <b>🤔 Рекомендация:</b> Жёлтым цветом выделено то, что в следующий раз можно сделать по-другому. Ты можешь учесть эти комментарии при выполнении будущих заданий или доработать проект сейчас (однако это не обязательно).\n",
    "  </div>\n",
    "  <div class=\"alert alert-danger\">\n",
    "  <b>😔 Необходимо исправить:</b> Красным цветом выделены комментарии, без исправления которых, я не смогу принять проект :(\n",
    "  </div>\n",
    "  <div class=\"alert alert-info\">\n",
    "  <b>👂 Совет:</b> Какие-то дополнительные материалы\n",
    "  </div>\n",
    "  Давай работать над проектом в диалоге: если ты что-то меняешь в проекте по моим рекомендациям — пиши об этом.\n",
    "  Мне будет легче отследить изменения, если ты выделишь свои комментарии:\n",
    "  <div class=\"alert alert-info\"> <b>🎓 Комментарий студента:</b> Например, вот так.</div>\n",
    "  Пожалуйста, не перемещай, не изменяй и не удаляй мои комментарии. Всё это поможет выполнить повторную проверку твоего проекта быстрее.\n",
    "   </div>"
   ]
  },
  {
   "cell_type": "markdown",
   "metadata": {},
   "source": [
    "### Анализ оттока клиентов банка \"Метанпром\""
   ]
  },
  {
   "cell_type": "markdown",
   "metadata": {},
   "source": [
    "**Презентация**\n",
    "<br>https://disk.yandex.ru/i/WjWlLfHSfWT8dA\n",
    "\n",
    "**Описание проекта:**\n",
    "\n",
    "В последнее время в банке повысился отток клиентов. Отдел маркетинга обратился с запросом на выявление сегментов отточных клиентов, на которые можно воздействовать, чтобы снизить отток.\n",
    "\n",
    "**Заказчик:**\n",
    "\n",
    "Отдел маркетинга.\n",
    "\n",
    "**Цель проекта:**\n",
    "\n",
    "Необходимо проанализировать отток клиентов банка, выделить наиболее склонные к оттоку сегменты пользователей. Дать рекомендации отделу маркетинга по снижению оттока.\n",
    "\n",
    "**Описание данных:**\n",
    "\n",
    "* USERID — идентификатор пользователя,\n",
    "* score — баллы кредитного скоринга,\n",
    "* city — город,\n",
    "* gender — пол,\n",
    "* age — возраст,\n",
    "* equity — приблизительная оценка собственности клиента,\n",
    "* balance — баланс на счёте,\n",
    "* products — количество продуктов, которыми пользуется клиент,\n",
    "* credit_card — есть ли кредитная карта,\n",
    "* last_activity — был ли клиент активен последнее время,\n",
    "* EST_SALARY — оценочная заработная плата клиента\n",
    "* churn — уходит или нет\n",
    "\n",
    "**Декомпозиция:**\n",
    "1. Загрузить файл с данными и изучить общую информацию.\n",
    "2. Предобработка данных.\n",
    "* Привести названия столбцов к нижнему регистру;\n",
    "* Проверить и обработать пропуски;\n",
    "* Преобразовать данные в нужные типы;\n",
    "* Проверить и обработать дубликаты.\n",
    "* Проверить выбросы и аномалии в данных.\n",
    "3. Исследовательский анализ.\n",
    "* Составить общий портрет клиентов;\n",
    "* Составить портреты клиентов по оттоку и сравнить их;\n",
    "* Построить столбчатые гистограммы и распределения признаков по отточным и оставшимся клиентам;\n",
    "* Построить матрицу корреляций оттока.\n",
    "4. Проверка статистических гипотез.\n",
    "* Формулировка гипотез;\n",
    "* Обоснование применения метода оценивания;\n",
    "* Проверка и интерпретация результата.\n",
    "5. Промежуточные выводы о том, какие показатели влияют на отток.\n",
    "6. Сегментация на основе стратегических показателей.\n",
    "* Необходимо выделить несколько признаков для выделения сегментов. Посчитать размер сегмента и процент оттока.\n",
    "7. Общий вывод и рекомендации."
   ]
  },
  {
   "cell_type": "markdown",
   "metadata": {},
   "source": [
    "#### Загрузка данных"
   ]
  },
  {
   "cell_type": "code",
   "execution_count": 23,
   "metadata": {},
   "outputs": [
    {
     "name": "stdout",
     "output_type": "stream",
     "text": [
      "Requirement already satisfied: phik in /opt/conda/lib/python3.9/site-packages (0.12.4)\n",
      "Requirement already satisfied: numpy>=1.18.0 in /opt/conda/lib/python3.9/site-packages (from phik) (1.21.1)\n",
      "Requirement already satisfied: scipy>=1.5.2 in /opt/conda/lib/python3.9/site-packages (from phik) (1.9.1)\n",
      "Requirement already satisfied: joblib>=0.14.1 in /opt/conda/lib/python3.9/site-packages (from phik) (1.1.0)\n",
      "Requirement already satisfied: matplotlib>=2.2.3 in /opt/conda/lib/python3.9/site-packages (from phik) (3.3.4)\n",
      "Requirement already satisfied: pandas>=0.25.1 in /opt/conda/lib/python3.9/site-packages (from phik) (1.2.4)\n",
      "Requirement already satisfied: pyparsing!=2.0.4,!=2.1.2,!=2.1.6,>=2.0.3 in /opt/conda/lib/python3.9/site-packages (from matplotlib>=2.2.3->phik) (2.4.7)\n",
      "Requirement already satisfied: cycler>=0.10 in /opt/conda/lib/python3.9/site-packages (from matplotlib>=2.2.3->phik) (0.11.0)\n",
      "Requirement already satisfied: python-dateutil>=2.1 in /opt/conda/lib/python3.9/site-packages (from matplotlib>=2.2.3->phik) (2.8.1)\n",
      "Requirement already satisfied: pillow>=6.2.0 in /opt/conda/lib/python3.9/site-packages (from matplotlib>=2.2.3->phik) (8.4.0)\n",
      "Requirement already satisfied: kiwisolver>=1.0.1 in /opt/conda/lib/python3.9/site-packages (from matplotlib>=2.2.3->phik) (1.4.4)\n",
      "Requirement already satisfied: pytz>=2017.3 in /opt/conda/lib/python3.9/site-packages (from pandas>=0.25.1->phik) (2021.1)\n",
      "Requirement already satisfied: six>=1.5 in /opt/conda/lib/python3.9/site-packages (from python-dateutil>=2.1->matplotlib>=2.2.3->phik) (1.16.0)\n",
      "Note: you may need to restart the kernel to use updated packages.\n"
     ]
    }
   ],
   "source": [
    "pip install phik"
   ]
  },
  {
   "cell_type": "code",
   "execution_count": 24,
   "metadata": {},
   "outputs": [],
   "source": [
    "import pandas as pd\n",
    "import matplotlib\n",
    "import matplotlib.pyplot as plt\n",
    "import seaborn as sns\n",
    "import phik\n",
    "from phik import resources, report\n",
    "from phik.report import plot_correlation_matrix\n",
    "from matplotlib.lines import Line2D\n",
    "import numpy as np\n",
    "import itertools\n",
    "import scipy.stats as stats\n",
    "pd.set_option('display.float_format', '{:.4f}'.format)\n",
    "import warnings\n",
    "warnings.filterwarnings('ignore')"
   ]
  },
  {
   "cell_type": "code",
   "execution_count": 25,
   "metadata": {},
   "outputs": [],
   "source": [
    "try:\n",
    "    df = pd.read_csv('/datasets/bank_scrooge.csv')\n",
    "except:\n",
    "    df = pd.read_csv('https://code.s3.yandex.net/datasets/bank_scrooge.csv')"
   ]
  },
  {
   "cell_type": "code",
   "execution_count": 26,
   "metadata": {},
   "outputs": [
    {
     "data": {
      "text/html": [
       "<div>\n",
       "<style scoped>\n",
       "    .dataframe tbody tr th:only-of-type {\n",
       "        vertical-align: middle;\n",
       "    }\n",
       "\n",
       "    .dataframe tbody tr th {\n",
       "        vertical-align: top;\n",
       "    }\n",
       "\n",
       "    .dataframe thead th {\n",
       "        text-align: right;\n",
       "    }\n",
       "</style>\n",
       "<table border=\"1\" class=\"dataframe\">\n",
       "  <thead>\n",
       "    <tr style=\"text-align: right;\">\n",
       "      <th></th>\n",
       "      <th>USERID</th>\n",
       "      <th>score</th>\n",
       "      <th>city</th>\n",
       "      <th>gender</th>\n",
       "      <th>age</th>\n",
       "      <th>equity</th>\n",
       "      <th>balance</th>\n",
       "      <th>products</th>\n",
       "      <th>credit_card</th>\n",
       "      <th>last_activity</th>\n",
       "      <th>EST_SALARY</th>\n",
       "      <th>churn</th>\n",
       "    </tr>\n",
       "  </thead>\n",
       "  <tbody>\n",
       "    <tr>\n",
       "      <th>0</th>\n",
       "      <td>183012</td>\n",
       "      <td>850.0000</td>\n",
       "      <td>Рыбинск</td>\n",
       "      <td>Ж</td>\n",
       "      <td>25.0000</td>\n",
       "      <td>1</td>\n",
       "      <td>59214.8200</td>\n",
       "      <td>2</td>\n",
       "      <td>0</td>\n",
       "      <td>1</td>\n",
       "      <td>75719.1400</td>\n",
       "      <td>1</td>\n",
       "    </tr>\n",
       "    <tr>\n",
       "      <th>1</th>\n",
       "      <td>146556</td>\n",
       "      <td>861.0000</td>\n",
       "      <td>Рыбинск</td>\n",
       "      <td>Ж</td>\n",
       "      <td>37.0000</td>\n",
       "      <td>5</td>\n",
       "      <td>850594.3300</td>\n",
       "      <td>3</td>\n",
       "      <td>1</td>\n",
       "      <td>0</td>\n",
       "      <td>86621.7700</td>\n",
       "      <td>0</td>\n",
       "    </tr>\n",
       "    <tr>\n",
       "      <th>2</th>\n",
       "      <td>120722</td>\n",
       "      <td>892.0000</td>\n",
       "      <td>Рыбинск</td>\n",
       "      <td>Ж</td>\n",
       "      <td>30.0000</td>\n",
       "      <td>0</td>\n",
       "      <td>NaN</td>\n",
       "      <td>1</td>\n",
       "      <td>1</td>\n",
       "      <td>1</td>\n",
       "      <td>107683.3400</td>\n",
       "      <td>0</td>\n",
       "    </tr>\n",
       "    <tr>\n",
       "      <th>3</th>\n",
       "      <td>225363</td>\n",
       "      <td>866.0000</td>\n",
       "      <td>Ярославль</td>\n",
       "      <td>Ж</td>\n",
       "      <td>51.0000</td>\n",
       "      <td>5</td>\n",
       "      <td>1524746.2600</td>\n",
       "      <td>2</td>\n",
       "      <td>0</td>\n",
       "      <td>1</td>\n",
       "      <td>174423.5300</td>\n",
       "      <td>1</td>\n",
       "    </tr>\n",
       "    <tr>\n",
       "      <th>4</th>\n",
       "      <td>157978</td>\n",
       "      <td>730.0000</td>\n",
       "      <td>Ярославль</td>\n",
       "      <td>М</td>\n",
       "      <td>34.0000</td>\n",
       "      <td>5</td>\n",
       "      <td>174.0000</td>\n",
       "      <td>1</td>\n",
       "      <td>1</td>\n",
       "      <td>0</td>\n",
       "      <td>67353.1600</td>\n",
       "      <td>1</td>\n",
       "    </tr>\n",
       "    <tr>\n",
       "      <th>5</th>\n",
       "      <td>202305</td>\n",
       "      <td>856.0000</td>\n",
       "      <td>Рыбинск</td>\n",
       "      <td>М</td>\n",
       "      <td>56.0000</td>\n",
       "      <td>4</td>\n",
       "      <td>863687.2400</td>\n",
       "      <td>3</td>\n",
       "      <td>1</td>\n",
       "      <td>0</td>\n",
       "      <td>156619.8000</td>\n",
       "      <td>0</td>\n",
       "    </tr>\n",
       "    <tr>\n",
       "      <th>6</th>\n",
       "      <td>177259</td>\n",
       "      <td>807.0000</td>\n",
       "      <td>Ярославль</td>\n",
       "      <td>Ж</td>\n",
       "      <td>39.0000</td>\n",
       "      <td>3</td>\n",
       "      <td>405042.4400</td>\n",
       "      <td>3</td>\n",
       "      <td>0</td>\n",
       "      <td>1</td>\n",
       "      <td>103838.3200</td>\n",
       "      <td>0</td>\n",
       "    </tr>\n",
       "    <tr>\n",
       "      <th>7</th>\n",
       "      <td>218868</td>\n",
       "      <td>825.0000</td>\n",
       "      <td>Ярославль</td>\n",
       "      <td>Ж</td>\n",
       "      <td>38.0000</td>\n",
       "      <td>4</td>\n",
       "      <td>458145.4000</td>\n",
       "      <td>2</td>\n",
       "      <td>1</td>\n",
       "      <td>1</td>\n",
       "      <td>68085.4800</td>\n",
       "      <td>0</td>\n",
       "    </tr>\n",
       "    <tr>\n",
       "      <th>8</th>\n",
       "      <td>211686</td>\n",
       "      <td>923.0000</td>\n",
       "      <td>Ярославль</td>\n",
       "      <td>М</td>\n",
       "      <td>54.0000</td>\n",
       "      <td>5</td>\n",
       "      <td>1206337.8700</td>\n",
       "      <td>2</td>\n",
       "      <td>1</td>\n",
       "      <td>0</td>\n",
       "      <td>155371.7900</td>\n",
       "      <td>0</td>\n",
       "    </tr>\n",
       "    <tr>\n",
       "      <th>9</th>\n",
       "      <td>133130</td>\n",
       "      <td>906.0000</td>\n",
       "      <td>Ярославль</td>\n",
       "      <td>Ж</td>\n",
       "      <td>67.0000</td>\n",
       "      <td>0</td>\n",
       "      <td>NaN</td>\n",
       "      <td>1</td>\n",
       "      <td>0</td>\n",
       "      <td>1</td>\n",
       "      <td>238055.5300</td>\n",
       "      <td>0</td>\n",
       "    </tr>\n",
       "  </tbody>\n",
       "</table>\n",
       "</div>"
      ],
      "text/plain": [
       "   USERID    score       city gender     age  equity      balance  products  \\\n",
       "0  183012 850.0000    Рыбинск      Ж 25.0000       1   59214.8200         2   \n",
       "1  146556 861.0000    Рыбинск      Ж 37.0000       5  850594.3300         3   \n",
       "2  120722 892.0000    Рыбинск      Ж 30.0000       0          NaN         1   \n",
       "3  225363 866.0000  Ярославль      Ж 51.0000       5 1524746.2600         2   \n",
       "4  157978 730.0000  Ярославль      М 34.0000       5     174.0000         1   \n",
       "5  202305 856.0000    Рыбинск      М 56.0000       4  863687.2400         3   \n",
       "6  177259 807.0000  Ярославль      Ж 39.0000       3  405042.4400         3   \n",
       "7  218868 825.0000  Ярославль      Ж 38.0000       4  458145.4000         2   \n",
       "8  211686 923.0000  Ярославль      М 54.0000       5 1206337.8700         2   \n",
       "9  133130 906.0000  Ярославль      Ж 67.0000       0          NaN         1   \n",
       "\n",
       "   credit_card  last_activity  EST_SALARY  churn  \n",
       "0            0              1  75719.1400      1  \n",
       "1            1              0  86621.7700      0  \n",
       "2            1              1 107683.3400      0  \n",
       "3            0              1 174423.5300      1  \n",
       "4            1              0  67353.1600      1  \n",
       "5            1              0 156619.8000      0  \n",
       "6            0              1 103838.3200      0  \n",
       "7            1              1  68085.4800      0  \n",
       "8            1              0 155371.7900      0  \n",
       "9            0              1 238055.5300      0  "
      ]
     },
     "execution_count": 26,
     "metadata": {},
     "output_type": "execute_result"
    }
   ],
   "source": [
    "df.head(10)"
   ]
  },
  {
   "cell_type": "code",
   "execution_count": 27,
   "metadata": {},
   "outputs": [
    {
     "name": "stdout",
     "output_type": "stream",
     "text": [
      "<class 'pandas.core.frame.DataFrame'>\n",
      "RangeIndex: 10000 entries, 0 to 9999\n",
      "Data columns (total 12 columns):\n",
      " #   Column         Non-Null Count  Dtype  \n",
      "---  ------         --------------  -----  \n",
      " 0   USERID         10000 non-null  int64  \n",
      " 1   score          10000 non-null  float64\n",
      " 2   city           10000 non-null  object \n",
      " 3   gender         10000 non-null  object \n",
      " 4   age            9974 non-null   float64\n",
      " 5   equity         10000 non-null  int64  \n",
      " 6   balance        7705 non-null   float64\n",
      " 7   products       10000 non-null  int64  \n",
      " 8   credit_card    10000 non-null  int64  \n",
      " 9   last_activity  10000 non-null  int64  \n",
      " 10  EST_SALARY     10000 non-null  float64\n",
      " 11  churn          10000 non-null  int64  \n",
      "dtypes: float64(4), int64(6), object(2)\n",
      "memory usage: 937.6+ KB\n"
     ]
    }
   ],
   "source": [
    "df.info()"
   ]
  },
  {
   "cell_type": "markdown",
   "metadata": {},
   "source": [
    "**Вывод:**\n",
    "<br>Датафрейм df содержит 12 столбцов и 10000 строк. Вес датафрейма 937.6 Кб.  В 2 столбцах имеются пропущенные значения. На следующем этапе определим их количество и заполним пропуски там, где это необходимо. Столбец age необходимо привести к типу int64. Названия столбцов необходимо привести к змеиному стилю. "
   ]
  },
  {
   "cell_type": "markdown",
   "metadata": {},
   "source": [
    "<div class=\"alert alert-success\">\n",
    "<b>👍 Успех:</b> Есть описание задачи, план реализации проекта, импортированы нужные библиотеки, датасет загружен и просмотрен\n",
    "</div>"
   ]
  },
  {
   "cell_type": "markdown",
   "metadata": {},
   "source": [
    "#### Предобработка данных"
   ]
  },
  {
   "cell_type": "markdown",
   "metadata": {},
   "source": [
    "##### Приведение столбцов к змеиному стилю"
   ]
  },
  {
   "cell_type": "code",
   "execution_count": 28,
   "metadata": {},
   "outputs": [
    {
     "name": "stdout",
     "output_type": "stream",
     "text": [
      "Index(['user_id', 'score', 'city', 'gender', 'age', 'equity', 'balance',\n",
      "       'products', 'credit_card', 'last_activity', 'est_salary', 'churn'],\n",
      "      dtype='object')\n"
     ]
    }
   ],
   "source": [
    "# Приведем названия столбцов к стилю snake_case\n",
    "df = df.rename(columns={'USERID': 'user_id', 'EST_SALARY': 'est_salary'})\n",
    "print(df.columns)"
   ]
  },
  {
   "cell_type": "markdown",
   "metadata": {},
   "source": [
    "##### Проверка и обработка пропусков"
   ]
  },
  {
   "cell_type": "code",
   "execution_count": 29,
   "metadata": {},
   "outputs": [
    {
     "data": {
      "text/plain": [
       "user_id             0\n",
       "score               0\n",
       "city                0\n",
       "gender              0\n",
       "age                26\n",
       "equity              0\n",
       "balance          2295\n",
       "products            0\n",
       "credit_card         0\n",
       "last_activity       0\n",
       "est_salary          0\n",
       "churn               0\n",
       "dtype: int64"
      ]
     },
     "execution_count": 29,
     "metadata": {},
     "output_type": "execute_result"
    }
   ],
   "source": [
    "# Проверка пропусков\n",
    "df.isna().sum()"
   ]
  },
  {
   "cell_type": "code",
   "execution_count": 30,
   "metadata": {},
   "outputs": [
    {
     "data": {
      "text/plain": [
       "'0.3%'"
      ]
     },
     "execution_count": 30,
     "metadata": {},
     "output_type": "execute_result"
    }
   ],
   "source": [
    "'{:.1%}'.format((df[df['age'].isna()].shape[0]/df['age'].shape[0]))"
   ]
  },
  {
   "cell_type": "markdown",
   "metadata": {},
   "source": [
    "В столбце age количество пропусков составляет 0.3% от всех данных, поэтому их можно удалить без потери в качестве данных. Возможные причины появления пропусков: пользователи намеренно не указали возраст, ошибки в сборе данных, технические проблемы при передаче или хранении данных."
   ]
  },
  {
   "cell_type": "code",
   "execution_count": 31,
   "metadata": {},
   "outputs": [
    {
     "name": "stdout",
     "output_type": "stream",
     "text": [
      "0\n"
     ]
    }
   ],
   "source": [
    "# Удалим пропуски в столбце age\n",
    "df = df.dropna(subset=['age'])\n",
    "print(df['age'].isna().sum())"
   ]
  },
  {
   "cell_type": "markdown",
   "metadata": {},
   "source": [
    "<div class=\"alert alert-success\">\n",
    "<b>👍 Успех:</b> Все верно!\n",
    "</div>"
   ]
  },
  {
   "cell_type": "code",
   "execution_count": 32,
   "metadata": {},
   "outputs": [
    {
     "data": {
      "text/plain": [
       "'22.8%'"
      ]
     },
     "execution_count": 32,
     "metadata": {},
     "output_type": "execute_result"
    }
   ],
   "source": [
    "'{:.1%}'.format((df[df['balance'].isna()].shape[0]/df['balance'].shape[0]))"
   ]
  },
  {
   "cell_type": "markdown",
   "metadata": {},
   "source": [
    "В столбце balance количество пропусков составляет 22.8% от всех данных, поэтому их невозможно удалить без потери в качестве данных. "
   ]
  },
  {
   "cell_type": "code",
   "execution_count": 33,
   "metadata": {},
   "outputs": [
    {
     "data": {
      "text/html": [
       "<div>\n",
       "<style scoped>\n",
       "    .dataframe tbody tr th:only-of-type {\n",
       "        vertical-align: middle;\n",
       "    }\n",
       "\n",
       "    .dataframe tbody tr th {\n",
       "        vertical-align: top;\n",
       "    }\n",
       "\n",
       "    .dataframe thead th {\n",
       "        text-align: right;\n",
       "    }\n",
       "</style>\n",
       "<table border=\"1\" class=\"dataframe\">\n",
       "  <thead>\n",
       "    <tr style=\"text-align: right;\">\n",
       "      <th></th>\n",
       "      <th>user_id</th>\n",
       "      <th>score</th>\n",
       "      <th>age</th>\n",
       "      <th>equity</th>\n",
       "      <th>balance</th>\n",
       "      <th>products</th>\n",
       "      <th>credit_card</th>\n",
       "      <th>last_activity</th>\n",
       "      <th>est_salary</th>\n",
       "      <th>churn</th>\n",
       "    </tr>\n",
       "  </thead>\n",
       "  <tbody>\n",
       "    <tr>\n",
       "      <th>count</th>\n",
       "      <td>2279.0000</td>\n",
       "      <td>2279.0000</td>\n",
       "      <td>2279.0000</td>\n",
       "      <td>2279.0000</td>\n",
       "      <td>0.0000</td>\n",
       "      <td>2279.0000</td>\n",
       "      <td>2279.0000</td>\n",
       "      <td>2279.0000</td>\n",
       "      <td>2279.0000</td>\n",
       "      <td>2279.0000</td>\n",
       "    </tr>\n",
       "    <tr>\n",
       "      <th>mean</th>\n",
       "      <td>171904.8859</td>\n",
       "      <td>865.3572</td>\n",
       "      <td>42.0930</td>\n",
       "      <td>0.0513</td>\n",
       "      <td>NaN</td>\n",
       "      <td>1.1632</td>\n",
       "      <td>0.8153</td>\n",
       "      <td>0.5489</td>\n",
       "      <td>226345.4175</td>\n",
       "      <td>0.0057</td>\n",
       "    </tr>\n",
       "    <tr>\n",
       "      <th>std</th>\n",
       "      <td>33303.2153</td>\n",
       "      <td>89.5537</td>\n",
       "      <td>11.9416</td>\n",
       "      <td>0.2266</td>\n",
       "      <td>NaN</td>\n",
       "      <td>0.4037</td>\n",
       "      <td>0.3882</td>\n",
       "      <td>0.4977</td>\n",
       "      <td>199825.5914</td>\n",
       "      <td>0.0753</td>\n",
       "    </tr>\n",
       "    <tr>\n",
       "      <th>min</th>\n",
       "      <td>114182.0000</td>\n",
       "      <td>642.0000</td>\n",
       "      <td>18.0000</td>\n",
       "      <td>0.0000</td>\n",
       "      <td>NaN</td>\n",
       "      <td>0.0000</td>\n",
       "      <td>0.0000</td>\n",
       "      <td>0.0000</td>\n",
       "      <td>20274.0300</td>\n",
       "      <td>0.0000</td>\n",
       "    </tr>\n",
       "    <tr>\n",
       "      <th>25%</th>\n",
       "      <td>142992.5000</td>\n",
       "      <td>871.0000</td>\n",
       "      <td>33.0000</td>\n",
       "      <td>0.0000</td>\n",
       "      <td>NaN</td>\n",
       "      <td>1.0000</td>\n",
       "      <td>1.0000</td>\n",
       "      <td>0.0000</td>\n",
       "      <td>120217.3850</td>\n",
       "      <td>0.0000</td>\n",
       "    </tr>\n",
       "    <tr>\n",
       "      <th>50%</th>\n",
       "      <td>172304.0000</td>\n",
       "      <td>903.0000</td>\n",
       "      <td>40.0000</td>\n",
       "      <td>0.0000</td>\n",
       "      <td>NaN</td>\n",
       "      <td>1.0000</td>\n",
       "      <td>1.0000</td>\n",
       "      <td>1.0000</td>\n",
       "      <td>174347.8700</td>\n",
       "      <td>0.0000</td>\n",
       "    </tr>\n",
       "    <tr>\n",
       "      <th>75%</th>\n",
       "      <td>201257.0000</td>\n",
       "      <td>922.0000</td>\n",
       "      <td>49.0000</td>\n",
       "      <td>0.0000</td>\n",
       "      <td>NaN</td>\n",
       "      <td>1.0000</td>\n",
       "      <td>1.0000</td>\n",
       "      <td>1.0000</td>\n",
       "      <td>240372.7750</td>\n",
       "      <td>0.0000</td>\n",
       "    </tr>\n",
       "    <tr>\n",
       "      <th>max</th>\n",
       "      <td>229145.0000</td>\n",
       "      <td>990.0000</td>\n",
       "      <td>86.0000</td>\n",
       "      <td>3.0000</td>\n",
       "      <td>NaN</td>\n",
       "      <td>3.0000</td>\n",
       "      <td>1.0000</td>\n",
       "      <td>1.0000</td>\n",
       "      <td>1333687.3600</td>\n",
       "      <td>1.0000</td>\n",
       "    </tr>\n",
       "  </tbody>\n",
       "</table>\n",
       "</div>"
      ],
      "text/plain": [
       "          user_id     score       age    equity  balance  products  \\\n",
       "count   2279.0000 2279.0000 2279.0000 2279.0000   0.0000 2279.0000   \n",
       "mean  171904.8859  865.3572   42.0930    0.0513      NaN    1.1632   \n",
       "std    33303.2153   89.5537   11.9416    0.2266      NaN    0.4037   \n",
       "min   114182.0000  642.0000   18.0000    0.0000      NaN    0.0000   \n",
       "25%   142992.5000  871.0000   33.0000    0.0000      NaN    1.0000   \n",
       "50%   172304.0000  903.0000   40.0000    0.0000      NaN    1.0000   \n",
       "75%   201257.0000  922.0000   49.0000    0.0000      NaN    1.0000   \n",
       "max   229145.0000  990.0000   86.0000    3.0000      NaN    3.0000   \n",
       "\n",
       "       credit_card  last_activity   est_salary     churn  \n",
       "count    2279.0000      2279.0000    2279.0000 2279.0000  \n",
       "mean        0.8153         0.5489  226345.4175    0.0057  \n",
       "std         0.3882         0.4977  199825.5914    0.0753  \n",
       "min         0.0000         0.0000   20274.0300    0.0000  \n",
       "25%         1.0000         0.0000  120217.3850    0.0000  \n",
       "50%         1.0000         1.0000  174347.8700    0.0000  \n",
       "75%         1.0000         1.0000  240372.7750    0.0000  \n",
       "max         1.0000         1.0000 1333687.3600    1.0000  "
      ]
     },
     "execution_count": 33,
     "metadata": {},
     "output_type": "execute_result"
    }
   ],
   "source": [
    "# Посмотрим на средние значения датафрейма с пропусками\n",
    "df[df['balance'].isna()].describe()"
   ]
  },
  {
   "cell_type": "code",
   "execution_count": 34,
   "metadata": {},
   "outputs": [
    {
     "data": {
      "text/html": [
       "<div>\n",
       "<style scoped>\n",
       "    .dataframe tbody tr th:only-of-type {\n",
       "        vertical-align: middle;\n",
       "    }\n",
       "\n",
       "    .dataframe tbody tr th {\n",
       "        vertical-align: top;\n",
       "    }\n",
       "\n",
       "    .dataframe thead th {\n",
       "        text-align: right;\n",
       "    }\n",
       "</style>\n",
       "<table border=\"1\" class=\"dataframe\">\n",
       "  <thead>\n",
       "    <tr style=\"text-align: right;\">\n",
       "      <th></th>\n",
       "      <th>user_id</th>\n",
       "      <th>score</th>\n",
       "      <th>age</th>\n",
       "      <th>equity</th>\n",
       "      <th>balance</th>\n",
       "      <th>products</th>\n",
       "      <th>credit_card</th>\n",
       "      <th>last_activity</th>\n",
       "      <th>est_salary</th>\n",
       "      <th>churn</th>\n",
       "    </tr>\n",
       "  </thead>\n",
       "  <tbody>\n",
       "    <tr>\n",
       "      <th>count</th>\n",
       "      <td>7695.0000</td>\n",
       "      <td>7695.0000</td>\n",
       "      <td>7695.0000</td>\n",
       "      <td>7695.0000</td>\n",
       "      <td>7695.0000</td>\n",
       "      <td>7695.0000</td>\n",
       "      <td>7695.0000</td>\n",
       "      <td>7695.0000</td>\n",
       "      <td>7695.0000</td>\n",
       "      <td>7695.0000</td>\n",
       "    </tr>\n",
       "    <tr>\n",
       "      <th>mean</th>\n",
       "      <td>171710.8923</td>\n",
       "      <td>843.7441</td>\n",
       "      <td>42.9244</td>\n",
       "      <td>3.3948</td>\n",
       "      <td>827245.5875</td>\n",
       "      <td>2.0812</td>\n",
       "      <td>0.6402</td>\n",
       "      <td>0.5151</td>\n",
       "      <td>124520.3943</td>\n",
       "      <td>0.2347</td>\n",
       "    </tr>\n",
       "    <tr>\n",
       "      <th>std</th>\n",
       "      <td>33812.8624</td>\n",
       "      <td>55.3425</td>\n",
       "      <td>12.2440</td>\n",
       "      <td>1.5848</td>\n",
       "      <td>1980327.4097</td>\n",
       "      <td>0.7574</td>\n",
       "      <td>0.4800</td>\n",
       "      <td>0.4998</td>\n",
       "      <td>104667.1062</td>\n",
       "      <td>0.4238</td>\n",
       "    </tr>\n",
       "    <tr>\n",
       "      <th>min</th>\n",
       "      <td>94561.0000</td>\n",
       "      <td>689.0000</td>\n",
       "      <td>18.0000</td>\n",
       "      <td>0.0000</td>\n",
       "      <td>0.0000</td>\n",
       "      <td>1.0000</td>\n",
       "      <td>0.0000</td>\n",
       "      <td>0.0000</td>\n",
       "      <td>2546.3000</td>\n",
       "      <td>0.0000</td>\n",
       "    </tr>\n",
       "    <tr>\n",
       "      <th>25%</th>\n",
       "      <td>142638.0000</td>\n",
       "      <td>801.0000</td>\n",
       "      <td>33.0000</td>\n",
       "      <td>2.0000</td>\n",
       "      <td>295698.7150</td>\n",
       "      <td>2.0000</td>\n",
       "      <td>0.0000</td>\n",
       "      <td>0.0000</td>\n",
       "      <td>67556.9800</td>\n",
       "      <td>0.0000</td>\n",
       "    </tr>\n",
       "    <tr>\n",
       "      <th>50%</th>\n",
       "      <td>172710.0000</td>\n",
       "      <td>840.0000</td>\n",
       "      <td>40.0000</td>\n",
       "      <td>4.0000</td>\n",
       "      <td>524295.3300</td>\n",
       "      <td>2.0000</td>\n",
       "      <td>1.0000</td>\n",
       "      <td>1.0000</td>\n",
       "      <td>106250.1800</td>\n",
       "      <td>0.0000</td>\n",
       "    </tr>\n",
       "    <tr>\n",
       "      <th>75%</th>\n",
       "      <td>201145.5000</td>\n",
       "      <td>882.0000</td>\n",
       "      <td>52.0000</td>\n",
       "      <td>5.0000</td>\n",
       "      <td>980051.2150</td>\n",
       "      <td>2.0000</td>\n",
       "      <td>1.0000</td>\n",
       "      <td>1.0000</td>\n",
       "      <td>155144.6000</td>\n",
       "      <td>0.0000</td>\n",
       "    </tr>\n",
       "    <tr>\n",
       "      <th>max</th>\n",
       "      <td>229136.0000</td>\n",
       "      <td>1000.0000</td>\n",
       "      <td>86.0000</td>\n",
       "      <td>9.0000</td>\n",
       "      <td>119113552.0100</td>\n",
       "      <td>5.0000</td>\n",
       "      <td>1.0000</td>\n",
       "      <td>1.0000</td>\n",
       "      <td>1395064.4500</td>\n",
       "      <td>1.0000</td>\n",
       "    </tr>\n",
       "  </tbody>\n",
       "</table>\n",
       "</div>"
      ],
      "text/plain": [
       "          user_id     score       age    equity        balance  products  \\\n",
       "count   7695.0000 7695.0000 7695.0000 7695.0000      7695.0000 7695.0000   \n",
       "mean  171710.8923  843.7441   42.9244    3.3948    827245.5875    2.0812   \n",
       "std    33812.8624   55.3425   12.2440    1.5848   1980327.4097    0.7574   \n",
       "min    94561.0000  689.0000   18.0000    0.0000         0.0000    1.0000   \n",
       "25%   142638.0000  801.0000   33.0000    2.0000    295698.7150    2.0000   \n",
       "50%   172710.0000  840.0000   40.0000    4.0000    524295.3300    2.0000   \n",
       "75%   201145.5000  882.0000   52.0000    5.0000    980051.2150    2.0000   \n",
       "max   229136.0000 1000.0000   86.0000    9.0000 119113552.0100    5.0000   \n",
       "\n",
       "       credit_card  last_activity   est_salary     churn  \n",
       "count    7695.0000      7695.0000    7695.0000 7695.0000  \n",
       "mean        0.6402         0.5151  124520.3943    0.2347  \n",
       "std         0.4800         0.4998  104667.1062    0.4238  \n",
       "min         0.0000         0.0000    2546.3000    0.0000  \n",
       "25%         0.0000         0.0000   67556.9800    0.0000  \n",
       "50%         1.0000         1.0000  106250.1800    0.0000  \n",
       "75%         1.0000         1.0000  155144.6000    0.0000  \n",
       "max         1.0000         1.0000 1395064.4500    1.0000  "
      ]
     },
     "execution_count": 34,
     "metadata": {},
     "output_type": "execute_result"
    }
   ],
   "source": [
    "# Посмотрим на средние значения датафрейма без пропусков\n",
    "df[~df['balance'].isna()].describe()"
   ]
  },
  {
   "cell_type": "markdown",
   "metadata": {},
   "source": [
    "Видно, что пропуски в столбце balance не являются ошибкой. Клиенты с пропусками имеют низкие баллы собственнности, пользуются меньшим количеством продуктов и чаще испольуют кредитные карты. Возможно, клиенты с пропусками являются новыми клиентами, у которых нет оценки собственности, продуктов и открытого счета. Также это могут быть клиенты, которые пользуются только кредитной картой и у них нет дебетового счета. Пропуски оставляем, чтобы не искажать данные."
   ]
  },
  {
   "cell_type": "markdown",
   "metadata": {},
   "source": [
    "<div class=\"alert alert-success\">\n",
    "<b>👍 Успех:</b> Все верно!\n",
    "</div>"
   ]
  },
  {
   "cell_type": "markdown",
   "metadata": {},
   "source": [
    "##### Замена типов данных"
   ]
  },
  {
   "cell_type": "code",
   "execution_count": 35,
   "metadata": {},
   "outputs": [
    {
     "name": "stdout",
     "output_type": "stream",
     "text": [
      "<class 'pandas.core.frame.DataFrame'>\n",
      "Int64Index: 9974 entries, 0 to 9999\n",
      "Data columns (total 12 columns):\n",
      " #   Column         Non-Null Count  Dtype  \n",
      "---  ------         --------------  -----  \n",
      " 0   user_id        9974 non-null   int64  \n",
      " 1   score          9974 non-null   float64\n",
      " 2   city           9974 non-null   object \n",
      " 3   gender         9974 non-null   object \n",
      " 4   age            9974 non-null   int64  \n",
      " 5   equity         9974 non-null   int64  \n",
      " 6   balance        7695 non-null   float64\n",
      " 7   products       9974 non-null   int64  \n",
      " 8   credit_card    9974 non-null   int64  \n",
      " 9   last_activity  9974 non-null   int64  \n",
      " 10  est_salary     9974 non-null   float64\n",
      " 11  churn          9974 non-null   int64  \n",
      "dtypes: float64(3), int64(7), object(2)\n",
      "memory usage: 1013.0+ KB\n"
     ]
    }
   ],
   "source": [
    "df['age'] = df['age'].astype('int')\n",
    "df.info()"
   ]
  },
  {
   "cell_type": "markdown",
   "metadata": {},
   "source": [
    "##### Проверка и обработка дубликатов"
   ]
  },
  {
   "cell_type": "code",
   "execution_count": 36,
   "metadata": {},
   "outputs": [
    {
     "data": {
      "text/plain": [
       "0"
      ]
     },
     "execution_count": 36,
     "metadata": {},
     "output_type": "execute_result"
    }
   ],
   "source": [
    "# Проверка таблицы на явные дубликаты\n",
    "df.duplicated().sum()"
   ]
  },
  {
   "cell_type": "code",
   "execution_count": 37,
   "metadata": {},
   "outputs": [
    {
     "data": {
      "text/plain": [
       "50"
      ]
     },
     "execution_count": 37,
     "metadata": {},
     "output_type": "execute_result"
    }
   ],
   "source": [
    "# Проверим, есть ли дубликаты по user_id\n",
    "df['user_id'].duplicated().sum()"
   ]
  },
  {
   "cell_type": "code",
   "execution_count": 38,
   "metadata": {},
   "outputs": [
    {
     "data": {
      "text/html": [
       "<div>\n",
       "<style scoped>\n",
       "    .dataframe tbody tr th:only-of-type {\n",
       "        vertical-align: middle;\n",
       "    }\n",
       "\n",
       "    .dataframe tbody tr th {\n",
       "        vertical-align: top;\n",
       "    }\n",
       "\n",
       "    .dataframe thead th {\n",
       "        text-align: right;\n",
       "    }\n",
       "</style>\n",
       "<table border=\"1\" class=\"dataframe\">\n",
       "  <thead>\n",
       "    <tr style=\"text-align: right;\">\n",
       "      <th></th>\n",
       "      <th>user_id</th>\n",
       "      <th>score</th>\n",
       "      <th>city</th>\n",
       "      <th>gender</th>\n",
       "      <th>age</th>\n",
       "      <th>equity</th>\n",
       "      <th>balance</th>\n",
       "      <th>products</th>\n",
       "      <th>credit_card</th>\n",
       "      <th>last_activity</th>\n",
       "      <th>est_salary</th>\n",
       "      <th>churn</th>\n",
       "    </tr>\n",
       "  </thead>\n",
       "  <tbody>\n",
       "    <tr>\n",
       "      <th>1583</th>\n",
       "      <td>190253</td>\n",
       "      <td>726.0000</td>\n",
       "      <td>Ярославль</td>\n",
       "      <td>М</td>\n",
       "      <td>49</td>\n",
       "      <td>0</td>\n",
       "      <td>NaN</td>\n",
       "      <td>1</td>\n",
       "      <td>1</td>\n",
       "      <td>1</td>\n",
       "      <td>177700.7800</td>\n",
       "      <td>0</td>\n",
       "    </tr>\n",
       "    <tr>\n",
       "      <th>1837</th>\n",
       "      <td>210662</td>\n",
       "      <td>896.0000</td>\n",
       "      <td>Рыбинск</td>\n",
       "      <td>Ж</td>\n",
       "      <td>37</td>\n",
       "      <td>0</td>\n",
       "      <td>NaN</td>\n",
       "      <td>2</td>\n",
       "      <td>0</td>\n",
       "      <td>0</td>\n",
       "      <td>90916.0400</td>\n",
       "      <td>0</td>\n",
       "    </tr>\n",
       "    <tr>\n",
       "      <th>2138</th>\n",
       "      <td>131419</td>\n",
       "      <td>739.0000</td>\n",
       "      <td>Рыбинск</td>\n",
       "      <td>Ж</td>\n",
       "      <td>37</td>\n",
       "      <td>3</td>\n",
       "      <td>1307941.6500</td>\n",
       "      <td>3</td>\n",
       "      <td>0</td>\n",
       "      <td>0</td>\n",
       "      <td>103867.4700</td>\n",
       "      <td>0</td>\n",
       "    </tr>\n",
       "    <tr>\n",
       "      <th>2302</th>\n",
       "      <td>220816</td>\n",
       "      <td>934.0000</td>\n",
       "      <td>Рыбинск</td>\n",
       "      <td>Ж</td>\n",
       "      <td>74</td>\n",
       "      <td>5</td>\n",
       "      <td>1294285.3900</td>\n",
       "      <td>3</td>\n",
       "      <td>1</td>\n",
       "      <td>0</td>\n",
       "      <td>95606.8000</td>\n",
       "      <td>0</td>\n",
       "    </tr>\n",
       "    <tr>\n",
       "      <th>2998</th>\n",
       "      <td>208081</td>\n",
       "      <td>821.0000</td>\n",
       "      <td>Рыбинск</td>\n",
       "      <td>Ж</td>\n",
       "      <td>62</td>\n",
       "      <td>3</td>\n",
       "      <td>493608.2600</td>\n",
       "      <td>2</td>\n",
       "      <td>1</td>\n",
       "      <td>1</td>\n",
       "      <td>33491.4500</td>\n",
       "      <td>0</td>\n",
       "    </tr>\n",
       "    <tr>\n",
       "      <th>3039</th>\n",
       "      <td>170312</td>\n",
       "      <td>813.0000</td>\n",
       "      <td>Рыбинск</td>\n",
       "      <td>Ж</td>\n",
       "      <td>47</td>\n",
       "      <td>3</td>\n",
       "      <td>370027.6700</td>\n",
       "      <td>2</td>\n",
       "      <td>0</td>\n",
       "      <td>0</td>\n",
       "      <td>129835.5600</td>\n",
       "      <td>0</td>\n",
       "    </tr>\n",
       "    <tr>\n",
       "      <th>3106</th>\n",
       "      <td>185748</td>\n",
       "      <td>912.0000</td>\n",
       "      <td>Ярославль</td>\n",
       "      <td>Ж</td>\n",
       "      <td>47</td>\n",
       "      <td>5</td>\n",
       "      <td>1598218.9800</td>\n",
       "      <td>2</td>\n",
       "      <td>0</td>\n",
       "      <td>0</td>\n",
       "      <td>180256.9800</td>\n",
       "      <td>0</td>\n",
       "    </tr>\n",
       "    <tr>\n",
       "      <th>3817</th>\n",
       "      <td>211130</td>\n",
       "      <td>918.0000</td>\n",
       "      <td>Рыбинск</td>\n",
       "      <td>Ж</td>\n",
       "      <td>55</td>\n",
       "      <td>0</td>\n",
       "      <td>NaN</td>\n",
       "      <td>2</td>\n",
       "      <td>1</td>\n",
       "      <td>1</td>\n",
       "      <td>244202.0400</td>\n",
       "      <td>0</td>\n",
       "    </tr>\n",
       "    <tr>\n",
       "      <th>4186</th>\n",
       "      <td>217643</td>\n",
       "      <td>804.0000</td>\n",
       "      <td>Рыбинск</td>\n",
       "      <td>Ж</td>\n",
       "      <td>40</td>\n",
       "      <td>2</td>\n",
       "      <td>301836.6500</td>\n",
       "      <td>2</td>\n",
       "      <td>1</td>\n",
       "      <td>1</td>\n",
       "      <td>81137.2200</td>\n",
       "      <td>0</td>\n",
       "    </tr>\n",
       "    <tr>\n",
       "      <th>4216</th>\n",
       "      <td>226719</td>\n",
       "      <td>903.0000</td>\n",
       "      <td>Рыбинск</td>\n",
       "      <td>Ж</td>\n",
       "      <td>63</td>\n",
       "      <td>0</td>\n",
       "      <td>NaN</td>\n",
       "      <td>1</td>\n",
       "      <td>1</td>\n",
       "      <td>0</td>\n",
       "      <td>138582.5800</td>\n",
       "      <td>0</td>\n",
       "    </tr>\n",
       "    <tr>\n",
       "      <th>4870</th>\n",
       "      <td>197364</td>\n",
       "      <td>889.0000</td>\n",
       "      <td>Ярославль</td>\n",
       "      <td>М</td>\n",
       "      <td>33</td>\n",
       "      <td>0</td>\n",
       "      <td>NaN</td>\n",
       "      <td>2</td>\n",
       "      <td>1</td>\n",
       "      <td>1</td>\n",
       "      <td>96173.4800</td>\n",
       "      <td>0</td>\n",
       "    </tr>\n",
       "    <tr>\n",
       "      <th>5197</th>\n",
       "      <td>155765</td>\n",
       "      <td>923.0000</td>\n",
       "      <td>Рыбинск</td>\n",
       "      <td>М</td>\n",
       "      <td>30</td>\n",
       "      <td>0</td>\n",
       "      <td>NaN</td>\n",
       "      <td>1</td>\n",
       "      <td>1</td>\n",
       "      <td>1</td>\n",
       "      <td>120296.6000</td>\n",
       "      <td>0</td>\n",
       "    </tr>\n",
       "    <tr>\n",
       "      <th>5420</th>\n",
       "      <td>126368</td>\n",
       "      <td>832.0000</td>\n",
       "      <td>Рыбинск</td>\n",
       "      <td>Ж</td>\n",
       "      <td>33</td>\n",
       "      <td>0</td>\n",
       "      <td>NaN</td>\n",
       "      <td>1</td>\n",
       "      <td>0</td>\n",
       "      <td>0</td>\n",
       "      <td>118465.3400</td>\n",
       "      <td>0</td>\n",
       "    </tr>\n",
       "    <tr>\n",
       "      <th>5557</th>\n",
       "      <td>143592</td>\n",
       "      <td>764.0000</td>\n",
       "      <td>Ярославль</td>\n",
       "      <td>Ж</td>\n",
       "      <td>68</td>\n",
       "      <td>3</td>\n",
       "      <td>508919.1500</td>\n",
       "      <td>2</td>\n",
       "      <td>0</td>\n",
       "      <td>1</td>\n",
       "      <td>71211.6600</td>\n",
       "      <td>0</td>\n",
       "    </tr>\n",
       "    <tr>\n",
       "      <th>5569</th>\n",
       "      <td>141265</td>\n",
       "      <td>811.0000</td>\n",
       "      <td>Рыбинск</td>\n",
       "      <td>Ж</td>\n",
       "      <td>33</td>\n",
       "      <td>3</td>\n",
       "      <td>1044316.8800</td>\n",
       "      <td>2</td>\n",
       "      <td>1</td>\n",
       "      <td>0</td>\n",
       "      <td>46055.3200</td>\n",
       "      <td>0</td>\n",
       "    </tr>\n",
       "    <tr>\n",
       "      <th>5570</th>\n",
       "      <td>208815</td>\n",
       "      <td>773.0000</td>\n",
       "      <td>Ярославль</td>\n",
       "      <td>М</td>\n",
       "      <td>39</td>\n",
       "      <td>4</td>\n",
       "      <td>288110.0900</td>\n",
       "      <td>2</td>\n",
       "      <td>1</td>\n",
       "      <td>0</td>\n",
       "      <td>56971.9100</td>\n",
       "      <td>0</td>\n",
       "    </tr>\n",
       "    <tr>\n",
       "      <th>5705</th>\n",
       "      <td>152479</td>\n",
       "      <td>723.0000</td>\n",
       "      <td>Ярославль</td>\n",
       "      <td>Ж</td>\n",
       "      <td>22</td>\n",
       "      <td>0</td>\n",
       "      <td>NaN</td>\n",
       "      <td>1</td>\n",
       "      <td>1</td>\n",
       "      <td>0</td>\n",
       "      <td>83955.6500</td>\n",
       "      <td>0</td>\n",
       "    </tr>\n",
       "    <tr>\n",
       "      <th>5807</th>\n",
       "      <td>217619</td>\n",
       "      <td>766.0000</td>\n",
       "      <td>Ярославль</td>\n",
       "      <td>М</td>\n",
       "      <td>52</td>\n",
       "      <td>2</td>\n",
       "      <td>218199.4700</td>\n",
       "      <td>1</td>\n",
       "      <td>1</td>\n",
       "      <td>0</td>\n",
       "      <td>120356.4400</td>\n",
       "      <td>0</td>\n",
       "    </tr>\n",
       "    <tr>\n",
       "      <th>5840</th>\n",
       "      <td>208738</td>\n",
       "      <td>839.0000</td>\n",
       "      <td>Ярославль</td>\n",
       "      <td>М</td>\n",
       "      <td>60</td>\n",
       "      <td>5</td>\n",
       "      <td>1102438.3700</td>\n",
       "      <td>2</td>\n",
       "      <td>0</td>\n",
       "      <td>1</td>\n",
       "      <td>116500.8100</td>\n",
       "      <td>0</td>\n",
       "    </tr>\n",
       "    <tr>\n",
       "      <th>5896</th>\n",
       "      <td>120258</td>\n",
       "      <td>905.0000</td>\n",
       "      <td>Ярославль</td>\n",
       "      <td>М</td>\n",
       "      <td>30</td>\n",
       "      <td>0</td>\n",
       "      <td>NaN</td>\n",
       "      <td>1</td>\n",
       "      <td>1</td>\n",
       "      <td>1</td>\n",
       "      <td>146427.9600</td>\n",
       "      <td>0</td>\n",
       "    </tr>\n",
       "    <tr>\n",
       "      <th>6005</th>\n",
       "      <td>188957</td>\n",
       "      <td>882.0000</td>\n",
       "      <td>Рыбинск</td>\n",
       "      <td>Ж</td>\n",
       "      <td>64</td>\n",
       "      <td>3</td>\n",
       "      <td>893392.9100</td>\n",
       "      <td>3</td>\n",
       "      <td>1</td>\n",
       "      <td>0</td>\n",
       "      <td>69622.5800</td>\n",
       "      <td>0</td>\n",
       "    </tr>\n",
       "    <tr>\n",
       "      <th>6756</th>\n",
       "      <td>172142</td>\n",
       "      <td>751.0000</td>\n",
       "      <td>Рыбинск</td>\n",
       "      <td>Ж</td>\n",
       "      <td>69</td>\n",
       "      <td>3</td>\n",
       "      <td>396568.0300</td>\n",
       "      <td>2</td>\n",
       "      <td>0</td>\n",
       "      <td>1</td>\n",
       "      <td>45608.4500</td>\n",
       "      <td>0</td>\n",
       "    </tr>\n",
       "    <tr>\n",
       "      <th>6786</th>\n",
       "      <td>163207</td>\n",
       "      <td>838.0000</td>\n",
       "      <td>Ярославль</td>\n",
       "      <td>Ж</td>\n",
       "      <td>42</td>\n",
       "      <td>4</td>\n",
       "      <td>652776.6000</td>\n",
       "      <td>2</td>\n",
       "      <td>1</td>\n",
       "      <td>1</td>\n",
       "      <td>97545.3600</td>\n",
       "      <td>0</td>\n",
       "    </tr>\n",
       "    <tr>\n",
       "      <th>7271</th>\n",
       "      <td>164676</td>\n",
       "      <td>790.0000</td>\n",
       "      <td>Рыбинск</td>\n",
       "      <td>Ж</td>\n",
       "      <td>77</td>\n",
       "      <td>1</td>\n",
       "      <td>111202.0100</td>\n",
       "      <td>1</td>\n",
       "      <td>1</td>\n",
       "      <td>0</td>\n",
       "      <td>32835.4500</td>\n",
       "      <td>0</td>\n",
       "    </tr>\n",
       "    <tr>\n",
       "      <th>7487</th>\n",
       "      <td>140377</td>\n",
       "      <td>930.0000</td>\n",
       "      <td>Рыбинск</td>\n",
       "      <td>Ж</td>\n",
       "      <td>34</td>\n",
       "      <td>5</td>\n",
       "      <td>1123967.0200</td>\n",
       "      <td>1</td>\n",
       "      <td>1</td>\n",
       "      <td>1</td>\n",
       "      <td>148336.2600</td>\n",
       "      <td>0</td>\n",
       "    </tr>\n",
       "    <tr>\n",
       "      <th>7542</th>\n",
       "      <td>117943</td>\n",
       "      <td>880.0000</td>\n",
       "      <td>Ярославль</td>\n",
       "      <td>Ж</td>\n",
       "      <td>40</td>\n",
       "      <td>0</td>\n",
       "      <td>NaN</td>\n",
       "      <td>1</td>\n",
       "      <td>1</td>\n",
       "      <td>0</td>\n",
       "      <td>137718.9300</td>\n",
       "      <td>0</td>\n",
       "    </tr>\n",
       "    <tr>\n",
       "      <th>7694</th>\n",
       "      <td>116540</td>\n",
       "      <td>887.0000</td>\n",
       "      <td>Ярославль</td>\n",
       "      <td>Ж</td>\n",
       "      <td>38</td>\n",
       "      <td>0</td>\n",
       "      <td>NaN</td>\n",
       "      <td>1</td>\n",
       "      <td>0</td>\n",
       "      <td>1</td>\n",
       "      <td>119247.6100</td>\n",
       "      <td>0</td>\n",
       "    </tr>\n",
       "    <tr>\n",
       "      <th>7814</th>\n",
       "      <td>210792</td>\n",
       "      <td>839.0000</td>\n",
       "      <td>Ярославль</td>\n",
       "      <td>М</td>\n",
       "      <td>42</td>\n",
       "      <td>2</td>\n",
       "      <td>662646.9700</td>\n",
       "      <td>1</td>\n",
       "      <td>1</td>\n",
       "      <td>0</td>\n",
       "      <td>138403.6000</td>\n",
       "      <td>0</td>\n",
       "    </tr>\n",
       "    <tr>\n",
       "      <th>7931</th>\n",
       "      <td>191520</td>\n",
       "      <td>767.0000</td>\n",
       "      <td>Ярославль</td>\n",
       "      <td>М</td>\n",
       "      <td>45</td>\n",
       "      <td>0</td>\n",
       "      <td>NaN</td>\n",
       "      <td>1</td>\n",
       "      <td>1</td>\n",
       "      <td>1</td>\n",
       "      <td>880005.0500</td>\n",
       "      <td>0</td>\n",
       "    </tr>\n",
       "    <tr>\n",
       "      <th>8272</th>\n",
       "      <td>149365</td>\n",
       "      <td>793.0000</td>\n",
       "      <td>Рыбинск</td>\n",
       "      <td>Ж</td>\n",
       "      <td>61</td>\n",
       "      <td>0</td>\n",
       "      <td>476496.9900</td>\n",
       "      <td>2</td>\n",
       "      <td>1</td>\n",
       "      <td>1</td>\n",
       "      <td>46147.0600</td>\n",
       "      <td>0</td>\n",
       "    </tr>\n",
       "    <tr>\n",
       "      <th>8364</th>\n",
       "      <td>148826</td>\n",
       "      <td>909.0000</td>\n",
       "      <td>Рыбинск</td>\n",
       "      <td>Ж</td>\n",
       "      <td>32</td>\n",
       "      <td>0</td>\n",
       "      <td>NaN</td>\n",
       "      <td>3</td>\n",
       "      <td>1</td>\n",
       "      <td>0</td>\n",
       "      <td>28843.5400</td>\n",
       "      <td>0</td>\n",
       "    </tr>\n",
       "    <tr>\n",
       "      <th>8497</th>\n",
       "      <td>227795</td>\n",
       "      <td>839.0000</td>\n",
       "      <td>Ярославль</td>\n",
       "      <td>М</td>\n",
       "      <td>34</td>\n",
       "      <td>2</td>\n",
       "      <td>326593.1400</td>\n",
       "      <td>2</td>\n",
       "      <td>1</td>\n",
       "      <td>0</td>\n",
       "      <td>103314.9200</td>\n",
       "      <td>0</td>\n",
       "    </tr>\n",
       "    <tr>\n",
       "      <th>8521</th>\n",
       "      <td>210627</td>\n",
       "      <td>804.0000</td>\n",
       "      <td>Рыбинск</td>\n",
       "      <td>М</td>\n",
       "      <td>30</td>\n",
       "      <td>2</td>\n",
       "      <td>347818.8800</td>\n",
       "      <td>3</td>\n",
       "      <td>1</td>\n",
       "      <td>0</td>\n",
       "      <td>129015.2500</td>\n",
       "      <td>0</td>\n",
       "    </tr>\n",
       "    <tr>\n",
       "      <th>8638</th>\n",
       "      <td>123461</td>\n",
       "      <td>934.0000</td>\n",
       "      <td>Рыбинск</td>\n",
       "      <td>М</td>\n",
       "      <td>34</td>\n",
       "      <td>0</td>\n",
       "      <td>NaN</td>\n",
       "      <td>2</td>\n",
       "      <td>1</td>\n",
       "      <td>0</td>\n",
       "      <td>291619.2700</td>\n",
       "      <td>0</td>\n",
       "    </tr>\n",
       "    <tr>\n",
       "      <th>8705</th>\n",
       "      <td>181526</td>\n",
       "      <td>895.0000</td>\n",
       "      <td>Рыбинск</td>\n",
       "      <td>М</td>\n",
       "      <td>29</td>\n",
       "      <td>0</td>\n",
       "      <td>NaN</td>\n",
       "      <td>1</td>\n",
       "      <td>1</td>\n",
       "      <td>1</td>\n",
       "      <td>124786.5300</td>\n",
       "      <td>0</td>\n",
       "    </tr>\n",
       "    <tr>\n",
       "      <th>8733</th>\n",
       "      <td>162053</td>\n",
       "      <td>786.0000</td>\n",
       "      <td>Ярославль</td>\n",
       "      <td>М</td>\n",
       "      <td>29</td>\n",
       "      <td>4</td>\n",
       "      <td>205824.9700</td>\n",
       "      <td>3</td>\n",
       "      <td>1</td>\n",
       "      <td>0</td>\n",
       "      <td>121371.7300</td>\n",
       "      <td>0</td>\n",
       "    </tr>\n",
       "    <tr>\n",
       "      <th>8822</th>\n",
       "      <td>199312</td>\n",
       "      <td>911.0000</td>\n",
       "      <td>Рыбинск</td>\n",
       "      <td>Ж</td>\n",
       "      <td>43</td>\n",
       "      <td>0</td>\n",
       "      <td>NaN</td>\n",
       "      <td>2</td>\n",
       "      <td>1</td>\n",
       "      <td>1</td>\n",
       "      <td>152189.7200</td>\n",
       "      <td>0</td>\n",
       "    </tr>\n",
       "    <tr>\n",
       "      <th>9146</th>\n",
       "      <td>183510</td>\n",
       "      <td>800.0000</td>\n",
       "      <td>Рыбинск</td>\n",
       "      <td>Ж</td>\n",
       "      <td>42</td>\n",
       "      <td>7</td>\n",
       "      <td>473293.8100</td>\n",
       "      <td>2</td>\n",
       "      <td>1</td>\n",
       "      <td>0</td>\n",
       "      <td>54049.8800</td>\n",
       "      <td>0</td>\n",
       "    </tr>\n",
       "    <tr>\n",
       "      <th>9175</th>\n",
       "      <td>200863</td>\n",
       "      <td>832.0000</td>\n",
       "      <td>Ярославль</td>\n",
       "      <td>М</td>\n",
       "      <td>42</td>\n",
       "      <td>5</td>\n",
       "      <td>620064.7300</td>\n",
       "      <td>2</td>\n",
       "      <td>0</td>\n",
       "      <td>0</td>\n",
       "      <td>188054.4600</td>\n",
       "      <td>0</td>\n",
       "    </tr>\n",
       "    <tr>\n",
       "      <th>9267</th>\n",
       "      <td>150667</td>\n",
       "      <td>931.0000</td>\n",
       "      <td>Ярославль</td>\n",
       "      <td>М</td>\n",
       "      <td>41</td>\n",
       "      <td>0</td>\n",
       "      <td>NaN</td>\n",
       "      <td>1</td>\n",
       "      <td>0</td>\n",
       "      <td>0</td>\n",
       "      <td>261904.4400</td>\n",
       "      <td>0</td>\n",
       "    </tr>\n",
       "    <tr>\n",
       "      <th>9363</th>\n",
       "      <td>155872</td>\n",
       "      <td>714.0000</td>\n",
       "      <td>Рыбинск</td>\n",
       "      <td>Ж</td>\n",
       "      <td>29</td>\n",
       "      <td>0</td>\n",
       "      <td>NaN</td>\n",
       "      <td>1</td>\n",
       "      <td>1</td>\n",
       "      <td>0</td>\n",
       "      <td>118052.8400</td>\n",
       "      <td>0</td>\n",
       "    </tr>\n",
       "    <tr>\n",
       "      <th>9406</th>\n",
       "      <td>217826</td>\n",
       "      <td>790.0000</td>\n",
       "      <td>Рыбинск</td>\n",
       "      <td>Ж</td>\n",
       "      <td>46</td>\n",
       "      <td>4</td>\n",
       "      <td>430414.8000</td>\n",
       "      <td>2</td>\n",
       "      <td>1</td>\n",
       "      <td>1</td>\n",
       "      <td>49400.3700</td>\n",
       "      <td>0</td>\n",
       "    </tr>\n",
       "    <tr>\n",
       "      <th>9504</th>\n",
       "      <td>129785</td>\n",
       "      <td>949.0000</td>\n",
       "      <td>Ярославль</td>\n",
       "      <td>М</td>\n",
       "      <td>43</td>\n",
       "      <td>0</td>\n",
       "      <td>NaN</td>\n",
       "      <td>1</td>\n",
       "      <td>1</td>\n",
       "      <td>1</td>\n",
       "      <td>166845.3700</td>\n",
       "      <td>0</td>\n",
       "    </tr>\n",
       "    <tr>\n",
       "      <th>9508</th>\n",
       "      <td>160075</td>\n",
       "      <td>824.0000</td>\n",
       "      <td>Рыбинск</td>\n",
       "      <td>Ж</td>\n",
       "      <td>57</td>\n",
       "      <td>3</td>\n",
       "      <td>355047.3300</td>\n",
       "      <td>2</td>\n",
       "      <td>0</td>\n",
       "      <td>0</td>\n",
       "      <td>64351.8100</td>\n",
       "      <td>0</td>\n",
       "    </tr>\n",
       "    <tr>\n",
       "      <th>9653</th>\n",
       "      <td>171751</td>\n",
       "      <td>862.0000</td>\n",
       "      <td>Ярославль</td>\n",
       "      <td>М</td>\n",
       "      <td>42</td>\n",
       "      <td>4</td>\n",
       "      <td>481992.1900</td>\n",
       "      <td>2</td>\n",
       "      <td>1</td>\n",
       "      <td>0</td>\n",
       "      <td>71816.8600</td>\n",
       "      <td>0</td>\n",
       "    </tr>\n",
       "    <tr>\n",
       "      <th>9659</th>\n",
       "      <td>195884</td>\n",
       "      <td>767.0000</td>\n",
       "      <td>Рыбинск</td>\n",
       "      <td>Ж</td>\n",
       "      <td>45</td>\n",
       "      <td>1</td>\n",
       "      <td>335652.5600</td>\n",
       "      <td>3</td>\n",
       "      <td>1</td>\n",
       "      <td>1</td>\n",
       "      <td>100197.6700</td>\n",
       "      <td>0</td>\n",
       "    </tr>\n",
       "    <tr>\n",
       "      <th>9775</th>\n",
       "      <td>124450</td>\n",
       "      <td>758.0000</td>\n",
       "      <td>Рыбинск</td>\n",
       "      <td>Ж</td>\n",
       "      <td>36</td>\n",
       "      <td>0</td>\n",
       "      <td>73574.0700</td>\n",
       "      <td>2</td>\n",
       "      <td>0</td>\n",
       "      <td>1</td>\n",
       "      <td>79963.5900</td>\n",
       "      <td>0</td>\n",
       "    </tr>\n",
       "    <tr>\n",
       "      <th>9785</th>\n",
       "      <td>168998</td>\n",
       "      <td>895.0000</td>\n",
       "      <td>Рыбинск</td>\n",
       "      <td>М</td>\n",
       "      <td>44</td>\n",
       "      <td>0</td>\n",
       "      <td>282653.5300</td>\n",
       "      <td>3</td>\n",
       "      <td>0</td>\n",
       "      <td>0</td>\n",
       "      <td>255296.4700</td>\n",
       "      <td>0</td>\n",
       "    </tr>\n",
       "    <tr>\n",
       "      <th>9880</th>\n",
       "      <td>217412</td>\n",
       "      <td>886.0000</td>\n",
       "      <td>Ярославль</td>\n",
       "      <td>Ж</td>\n",
       "      <td>35</td>\n",
       "      <td>3</td>\n",
       "      <td>1026172.1400</td>\n",
       "      <td>2</td>\n",
       "      <td>1</td>\n",
       "      <td>0</td>\n",
       "      <td>53099.1600</td>\n",
       "      <td>0</td>\n",
       "    </tr>\n",
       "    <tr>\n",
       "      <th>9970</th>\n",
       "      <td>175730</td>\n",
       "      <td>816.0000</td>\n",
       "      <td>Рыбинск</td>\n",
       "      <td>М</td>\n",
       "      <td>36</td>\n",
       "      <td>4</td>\n",
       "      <td>477892.0700</td>\n",
       "      <td>3</td>\n",
       "      <td>1</td>\n",
       "      <td>0</td>\n",
       "      <td>81100.6000</td>\n",
       "      <td>0</td>\n",
       "    </tr>\n",
       "  </tbody>\n",
       "</table>\n",
       "</div>"
      ],
      "text/plain": [
       "      user_id    score       city gender  age  equity      balance  products  \\\n",
       "1583   190253 726.0000  Ярославль      М   49       0          NaN         1   \n",
       "1837   210662 896.0000    Рыбинск      Ж   37       0          NaN         2   \n",
       "2138   131419 739.0000    Рыбинск      Ж   37       3 1307941.6500         3   \n",
       "2302   220816 934.0000    Рыбинск      Ж   74       5 1294285.3900         3   \n",
       "2998   208081 821.0000    Рыбинск      Ж   62       3  493608.2600         2   \n",
       "3039   170312 813.0000    Рыбинск      Ж   47       3  370027.6700         2   \n",
       "3106   185748 912.0000  Ярославль      Ж   47       5 1598218.9800         2   \n",
       "3817   211130 918.0000    Рыбинск      Ж   55       0          NaN         2   \n",
       "4186   217643 804.0000    Рыбинск      Ж   40       2  301836.6500         2   \n",
       "4216   226719 903.0000    Рыбинск      Ж   63       0          NaN         1   \n",
       "4870   197364 889.0000  Ярославль      М   33       0          NaN         2   \n",
       "5197   155765 923.0000    Рыбинск      М   30       0          NaN         1   \n",
       "5420   126368 832.0000    Рыбинск      Ж   33       0          NaN         1   \n",
       "5557   143592 764.0000  Ярославль      Ж   68       3  508919.1500         2   \n",
       "5569   141265 811.0000    Рыбинск      Ж   33       3 1044316.8800         2   \n",
       "5570   208815 773.0000  Ярославль      М   39       4  288110.0900         2   \n",
       "5705   152479 723.0000  Ярославль      Ж   22       0          NaN         1   \n",
       "5807   217619 766.0000  Ярославль      М   52       2  218199.4700         1   \n",
       "5840   208738 839.0000  Ярославль      М   60       5 1102438.3700         2   \n",
       "5896   120258 905.0000  Ярославль      М   30       0          NaN         1   \n",
       "6005   188957 882.0000    Рыбинск      Ж   64       3  893392.9100         3   \n",
       "6756   172142 751.0000    Рыбинск      Ж   69       3  396568.0300         2   \n",
       "6786   163207 838.0000  Ярославль      Ж   42       4  652776.6000         2   \n",
       "7271   164676 790.0000    Рыбинск      Ж   77       1  111202.0100         1   \n",
       "7487   140377 930.0000    Рыбинск      Ж   34       5 1123967.0200         1   \n",
       "7542   117943 880.0000  Ярославль      Ж   40       0          NaN         1   \n",
       "7694   116540 887.0000  Ярославль      Ж   38       0          NaN         1   \n",
       "7814   210792 839.0000  Ярославль      М   42       2  662646.9700         1   \n",
       "7931   191520 767.0000  Ярославль      М   45       0          NaN         1   \n",
       "8272   149365 793.0000    Рыбинск      Ж   61       0  476496.9900         2   \n",
       "8364   148826 909.0000    Рыбинск      Ж   32       0          NaN         3   \n",
       "8497   227795 839.0000  Ярославль      М   34       2  326593.1400         2   \n",
       "8521   210627 804.0000    Рыбинск      М   30       2  347818.8800         3   \n",
       "8638   123461 934.0000    Рыбинск      М   34       0          NaN         2   \n",
       "8705   181526 895.0000    Рыбинск      М   29       0          NaN         1   \n",
       "8733   162053 786.0000  Ярославль      М   29       4  205824.9700         3   \n",
       "8822   199312 911.0000    Рыбинск      Ж   43       0          NaN         2   \n",
       "9146   183510 800.0000    Рыбинск      Ж   42       7  473293.8100         2   \n",
       "9175   200863 832.0000  Ярославль      М   42       5  620064.7300         2   \n",
       "9267   150667 931.0000  Ярославль      М   41       0          NaN         1   \n",
       "9363   155872 714.0000    Рыбинск      Ж   29       0          NaN         1   \n",
       "9406   217826 790.0000    Рыбинск      Ж   46       4  430414.8000         2   \n",
       "9504   129785 949.0000  Ярославль      М   43       0          NaN         1   \n",
       "9508   160075 824.0000    Рыбинск      Ж   57       3  355047.3300         2   \n",
       "9653   171751 862.0000  Ярославль      М   42       4  481992.1900         2   \n",
       "9659   195884 767.0000    Рыбинск      Ж   45       1  335652.5600         3   \n",
       "9775   124450 758.0000    Рыбинск      Ж   36       0   73574.0700         2   \n",
       "9785   168998 895.0000    Рыбинск      М   44       0  282653.5300         3   \n",
       "9880   217412 886.0000  Ярославль      Ж   35       3 1026172.1400         2   \n",
       "9970   175730 816.0000    Рыбинск      М   36       4  477892.0700         3   \n",
       "\n",
       "      credit_card  last_activity  est_salary  churn  \n",
       "1583            1              1 177700.7800      0  \n",
       "1837            0              0  90916.0400      0  \n",
       "2138            0              0 103867.4700      0  \n",
       "2302            1              0  95606.8000      0  \n",
       "2998            1              1  33491.4500      0  \n",
       "3039            0              0 129835.5600      0  \n",
       "3106            0              0 180256.9800      0  \n",
       "3817            1              1 244202.0400      0  \n",
       "4186            1              1  81137.2200      0  \n",
       "4216            1              0 138582.5800      0  \n",
       "4870            1              1  96173.4800      0  \n",
       "5197            1              1 120296.6000      0  \n",
       "5420            0              0 118465.3400      0  \n",
       "5557            0              1  71211.6600      0  \n",
       "5569            1              0  46055.3200      0  \n",
       "5570            1              0  56971.9100      0  \n",
       "5705            1              0  83955.6500      0  \n",
       "5807            1              0 120356.4400      0  \n",
       "5840            0              1 116500.8100      0  \n",
       "5896            1              1 146427.9600      0  \n",
       "6005            1              0  69622.5800      0  \n",
       "6756            0              1  45608.4500      0  \n",
       "6786            1              1  97545.3600      0  \n",
       "7271            1              0  32835.4500      0  \n",
       "7487            1              1 148336.2600      0  \n",
       "7542            1              0 137718.9300      0  \n",
       "7694            0              1 119247.6100      0  \n",
       "7814            1              0 138403.6000      0  \n",
       "7931            1              1 880005.0500      0  \n",
       "8272            1              1  46147.0600      0  \n",
       "8364            1              0  28843.5400      0  \n",
       "8497            1              0 103314.9200      0  \n",
       "8521            1              0 129015.2500      0  \n",
       "8638            1              0 291619.2700      0  \n",
       "8705            1              1 124786.5300      0  \n",
       "8733            1              0 121371.7300      0  \n",
       "8822            1              1 152189.7200      0  \n",
       "9146            1              0  54049.8800      0  \n",
       "9175            0              0 188054.4600      0  \n",
       "9267            0              0 261904.4400      0  \n",
       "9363            1              0 118052.8400      0  \n",
       "9406            1              1  49400.3700      0  \n",
       "9504            1              1 166845.3700      0  \n",
       "9508            0              0  64351.8100      0  \n",
       "9653            1              0  71816.8600      0  \n",
       "9659            1              1 100197.6700      0  \n",
       "9775            0              1  79963.5900      0  \n",
       "9785            0              0 255296.4700      0  \n",
       "9880            1              0  53099.1600      0  \n",
       "9970            1              0  81100.6000      0  "
      ]
     },
     "execution_count": 38,
     "metadata": {},
     "output_type": "execute_result"
    }
   ],
   "source": [
    "# Посмотрим на строки с дубликатами user_id\n",
    "df[df.duplicated(subset = ['user_id'])]"
   ]
  },
  {
   "cell_type": "code",
   "execution_count": 39,
   "metadata": {},
   "outputs": [
    {
     "data": {
      "text/html": [
       "<div>\n",
       "<style scoped>\n",
       "    .dataframe tbody tr th:only-of-type {\n",
       "        vertical-align: middle;\n",
       "    }\n",
       "\n",
       "    .dataframe tbody tr th {\n",
       "        vertical-align: top;\n",
       "    }\n",
       "\n",
       "    .dataframe thead th {\n",
       "        text-align: right;\n",
       "    }\n",
       "</style>\n",
       "<table border=\"1\" class=\"dataframe\">\n",
       "  <thead>\n",
       "    <tr style=\"text-align: right;\">\n",
       "      <th></th>\n",
       "      <th>user_id</th>\n",
       "      <th>score</th>\n",
       "      <th>city</th>\n",
       "      <th>gender</th>\n",
       "      <th>age</th>\n",
       "      <th>equity</th>\n",
       "      <th>balance</th>\n",
       "      <th>products</th>\n",
       "      <th>credit_card</th>\n",
       "      <th>last_activity</th>\n",
       "      <th>est_salary</th>\n",
       "      <th>churn</th>\n",
       "    </tr>\n",
       "  </thead>\n",
       "  <tbody>\n",
       "    <tr>\n",
       "      <th>231</th>\n",
       "      <td>190253</td>\n",
       "      <td>823.0000</td>\n",
       "      <td>Рыбинск</td>\n",
       "      <td>М</td>\n",
       "      <td>37</td>\n",
       "      <td>4</td>\n",
       "      <td>373348.3900</td>\n",
       "      <td>2</td>\n",
       "      <td>0</td>\n",
       "      <td>1</td>\n",
       "      <td>131947.9200</td>\n",
       "      <td>1</td>\n",
       "    </tr>\n",
       "    <tr>\n",
       "      <th>1583</th>\n",
       "      <td>190253</td>\n",
       "      <td>726.0000</td>\n",
       "      <td>Ярославль</td>\n",
       "      <td>М</td>\n",
       "      <td>49</td>\n",
       "      <td>0</td>\n",
       "      <td>NaN</td>\n",
       "      <td>1</td>\n",
       "      <td>1</td>\n",
       "      <td>1</td>\n",
       "      <td>177700.7800</td>\n",
       "      <td>0</td>\n",
       "    </tr>\n",
       "  </tbody>\n",
       "</table>\n",
       "</div>"
      ],
      "text/plain": [
       "      user_id    score       city gender  age  equity     balance  products  \\\n",
       "231    190253 823.0000    Рыбинск      М   37       4 373348.3900         2   \n",
       "1583   190253 726.0000  Ярославль      М   49       0         NaN         1   \n",
       "\n",
       "      credit_card  last_activity  est_salary  churn  \n",
       "231             0              1 131947.9200      1  \n",
       "1583            1              1 177700.7800      0  "
      ]
     },
     "execution_count": 39,
     "metadata": {},
     "output_type": "execute_result"
    }
   ],
   "source": [
    "df[df['user_id'] == 190253]"
   ]
  },
  {
   "cell_type": "code",
   "execution_count": 40,
   "metadata": {},
   "outputs": [
    {
     "data": {
      "text/html": [
       "<div>\n",
       "<style scoped>\n",
       "    .dataframe tbody tr th:only-of-type {\n",
       "        vertical-align: middle;\n",
       "    }\n",
       "\n",
       "    .dataframe tbody tr th {\n",
       "        vertical-align: top;\n",
       "    }\n",
       "\n",
       "    .dataframe thead th {\n",
       "        text-align: right;\n",
       "    }\n",
       "</style>\n",
       "<table border=\"1\" class=\"dataframe\">\n",
       "  <thead>\n",
       "    <tr style=\"text-align: right;\">\n",
       "      <th></th>\n",
       "      <th>user_id</th>\n",
       "      <th>score</th>\n",
       "      <th>city</th>\n",
       "      <th>gender</th>\n",
       "      <th>age</th>\n",
       "      <th>equity</th>\n",
       "      <th>balance</th>\n",
       "      <th>products</th>\n",
       "      <th>credit_card</th>\n",
       "      <th>last_activity</th>\n",
       "      <th>est_salary</th>\n",
       "      <th>churn</th>\n",
       "    </tr>\n",
       "  </thead>\n",
       "  <tbody>\n",
       "    <tr>\n",
       "      <th>4986</th>\n",
       "      <td>210792</td>\n",
       "      <td>884.0000</td>\n",
       "      <td>Рыбинск</td>\n",
       "      <td>М</td>\n",
       "      <td>48</td>\n",
       "      <td>4</td>\n",
       "      <td>2228037.2000</td>\n",
       "      <td>2</td>\n",
       "      <td>0</td>\n",
       "      <td>1</td>\n",
       "      <td>207978.0900</td>\n",
       "      <td>1</td>\n",
       "    </tr>\n",
       "    <tr>\n",
       "      <th>7814</th>\n",
       "      <td>210792</td>\n",
       "      <td>839.0000</td>\n",
       "      <td>Ярославль</td>\n",
       "      <td>М</td>\n",
       "      <td>42</td>\n",
       "      <td>2</td>\n",
       "      <td>662646.9700</td>\n",
       "      <td>1</td>\n",
       "      <td>1</td>\n",
       "      <td>0</td>\n",
       "      <td>138403.6000</td>\n",
       "      <td>0</td>\n",
       "    </tr>\n",
       "  </tbody>\n",
       "</table>\n",
       "</div>"
      ],
      "text/plain": [
       "      user_id    score       city gender  age  equity      balance  products  \\\n",
       "4986   210792 884.0000    Рыбинск      М   48       4 2228037.2000         2   \n",
       "7814   210792 839.0000  Ярославль      М   42       2  662646.9700         1   \n",
       "\n",
       "      credit_card  last_activity  est_salary  churn  \n",
       "4986            0              1 207978.0900      1  \n",
       "7814            1              0 138403.6000      0  "
      ]
     },
     "execution_count": 40,
     "metadata": {},
     "output_type": "execute_result"
    }
   ],
   "source": [
    "df[df['user_id'] == 210792]"
   ]
  },
  {
   "cell_type": "code",
   "execution_count": 41,
   "metadata": {},
   "outputs": [
    {
     "data": {
      "text/html": [
       "<div>\n",
       "<style scoped>\n",
       "    .dataframe tbody tr th:only-of-type {\n",
       "        vertical-align: middle;\n",
       "    }\n",
       "\n",
       "    .dataframe tbody tr th {\n",
       "        vertical-align: top;\n",
       "    }\n",
       "\n",
       "    .dataframe thead th {\n",
       "        text-align: right;\n",
       "    }\n",
       "</style>\n",
       "<table border=\"1\" class=\"dataframe\">\n",
       "  <thead>\n",
       "    <tr style=\"text-align: right;\">\n",
       "      <th></th>\n",
       "      <th>user_id</th>\n",
       "      <th>score</th>\n",
       "      <th>city</th>\n",
       "      <th>gender</th>\n",
       "      <th>age</th>\n",
       "      <th>equity</th>\n",
       "      <th>balance</th>\n",
       "      <th>products</th>\n",
       "      <th>credit_card</th>\n",
       "      <th>last_activity</th>\n",
       "      <th>est_salary</th>\n",
       "      <th>churn</th>\n",
       "    </tr>\n",
       "  </thead>\n",
       "  <tbody>\n",
       "    <tr>\n",
       "      <th>5020</th>\n",
       "      <td>168998</td>\n",
       "      <td>886.0000</td>\n",
       "      <td>Ярославль</td>\n",
       "      <td>Ж</td>\n",
       "      <td>35</td>\n",
       "      <td>4</td>\n",
       "      <td>394780.6100</td>\n",
       "      <td>2</td>\n",
       "      <td>1</td>\n",
       "      <td>1</td>\n",
       "      <td>510577.1000</td>\n",
       "      <td>1</td>\n",
       "    </tr>\n",
       "    <tr>\n",
       "      <th>9785</th>\n",
       "      <td>168998</td>\n",
       "      <td>895.0000</td>\n",
       "      <td>Рыбинск</td>\n",
       "      <td>М</td>\n",
       "      <td>44</td>\n",
       "      <td>0</td>\n",
       "      <td>282653.5300</td>\n",
       "      <td>3</td>\n",
       "      <td>0</td>\n",
       "      <td>0</td>\n",
       "      <td>255296.4700</td>\n",
       "      <td>0</td>\n",
       "    </tr>\n",
       "  </tbody>\n",
       "</table>\n",
       "</div>"
      ],
      "text/plain": [
       "      user_id    score       city gender  age  equity     balance  products  \\\n",
       "5020   168998 886.0000  Ярославль      Ж   35       4 394780.6100         2   \n",
       "9785   168998 895.0000    Рыбинск      М   44       0 282653.5300         3   \n",
       "\n",
       "      credit_card  last_activity  est_salary  churn  \n",
       "5020            1              1 510577.1000      1  \n",
       "9785            0              0 255296.4700      0  "
      ]
     },
     "execution_count": 41,
     "metadata": {},
     "output_type": "execute_result"
    }
   ],
   "source": [
    "df[df['user_id'] == 168998]"
   ]
  },
  {
   "cell_type": "markdown",
   "metadata": {},
   "source": [
    "Видно, что данные строки не являются дубликатами, значения в остальных столбцах разные. Поскольку столбец user_id не требуется для анализа данных, его можно оставить без изменений."
   ]
  },
  {
   "cell_type": "markdown",
   "metadata": {},
   "source": [
    "<div class=\"alert alert-success\">\n",
    "<b>👍 Успех:</b> Все верно! Это разные люди\n",
    "</div>"
   ]
  },
  {
   "cell_type": "markdown",
   "metadata": {},
   "source": [
    "##### Проверка выбросов и аномалий в данных"
   ]
  },
  {
   "cell_type": "code",
   "execution_count": 42,
   "metadata": {},
   "outputs": [
    {
     "data": {
      "image/png": "[encoded data removed]",
      "text/plain": [
       "<Figure size 432x288 with 1 Axes>"
      ]
     },
     "metadata": {
      "needs_background": "light"
     },
     "output_type": "display_data"
    },
    {
     "data": {
      "image/png": "[encoded data removed]",
      "text/plain": [
       "<Figure size 432x288 with 1 Axes>"
      ]
     },
     "metadata": {
      "needs_background": "light"
     },
     "output_type": "display_data"
    },
    {
     "data": {
      "image/png": "[encoded data removed]",
      "text/plain": [
       "<Figure size 432x288 with 1 Axes>"
      ]
     },
     "metadata": {
      "needs_background": "light"
     },
     "output_type": "display_data"
    },
    {
     "data": {
      "image/png": "[encoded data removed]",
      "text/plain": [
       "<Figure size 432x288 with 1 Axes>"
      ]
     },
     "metadata": {
      "needs_background": "light"
     },
     "output_type": "display_data"
    },
    {
     "data": {
      "image/png": "[encoded data removed]",
      "text/plain": [
       "<Figure size 432x288 with 1 Axes>"
      ]
     },
     "metadata": {
      "needs_background": "light"
     },
     "output_type": "display_data"
    }
   ],
   "source": [
    "# Построим диаграммы размаха в столбцах с количественными характеристиками\n",
    "columns = ['score', 'age', 'balance', 'products', 'est_salary']\n",
    "\n",
    "for i in columns:\n",
    "    plt.figure()\n",
    "    plt.boxplot(df[i].dropna())\n",
    "    plt.title(f'Диаграмма размаха {i}')\n",
    "    \n",
    "    # Получение текущих меток оси Y\n",
    "    y_labels = plt.gca().get_yticks()\n",
    "    \n",
    "    # Форматирование меток оси Y\n",
    "    new_labels = []\n",
    "    for label in y_labels:\n",
    "        if label >= 1000000:\n",
    "            new_labels.append(f'{label / 1000000:.1f} млн.')\n",
    "        else:\n",
    "            new_labels.append(f'{int(label)}')\n",
    "    \n",
    "    # Установка новых меток оси Y\n",
    "    plt.gca().set_yticklabels(new_labels)\n",
    "    \n",
    "    # Отображение графика\n",
    "    plt.show()"
   ]
  },
  {
   "cell_type": "markdown",
   "metadata": {},
   "source": [
    "Если человек является клиентом банка, то он должен пользоваться хотя бы 1 продуктом, поэтому удалим выбросы со значением продукта 0. Остальные выбросы оставим, чтобы не искажать данные. Могут быть клиенты с низким кредитным рейтингом, старше 80 лет, с очень большим или маленьким балансом балансом и зарплатой."
   ]
  },
  {
   "cell_type": "code",
   "execution_count": 43,
   "metadata": {},
   "outputs": [
    {
     "ename": "SyntaxError",
     "evalue": "unmatched ')' (3719912939.py, line 2)",
     "output_type": "error",
     "traceback": [
      "\u001b[0;36m  File \u001b[0;32m\"/tmp/ipykernel_31/3719912939.py\"\u001b[0;36m, line \u001b[0;32m2\u001b[0m\n\u001b[0;31m    print(sales['purchase_price'] == 0).sum())\u001b[0m\n\u001b[0m                                             ^\u001b[0m\n\u001b[0;31mSyntaxError\u001b[0m\u001b[0;31m:\u001b[0m unmatched ')'\n"
     ]
    }
   ],
   "source": [
    "# Проверим количство записей с нулевым значением products\n",
    "print(sales['purchase_price'] == 0).sum())"
   ]
  },
  {
   "cell_type": "code",
   "execution_count": null,
   "metadata": {},
   "outputs": [],
   "source": [
    "# Удалим запись с нулевым продуктом\n",
    "df = df.query('products>0')\n",
    "df.info()"
   ]
  },
  {
   "cell_type": "markdown",
   "metadata": {},
   "source": [
    "<div class=\"alert alert-success\">\n",
    "<b>👍 Успех:</b> Все верно!\n",
    "</div>"
   ]
  },
  {
   "cell_type": "code",
   "execution_count": 44,
   "metadata": {},
   "outputs": [
    {
     "data": {
      "text/plain": [
       "array(['Рыбинск', 'Ярославль', 'Ростов'], dtype=object)"
      ]
     },
     "execution_count": 44,
     "metadata": {},
     "output_type": "execute_result"
    }
   ],
   "source": [
    "# Проверим уникальные значения в столбце city\n",
    "df['city'].unique()"
   ]
  },
  {
   "cell_type": "code",
   "execution_count": null,
   "metadata": {},
   "outputs": [],
   "source": [
    "# Проверим уникальные значения в столбце gender\n",
    "df['gender'].unique()"
   ]
  },
  {
   "cell_type": "code",
   "execution_count": null,
   "metadata": {},
   "outputs": [],
   "source": [
    "# Проверим уникальные значения в столбце credit_card\n",
    "df['credit_card'].unique()"
   ]
  },
  {
   "cell_type": "code",
   "execution_count": null,
   "metadata": {},
   "outputs": [],
   "source": [
    "# Проверим уникальные значения в столбце last_activity\n",
    "df['last_activity'].unique()"
   ]
  },
  {
   "cell_type": "code",
   "execution_count": null,
   "metadata": {},
   "outputs": [],
   "source": [
    "# Проверим уникальные значения в столбце churn\n",
    "df['churn'].unique()"
   ]
  },
  {
   "cell_type": "markdown",
   "metadata": {},
   "source": [
    "В столбцах city, gender, credit_card, last_activity, churn корректные данные."
   ]
  },
  {
   "cell_type": "markdown",
   "metadata": {},
   "source": [
    "**Вывод:**\n",
    "* Столбцы были приведены к стилю snake_case.\n",
    "* Обработаны пропуски. Были удалены 26 строк с пропусками в столбце age. В столбце balance пропуски были оставлены, поскольку данные не являются ошибкой.\n",
    "* Явных и неявных дубликатов не обнаружено.\n",
    "* Столбец age привели к типу int64.\n",
    "* Была удалена 1 строка с аномальным значением в столбце products."
   ]
  },
  {
   "cell_type": "markdown",
   "metadata": {},
   "source": [
    "<div class=\"alert alert-success\">\n",
    "<b>👍 Успех:</b> Отлично! Данные просмотрены и предобработаны\n",
    "</div>"
   ]
  },
  {
   "cell_type": "markdown",
   "metadata": {},
   "source": [
    "#### Исследовательский анализ данных"
   ]
  },
  {
   "cell_type": "markdown",
   "metadata": {},
   "source": [
    "##### Общий портрет клиентов"
   ]
  },
  {
   "cell_type": "code",
   "execution_count": null,
   "metadata": {},
   "outputs": [],
   "source": [
    "# Переведем обозначение пола клиента в численные значения, где женский пол = 0, мужской пол = 1\n",
    "df['gender'] = df['gender'].replace({'Ж': 0, 'М': 1})"
   ]
  },
  {
   "cell_type": "code",
   "execution_count": 1,
   "metadata": {},
   "outputs": [
    {
     "ename": "NameError",
     "evalue": "name 'df' is not defined",
     "output_type": "error",
     "traceback": [
      "\u001b[0;31m---------------------------------------------------------------------------\u001b[0m",
      "\u001b[0;31mNameError\u001b[0m                                 Traceback (most recent call last)",
      "\u001b[0;32m/tmp/ipykernel_30/3596395221.py\u001b[0m in \u001b[0;36m<module>\u001b[0;34m\u001b[0m\n\u001b[1;32m      1\u001b[0m \u001b[0;31m# Изучим средние значения и стандартные отклонения\u001b[0m\u001b[0;34m\u001b[0m\u001b[0;34m\u001b[0m\u001b[0;34m\u001b[0m\u001b[0m\n\u001b[0;32m----> 2\u001b[0;31m \u001b[0mdf\u001b[0m\u001b[0;34m.\u001b[0m\u001b[0mdrop\u001b[0m\u001b[0;34m(\u001b[0m\u001b[0mcolumns\u001b[0m\u001b[0;34m=\u001b[0m\u001b[0;34m[\u001b[0m\u001b[0;34m'user_id'\u001b[0m\u001b[0;34m]\u001b[0m\u001b[0;34m)\u001b[0m\u001b[0;34m.\u001b[0m\u001b[0mdescribe\u001b[0m\u001b[0;34m(\u001b[0m\u001b[0;34m)\u001b[0m\u001b[0;34m.\u001b[0m\u001b[0mT\u001b[0m\u001b[0;34m\u001b[0m\u001b[0;34m\u001b[0m\u001b[0m\n\u001b[0m",
      "\u001b[0;31mNameError\u001b[0m: name 'df' is not defined"
     ]
    }
   ],
   "source": [
    "# Изучим средние значения и стандартные отклонения\n",
    "df.drop(columns=['user_id']).describe().T"
   ]
  },
  {
   "cell_type": "markdown",
   "metadata": {},
   "source": [
    "**Вывод**\n",
    "* Баллы кредитного скоринга находятся в диапазоне от 642 до 1000. Средний уровень кредитного скоринга - 849 баллов.\n",
    "* Пол представлен примерно поровну.\n",
    "* Средний возраст клиентов - 43 года. Максимальный - 86 лет.\n",
    "* Приблизительная оценка собственности клиента, в среднем, составляет 2.6 баллов. Максимальная - 9 баллов.\n",
    "* Медианный баланс клиентов составляет 524295 руб.\n",
    "* В среднем, клиенты пользуются 1-2 продуктами.\n",
    "* 68% клиентов пользуются кредитными картами.\n",
    "* 52% клиентов были активными в последнее время.\n",
    "* Медианная заработная плата клиентов составляет 119643 руб.\n",
    "* Среднее значение оттока - 18%."
   ]
  },
  {
   "cell_type": "markdown",
   "metadata": {},
   "source": [
    "<div class=\"alert alert-success\">\n",
    "<b>👍 Успех:</b> Все верно!\n",
    "</div>"
   ]
  },
  {
   "cell_type": "markdown",
   "metadata": {},
   "source": [
    "##### Портрет клиентов по оттоку"
   ]
  },
  {
   "cell_type": "code",
   "execution_count": 45,
   "metadata": {},
   "outputs": [
    {
     "data": {
      "text/html": [
       "<div>\n",
       "<style scoped>\n",
       "    .dataframe tbody tr th:only-of-type {\n",
       "        vertical-align: middle;\n",
       "    }\n",
       "\n",
       "    .dataframe tbody tr th {\n",
       "        vertical-align: top;\n",
       "    }\n",
       "\n",
       "    .dataframe thead th {\n",
       "        text-align: right;\n",
       "    }\n",
       "</style>\n",
       "<table border=\"1\" class=\"dataframe\">\n",
       "  <thead>\n",
       "    <tr style=\"text-align: right;\">\n",
       "      <th></th>\n",
       "      <th>churn</th>\n",
       "      <th>0</th>\n",
       "      <th>1</th>\n",
       "    </tr>\n",
       "  </thead>\n",
       "  <tbody>\n",
       "    <tr>\n",
       "      <th rowspan=\"2\" valign=\"top\">score</th>\n",
       "      <th>mean</th>\n",
       "      <td>845.3962</td>\n",
       "      <td>863.4162</td>\n",
       "    </tr>\n",
       "    <tr>\n",
       "      <th>median</th>\n",
       "      <td>848.0000</td>\n",
       "      <td>866.0000</td>\n",
       "    </tr>\n",
       "    <tr>\n",
       "      <th rowspan=\"2\" valign=\"top\">age</th>\n",
       "      <th>mean</th>\n",
       "      <td>43.0208</td>\n",
       "      <td>41.4502</td>\n",
       "    </tr>\n",
       "    <tr>\n",
       "      <th>median</th>\n",
       "      <td>40.0000</td>\n",
       "      <td>39.0000</td>\n",
       "    </tr>\n",
       "    <tr>\n",
       "      <th rowspan=\"2\" valign=\"top\">equity</th>\n",
       "      <th>mean</th>\n",
       "      <td>2.3783</td>\n",
       "      <td>3.7631</td>\n",
       "    </tr>\n",
       "    <tr>\n",
       "      <th>median</th>\n",
       "      <td>3.0000</td>\n",
       "      <td>4.0000</td>\n",
       "    </tr>\n",
       "    <tr>\n",
       "      <th rowspan=\"2\" valign=\"top\">balance</th>\n",
       "      <th>mean</th>\n",
       "      <td>733031.6301</td>\n",
       "      <td>1134458.2093</td>\n",
       "    </tr>\n",
       "    <tr>\n",
       "      <th>median</th>\n",
       "      <td>475410.0900</td>\n",
       "      <td>783908.9000</td>\n",
       "    </tr>\n",
       "    <tr>\n",
       "      <th rowspan=\"2\" valign=\"top\">products</th>\n",
       "      <th>mean</th>\n",
       "      <td>1.7589</td>\n",
       "      <td>2.3760</td>\n",
       "    </tr>\n",
       "    <tr>\n",
       "      <th>median</th>\n",
       "      <td>2.0000</td>\n",
       "      <td>2.0000</td>\n",
       "    </tr>\n",
       "    <tr>\n",
       "      <th rowspan=\"2\" valign=\"top\">credit_card</th>\n",
       "      <th>mean</th>\n",
       "      <td>0.7089</td>\n",
       "      <td>0.5514</td>\n",
       "    </tr>\n",
       "    <tr>\n",
       "      <th>median</th>\n",
       "      <td>1.0000</td>\n",
       "      <td>1.0000</td>\n",
       "    </tr>\n",
       "    <tr>\n",
       "      <th rowspan=\"2\" valign=\"top\">last_activity</th>\n",
       "      <th>mean</th>\n",
       "      <td>0.4829</td>\n",
       "      <td>0.7020</td>\n",
       "    </tr>\n",
       "    <tr>\n",
       "      <th>median</th>\n",
       "      <td>0.0000</td>\n",
       "      <td>1.0000</td>\n",
       "    </tr>\n",
       "    <tr>\n",
       "      <th rowspan=\"2\" valign=\"top\">est_salary</th>\n",
       "      <th>mean</th>\n",
       "      <td>147674.6379</td>\n",
       "      <td>148289.7022</td>\n",
       "    </tr>\n",
       "    <tr>\n",
       "      <th>median</th>\n",
       "      <td>118227.6000</td>\n",
       "      <td>125395.2200</td>\n",
       "    </tr>\n",
       "  </tbody>\n",
       "</table>\n",
       "</div>"
      ],
      "text/plain": [
       "churn                          0            1\n",
       "score         mean      845.3962     863.4162\n",
       "              median    848.0000     866.0000\n",
       "age           mean       43.0208      41.4502\n",
       "              median     40.0000      39.0000\n",
       "equity        mean        2.3783       3.7631\n",
       "              median      3.0000       4.0000\n",
       "balance       mean   733031.6301 1134458.2093\n",
       "              median 475410.0900  783908.9000\n",
       "products      mean        1.7589       2.3760\n",
       "              median      2.0000       2.0000\n",
       "credit_card   mean        0.7089       0.5514\n",
       "              median      1.0000       1.0000\n",
       "last_activity mean        0.4829       0.7020\n",
       "              median      0.0000       1.0000\n",
       "est_salary    mean   147674.6379  148289.7022\n",
       "              median 118227.6000  125395.2200"
      ]
     },
     "execution_count": 45,
     "metadata": {},
     "output_type": "execute_result"
    }
   ],
   "source": [
    "# Посмотрим на средние значения признаков в двух группах — тех, кто ушел в отток и тех, кто остался\n",
    "df.drop(columns=['user_id']).groupby('churn').agg(['mean', 'median']).T"
   ]
  },
  {
   "cell_type": "markdown",
   "metadata": {},
   "source": [
    "**Вывод**\n",
    "* Средний балл кредитного скоринга немного выше у отточных клиентов (863 и 845 соответственно).\n",
    "* Среди отточных клиентов больше мужчин (65%), чем у оставшихся (46%).\n",
    "* Медианное значение возраста обоих групп почти равно.\n",
    "* Оценка собственности у отточных клиентов выше.\n",
    "* Медианный баланс у отточных клиентов выше (783908 руб. и 475410 руб. соответственно).\n",
    "* Количество продукто у клиентов обоих групп одинаковое - 2.\n",
    "* Клиенты, попавшие в отток, реже пользуются кредитными картами (55%), чем оставшиеся (70%).\n",
    "* Активность в последнеее время у отточных клиентов выше (70% и 48% соответственно).\n",
    "* Средние заработные платы у клиентов обоих групп почти равны. Медианная заработная плата у отточных клиентов немного выше."
   ]
  },
  {
   "cell_type": "markdown",
   "metadata": {},
   "source": [
    "<div class=\"alert alert-success\">\n",
    "<b>👍 Успех:</b> Все верно!\n",
    "</div>"
   ]
  },
  {
   "cell_type": "markdown",
   "metadata": {},
   "source": [
    "##### Столбчатые гистограммы и распределения признаков для тех, кто ушёл (отток) и тех, кто остался (не попали в отток)"
   ]
  },
  {
   "cell_type": "code",
   "execution_count": 46,
   "metadata": {},
   "outputs": [
    {
     "data": {
      "image/png": "[encoded data removed]",
      "text/plain": [
       "<Figure size 1080x720 with 1 Axes>"
      ]
     },
     "metadata": {
      "needs_background": "light"
     },
     "output_type": "display_data"
    }
   ],
   "source": [
    "# Построим нормированный график распределения баллов кредитного скоринга\n",
    "plt.figure(figsize=(15, 10))\n",
    "g = sns.histplot(data=df, x='score', hue='churn', stat='density', common_norm=False)\n",
    "plt.xlabel('Баллы кредитного скоринга')\n",
    "plt.ylabel('Плотность вероятностей')\n",
    "plt.title('Нормированный график по баллам кредитного скоринга')\n",
    "leg = g.axes.get_legend()\n",
    "new_title = 'Клиент'\n",
    "leg.set_title(new_title)\n",
    "new_labels = ['Оставшийся', 'Ушедший']\n",
    "for t, l in zip(leg.texts, new_labels):\n",
    "    t.set_text(l)"
   ]
  },
  {
   "cell_type": "markdown",
   "metadata": {},
   "source": [
    "С 820 до 910 баллов кредитного скоринга повышается отток клиентов."
   ]
  },
  {
   "cell_type": "markdown",
   "metadata": {},
   "source": [
    "<div class=\"alert alert-success\">\n",
    "<b>👍 Успех:</b> Все верно!\n",
    "</div>"
   ]
  },
  {
   "cell_type": "code",
   "execution_count": null,
   "metadata": {},
   "outputs": [],
   "source": [
    "# Построим нормированный график распределения баланса на счету\n",
    "plt.figure(figsize=(15, 10))\n",
    "g = sns.histplot(data=df.query('balance<7000000'), x='balance', hue='churn', stat='density', common_norm=False)\n",
    "plt.xlabel('Баланс на счету клиента, млн. руб.')\n",
    "plt.ylabel('Плотность вероятностей')\n",
    "plt.title('Нормированный график по баллансу на счете')\n",
    "leg = g.axes.get_legend()\n",
    "new_title = 'Клиент'\n",
    "leg.set_title(new_title)\n",
    "new_labels = ['Оставшийся', 'Ушедший']\n",
    "for t, l in zip(leg.texts, new_labels):\n",
    "    t.set_text(l)"
   ]
  },
  {
   "cell_type": "markdown",
   "metadata": {},
   "source": [
    "Отток клиентов повышается при балансе на счете от 700 тыс. до 4 млн руб."
   ]
  },
  {
   "cell_type": "markdown",
   "metadata": {},
   "source": [
    "<div class=\"alert alert-success\">\n",
    "<b>👍 Успех:</b> Все верно!\n",
    "</div>"
   ]
  },
  {
   "cell_type": "code",
   "execution_count": null,
   "metadata": {},
   "outputs": [],
   "source": [
    "# Построим нормированный график распределения оценочной заработной платы\n",
    "plt.figure(figsize=(15, 10))\n",
    "g = sns.histplot(data=df.query('est_salary<600000'), x='est_salary', hue='churn', stat='density', common_norm=False)\n",
    "plt.xlabel('Оценочная заработная плата, руб.')\n",
    "plt.ylabel('Плотность вероятностей')\n",
    "plt.title('Нормированный график по оценочной заработной плате')\n",
    "leg = g.axes.get_legend()\n",
    "new_title = 'Клиент'\n",
    "leg.set_title(new_title)\n",
    "new_labels = ['Оставшийся', 'Ушедший']\n",
    "for t, l in zip(leg.texts, new_labels):\n",
    "    t.set_text(l)"
   ]
  },
  {
   "cell_type": "markdown",
   "metadata": {},
   "source": [
    "При достижении заработной платы в 110 тыс. руб. оток клиентов повышается и продолжается до 210 тыс. руб."
   ]
  },
  {
   "cell_type": "markdown",
   "metadata": {},
   "source": [
    "<div class=\"alert alert-success\">\n",
    "<b>👍 Успех:</b> Все верно!\n",
    "</div>"
   ]
  },
  {
   "cell_type": "code",
   "execution_count": null,
   "metadata": {},
   "outputs": [],
   "source": [
    "# Построим нормированный график распределения возраста клиентов\n",
    "plt.figure(figsize=(15, 10))\n",
    "g = sns.histplot(data=df, x='age', hue='churn', stat='density', common_norm=False)\n",
    "plt.xlabel('Возраст')\n",
    "plt.ylabel('Плотность вероятностей')\n",
    "plt.title('Нормированный график по возрасту клиентов')\n",
    "leg = g.axes.get_legend()\n",
    "new_title = 'Клиент'\n",
    "leg.set_title(new_title)\n",
    "new_labels = ['Оставшийся', 'Ушедший']\n",
    "for t, l in zip(leg.texts, new_labels):\n",
    "    t.set_text(l)"
   ]
  },
  {
   "cell_type": "markdown",
   "metadata": {},
   "source": [
    "Отток клиентов повышается в двух возрастных диапазонах:\n",
    "* с 24 до 35 лет\n",
    "* с 50 до 60 лет"
   ]
  },
  {
   "cell_type": "markdown",
   "metadata": {},
   "source": [
    "<div class=\"alert alert-success\">\n",
    "<b>👍 Успех:</b> Все верно!\n",
    "</div>"
   ]
  },
  {
   "cell_type": "code",
   "execution_count": 47,
   "metadata": {
    "scrolled": false
   },
   "outputs": [
    {
     "data": {
      "image/png": "[encoded data removed]",
      "text/plain": [
       "<Figure size 720x432 with 1 Axes>"
      ]
     },
     "metadata": {
      "needs_background": "light"
     },
     "output_type": "display_data"
    },
    {
     "data": {
      "image/png": "[encoded data removed]",
      "text/plain": [
       "<Figure size 720x432 with 1 Axes>"
      ]
     },
     "metadata": {
      "needs_background": "light"
     },
     "output_type": "display_data"
    },
    {
     "data": {
      "image/png": "[encoded data removed]",
      "text/plain": [
       "<Figure size 720x432 with 1 Axes>"
      ]
     },
     "metadata": {
      "needs_background": "light"
     },
     "output_type": "display_data"
    },
    {
     "data": {
      "image/png": "[encoded data removed]",
      "text/plain": [
       "<Figure size 720x432 with 1 Axes>"
      ]
     },
     "metadata": {
      "needs_background": "light"
     },
     "output_type": "display_data"
    },
    {
     "data": {
      "image/png": "[encoded data removed]",
      "text/plain": [
       "<Figure size 720x432 with 1 Axes>"
      ]
     },
     "metadata": {
      "needs_background": "light"
     },
     "output_type": "display_data"
    },
    {
     "data": {
      "image/png": "[encoded data removed]",
      "text/plain": [
       "<Figure size 720x432 with 1 Axes>"
      ]
     },
     "metadata": {
      "needs_background": "light"
     },
     "output_type": "display_data"
    }
   ],
   "source": [
    "# Для категориальных характеристик построим нормированные графики плотности вероятностей\n",
    "titles = {\n",
    "    'city': 'Нормированный график по городам клиентов',\n",
    "    'gender': 'Нормированный график по полу',\n",
    "    'equity': 'Нормированный график по оценке собственности клиента',\n",
    "    'products': 'Нормированный график по количеству используемых продуктов',\n",
    "    'credit_card': 'Нормированный график по наличию кредитной карты',\n",
    "    'last_activity': 'Нормированный график по активности',\n",
    "}\n",
    "\n",
    "# Подписи осей\n",
    "x_labels = {\n",
    "    'city': 'Город',\n",
    "    'gender': 'Пол',\n",
    "    'equity': 'Оценка собственности клиента',\n",
    "    'products': 'Количество используемых продуктов',\n",
    "    'credit_card': 'Наличие кредитной карты',\n",
    "    'last_activity': 'Активность'\n",
    "}\n",
    "\n",
    "# Метки для категорий\n",
    "x_labels_gender = ['Женщина', 'Мужчина']\n",
    "x_labels_credit_card = ['Нет карты', 'Есть карта']\n",
    "x_labels_last_activity = ['Неактивный', 'Активный']\n",
    "new_labels = ['Оставшийся', 'Ушедший']\n",
    "\n",
    "# Построение графиков\n",
    "for param in ['city', 'gender', 'equity', 'products', 'credit_card', 'last_activity']:\n",
    "    plt.figure(figsize=(10, 6))\n",
    "    ax = sns.histplot(data=df, x=param, hue='churn', stat='density', common_norm=False, discrete = True)\n",
    "\n",
    "    # Заголовок графика\n",
    "    plt.title(titles[param])\n",
    "    \n",
    "    # Подпись оси Y\n",
    "    plt.ylabel('Плотность вероятностей')\n",
    "    \n",
    "    # Подпись оси X и замена меток категорий\n",
    "    if param == 'gender':\n",
    "        ax.set_xticks([0, 1])\n",
    "        ax.set_xticklabels(x_labels_gender)\n",
    "        plt.xlabel(x_labels[param])\n",
    "    elif param == 'credit_card':\n",
    "        ax.set_xticks([0, 1])\n",
    "        ax.set_xticklabels(x_labels_credit_card)\n",
    "        plt.xlabel(x_labels[param])\n",
    "    elif param == 'last_activity':\n",
    "        ax.set_xticks([0, 1])\n",
    "        ax.set_xticklabels(x_labels_last_activity)\n",
    "        plt.xlabel(x_labels[param])\n",
    "    else:\n",
    "        plt.xlabel(x_labels[param])\n",
    "\n",
    "    # Добавление легенды\n",
    "    plt.legend(new_labels, title='Категория', loc='upper right')\n",
    "\n",
    "    # Отображение графика\n",
    "    plt.show()\n"
   ]
  },
  {
   "cell_type": "markdown",
   "metadata": {},
   "source": [
    "* Больше всего клиентов из города Ярославль, меньше всего из Ростова. В Ярославле отточных клиентов немного больше, чем оставшихся. Меньше всего отточных клиентов в Рыбинске.\n",
    "* Среди женщин незначительный отток клиентов. Среди клиентов мужчин высокий уровень оттока.\n",
    "* Отток клиентов растет при достижении 3 и выше баллов собственности.\n",
    "* При использовании клиентом 3 и более продуктов отток повышается.\n",
    "* Клиенты, не пользующиеся кредитной картой чаще попадают в отток.\n",
    "* Отток клиентов среди активных пользователей значительно выше, чем среди неактивных."
   ]
  },
  {
   "cell_type": "markdown",
   "metadata": {},
   "source": [
    "<div class=\"alert alert-success\">\n",
    "<b>👍 Успех:</b> Все верно! По каждому признаку выделены высокооточные значения\n",
    "</div>"
   ]
  },
  {
   "cell_type": "markdown",
   "metadata": {},
   "source": [
    "##### Построим матрицу корреляции оттока"
   ]
  },
  {
   "cell_type": "code",
   "execution_count": 48,
   "metadata": {
    "scrolled": false
   },
   "outputs": [
    {
     "name": "stdout",
     "output_type": "stream",
     "text": [
      "interval columns not set, guessing: ['score', 'age', 'equity', 'balance', 'products', 'credit_card', 'last_activity', 'est_salary', 'churn']\n"
     ]
    },
    {
     "data": {
      "image/png": "[encoded data removed]",
      "text/plain": [
       "<Figure size 720x576 with 2 Axes>"
      ]
     },
     "metadata": {
      "needs_background": "light"
     },
     "output_type": "display_data"
    }
   ],
   "source": [
    "df_corr = df.drop(columns=['user_id'])\n",
    "# Вычисление матрицы корреляции Phi-к\n",
    "phik_overview = df_corr.phik_matrix()\n",
    "# Построение тепловой карты корреляций\n",
    "plot_correlation_matrix(phik_overview.values, \n",
    "                        x_labels=phik_overview.columns, \n",
    "                        y_labels=phik_overview.index, \n",
    "                        vmin=0, vmax=1, color_map=\"Greens\", \n",
    "                        title=r\"Общая корреляция между столбцами\", \n",
    "                        fontsize_factor=1.5, \n",
    "                        figsize=(10, 8))\n",
    "plt.show()"
   ]
  },
  {
   "cell_type": "markdown",
   "metadata": {},
   "source": [
    "Заметная корреляция присутствует у следующих столбцов:\n",
    "* количество используемых продуктов и оценка баллов собственности;\n",
    "* оценка баллов собственности и кредитный скоринг.\n",
    "\n",
    "Умеренная корреляция присутствует у следующих столбцов:\n",
    "* заработная плата и кредитный скоринг;\n",
    "* заработная плата и баланс;\n",
    "* заработная плата и возраст;\n",
    "* кредитный скоринг и количество используемых продуктов."
   ]
  },
  {
   "cell_type": "markdown",
   "metadata": {},
   "source": [
    "<div class=\"alert alert-success\">\n",
    "<b>👍 Успех:</b> Все верно!\n",
    "</div>"
   ]
  },
  {
   "cell_type": "code",
   "execution_count": null,
   "metadata": {},
   "outputs": [],
   "source": [
    "phik_churn = phik_overview[['churn']].sort_values(by = 'churn', ascending=False)\n",
    "# Построение тепловой карты для столбца 'churn'\n",
    "plt.figure(figsize=(6, 6))\n",
    "sns.heatmap(phik_churn, annot=True, cmap='Greens', vmin=0, vmax=1)\n",
    "plt.title('Корреляция оттока клиентов по столбцу churn')\n",
    "plt.show()"
   ]
  },
  {
   "cell_type": "markdown",
   "metadata": {},
   "source": [
    "Смотря на взаимосвязь по оттоку клиентов умеренная корреляция заметна со столбцом equity (количество баллов собственности).\n",
    "<br>Слабая связь заметна со столбцами:\n",
    "* активность в последнее время;\n",
    "* количество используемых продуктов;\n",
    "* кредитный скоринг;\n",
    "* пол;\n",
    "* наличие кредитной карты;\n",
    "* возраст.\n",
    "<br><br>Почти отсутствует корреляция с оттоком у города, баланса на счету, заработной платы."
   ]
  },
  {
   "cell_type": "markdown",
   "metadata": {},
   "source": [
    "**Вывод**\n",
    "\n",
    "По средним значениям данных:\n",
    "* Баллы кредитного скоринга находятся в диапазоне от 642 до 1000. Средний уровень кредитного скоринга - 849 баллов.\n",
    "* Пол представлен примерно поровну.\n",
    "* Средний возраст клиентов - 43 года. Максимальный - 86 лет.\n",
    "* Приблизительная оценка собственности клиента, в среднем, составляет 2.6 баллов. Максимальная - 9 баллов.\n",
    "* Медианный баланс клиентов составляет 524295 руб.\n",
    "* В среднем, клиенты пользуются 1-2 продуктами.\n",
    "* 68% клиентов пользуются кредитными картами.\n",
    "* 52% клиентов были активными в последнее время.\n",
    "* Медианная заработная плата клиентов составляет 119643 руб.\n",
    "* Среднее значение оттока - 18%.\n",
    "\n",
    "По портрету отточных клиентов:\n",
    "* Средний балл кредитного скоринга немного выше у отточных клиентов (863 и 845 соответственно).\n",
    "* Среди отточных клиентов больше мужчин (65%), чем у оставшихся (46%).\n",
    "* Медианное значение возраста обоих групп почти равно.\n",
    "* Оценка собственности у отточных клиентов выше.\n",
    "* Медианный баланс у отточных клиентов выше (783908 руб. и 475410 руб. соответственно).\n",
    "* Количество продуктов у клиентов обоих групп одинаковое - 2.\n",
    "* Клиенты, попавшие в отток, реже пользуются кредитными картами (55%), чем оставшиеся (70%).\n",
    "* Активность в последнеее время у отточных клиентов выше (70% и 48% соответственно).\n",
    "* Средние заработные платы у клиентов обоих групп почти равны. Медианная заработная плата у отточных клиентов немного выше.\n",
    "\n",
    "По распределению количественных данных:\n",
    "* С 820 до 910 баллов кредитного скоринга повышается отток клиентов.\n",
    "* Отток клиентов повышается при балансе на счету от 700 тыс. до 4 млн руб.\n",
    "* При достижении заработной платы в 110 тыс. руб. оток клиентов повышается и продолжается до 210 тыс. руб.\n",
    "* Отток клиентов повышается в двух возрастных диапазонах: с 24 до 35 лет, с 50 до 60 лет.\n",
    "\n",
    "По распределению категориальных данных:\n",
    "* Больше всего клиентов из города Ярославль, меньше всего из Ростова. В Ярославле отточных клиентов немного больше, чем оставшихся. Меньше всего отточных клиентов в Рыбинске.\n",
    "* Среди женщин незначительный отток клиентов. Среди клиентов мужчин высокий уровень оттока.\n",
    "* Отток клиентов растет при достижении 3 и выше баллов собственности.\n",
    "* При использовании клиентом 3 и более продуктов отток повышается.\n",
    "* Клиенты, не пользующиеся кредитной картой чаще попадают в отток.\n",
    "* Отток клиентов среди активных пользователей значительно выше, чем среди неактивных.\n",
    "\n",
    "По наличию корреляции:\n",
    "<br>Смотря на взаимосвязь по оттоку клиентов умеренная корреляция заметна со столбцом equity (количество баллов собственности).\n",
    "<br>Слабая связь заметна со столбцами:\n",
    "* активность в последнее время;\n",
    "* количество используемых продуктов;\n",
    "* кредитный скоринг;\n",
    "* пол;\n",
    "* наличие кредитной карты;\n",
    "* возраст.\n",
    "<br>Почти отсутствует корреляция с оттоком у города, баланса на счету, заработной платы."
   ]
  },
  {
   "cell_type": "markdown",
   "metadata": {},
   "source": [
    "<div class=\"alert alert-success\">\n",
    "<b>👍 Успех:</b> Отличное исследование и вывод, молодец!\n",
    "</div>"
   ]
  },
  {
   "cell_type": "markdown",
   "metadata": {},
   "source": [
    "#### Проверка статистических гипотез"
   ]
  },
  {
   "cell_type": "markdown",
   "metadata": {},
   "source": [
    "##### Проверим гипотезу различия доходов между теми клиентами, которые ушли и теми, которые остались."
   ]
  },
  {
   "cell_type": "markdown",
   "metadata": {},
   "source": [
    "Гипотезы:\n",
    "<br>**Нулевая гипотеза (H0):** Средний доход (или медианный) у клиентов, которые ушли и тех, кто остался, одинаков.\n",
    "<br>**Альтернативная гипотеза (H1):** Средний доход (или медианный) у клиентов, которые ушли, отличается от дохода тех, кто остался."
   ]
  },
  {
   "cell_type": "code",
   "execution_count": null,
   "metadata": {},
   "outputs": [],
   "source": [
    "# Разделим данные на две группы: те, кто ушли (churn=1) и остались (churn=0)\n",
    "est_salary_churn = df[df['churn'] == 1]['est_salary']\n",
    "est_salary_stayed = df[df['churn'] == 0]['est_salary']\n",
    "alpha = 0.05  # критический уровень статистической значимости\n",
    "\n",
    "# Проверка нормальности с помощью теста Шапиро-Уилка\n",
    "stat_churn, p_churn = stats.shapiro(est_salary_churn)\n",
    "stat_stayed, p_stayed = stats.shapiro(est_salary_stayed)\n",
    "\n",
    "# Если p-value больше alpha, то данные распределены нормально\n",
    "print(f\"Тест Шапиро для ушедших клиентов: p-value = {p_churn}\")\n",
    "if p_churn > alpha:\n",
    "    print(\"Нормальное распределение\")\n",
    "else:\n",
    "    print(\"Распределение ненормально\")\n",
    "print()\n",
    "print(f\"Тест Шапиро для оставшихся клиентов: p-value = {p_stayed}\")\n",
    "if p_stayed > alpha:\n",
    "    print(\"Нормальное распределение\")\n",
    "else:\n",
    "    print(\"Распределение ненормально\") "
   ]
  },
  {
   "cell_type": "markdown",
   "metadata": {},
   "source": [
    "Вывод:\n",
    "<br>Генеральные совокупности не зависят друг от друга;\n",
    "<br>Распределение значений не является нормальным;\n",
    "<br>При отсутствии нормального распределения сравниваемых выборок вместо t-критерия Стьюдента используются аналогичные методы непараметрической статистики, среди которых наиболее известными является тест Манна-Уитни."
   ]
  },
  {
   "cell_type": "code",
   "execution_count": null,
   "metadata": {},
   "outputs": [],
   "source": [
    "# Проведем тест Манна-Уитни\n",
    "\n",
    "alpha = 0.05  \n",
    "\n",
    "results = stats.mannwhitneyu(est_salary_churn, est_salary_stayed)\n",
    "\n",
    "print('p-значение: ', results.pvalue)\n",
    "\n",
    "if results.pvalue < alpha:\n",
    "    print('Отвергаем нулевую гипотезу')\n",
    "else:\n",
    "    print('Не получилось отвергнуть нулевую гипотезу') "
   ]
  },
  {
   "cell_type": "markdown",
   "metadata": {},
   "source": [
    "Вывод: на имеющихся данных, на уровне значимости 5% (уровне доверия 95%) есть основания отвергнуть нулевую гипотезу об отсутствии различий между средними значениями доходов ушедших и оставшихся клиентов в пользу альтернативы. Можно предположить, что средние доходы ушедших и оставшихся клиентов отличаются."
   ]
  },
  {
   "cell_type": "markdown",
   "metadata": {},
   "source": [
    "##### Проверим гипотезу различия в возрасте между теми клиентами, которые ушли и теми, которые остались."
   ]
  },
  {
   "cell_type": "markdown",
   "metadata": {},
   "source": [
    "Гипотезы:\n",
    "<br>**Нулевая гипотеза (H0):** Средний возраст (или медианный) у клиентов, которые ушли, и тех, кто остался, одинаков.\n",
    "<br>**Альтернативная гипотеза (H1):** Средний возраст (или медианный) у клиентов, которые ушли, отличается от возраста тех, кто остался."
   ]
  },
  {
   "cell_type": "code",
   "execution_count": null,
   "metadata": {},
   "outputs": [],
   "source": [
    "# Разделим данные на две группы: те, кто ушли (churn=1) и остались (churn=0)\n",
    "age_churn = df[df['churn'] == 1]['age']\n",
    "age_stayed = df[df['churn'] == 0]['age']\n",
    "alpha = 0.05  # критический уровень статистической значимости\n",
    "\n",
    "# Проверка нормальности с помощью теста Шапиро-Уилка\n",
    "stat_churn, p_churn = stats.shapiro(age_churn)\n",
    "stat_stayed, p_stayed = stats.shapiro(age_stayed)\n",
    "\n",
    "# Если p-value больше alpha, то данные распределены нормально\n",
    "print(f\"Тест Шапиро для ушедших клиентов: p-value = {p_churn}\")\n",
    "if p_churn > alpha:\n",
    "    print(\"Нормальное распределение\")\n",
    "else:\n",
    "    print(\"Распределение ненормально\")\n",
    "print()\n",
    "print(f\"Тест Шапиро для оставшихся клиентов: p-value = {p_stayed}\")\n",
    "if p_stayed > alpha:\n",
    "    print(\"Нормальное распределение\")\n",
    "else:\n",
    "    print(\"Распределение ненормально\")"
   ]
  },
  {
   "cell_type": "markdown",
   "metadata": {},
   "source": [
    "Вывод:\n",
    "<br>Генеральные совокупности не зависят друг от друга;\n",
    "<br>Распределение значений не является нормальным;\n",
    "<br>Если данные не нормальны, применяем тест Манна-Уитни, который является непараметрическим и используется для сравнения двух независимых выборок."
   ]
  },
  {
   "cell_type": "code",
   "execution_count": null,
   "metadata": {},
   "outputs": [],
   "source": [
    "# Проведем тест Манна-Уитни\n",
    "\n",
    "alpha = 0.05  \n",
    "\n",
    "results = stats.mannwhitneyu(age_churn, age_stayed)\n",
    "\n",
    "print('p-значение: ', results.pvalue)\n",
    "\n",
    "if results.pvalue < alpha:\n",
    "    print('Отвергаем нулевую гипотезу')\n",
    "else:\n",
    "    print('Не получилось отвергнуть нулевую гипотезу') "
   ]
  },
  {
   "cell_type": "markdown",
   "metadata": {},
   "source": [
    "Вывод: на имеющихся данных, на уровне значимости 5% (уровне доверия 95%) есть основания отвергнуть нулевую гипотезу об отсутствии различий между средними возрастами доходов ушедших и оставшихся клиентов в пользу альтернативы. Можно предположить, что средние возрасты ушедших и оставшихся клиентов отличаются."
   ]
  },
  {
   "cell_type": "markdown",
   "metadata": {},
   "source": [
    "**Вывод**\n",
    "\n",
    "Была проведена проверка двух гипотез:\n",
    "1. Гипотеза о различии доходов между теми клиентами, которые ушли и теми, которые остались.\n",
    "2. Гипотеза о различии в возрасте между теми клиентами, которые ушли и теми, которые остались.\n",
    "\n",
    "В результате проверки двух гипотез были получены следующие выводы:\n",
    "* **Гипотеза 1:** на имеющихся данных, на уровне значимости 5% (уровне доверия 95%) есть основания отвергнуть нулевую гипотезу об отсутствии различий между средними значениями доходов ушедших и оставшихся клиентов в пользу альтернативы. Можно предположить, что средние доходы ушедших и оставшихся клиентов отличаются.    \n",
    "* **Гипотеза 2:** на имеющихся данных, на уровне значимости 5% (уровне доверия 95%) есть основания отвергнуть нулевую гипотезу об отсутствии различий между средними возрастами доходов ушедших и оставшихся клиентов в пользу альтернативы. Можно предположить, что средние возрасты ушедших и оставшихся клиентов отличаются."
   ]
  },
  {
   "cell_type": "markdown",
   "metadata": {},
   "source": [
    "<div class=\"alert alert-success\">\n",
    "<b>👍 Успех:</b> Гипотезы сформулированы и проверены!\n",
    "</div>"
   ]
  },
  {
   "cell_type": "markdown",
   "metadata": {},
   "source": [
    "#### Промежуточные выводы"
   ]
  },
  {
   "cell_type": "markdown",
   "metadata": {},
   "source": [
    "На данном этапе можно выделить следующие параметры, влияющие на отток:\n",
    "* Клиенты с кредитным скорингом от 820 до 910 баллов.\n",
    "* Клиенты с балансом на счету от 700 тыс. до 4 млн руб.\n",
    "* В возрасте от 24 до 35 лет, от 50 до 60 лет.\n",
    "* С заработной платой от 110 тыс. до 210 тыс. руб.\n",
    "* Клиенты мужчины.\n",
    "* С баллом собственности от 3 и выше.\n",
    "* Клиенты, пользующиеся 3 и более продуктами.\n",
    "* Клиенты без кредитной карты.\n",
    "* Активные клиенты.\n",
    "\n",
    "В ходе проверки гипотез есть основания предположить, что есть зависимость между оттоком клиентов и их доходом и возрастом."
   ]
  },
  {
   "cell_type": "markdown",
   "metadata": {},
   "source": [
    "<div class=\"alert alert-success\">\n",
    "<b>👍 Успех:</b> Все верно!\n",
    "</div>"
   ]
  },
  {
   "cell_type": "markdown",
   "metadata": {},
   "source": [
    "#### Сегментация на основе стратегических показателей"
   ]
  },
  {
   "cell_type": "markdown",
   "metadata": {},
   "source": [
    "Выделим 3 высокоотточных сегментов, включающих в себя от 500 до 2000 клиентов. Для отбора сегментов по количественным и категорильным признакам обратимся к промежуточным выводам."
   ]
  },
  {
   "cell_type": "markdown",
   "metadata": {},
   "source": [
    "**Сегмент №1**"
   ]
  },
  {
   "cell_type": "code",
   "execution_count": null,
   "metadata": {},
   "outputs": [],
   "source": [
    "display(df.query('700000 <= balance <= 4000000 & 110000 < est_salary <= 210000').agg({'churn':['mean','count']}))"
   ]
  },
  {
   "cell_type": "markdown",
   "metadata": {},
   "source": [
    "* Клиенты с балансом от 700000 до 4 млн руб.\n",
    "* С заработной платой от 110000 до 210000 руб.\n",
    "* Уровень оттока: 39%\n",
    "* Количество клиентов: 1301"
   ]
  },
  {
   "cell_type": "markdown",
   "metadata": {},
   "source": [
    "<div class=\"alert alert-success\">\n",
    "<b>👍 Успех:</b> Все верно!\n",
    "</div>"
   ]
  },
  {
   "cell_type": "markdown",
   "metadata": {},
   "source": [
    "**Сегмент №2**"
   ]
  },
  {
   "cell_type": "code",
   "execution_count": null,
   "metadata": {},
   "outputs": [],
   "source": [
    "display(df.query('820 <= score <= 910 & equity >= 3 & 24 <= age <= 35').agg({'churn':['mean','count']}))"
   ]
  },
  {
   "cell_type": "markdown",
   "metadata": {},
   "source": [
    "* Клиенты с кредитным скорингом от 820 до 910 баллов.\n",
    "* С баллами собственности от 3 и выше.\n",
    "* В возрасте от 24 до 35 лет.\n",
    "* Уровень оттока: 37%\n",
    "* Количество клиентов: 999"
   ]
  },
  {
   "cell_type": "markdown",
   "metadata": {},
   "source": [
    "<div class=\"alert alert-success\">\n",
    "<b>👍 Успех:</b> Все верно!\n",
    "</div>"
   ]
  },
  {
   "cell_type": "markdown",
   "metadata": {},
   "source": [
    "**Сегмент №3**"
   ]
  },
  {
   "cell_type": "code",
   "execution_count": null,
   "metadata": {},
   "outputs": [],
   "source": [
    "display(df.query('gender == 1 & credit_card == 0 & last_activity == 1').agg({'churn':['mean','count']}))"
   ]
  },
  {
   "cell_type": "markdown",
   "metadata": {},
   "source": [
    "* Клиенты мужчины.\n",
    "* Не пользующиеся кредитной картой.\n",
    "* Активные в последнее время.\n",
    "* Уровень оттока: 42%\n",
    "* Количество клиентов: 718"
   ]
  },
  {
   "cell_type": "markdown",
   "metadata": {},
   "source": [
    "<div class=\"alert alert-success\">\n",
    "<b>👍 Успех:</b> Все верно!\n",
    "</div>"
   ]
  },
  {
   "cell_type": "markdown",
   "metadata": {},
   "source": [
    "**Вывод**\n",
    "\n",
    "Были выделены 3 высокоотточных сегмента клиентов банка:\n",
    "1. Сегмент №1\n",
    "* Клиенты с балансом от 700000 до 4 млн руб.\n",
    "* С заработной платой от 110000 до 210000 руб.\n",
    "* Уровень оттока: 39%\n",
    "* Количество клиентов: 1301\n",
    "2. Сегмент №2\n",
    "* Клиенты с кредитным скорингом от 820 до 910 баллов.\n",
    "* С баллами собственности от 3 и выше.\n",
    "* В возрасте от 24 до 35 лет.\n",
    "* Уровень оттока: 37%\n",
    "* Количество клиентов: 999\n",
    "3. Сегмент №3\n",
    "* Клиенты мужчины.\n",
    "* Не пользующиеся кредитной картой.\n",
    "* Активные в последнее время.\n",
    "* Уровень оттока: 42%\n",
    "* Количество клиентов: 718\n",
    "\n",
    "Рекомендации для сегментов:\n",
    "1. В первом сегменте представлены клиенты с высокой заработной платой и балансом выше среднего. Таким клиентам можно предложить:\n",
    "* Премиальные сберегательные счета: счета с высокими процентными ставками и бонусами за долгосрочные депозиты.\n",
    "* Страховые продукты: страхование жизни, здоровья, недвижимости и имущества с премиальными условиями.\n",
    "* Премиальные инвестиционные счета: премиальные инвестиционные счета с высокими процентными ставками и разнообразными инвестиционными опциями.\n",
    "* Управление капиталом: услуги профессионального управления капиталом, включая индивидуальные консультации с финансовыми консультантами.\n",
    "2. Во втором сегменте представлены клиенты с высоким кредитным скорингом и с высокими баллами собственности. Таким клиентам можно предложить:\n",
    "* Ипотечные кредиты: привлекательные условия по ипотечным кредитам для покупки недвижимости, с низкими процентными ставками и гибкими условиями погашения.\n",
    "* Персональные кредиты: низкие процентные ставки и гибкие условия для личных кредитов на крупные покупки или инвестиции.\n",
    "* Автокредиты: специальные условия для автокредитования, включая скидки на страховку и обслуживание.\n",
    "* Страхование недвижимости: программы страхования для защиты инвестиций в недвижимость.\n",
    "3. В третьем сегменте представлены мужчины, не пользующиеся кредитной картой, активные пользователи. Таким клиентам можно предложить:\n",
    "* Кредитные карты с низкими процентными ставками: кредитные карты с низкими процентными ставками и без годового обслуживания, чтобы привлечь их к использованию кредитных продуктов.\n",
    "* Карты с бонусными программами: кредитные карты с программами кэшбэка, бонусов и скидок в мужских магазинах одежды, магазинах электронки, барбершопах, магазинах автозапчастей, фитнес-центрах."
   ]
  },
  {
   "cell_type": "markdown",
   "metadata": {},
   "source": [
    "<div class=\"alert alert-success\">\n",
    "<b>👍 Успех:</b> Отличные сегменты и рекомендации!\n",
    "</div>"
   ]
  },
  {
   "cell_type": "markdown",
   "metadata": {},
   "source": [
    "#### Общий вывод"
   ]
  },
  {
   "cell_type": "markdown",
   "metadata": {},
   "source": [
    "Был проанализирован отток клиентов банка \"Метанпром\", выделены наиболее слонные к оттоку сегменты пользователей. Даны рекомендации отделу маркетинга по снижению оттока.\n",
    "\n",
    "1. На этапе предобработки данных столбцы были приведены к стилю snake_case, обработаны пропуски, заменены типы данных, была удалена 1 строка с аномальным значением.\n",
    "\n",
    "2. На этапе исследовательского анализа:\n",
    " \n",
    " 2.1 Составлен общий портрет клиента:\n",
    " * Баллы кредитного скоринга находятся в диапазоне от 642 до 1000. Средний уровень кредитного скоринга - 849 баллов.\n",
    " * Пол представлен примерно поровну.\n",
    " * Средний возраст клиентов - 43 года. Максимальный - 86 лет.\n",
    " * Приблизительная оценка собственности клиента, в среднем, составляет 2.6 баллов. Максимальная - 9 баллов.\n",
    " * Медианный баланс клиентов составляет 524295 руб.\n",
    " * В среднем, клиенты пользуются 1-2 продуктами.\n",
    " * 68% клиентов пользуются кредитными картами.\n",
    " * 52% клиентов были активными в последнее время.\n",
    " * Медианная заработная плата клиентов составляет 119643 руб.\n",
    " * Среднее значение оттока - 18%.\n",
    "\n",
    " 2.2 Составлен портрет отточных клиентов:\n",
    " * Средний балл кредитного скоринга немного выше у отточных клиентов (863 и 845 соответственно).\n",
    " * Среди отточных клиентов больше мужчин (65%), чем у оставшихся (46%).\n",
    " * Медианное значение возраста обоих групп почти равно.\n",
    " * Оценка собственности у отточных клиентов выше.\n",
    " * Медианный баланс у отточных клиентов выше (783908 руб. и 475410 руб. соответственно).\n",
    " * Количество продукто у клиентов обоих групп одинаковое - 2.\n",
    " * Клиенты, попавшие в отток, реже пользуются кредитными картами (55%), чем оставшиеся (70%).\n",
    " * Активность в последнеее время у отточных клиентов выше (70% и 48% соответственно).\n",
    " * Средние заработные платы у клиентов обоих групп почти равны. Медианная заработная плата у отточных клиентов немного выше.\n",
    " \n",
    " 2.3 Получены выводы по распределению количественных данных:\n",
    " * С 820 до 910 баллов кредитного скоринга повышается отток клиентов.\n",
    " * Отток клиентов повышается при балансе на счету от 700 тыс. до 4 млн руб.\n",
    " * При достижении заработной платы в 110 тыс. руб. оток клиентов повышается и продолжается до 210 тыс. руб.\n",
    " * Отток клиентов повышается в двух возрастных диапазонах: с 24 до 35 лет, с 50 до 60 лет.\n",
    "\n",
    " 2.4 Получены выводы по распределению категориальных данных:\n",
    " * Больше всего клиентов из города Ярославль, меньше всего из Ростова. В Ярославле отточных клиентов немного больше, чем оставшихся. Меньше всего отточных клиентов в Рыбинске.\n",
    " * Среди женщин незначительный отток клиентов. Среди клиентов мужчин высокий уровень оттока.\n",
    " * Отток клиентов растет при достижении 3 и выше баллов собственности.\n",
    " * При использовании клиентом 3 и более продуктов отток повышается.\n",
    " * Клиенты, не пользующиеся кредитной картой чаще попадают в отток.\n",
    " * Отток клиентов среди активных пользователей значительно выше, чем среди неактивных. \n",
    " \n",
    " 2.5 Получены выводы по наличию корреляции:\n",
    "  <br>Смотря на взаимосвязь по оттоку клиентов умеренная корреляция заметна со столбцом equity (количество баллов собственности).\n",
    "  <br> Слабая связь заметна со столбцами:\n",
    " * активность в последнее время;\n",
    " * количество используемых продуктов;\n",
    " * кредитный скоринг;\n",
    " * пол;\n",
    " * наличие кредитной карты;\n",
    " * возраст.\n",
    " <br>Почти отсутствует корреляция с оттоком у города, баланса на счету, заработной платы. \n",
    "\n",
    "\n",
    "3. Были проверены статистические гипотезы:\n",
    " * Гипотеза о различии доходов между теми клиентами, которые ушли и теми, которые остались.\n",
    " * Гипотеза о различии в возрасте между теми клиентами, которые ушли и теми, которые остались.\n",
    "\n",
    " В результате проверки двух гипотез были получены следующие выводы:\n",
    " * **Гипотеза 1:** на имеющихся данных, на уровне значимости 5% (уровне доверия 95%) есть основания отвергнуть нулевую гипотезу об отсутствии различий между средними значениями доходов ушедших и оставшихся клиентов в пользу альтернативы. Можно предположить, что средние доходы ушедших и оставшихся клиентов отличаются.    \n",
    " * **Гипотеза 2:** на имеющихся данных, на уровне значимости 5% (уровне доверия 95%) есть основания отвергнуть нулевую гипотезу об отсутствии различий между средними возрастами доходов ушедших и оставшихся клиентов в пользу альтернативы. Можно предположить, что средние возрасты ушедших и оставшихся клиентов отличаются.\n",
    "\n",
    "\n",
    "4. Сегментация клиентов на основе стратегических показателей:\n",
    "\n",
    "Были выделены 3 высокоотточных сегмента клиентов банка:\n",
    "1. Сегмент №1\n",
    "* Клиенты с балансом от 700000 до 4 млн руб.\n",
    "* С заработной платой от 110000 до 210000 руб.\n",
    "* Уровень оттока: 39%\n",
    "* Количество клиентов: 1301\n",
    "2. Сегмент №2\n",
    "* Клиенты с кредитным скорингом от 820 до 910 баллов.\n",
    "* С баллами собственности от 3 и выше.\n",
    "* В возрасте от 24 до 35 лет.\n",
    "* Уровень оттока: 37%\n",
    "* Количество клиентов: 999\n",
    "3. Сегмент №3\n",
    "* Клиенты мужчины.\n",
    "* Не пользующиеся кредитной картой.\n",
    "* Активные в последнее время.\n",
    "* Уровень оттока: 42%\n",
    "* Количество клиентов: 718\n",
    "\n",
    "Рекомендации для сегментов:\n",
    "1. В первом сегменте представлены клиенты с высокой заработной платой и балансом выше среднего. Таким клиентам можно предложить:\n",
    "* Премиальные сберегательные счета: счета с высокими процентными ставками и бонусами за долгосрочные депозиты.\n",
    "* Страховые продукты: страхование жизни, здоровья, недвижимости и имущества с премиальными условиями.\n",
    "* Премиальные инвестиционные счета: премиальные инвестиционные счета с высокими процентными ставками и разнообразными инвестиционными опциями.\n",
    "* Управление капиталом: услуги профессионального управления капиталом, включая индивидуальные консультации с финансовыми консультантами.\n",
    "2. Во втором сегменте представлены клиенты с высоким кредитным скорингом и с высокими баллами собственности. Таким клиентам можно предложить:\n",
    "* Ипотечные кредиты: привлекательные условия по ипотечным кредитам для покупки недвижимости, с низкими процентными ставками и гибкими условиями погашения.\n",
    "* Персональные кредиты: низкие процентные ставки и гибкие условия для личных кредитов на крупные покупки или инвестиции.\n",
    "* Автокредиты: специальные условия для автокредитования, включая скидки на страховку и обслуживание.\n",
    "* Страхование недвижимости: программы страхования для защиты инвестиций в недвижимость.\n",
    "3. В третьем сегменте представлены мужчины, не пользующиеся кредитной картой, активные пользователи. Таким клиентам можно предложить:\n",
    "* Кредитные карты с низкими процентными ставками: кредитные карты с низкими процентными ставками и без годового обслуживания, чтобы привлечь их к использованию кредитных продуктов.\n",
    "* Карты с бонусными программами: кредитные карты с программами кэшбэка, бонусов и скидок в мужских магазинах одежды, магазинах электронки, барбершопах, магазинах автозапчастей, фитнес-центрах."
   ]
  },
  {
   "cell_type": "markdown",
   "metadata": {},
   "source": [
    "<div class=\"alert alert-danger\">\n",
    "    <s><b>😔 Необходимо исправить:</b> Жду презентацию</s>\n",
    "</div>"
   ]
  },
  {
   "cell_type": "markdown",
   "metadata": {},
   "source": [
    "<div class=\"alert alert-success\">\n",
    "<b>👍 Успех:</b> Хорошая работа, молодец! Все данные исследованы, много визуализации, сделаны выводы по всем разделам, достаточное количество рассуждений и комментариев, в презентации соблюден баланс текстовой и графической информации\n",
    "</div>"
   ]
  },
  {
   "cell_type": "code",
   "execution_count": null,
   "metadata": {},
   "outputs": [],
   "source": []
  }
 ],
 "metadata": {
  "ExecuteTimeLog": [
   {
    "duration": 102,
    "start_time": "2024-11-21T11:12:58.650Z"
   },
   {
    "duration": 395,
    "start_time": "2024-11-21T11:27:37.911Z"
   },
   {
    "duration": 171,
    "start_time": "2024-11-21T11:28:36.652Z"
   },
   {
    "duration": 22,
    "start_time": "2024-11-21T11:29:04.362Z"
   },
   {
    "duration": 14,
    "start_time": "2024-11-21T11:30:31.621Z"
   },
   {
    "duration": 5,
    "start_time": "2024-11-21T11:52:19.632Z"
   },
   {
    "duration": 9,
    "start_time": "2024-11-21T11:54:05.848Z"
   },
   {
    "duration": 6,
    "start_time": "2024-11-21T11:54:54.791Z"
   },
   {
    "duration": 9,
    "start_time": "2024-11-21T11:57:40.134Z"
   },
   {
    "duration": 6,
    "start_time": "2024-11-21T12:07:25.678Z"
   },
   {
    "duration": 71,
    "start_time": "2024-11-21T12:08:03.132Z"
   },
   {
    "duration": 61,
    "start_time": "2024-11-21T12:14:19.021Z"
   },
   {
    "duration": 76,
    "start_time": "2024-11-21T12:14:45.615Z"
   },
   {
    "duration": 70,
    "start_time": "2024-11-21T12:16:16.645Z"
   },
   {
    "duration": 15,
    "start_time": "2024-11-21T12:26:01.996Z"
   },
   {
    "duration": 99,
    "start_time": "2024-11-21T12:27:51.476Z"
   },
   {
    "duration": 24,
    "start_time": "2024-11-21T12:27:59.086Z"
   },
   {
    "duration": 23,
    "start_time": "2024-11-21T12:28:24.598Z"
   },
   {
    "duration": 4,
    "start_time": "2024-11-21T12:32:55.095Z"
   },
   {
    "duration": 6,
    "start_time": "2024-11-21T12:33:16.279Z"
   },
   {
    "duration": 12,
    "start_time": "2024-11-21T12:33:42.494Z"
   },
   {
    "duration": 4,
    "start_time": "2024-11-21T12:33:53.830Z"
   },
   {
    "duration": 21,
    "start_time": "2024-11-21T12:34:08.886Z"
   },
   {
    "duration": 6,
    "start_time": "2024-11-21T12:34:54.630Z"
   },
   {
    "duration": 7,
    "start_time": "2024-11-21T12:35:10.053Z"
   },
   {
    "duration": 15,
    "start_time": "2024-11-21T12:35:37.509Z"
   },
   {
    "duration": 15,
    "start_time": "2024-11-21T12:36:19.227Z"
   },
   {
    "duration": 35,
    "start_time": "2024-11-21T12:47:23.068Z"
   },
   {
    "duration": 7,
    "start_time": "2024-11-21T12:48:29.346Z"
   },
   {
    "duration": 50,
    "start_time": "2024-11-21T12:48:42.874Z"
   },
   {
    "duration": 5,
    "start_time": "2024-11-21T13:05:06.469Z"
   },
   {
    "duration": 12,
    "start_time": "2024-11-21T13:05:18.405Z"
   },
   {
    "duration": 10,
    "start_time": "2024-11-21T13:08:05.235Z"
   },
   {
    "duration": 5,
    "start_time": "2024-11-21T13:11:04.528Z"
   },
   {
    "duration": 7,
    "start_time": "2024-11-21T13:13:27.823Z"
   },
   {
    "duration": 16,
    "start_time": "2024-11-21T13:14:35.485Z"
   },
   {
    "duration": 12,
    "start_time": "2024-11-21T13:29:17.722Z"
   },
   {
    "duration": 7,
    "start_time": "2024-11-21T13:29:24.577Z"
   },
   {
    "duration": 5,
    "start_time": "2024-11-21T13:29:49.929Z"
   },
   {
    "duration": 5,
    "start_time": "2024-11-21T13:30:59.385Z"
   },
   {
    "duration": 26,
    "start_time": "2024-11-21T13:31:14.617Z"
   },
   {
    "duration": 16,
    "start_time": "2024-11-21T13:32:34.335Z"
   },
   {
    "duration": 16,
    "start_time": "2024-11-21T13:32:48.040Z"
   },
   {
    "duration": 12,
    "start_time": "2024-11-21T13:33:00.495Z"
   },
   {
    "duration": 35,
    "start_time": "2024-11-21T15:40:44.611Z"
   },
   {
    "duration": 823,
    "start_time": "2024-11-21T15:50:32.323Z"
   },
   {
    "duration": 1126,
    "start_time": "2024-11-21T15:50:36.185Z"
   },
   {
    "duration": 164,
    "start_time": "2024-11-21T15:50:54.985Z"
   },
   {
    "duration": 18,
    "start_time": "2024-11-21T15:51:04.712Z"
   },
   {
    "duration": 178,
    "start_time": "2024-11-21T15:51:51.008Z"
   },
   {
    "duration": 113,
    "start_time": "2024-11-21T16:03:03.831Z"
   },
   {
    "duration": 4,
    "start_time": "2024-11-21T16:04:47.351Z"
   },
   {
    "duration": 128,
    "start_time": "2024-11-21T16:04:51.957Z"
   },
   {
    "duration": 3,
    "start_time": "2024-11-21T16:05:17.661Z"
   },
   {
    "duration": 118,
    "start_time": "2024-11-21T16:05:21.215Z"
   },
   {
    "duration": 118,
    "start_time": "2024-11-21T16:05:24.504Z"
   },
   {
    "duration": 254,
    "start_time": "2024-11-21T16:10:02.502Z"
   },
   {
    "duration": 755,
    "start_time": "2024-11-21T16:15:13.142Z"
   },
   {
    "duration": 622,
    "start_time": "2024-11-21T16:17:08.163Z"
   },
   {
    "duration": 68,
    "start_time": "2024-11-21T16:18:36.781Z"
   },
   {
    "duration": 699,
    "start_time": "2024-11-21T16:19:05.396Z"
   },
   {
    "duration": 641,
    "start_time": "2024-11-21T16:22:07.552Z"
   },
   {
    "duration": 132,
    "start_time": "2024-11-21T16:22:39.783Z"
   },
   {
    "duration": 2,
    "start_time": "2024-11-21T16:23:14.440Z"
   },
   {
    "duration": 47,
    "start_time": "2024-11-21T16:23:14.444Z"
   },
   {
    "duration": 14,
    "start_time": "2024-11-21T16:23:14.492Z"
   },
   {
    "duration": 15,
    "start_time": "2024-11-21T16:23:14.508Z"
   },
   {
    "duration": 4,
    "start_time": "2024-11-21T16:23:14.525Z"
   },
   {
    "duration": 6,
    "start_time": "2024-11-21T16:23:14.531Z"
   },
   {
    "duration": 5,
    "start_time": "2024-11-21T16:23:14.538Z"
   },
   {
    "duration": 20,
    "start_time": "2024-11-21T16:23:14.545Z"
   },
   {
    "duration": 5,
    "start_time": "2024-11-21T16:23:14.567Z"
   },
   {
    "duration": 33,
    "start_time": "2024-11-21T16:23:14.574Z"
   },
   {
    "duration": 36,
    "start_time": "2024-11-21T16:23:14.608Z"
   },
   {
    "duration": 12,
    "start_time": "2024-11-21T16:23:14.665Z"
   },
   {
    "duration": 9,
    "start_time": "2024-11-21T16:23:14.680Z"
   },
   {
    "duration": 4,
    "start_time": "2024-11-21T16:23:14.690Z"
   },
   {
    "duration": 24,
    "start_time": "2024-11-21T16:23:14.696Z"
   },
   {
    "duration": 46,
    "start_time": "2024-11-21T16:23:14.721Z"
   },
   {
    "duration": 11,
    "start_time": "2024-11-21T16:23:14.769Z"
   },
   {
    "duration": 12,
    "start_time": "2024-11-21T16:23:14.782Z"
   },
   {
    "duration": 603,
    "start_time": "2024-11-21T16:23:14.795Z"
   },
   {
    "duration": 726,
    "start_time": "2024-11-21T16:24:57.549Z"
   },
   {
    "duration": 126,
    "start_time": "2024-11-21T16:25:43.924Z"
   },
   {
    "duration": 494,
    "start_time": "2024-11-21T16:26:36.371Z"
   },
   {
    "duration": 490,
    "start_time": "2024-11-21T16:32:08.967Z"
   },
   {
    "duration": 702,
    "start_time": "2024-11-21T16:32:23.766Z"
   },
   {
    "duration": 8,
    "start_time": "2024-11-21T16:47:05.603Z"
   },
   {
    "duration": 7,
    "start_time": "2024-11-21T16:47:58.897Z"
   },
   {
    "duration": 14,
    "start_time": "2024-11-21T16:48:24.353Z"
   },
   {
    "duration": 5,
    "start_time": "2024-11-21T16:59:06.665Z"
   },
   {
    "duration": 5,
    "start_time": "2024-11-21T16:59:30.216Z"
   },
   {
    "duration": 5,
    "start_time": "2024-11-21T16:59:37.920Z"
   },
   {
    "duration": 5,
    "start_time": "2024-11-21T17:00:03.359Z"
   },
   {
    "duration": 5,
    "start_time": "2024-11-21T17:00:26.377Z"
   },
   {
    "duration": 4,
    "start_time": "2024-11-21T17:00:42.928Z"
   },
   {
    "duration": 1256,
    "start_time": "2024-11-25T10:50:24.076Z"
   },
   {
    "duration": 166,
    "start_time": "2024-11-25T10:50:25.334Z"
   },
   {
    "duration": 16,
    "start_time": "2024-11-25T10:50:25.501Z"
   },
   {
    "duration": 16,
    "start_time": "2024-11-25T10:50:25.518Z"
   },
   {
    "duration": 3,
    "start_time": "2024-11-25T10:50:25.536Z"
   },
   {
    "duration": 7,
    "start_time": "2024-11-25T10:50:25.541Z"
   },
   {
    "duration": 15,
    "start_time": "2024-11-25T10:50:25.549Z"
   },
   {
    "duration": 8,
    "start_time": "2024-11-25T10:50:25.566Z"
   },
   {
    "duration": 5,
    "start_time": "2024-11-25T10:50:25.575Z"
   },
   {
    "duration": 38,
    "start_time": "2024-11-25T10:50:25.582Z"
   },
   {
    "duration": 44,
    "start_time": "2024-11-25T10:50:25.621Z"
   },
   {
    "duration": 14,
    "start_time": "2024-11-25T10:50:25.667Z"
   },
   {
    "duration": 19,
    "start_time": "2024-11-25T10:50:25.683Z"
   },
   {
    "duration": 4,
    "start_time": "2024-11-25T10:50:25.703Z"
   },
   {
    "duration": 36,
    "start_time": "2024-11-25T10:50:25.709Z"
   },
   {
    "duration": 14,
    "start_time": "2024-11-25T10:50:25.747Z"
   },
   {
    "duration": 17,
    "start_time": "2024-11-25T10:50:25.763Z"
   },
   {
    "duration": 23,
    "start_time": "2024-11-25T10:50:25.782Z"
   },
   {
    "duration": 427,
    "start_time": "2024-11-25T10:50:25.807Z"
   },
   {
    "duration": 5,
    "start_time": "2024-11-25T10:50:26.236Z"
   },
   {
    "duration": 23,
    "start_time": "2024-11-25T10:50:26.242Z"
   },
   {
    "duration": 4,
    "start_time": "2024-11-25T10:50:26.266Z"
   },
   {
    "duration": 4,
    "start_time": "2024-11-25T10:50:26.272Z"
   },
   {
    "duration": 5,
    "start_time": "2024-11-25T10:50:26.278Z"
   },
   {
    "duration": 5,
    "start_time": "2024-11-25T10:50:26.284Z"
   },
   {
    "duration": 5,
    "start_time": "2024-11-25T10:50:26.290Z"
   },
   {
    "duration": 511,
    "start_time": "2024-11-25T10:53:18.812Z"
   },
   {
    "duration": 33,
    "start_time": "2024-11-25T11:03:34.646Z"
   },
   {
    "duration": 6,
    "start_time": "2024-11-25T11:05:58.420Z"
   },
   {
    "duration": 3,
    "start_time": "2024-11-25T11:06:01.027Z"
   },
   {
    "duration": 35,
    "start_time": "2024-11-25T11:06:03.589Z"
   },
   {
    "duration": 33,
    "start_time": "2024-11-25T11:08:26.233Z"
   },
   {
    "duration": 2,
    "start_time": "2024-11-25T11:13:17.591Z"
   },
   {
    "duration": 30,
    "start_time": "2024-11-25T11:13:21.438Z"
   },
   {
    "duration": 8,
    "start_time": "2024-11-25T11:15:25.765Z"
   },
   {
    "duration": 5,
    "start_time": "2024-11-25T11:31:29.856Z"
   },
   {
    "duration": 5,
    "start_time": "2024-11-25T11:31:34.959Z"
   },
   {
    "duration": 2,
    "start_time": "2024-11-25T11:32:03.257Z"
   },
   {
    "duration": 29,
    "start_time": "2024-11-25T11:32:07.824Z"
   },
   {
    "duration": 66,
    "start_time": "2024-11-25T11:46:03.854Z"
   },
   {
    "duration": 92,
    "start_time": "2024-11-25T11:50:31.424Z"
   },
   {
    "duration": 25,
    "start_time": "2024-11-25T11:50:38.192Z"
   },
   {
    "duration": 25,
    "start_time": "2024-11-25T11:51:16.993Z"
   },
   {
    "duration": 916,
    "start_time": "2024-11-25T12:40:48.001Z"
   },
   {
    "duration": 6265,
    "start_time": "2024-11-25T12:43:15.415Z"
   },
   {
    "duration": 6370,
    "start_time": "2024-11-25T12:44:59.222Z"
   },
   {
    "duration": 6763,
    "start_time": "2024-11-25T12:45:14.444Z"
   },
   {
    "duration": 430,
    "start_time": "2024-11-25T12:46:05.756Z"
   },
   {
    "duration": 2507,
    "start_time": "2024-11-25T12:46:16.613Z"
   },
   {
    "duration": 6769,
    "start_time": "2024-11-25T12:46:25.613Z"
   },
   {
    "duration": 6836,
    "start_time": "2024-11-25T12:48:19.460Z"
   },
   {
    "duration": 1371,
    "start_time": "2024-11-25T12:50:14.187Z"
   },
   {
    "duration": 270,
    "start_time": "2024-11-25T12:52:23.930Z"
   },
   {
    "duration": 1689,
    "start_time": "2024-11-25T12:53:06.944Z"
   },
   {
    "duration": 1367,
    "start_time": "2024-11-25T12:54:10.383Z"
   },
   {
    "duration": 1571,
    "start_time": "2024-11-25T12:55:48.133Z"
   },
   {
    "duration": 1655,
    "start_time": "2024-11-25T12:56:00.261Z"
   },
   {
    "duration": 376,
    "start_time": "2024-11-25T13:50:37.461Z"
   },
   {
    "duration": 68,
    "start_time": "2024-11-25T13:58:01.752Z"
   },
   {
    "duration": 294,
    "start_time": "2024-11-25T13:58:14.320Z"
   },
   {
    "duration": 289,
    "start_time": "2024-11-25T14:00:30.847Z"
   },
   {
    "duration": 293,
    "start_time": "2024-11-25T14:01:26.942Z"
   },
   {
    "duration": 300,
    "start_time": "2024-11-25T14:02:02.926Z"
   },
   {
    "duration": 353,
    "start_time": "2024-11-25T14:02:28.974Z"
   },
   {
    "duration": 303,
    "start_time": "2024-11-25T14:03:14.525Z"
   },
   {
    "duration": 4702,
    "start_time": "2024-11-25T14:15:04.976Z"
   },
   {
    "duration": 4973,
    "start_time": "2024-11-25T14:15:48.458Z"
   },
   {
    "duration": 257,
    "start_time": "2024-11-25T14:16:26.972Z"
   },
   {
    "duration": 736,
    "start_time": "2024-11-25T14:17:16.690Z"
   },
   {
    "duration": 508,
    "start_time": "2024-11-25T14:17:30.021Z"
   },
   {
    "duration": 497,
    "start_time": "2024-11-25T14:17:49.311Z"
   },
   {
    "duration": 401,
    "start_time": "2024-11-25T14:18:26.927Z"
   },
   {
    "duration": 444,
    "start_time": "2024-11-25T14:22:23.442Z"
   },
   {
    "duration": 654,
    "start_time": "2024-11-25T14:24:20.551Z"
   },
   {
    "duration": 11,
    "start_time": "2024-11-25T14:26:06.216Z"
   },
   {
    "duration": 454,
    "start_time": "2024-11-25T14:26:14.520Z"
   },
   {
    "duration": 358,
    "start_time": "2024-11-25T14:26:56.120Z"
   },
   {
    "duration": 369,
    "start_time": "2024-11-25T14:27:12.199Z"
   },
   {
    "duration": 438,
    "start_time": "2024-11-25T14:27:30.503Z"
   },
   {
    "duration": 298,
    "start_time": "2024-11-25T14:37:08.127Z"
   },
   {
    "duration": 8,
    "start_time": "2024-11-25T15:03:45.835Z"
   },
   {
    "duration": 354,
    "start_time": "2024-11-25T15:04:50.426Z"
   },
   {
    "duration": 752,
    "start_time": "2024-11-25T15:25:42.314Z"
   },
   {
    "duration": 668,
    "start_time": "2024-11-25T15:54:34.694Z"
   },
   {
    "duration": 75,
    "start_time": "2024-11-25T15:54:50.452Z"
   },
   {
    "duration": 669,
    "start_time": "2024-11-25T15:55:05.268Z"
   },
   {
    "duration": 958,
    "start_time": "2024-11-25T15:57:10.970Z"
   },
   {
    "duration": 1416,
    "start_time": "2024-11-25T15:57:31.785Z"
   },
   {
    "duration": 119,
    "start_time": "2024-11-25T15:59:33.401Z"
   },
   {
    "duration": 422,
    "start_time": "2024-11-25T16:09:57.165Z"
   },
   {
    "duration": 1382,
    "start_time": "2024-11-25T16:10:08.307Z"
   },
   {
    "duration": 1450,
    "start_time": "2024-11-25T16:14:27.538Z"
   },
   {
    "duration": 1286,
    "start_time": "2024-11-25T16:14:39.707Z"
   },
   {
    "duration": 91,
    "start_time": "2024-11-25T16:15:55.330Z"
   },
   {
    "duration": 121,
    "start_time": "2024-11-25T16:16:02.786Z"
   },
   {
    "duration": 1435,
    "start_time": "2024-11-25T16:16:38.151Z"
   },
   {
    "duration": 1324,
    "start_time": "2024-11-25T16:17:00.770Z"
   },
   {
    "duration": 1873,
    "start_time": "2024-11-25T16:18:18.865Z"
   },
   {
    "duration": 234,
    "start_time": "2024-11-25T16:27:09.466Z"
   },
   {
    "duration": 1667,
    "start_time": "2024-11-25T16:27:34.657Z"
   },
   {
    "duration": 1473,
    "start_time": "2024-11-25T16:30:23.216Z"
   },
   {
    "duration": 1523,
    "start_time": "2024-11-25T16:30:43.790Z"
   },
   {
    "duration": 255,
    "start_time": "2024-11-25T16:34:21.838Z"
   },
   {
    "duration": 386,
    "start_time": "2024-11-25T16:41:55.535Z"
   },
   {
    "duration": 339,
    "start_time": "2024-11-25T16:42:58.480Z"
   },
   {
    "duration": 1366,
    "start_time": "2024-11-25T16:46:33.641Z"
   },
   {
    "duration": 3,
    "start_time": "2024-11-25T16:47:34.689Z"
   },
   {
    "duration": 1496,
    "start_time": "2024-11-25T16:48:22.017Z"
   },
   {
    "duration": 1370,
    "start_time": "2024-11-25T16:48:40.944Z"
   },
   {
    "duration": 1482,
    "start_time": "2024-11-25T16:48:57.813Z"
   },
   {
    "duration": 1301,
    "start_time": "2024-11-25T16:54:24.205Z"
   },
   {
    "duration": 980,
    "start_time": "2024-11-25T16:57:20.035Z"
   },
   {
    "duration": 87,
    "start_time": "2024-11-25T16:59:11.244Z"
   },
   {
    "duration": 1034,
    "start_time": "2024-11-25T16:59:28.970Z"
   },
   {
    "duration": 995,
    "start_time": "2024-11-25T16:59:53.065Z"
   },
   {
    "duration": 974,
    "start_time": "2024-11-25T17:00:25.911Z"
   },
   {
    "duration": 3,
    "start_time": "2024-11-25T17:01:40.857Z"
   },
   {
    "duration": 1335,
    "start_time": "2024-11-25T17:01:49.406Z"
   },
   {
    "duration": 3,
    "start_time": "2024-11-25T17:02:07.784Z"
   },
   {
    "duration": 41,
    "start_time": "2024-11-25T17:02:07.789Z"
   },
   {
    "duration": 10,
    "start_time": "2024-11-25T17:02:07.831Z"
   },
   {
    "duration": 46,
    "start_time": "2024-11-25T17:02:07.842Z"
   },
   {
    "duration": 18,
    "start_time": "2024-11-25T17:02:07.889Z"
   },
   {
    "duration": 9,
    "start_time": "2024-11-25T17:02:07.909Z"
   },
   {
    "duration": 26,
    "start_time": "2024-11-25T17:02:07.919Z"
   },
   {
    "duration": 15,
    "start_time": "2024-11-25T17:02:07.946Z"
   },
   {
    "duration": 11,
    "start_time": "2024-11-25T17:02:07.962Z"
   },
   {
    "duration": 40,
    "start_time": "2024-11-25T17:02:07.975Z"
   },
   {
    "duration": 26,
    "start_time": "2024-11-25T17:02:08.017Z"
   },
   {
    "duration": 15,
    "start_time": "2024-11-25T17:02:08.044Z"
   },
   {
    "duration": 7,
    "start_time": "2024-11-25T17:02:08.061Z"
   },
   {
    "duration": 4,
    "start_time": "2024-11-25T17:02:08.069Z"
   },
   {
    "duration": 30,
    "start_time": "2024-11-25T17:02:08.074Z"
   },
   {
    "duration": 9,
    "start_time": "2024-11-25T17:02:08.105Z"
   },
   {
    "duration": 48,
    "start_time": "2024-11-25T17:02:08.115Z"
   },
   {
    "duration": 42,
    "start_time": "2024-11-25T17:02:08.164Z"
   },
   {
    "duration": 491,
    "start_time": "2024-11-25T17:02:08.207Z"
   },
   {
    "duration": 4,
    "start_time": "2024-11-25T17:02:08.700Z"
   },
   {
    "duration": 16,
    "start_time": "2024-11-25T17:02:08.705Z"
   },
   {
    "duration": 4,
    "start_time": "2024-11-25T17:02:08.723Z"
   },
   {
    "duration": 5,
    "start_time": "2024-11-25T17:02:08.728Z"
   },
   {
    "duration": 26,
    "start_time": "2024-11-25T17:02:08.734Z"
   },
   {
    "duration": 7,
    "start_time": "2024-11-25T17:02:08.762Z"
   },
   {
    "duration": 13,
    "start_time": "2024-11-25T17:02:08.771Z"
   },
   {
    "duration": 11,
    "start_time": "2024-11-25T17:02:08.786Z"
   },
   {
    "duration": 28,
    "start_time": "2024-11-25T17:02:08.798Z"
   },
   {
    "duration": 30,
    "start_time": "2024-11-25T17:02:08.828Z"
   },
   {
    "duration": 293,
    "start_time": "2024-11-25T17:02:08.859Z"
   },
   {
    "duration": 448,
    "start_time": "2024-11-25T17:02:09.153Z"
   },
   {
    "duration": 370,
    "start_time": "2024-11-25T17:02:09.602Z"
   },
   {
    "duration": 386,
    "start_time": "2024-11-25T17:02:09.973Z"
   },
   {
    "duration": 1337,
    "start_time": "2024-11-25T17:02:10.360Z"
   },
   {
    "duration": 915,
    "start_time": "2024-11-25T17:02:11.698Z"
   },
   {
    "duration": 1058,
    "start_time": "2024-11-25T17:03:56.516Z"
   },
   {
    "duration": 1234,
    "start_time": "2024-11-25T17:04:14.850Z"
   },
   {
    "duration": 1349,
    "start_time": "2024-11-25T17:04:49.860Z"
   },
   {
    "duration": 1000,
    "start_time": "2024-11-25T17:05:38.677Z"
   },
   {
    "duration": 1059,
    "start_time": "2024-11-25T17:06:05.556Z"
   },
   {
    "duration": 1020,
    "start_time": "2024-11-25T17:07:37.029Z"
   },
   {
    "duration": 1033,
    "start_time": "2024-11-25T17:09:10.537Z"
   },
   {
    "duration": 2,
    "start_time": "2024-11-25T17:09:30.105Z"
   },
   {
    "duration": 1123,
    "start_time": "2024-11-25T17:09:37.214Z"
   },
   {
    "duration": 1046,
    "start_time": "2024-11-25T17:09:42.466Z"
   },
   {
    "duration": 1303,
    "start_time": "2024-11-25T17:11:15.933Z"
   },
   {
    "duration": 1358,
    "start_time": "2024-11-25T17:13:46.638Z"
   },
   {
    "duration": 5,
    "start_time": "2024-11-25T17:15:58.165Z"
   },
   {
    "duration": 3,
    "start_time": "2024-11-25T17:16:29.129Z"
   },
   {
    "duration": 47,
    "start_time": "2024-11-25T17:16:29.136Z"
   },
   {
    "duration": 9,
    "start_time": "2024-11-25T17:16:29.185Z"
   },
   {
    "duration": 18,
    "start_time": "2024-11-25T17:16:29.195Z"
   },
   {
    "duration": 3,
    "start_time": "2024-11-25T17:16:29.214Z"
   },
   {
    "duration": 8,
    "start_time": "2024-11-25T17:16:29.219Z"
   },
   {
    "duration": 4,
    "start_time": "2024-11-25T17:16:29.228Z"
   },
   {
    "duration": 8,
    "start_time": "2024-11-25T17:16:29.234Z"
   },
   {
    "duration": 7,
    "start_time": "2024-11-25T17:16:29.243Z"
   },
   {
    "duration": 25,
    "start_time": "2024-11-25T17:16:29.257Z"
   },
   {
    "duration": 27,
    "start_time": "2024-11-25T17:16:29.284Z"
   },
   {
    "duration": 10,
    "start_time": "2024-11-25T17:16:29.312Z"
   },
   {
    "duration": 11,
    "start_time": "2024-11-25T17:16:29.324Z"
   },
   {
    "duration": 23,
    "start_time": "2024-11-25T17:16:29.337Z"
   },
   {
    "duration": 17,
    "start_time": "2024-11-25T17:16:29.363Z"
   },
   {
    "duration": 9,
    "start_time": "2024-11-25T17:16:29.382Z"
   },
   {
    "duration": 11,
    "start_time": "2024-11-25T17:16:29.392Z"
   },
   {
    "duration": 33,
    "start_time": "2024-11-25T17:16:29.405Z"
   },
   {
    "duration": 496,
    "start_time": "2024-11-25T17:16:29.440Z"
   },
   {
    "duration": 4,
    "start_time": "2024-11-25T17:16:29.938Z"
   },
   {
    "duration": 21,
    "start_time": "2024-11-25T17:16:29.943Z"
   },
   {
    "duration": 4,
    "start_time": "2024-11-25T17:16:29.965Z"
   },
   {
    "duration": 4,
    "start_time": "2024-11-25T17:16:29.971Z"
   },
   {
    "duration": 6,
    "start_time": "2024-11-25T17:16:29.977Z"
   },
   {
    "duration": 7,
    "start_time": "2024-11-25T17:16:29.984Z"
   },
   {
    "duration": 4,
    "start_time": "2024-11-25T17:16:29.993Z"
   },
   {
    "duration": 7,
    "start_time": "2024-11-25T17:16:29.999Z"
   },
   {
    "duration": 75,
    "start_time": "2024-11-25T17:16:30.008Z"
   },
   {
    "duration": 27,
    "start_time": "2024-11-25T17:16:30.085Z"
   },
   {
    "duration": 308,
    "start_time": "2024-11-25T17:16:30.113Z"
   },
   {
    "duration": 449,
    "start_time": "2024-11-25T17:16:30.423Z"
   },
   {
    "duration": 360,
    "start_time": "2024-11-25T17:16:30.874Z"
   },
   {
    "duration": 372,
    "start_time": "2024-11-25T17:16:31.236Z"
   },
   {
    "duration": 9,
    "start_time": "2024-11-25T17:16:31.610Z"
   },
   {
    "duration": 1491,
    "start_time": "2024-11-25T17:16:31.621Z"
   },
   {
    "duration": 979,
    "start_time": "2024-11-25T17:16:33.113Z"
   },
   {
    "duration": 1358,
    "start_time": "2024-11-26T10:29:27.815Z"
   },
   {
    "duration": 99,
    "start_time": "2024-11-26T10:29:29.175Z"
   },
   {
    "duration": 16,
    "start_time": "2024-11-26T10:29:29.276Z"
   },
   {
    "duration": 14,
    "start_time": "2024-11-26T10:29:29.294Z"
   },
   {
    "duration": 5,
    "start_time": "2024-11-26T10:29:29.310Z"
   },
   {
    "duration": 9,
    "start_time": "2024-11-26T10:29:29.317Z"
   },
   {
    "duration": 7,
    "start_time": "2024-11-26T10:29:29.327Z"
   },
   {
    "duration": 40,
    "start_time": "2024-11-26T10:29:29.335Z"
   },
   {
    "duration": 5,
    "start_time": "2024-11-26T10:29:29.377Z"
   },
   {
    "duration": 32,
    "start_time": "2024-11-26T10:29:29.383Z"
   },
   {
    "duration": 53,
    "start_time": "2024-11-26T10:29:29.417Z"
   },
   {
    "duration": 12,
    "start_time": "2024-11-26T10:29:29.472Z"
   },
   {
    "duration": 25,
    "start_time": "2024-11-26T10:29:29.485Z"
   },
   {
    "duration": 5,
    "start_time": "2024-11-26T10:29:29.512Z"
   },
   {
    "duration": 26,
    "start_time": "2024-11-26T10:29:29.518Z"
   },
   {
    "duration": 16,
    "start_time": "2024-11-26T10:29:29.545Z"
   },
   {
    "duration": 12,
    "start_time": "2024-11-26T10:29:29.570Z"
   },
   {
    "duration": 16,
    "start_time": "2024-11-26T10:29:29.584Z"
   },
   {
    "duration": 481,
    "start_time": "2024-11-26T10:29:29.601Z"
   },
   {
    "duration": 5,
    "start_time": "2024-11-26T10:29:30.083Z"
   },
   {
    "duration": 65,
    "start_time": "2024-11-26T10:29:30.089Z"
   },
   {
    "duration": 10,
    "start_time": "2024-11-26T10:29:30.156Z"
   },
   {
    "duration": 13,
    "start_time": "2024-11-26T10:29:30.167Z"
   },
   {
    "duration": 13,
    "start_time": "2024-11-26T10:29:30.182Z"
   },
   {
    "duration": 15,
    "start_time": "2024-11-26T10:29:30.196Z"
   },
   {
    "duration": 26,
    "start_time": "2024-11-26T10:29:30.213Z"
   },
   {
    "duration": 28,
    "start_time": "2024-11-26T10:29:30.241Z"
   },
   {
    "duration": 38,
    "start_time": "2024-11-26T10:29:30.270Z"
   },
   {
    "duration": 30,
    "start_time": "2024-11-26T10:29:30.309Z"
   },
   {
    "duration": 365,
    "start_time": "2024-11-26T10:29:30.340Z"
   },
   {
    "duration": 618,
    "start_time": "2024-11-26T10:29:30.707Z"
   },
   {
    "duration": 426,
    "start_time": "2024-11-26T10:29:31.327Z"
   },
   {
    "duration": 355,
    "start_time": "2024-11-26T10:29:31.755Z"
   },
   {
    "duration": 9,
    "start_time": "2024-11-26T10:29:32.112Z"
   },
   {
    "duration": 1764,
    "start_time": "2024-11-26T10:29:32.122Z"
   },
   {
    "duration": 1039,
    "start_time": "2024-11-26T10:29:33.888Z"
   },
   {
    "duration": 1035,
    "start_time": "2024-11-26T10:30:51.178Z"
   },
   {
    "duration": 907,
    "start_time": "2024-11-26T10:51:09.816Z"
   },
   {
    "duration": 3,
    "start_time": "2024-11-26T10:51:20.669Z"
   },
   {
    "duration": 75,
    "start_time": "2024-11-26T10:51:20.673Z"
   },
   {
    "duration": 11,
    "start_time": "2024-11-26T10:51:20.750Z"
   },
   {
    "duration": 19,
    "start_time": "2024-11-26T10:51:20.763Z"
   },
   {
    "duration": 8,
    "start_time": "2024-11-26T10:51:20.784Z"
   },
   {
    "duration": 15,
    "start_time": "2024-11-26T10:51:20.793Z"
   },
   {
    "duration": 117,
    "start_time": "2024-11-26T10:51:20.810Z"
   },
   {
    "duration": 97,
    "start_time": "2024-11-26T10:51:20.928Z"
   },
   {
    "duration": 35,
    "start_time": "2024-11-26T10:51:21.027Z"
   },
   {
    "duration": 32,
    "start_time": "2024-11-26T10:51:21.064Z"
   },
   {
    "duration": 33,
    "start_time": "2024-11-26T10:51:21.097Z"
   },
   {
    "duration": 11,
    "start_time": "2024-11-26T10:51:21.132Z"
   },
   {
    "duration": 8,
    "start_time": "2024-11-26T10:51:21.146Z"
   },
   {
    "duration": 4,
    "start_time": "2024-11-26T10:51:21.170Z"
   },
   {
    "duration": 27,
    "start_time": "2024-11-26T10:51:21.175Z"
   },
   {
    "duration": 11,
    "start_time": "2024-11-26T10:51:21.204Z"
   },
   {
    "duration": 10,
    "start_time": "2024-11-26T10:51:21.216Z"
   },
   {
    "duration": 38,
    "start_time": "2024-11-26T10:51:21.228Z"
   },
   {
    "duration": 567,
    "start_time": "2024-11-26T10:51:21.268Z"
   },
   {
    "duration": 5,
    "start_time": "2024-11-26T10:51:21.837Z"
   },
   {
    "duration": 29,
    "start_time": "2024-11-26T10:51:21.843Z"
   },
   {
    "duration": 5,
    "start_time": "2024-11-26T10:51:21.873Z"
   },
   {
    "duration": 7,
    "start_time": "2024-11-26T10:51:21.879Z"
   },
   {
    "duration": 5,
    "start_time": "2024-11-26T10:51:21.887Z"
   },
   {
    "duration": 6,
    "start_time": "2024-11-26T10:51:21.893Z"
   },
   {
    "duration": 9,
    "start_time": "2024-11-26T10:51:21.900Z"
   },
   {
    "duration": 9,
    "start_time": "2024-11-26T10:51:21.910Z"
   },
   {
    "duration": 60,
    "start_time": "2024-11-26T10:51:21.920Z"
   },
   {
    "duration": 29,
    "start_time": "2024-11-26T10:51:21.982Z"
   },
   {
    "duration": 360,
    "start_time": "2024-11-26T10:51:22.013Z"
   },
   {
    "duration": 549,
    "start_time": "2024-11-26T10:51:22.374Z"
   },
   {
    "duration": 434,
    "start_time": "2024-11-26T10:51:22.925Z"
   },
   {
    "duration": 444,
    "start_time": "2024-11-26T10:51:23.360Z"
   },
   {
    "duration": 1615,
    "start_time": "2024-11-26T10:51:23.805Z"
   },
   {
    "duration": 1204,
    "start_time": "2024-11-26T10:51:25.422Z"
   },
   {
    "duration": 848,
    "start_time": "2024-11-26T11:13:15.397Z"
   },
   {
    "duration": 3,
    "start_time": "2024-11-26T11:13:21.914Z"
   },
   {
    "duration": 50,
    "start_time": "2024-11-26T11:13:21.919Z"
   },
   {
    "duration": 12,
    "start_time": "2024-11-26T11:13:21.971Z"
   },
   {
    "duration": 15,
    "start_time": "2024-11-26T11:13:21.985Z"
   },
   {
    "duration": 4,
    "start_time": "2024-11-26T11:13:22.002Z"
   },
   {
    "duration": 13,
    "start_time": "2024-11-26T11:13:22.007Z"
   },
   {
    "duration": 6,
    "start_time": "2024-11-26T11:13:22.021Z"
   },
   {
    "duration": 8,
    "start_time": "2024-11-26T11:13:22.028Z"
   },
   {
    "duration": 33,
    "start_time": "2024-11-26T11:13:22.038Z"
   },
   {
    "duration": 33,
    "start_time": "2024-11-26T11:13:22.073Z"
   },
   {
    "duration": 33,
    "start_time": "2024-11-26T11:13:22.110Z"
   },
   {
    "duration": 37,
    "start_time": "2024-11-26T11:13:22.145Z"
   },
   {
    "duration": 11,
    "start_time": "2024-11-26T11:13:22.184Z"
   },
   {
    "duration": 5,
    "start_time": "2024-11-26T11:13:22.197Z"
   },
   {
    "duration": 22,
    "start_time": "2024-11-26T11:13:22.204Z"
   },
   {
    "duration": 44,
    "start_time": "2024-11-26T11:13:22.227Z"
   },
   {
    "duration": 12,
    "start_time": "2024-11-26T11:13:22.273Z"
   },
   {
    "duration": 12,
    "start_time": "2024-11-26T11:13:22.287Z"
   },
   {
    "duration": 502,
    "start_time": "2024-11-26T11:13:22.301Z"
   },
   {
    "duration": 5,
    "start_time": "2024-11-26T11:13:22.805Z"
   },
   {
    "duration": 23,
    "start_time": "2024-11-26T11:13:22.812Z"
   },
   {
    "duration": 5,
    "start_time": "2024-11-26T11:13:22.837Z"
   },
   {
    "duration": 27,
    "start_time": "2024-11-26T11:13:22.844Z"
   },
   {
    "duration": 4,
    "start_time": "2024-11-26T11:13:22.873Z"
   },
   {
    "duration": 17,
    "start_time": "2024-11-26T11:13:22.878Z"
   },
   {
    "duration": 4,
    "start_time": "2024-11-26T11:13:22.897Z"
   },
   {
    "duration": 11,
    "start_time": "2024-11-26T11:13:22.903Z"
   },
   {
    "duration": 55,
    "start_time": "2024-11-26T11:13:22.915Z"
   },
   {
    "duration": 33,
    "start_time": "2024-11-26T11:13:22.973Z"
   },
   {
    "duration": 399,
    "start_time": "2024-11-26T11:13:23.008Z"
   },
   {
    "duration": 554,
    "start_time": "2024-11-26T11:13:23.408Z"
   },
   {
    "duration": 544,
    "start_time": "2024-11-26T11:13:23.963Z"
   },
   {
    "duration": 333,
    "start_time": "2024-11-26T11:13:24.509Z"
   },
   {
    "duration": 1688,
    "start_time": "2024-11-26T11:13:24.844Z"
   },
   {
    "duration": 1107,
    "start_time": "2024-11-26T11:13:26.533Z"
   },
   {
    "duration": 4,
    "start_time": "2024-11-26T11:14:01.111Z"
   },
   {
    "duration": 55,
    "start_time": "2024-11-26T11:14:01.116Z"
   },
   {
    "duration": 12,
    "start_time": "2024-11-26T11:14:01.173Z"
   },
   {
    "duration": 16,
    "start_time": "2024-11-26T11:14:01.187Z"
   },
   {
    "duration": 14,
    "start_time": "2024-11-26T11:14:01.204Z"
   },
   {
    "duration": 24,
    "start_time": "2024-11-26T11:14:01.220Z"
   },
   {
    "duration": 8,
    "start_time": "2024-11-26T11:14:01.246Z"
   },
   {
    "duration": 15,
    "start_time": "2024-11-26T11:14:01.255Z"
   },
   {
    "duration": 6,
    "start_time": "2024-11-26T11:14:01.272Z"
   },
   {
    "duration": 43,
    "start_time": "2024-11-26T11:14:01.282Z"
   },
   {
    "duration": 45,
    "start_time": "2024-11-26T11:14:01.326Z"
   },
   {
    "duration": 13,
    "start_time": "2024-11-26T11:14:01.373Z"
   },
   {
    "duration": 19,
    "start_time": "2024-11-26T11:14:01.388Z"
   },
   {
    "duration": 4,
    "start_time": "2024-11-26T11:14:01.408Z"
   },
   {
    "duration": 24,
    "start_time": "2024-11-26T11:14:01.414Z"
   },
   {
    "duration": 32,
    "start_time": "2024-11-26T11:14:01.439Z"
   },
   {
    "duration": 21,
    "start_time": "2024-11-26T11:14:01.472Z"
   },
   {
    "duration": 14,
    "start_time": "2024-11-26T11:14:01.495Z"
   },
   {
    "duration": 494,
    "start_time": "2024-11-26T11:14:01.511Z"
   },
   {
    "duration": 7,
    "start_time": "2024-11-26T11:14:02.006Z"
   },
   {
    "duration": 21,
    "start_time": "2024-11-26T11:14:02.015Z"
   },
   {
    "duration": 6,
    "start_time": "2024-11-26T11:14:02.038Z"
   },
   {
    "duration": 10,
    "start_time": "2024-11-26T11:14:02.069Z"
   },
   {
    "duration": 37,
    "start_time": "2024-11-26T11:14:02.081Z"
   },
   {
    "duration": 23,
    "start_time": "2024-11-26T11:14:02.120Z"
   },
   {
    "duration": 6,
    "start_time": "2024-11-26T11:14:02.145Z"
   },
   {
    "duration": 32,
    "start_time": "2024-11-26T11:14:02.153Z"
   },
   {
    "duration": 47,
    "start_time": "2024-11-26T11:14:02.189Z"
   },
   {
    "duration": 29,
    "start_time": "2024-11-26T11:14:02.238Z"
   },
   {
    "duration": 350,
    "start_time": "2024-11-26T11:14:02.269Z"
   },
   {
    "duration": 640,
    "start_time": "2024-11-26T11:14:02.621Z"
   },
   {
    "duration": 433,
    "start_time": "2024-11-26T11:14:03.263Z"
   },
   {
    "duration": 351,
    "start_time": "2024-11-26T11:14:03.699Z"
   },
   {
    "duration": 1771,
    "start_time": "2024-11-26T11:14:04.053Z"
   },
   {
    "duration": 1061,
    "start_time": "2024-11-26T11:14:05.827Z"
   },
   {
    "duration": 3,
    "start_time": "2024-11-26T11:16:02.363Z"
   },
   {
    "duration": 57,
    "start_time": "2024-11-26T11:16:02.368Z"
   },
   {
    "duration": 15,
    "start_time": "2024-11-26T11:16:02.427Z"
   },
   {
    "duration": 32,
    "start_time": "2024-11-26T11:16:02.444Z"
   },
   {
    "duration": 16,
    "start_time": "2024-11-26T11:16:02.478Z"
   },
   {
    "duration": 13,
    "start_time": "2024-11-26T11:16:02.496Z"
   },
   {
    "duration": 10,
    "start_time": "2024-11-26T11:16:02.510Z"
   },
   {
    "duration": 7,
    "start_time": "2024-11-26T11:16:02.522Z"
   },
   {
    "duration": 37,
    "start_time": "2024-11-26T11:16:02.530Z"
   },
   {
    "duration": 44,
    "start_time": "2024-11-26T11:16:02.569Z"
   },
   {
    "duration": 36,
    "start_time": "2024-11-26T11:16:02.615Z"
   },
   {
    "duration": 22,
    "start_time": "2024-11-26T11:16:02.653Z"
   },
   {
    "duration": 9,
    "start_time": "2024-11-26T11:16:02.678Z"
   },
   {
    "duration": 27,
    "start_time": "2024-11-26T11:16:02.689Z"
   },
   {
    "duration": 41,
    "start_time": "2024-11-26T11:16:02.718Z"
   },
   {
    "duration": 44,
    "start_time": "2024-11-26T11:16:02.761Z"
   },
   {
    "duration": 43,
    "start_time": "2024-11-26T11:16:02.807Z"
   },
   {
    "duration": 50,
    "start_time": "2024-11-26T11:16:02.852Z"
   },
   {
    "duration": 514,
    "start_time": "2024-11-26T11:16:02.905Z"
   },
   {
    "duration": 5,
    "start_time": "2024-11-26T11:16:03.422Z"
   },
   {
    "duration": 20,
    "start_time": "2024-11-26T11:16:03.429Z"
   },
   {
    "duration": 20,
    "start_time": "2024-11-26T11:16:03.451Z"
   },
   {
    "duration": 11,
    "start_time": "2024-11-26T11:16:03.479Z"
   },
   {
    "duration": 5,
    "start_time": "2024-11-26T11:16:03.492Z"
   },
   {
    "duration": 17,
    "start_time": "2024-11-26T11:16:03.499Z"
   },
   {
    "duration": 16,
    "start_time": "2024-11-26T11:16:03.518Z"
   },
   {
    "duration": 8,
    "start_time": "2024-11-26T11:16:03.535Z"
   },
   {
    "duration": 45,
    "start_time": "2024-11-26T11:16:03.545Z"
   },
   {
    "duration": 31,
    "start_time": "2024-11-26T11:16:03.592Z"
   },
   {
    "duration": 468,
    "start_time": "2024-11-26T11:16:03.624Z"
   },
   {
    "duration": 561,
    "start_time": "2024-11-26T11:16:04.094Z"
   },
   {
    "duration": 444,
    "start_time": "2024-11-26T11:16:04.656Z"
   },
   {
    "duration": 353,
    "start_time": "2024-11-26T11:16:05.101Z"
   },
   {
    "duration": 1773,
    "start_time": "2024-11-26T11:16:05.456Z"
   },
   {
    "duration": 1064,
    "start_time": "2024-11-26T11:16:07.231Z"
   },
   {
    "duration": 3,
    "start_time": "2024-11-26T11:16:30.851Z"
   },
   {
    "duration": 50,
    "start_time": "2024-11-26T11:16:30.856Z"
   },
   {
    "duration": 11,
    "start_time": "2024-11-26T11:16:30.908Z"
   },
   {
    "duration": 160,
    "start_time": "2024-11-26T11:16:30.921Z"
   },
   {
    "duration": 19,
    "start_time": "2024-11-26T11:16:31.083Z"
   },
   {
    "duration": 21,
    "start_time": "2024-11-26T11:16:31.104Z"
   },
   {
    "duration": 6,
    "start_time": "2024-11-26T11:16:31.127Z"
   },
   {
    "duration": 7,
    "start_time": "2024-11-26T11:16:31.135Z"
   },
   {
    "duration": 6,
    "start_time": "2024-11-26T11:16:31.144Z"
   },
   {
    "duration": 41,
    "start_time": "2024-11-26T11:16:31.153Z"
   },
   {
    "duration": 35,
    "start_time": "2024-11-26T11:16:31.196Z"
   },
   {
    "duration": 13,
    "start_time": "2024-11-26T11:16:31.233Z"
   },
   {
    "duration": 11,
    "start_time": "2024-11-26T11:16:31.269Z"
   },
   {
    "duration": 9,
    "start_time": "2024-11-26T11:16:31.282Z"
   },
   {
    "duration": 42,
    "start_time": "2024-11-26T11:16:31.293Z"
   },
   {
    "duration": 11,
    "start_time": "2024-11-26T11:16:31.337Z"
   },
   {
    "duration": 24,
    "start_time": "2024-11-26T11:16:31.350Z"
   },
   {
    "duration": 22,
    "start_time": "2024-11-26T11:16:31.376Z"
   },
   {
    "duration": 560,
    "start_time": "2024-11-26T11:16:31.399Z"
   },
   {
    "duration": 13,
    "start_time": "2024-11-26T11:16:31.960Z"
   },
   {
    "duration": 26,
    "start_time": "2024-11-26T11:16:31.975Z"
   },
   {
    "duration": 17,
    "start_time": "2024-11-26T11:16:32.003Z"
   },
   {
    "duration": 12,
    "start_time": "2024-11-26T11:16:32.022Z"
   },
   {
    "duration": 4,
    "start_time": "2024-11-26T11:16:32.036Z"
   },
   {
    "duration": 6,
    "start_time": "2024-11-26T11:16:32.041Z"
   },
   {
    "duration": 5,
    "start_time": "2024-11-26T11:16:32.048Z"
   },
   {
    "duration": 23,
    "start_time": "2024-11-26T11:16:32.054Z"
   },
   {
    "duration": 39,
    "start_time": "2024-11-26T11:16:32.080Z"
   },
   {
    "duration": 27,
    "start_time": "2024-11-26T11:16:32.120Z"
   },
   {
    "duration": 342,
    "start_time": "2024-11-26T11:16:32.149Z"
   },
   {
    "duration": 522,
    "start_time": "2024-11-26T11:16:32.493Z"
   },
   {
    "duration": 421,
    "start_time": "2024-11-26T11:16:33.016Z"
   },
   {
    "duration": 344,
    "start_time": "2024-11-26T11:16:33.438Z"
   },
   {
    "duration": 1700,
    "start_time": "2024-11-26T11:16:33.784Z"
   },
   {
    "duration": 1029,
    "start_time": "2024-11-26T11:16:35.485Z"
   },
   {
    "duration": 3,
    "start_time": "2024-11-26T11:16:50.226Z"
   },
   {
    "duration": 44,
    "start_time": "2024-11-26T11:16:50.231Z"
   },
   {
    "duration": 12,
    "start_time": "2024-11-26T11:16:50.276Z"
   },
   {
    "duration": 15,
    "start_time": "2024-11-26T11:16:50.290Z"
   },
   {
    "duration": 4,
    "start_time": "2024-11-26T11:16:50.307Z"
   },
   {
    "duration": 12,
    "start_time": "2024-11-26T11:16:50.313Z"
   },
   {
    "duration": 5,
    "start_time": "2024-11-26T11:16:50.326Z"
   },
   {
    "duration": 13,
    "start_time": "2024-11-26T11:16:50.333Z"
   },
   {
    "duration": 8,
    "start_time": "2024-11-26T11:16:50.371Z"
   },
   {
    "duration": 36,
    "start_time": "2024-11-26T11:16:50.380Z"
   },
   {
    "duration": 33,
    "start_time": "2024-11-26T11:16:50.418Z"
   },
   {
    "duration": 29,
    "start_time": "2024-11-26T11:16:50.452Z"
   },
   {
    "duration": 10,
    "start_time": "2024-11-26T11:16:50.483Z"
   },
   {
    "duration": 15,
    "start_time": "2024-11-26T11:16:50.495Z"
   },
   {
    "duration": 28,
    "start_time": "2024-11-26T11:16:50.512Z"
   },
   {
    "duration": 11,
    "start_time": "2024-11-26T11:16:50.542Z"
   },
   {
    "duration": 12,
    "start_time": "2024-11-26T11:16:50.571Z"
   },
   {
    "duration": 14,
    "start_time": "2024-11-26T11:16:50.585Z"
   },
   {
    "duration": 595,
    "start_time": "2024-11-26T11:16:50.601Z"
   },
   {
    "duration": 5,
    "start_time": "2024-11-26T11:16:51.197Z"
   },
   {
    "duration": 29,
    "start_time": "2024-11-26T11:16:51.204Z"
   },
   {
    "duration": 4,
    "start_time": "2024-11-26T11:16:51.235Z"
   },
   {
    "duration": 7,
    "start_time": "2024-11-26T11:16:51.240Z"
   },
   {
    "duration": 21,
    "start_time": "2024-11-26T11:16:51.249Z"
   },
   {
    "duration": 5,
    "start_time": "2024-11-26T11:16:51.272Z"
   },
   {
    "duration": 14,
    "start_time": "2024-11-26T11:16:51.279Z"
   },
   {
    "duration": 9,
    "start_time": "2024-11-26T11:16:51.295Z"
   },
   {
    "duration": 57,
    "start_time": "2024-11-26T11:16:51.306Z"
   },
   {
    "duration": 47,
    "start_time": "2024-11-26T11:16:51.364Z"
   },
   {
    "duration": 334,
    "start_time": "2024-11-26T11:16:51.413Z"
   },
   {
    "duration": 539,
    "start_time": "2024-11-26T11:16:51.749Z"
   },
   {
    "duration": 429,
    "start_time": "2024-11-26T11:16:52.290Z"
   },
   {
    "duration": 437,
    "start_time": "2024-11-26T11:16:52.721Z"
   },
   {
    "duration": 1577,
    "start_time": "2024-11-26T11:16:53.160Z"
   },
   {
    "duration": 1089,
    "start_time": "2024-11-26T11:16:54.739Z"
   },
   {
    "duration": 3,
    "start_time": "2024-11-26T11:18:20.724Z"
   },
   {
    "duration": 197,
    "start_time": "2024-11-26T11:18:20.729Z"
   },
   {
    "duration": 11,
    "start_time": "2024-11-26T11:18:20.928Z"
   },
   {
    "duration": 142,
    "start_time": "2024-11-26T11:18:20.940Z"
   },
   {
    "duration": 4,
    "start_time": "2024-11-26T11:18:21.085Z"
   },
   {
    "duration": 9,
    "start_time": "2024-11-26T11:18:21.090Z"
   },
   {
    "duration": 30,
    "start_time": "2024-11-26T11:18:21.100Z"
   },
   {
    "duration": 9,
    "start_time": "2024-11-26T11:18:21.132Z"
   },
   {
    "duration": 6,
    "start_time": "2024-11-26T11:18:21.143Z"
   },
   {
    "duration": 33,
    "start_time": "2024-11-26T11:18:21.150Z"
   },
   {
    "duration": 34,
    "start_time": "2024-11-26T11:18:21.184Z"
   },
   {
    "duration": 12,
    "start_time": "2024-11-26T11:18:21.219Z"
   },
   {
    "duration": 16,
    "start_time": "2024-11-26T11:18:21.233Z"
   },
   {
    "duration": 4,
    "start_time": "2024-11-26T11:18:21.272Z"
   },
   {
    "duration": 23,
    "start_time": "2024-11-26T11:18:21.278Z"
   },
   {
    "duration": 11,
    "start_time": "2024-11-26T11:18:21.302Z"
   },
   {
    "duration": 19,
    "start_time": "2024-11-26T11:18:21.314Z"
   },
   {
    "duration": 36,
    "start_time": "2024-11-26T11:18:21.334Z"
   },
   {
    "duration": 478,
    "start_time": "2024-11-26T11:18:21.372Z"
   },
   {
    "duration": 5,
    "start_time": "2024-11-26T11:18:21.851Z"
   },
   {
    "duration": 23,
    "start_time": "2024-11-26T11:18:21.858Z"
   },
   {
    "duration": 4,
    "start_time": "2024-11-26T11:18:21.883Z"
   },
   {
    "duration": 6,
    "start_time": "2024-11-26T11:18:21.889Z"
   },
   {
    "duration": 5,
    "start_time": "2024-11-26T11:18:21.897Z"
   },
   {
    "duration": 22,
    "start_time": "2024-11-26T11:18:21.903Z"
   },
   {
    "duration": 36,
    "start_time": "2024-11-26T11:18:21.926Z"
   },
   {
    "duration": 31,
    "start_time": "2024-11-26T11:18:21.963Z"
   },
   {
    "duration": 37,
    "start_time": "2024-11-26T11:18:21.996Z"
   },
   {
    "duration": 28,
    "start_time": "2024-11-26T11:18:22.035Z"
   },
   {
    "duration": 329,
    "start_time": "2024-11-26T11:18:22.064Z"
   },
   {
    "duration": 530,
    "start_time": "2024-11-26T11:18:22.394Z"
   },
   {
    "duration": 513,
    "start_time": "2024-11-26T11:18:22.926Z"
   },
   {
    "duration": 351,
    "start_time": "2024-11-26T11:18:23.440Z"
   },
   {
    "duration": 1590,
    "start_time": "2024-11-26T11:18:23.793Z"
   },
   {
    "duration": 1185,
    "start_time": "2024-11-26T11:18:25.385Z"
   },
   {
    "duration": 4,
    "start_time": "2024-11-26T11:20:56.564Z"
   },
   {
    "duration": 41,
    "start_time": "2024-11-26T11:20:56.570Z"
   },
   {
    "duration": 12,
    "start_time": "2024-11-26T11:20:56.612Z"
   },
   {
    "duration": 12,
    "start_time": "2024-11-26T11:20:56.625Z"
   },
   {
    "duration": 4,
    "start_time": "2024-11-26T11:20:56.639Z"
   },
   {
    "duration": 27,
    "start_time": "2024-11-26T11:20:56.644Z"
   },
   {
    "duration": 6,
    "start_time": "2024-11-26T11:20:56.672Z"
   },
   {
    "duration": 7,
    "start_time": "2024-11-26T11:20:56.679Z"
   },
   {
    "duration": 7,
    "start_time": "2024-11-26T11:20:56.688Z"
   },
   {
    "duration": 31,
    "start_time": "2024-11-26T11:20:56.698Z"
   },
   {
    "duration": 58,
    "start_time": "2024-11-26T11:20:56.730Z"
   },
   {
    "duration": 11,
    "start_time": "2024-11-26T11:20:56.790Z"
   },
   {
    "duration": 32,
    "start_time": "2024-11-26T11:20:56.803Z"
   },
   {
    "duration": 5,
    "start_time": "2024-11-26T11:20:56.837Z"
   },
   {
    "duration": 21,
    "start_time": "2024-11-26T11:20:56.843Z"
   },
   {
    "duration": 10,
    "start_time": "2024-11-26T11:20:56.871Z"
   },
   {
    "duration": 16,
    "start_time": "2024-11-26T11:20:56.882Z"
   },
   {
    "duration": 10,
    "start_time": "2024-11-26T11:20:56.899Z"
   },
   {
    "duration": 491,
    "start_time": "2024-11-26T11:20:56.911Z"
   },
   {
    "duration": 5,
    "start_time": "2024-11-26T11:20:57.404Z"
   },
   {
    "duration": 15,
    "start_time": "2024-11-26T11:20:57.411Z"
   },
   {
    "duration": 5,
    "start_time": "2024-11-26T11:20:57.427Z"
   },
   {
    "duration": 4,
    "start_time": "2024-11-26T11:20:57.434Z"
   },
   {
    "duration": 32,
    "start_time": "2024-11-26T11:20:57.439Z"
   },
   {
    "duration": 5,
    "start_time": "2024-11-26T11:20:57.473Z"
   },
   {
    "duration": 8,
    "start_time": "2024-11-26T11:20:57.479Z"
   },
   {
    "duration": 7,
    "start_time": "2024-11-26T11:20:57.489Z"
   },
   {
    "duration": 34,
    "start_time": "2024-11-26T11:20:57.499Z"
   },
   {
    "duration": 57,
    "start_time": "2024-11-26T11:20:57.535Z"
   },
   {
    "duration": 344,
    "start_time": "2024-11-26T11:20:57.594Z"
   },
   {
    "duration": 679,
    "start_time": "2024-11-26T11:20:57.939Z"
   },
   {
    "duration": 436,
    "start_time": "2024-11-26T11:20:58.620Z"
   },
   {
    "duration": 333,
    "start_time": "2024-11-26T11:20:59.058Z"
   },
   {
    "duration": 1729,
    "start_time": "2024-11-26T11:20:59.392Z"
   },
   {
    "duration": 1069,
    "start_time": "2024-11-26T11:21:01.123Z"
   },
   {
    "duration": 3,
    "start_time": "2024-11-26T11:21:39.506Z"
   },
   {
    "duration": 40,
    "start_time": "2024-11-26T11:21:39.511Z"
   },
   {
    "duration": 13,
    "start_time": "2024-11-26T11:21:39.553Z"
   },
   {
    "duration": 14,
    "start_time": "2024-11-26T11:21:39.567Z"
   },
   {
    "duration": 4,
    "start_time": "2024-11-26T11:21:39.583Z"
   },
   {
    "duration": 11,
    "start_time": "2024-11-26T11:21:39.589Z"
   },
   {
    "duration": 4,
    "start_time": "2024-11-26T11:21:39.602Z"
   },
   {
    "duration": 8,
    "start_time": "2024-11-26T11:21:39.608Z"
   },
   {
    "duration": 5,
    "start_time": "2024-11-26T11:21:39.618Z"
   },
   {
    "duration": 66,
    "start_time": "2024-11-26T11:21:39.625Z"
   },
   {
    "duration": 34,
    "start_time": "2024-11-26T11:21:39.692Z"
   },
   {
    "duration": 11,
    "start_time": "2024-11-26T11:21:39.728Z"
   },
   {
    "duration": 11,
    "start_time": "2024-11-26T11:21:39.741Z"
   },
   {
    "duration": 4,
    "start_time": "2024-11-26T11:21:39.772Z"
   },
   {
    "duration": 40,
    "start_time": "2024-11-26T11:21:39.778Z"
   },
   {
    "duration": 11,
    "start_time": "2024-11-26T11:21:39.819Z"
   },
   {
    "duration": 14,
    "start_time": "2024-11-26T11:21:39.832Z"
   },
   {
    "duration": 31,
    "start_time": "2024-11-26T11:21:39.847Z"
   },
   {
    "duration": 480,
    "start_time": "2024-11-26T11:21:39.880Z"
   },
   {
    "duration": 8,
    "start_time": "2024-11-26T11:21:40.362Z"
   },
   {
    "duration": 13,
    "start_time": "2024-11-26T11:21:40.372Z"
   },
   {
    "duration": 4,
    "start_time": "2024-11-26T11:21:40.387Z"
   },
   {
    "duration": 17,
    "start_time": "2024-11-26T11:21:40.392Z"
   },
   {
    "duration": 9,
    "start_time": "2024-11-26T11:21:40.410Z"
   },
   {
    "duration": 4,
    "start_time": "2024-11-26T11:21:40.421Z"
   },
   {
    "duration": 6,
    "start_time": "2024-11-26T11:21:40.426Z"
   },
   {
    "duration": 37,
    "start_time": "2024-11-26T11:21:40.433Z"
   },
   {
    "duration": 35,
    "start_time": "2024-11-26T11:21:40.472Z"
   },
   {
    "duration": 29,
    "start_time": "2024-11-26T11:21:40.508Z"
   },
   {
    "duration": 473,
    "start_time": "2024-11-26T11:21:40.539Z"
   },
   {
    "duration": 539,
    "start_time": "2024-11-26T11:21:41.014Z"
   },
   {
    "duration": 423,
    "start_time": "2024-11-26T11:21:41.555Z"
   },
   {
    "duration": 349,
    "start_time": "2024-11-26T11:21:41.979Z"
   },
   {
    "duration": 1817,
    "start_time": "2024-11-26T11:21:42.330Z"
   },
   {
    "duration": 1058,
    "start_time": "2024-11-26T11:21:44.170Z"
   },
   {
    "duration": 999,
    "start_time": "2024-11-26T11:23:51.773Z"
   },
   {
    "duration": 3,
    "start_time": "2024-11-26T11:26:47.298Z"
   },
   {
    "duration": 48,
    "start_time": "2024-11-26T11:26:47.303Z"
   },
   {
    "duration": 12,
    "start_time": "2024-11-26T11:26:47.353Z"
   },
   {
    "duration": 12,
    "start_time": "2024-11-26T11:26:47.366Z"
   },
   {
    "duration": 4,
    "start_time": "2024-11-26T11:26:47.380Z"
   },
   {
    "duration": 6,
    "start_time": "2024-11-26T11:26:47.386Z"
   },
   {
    "duration": 5,
    "start_time": "2024-11-26T11:26:47.394Z"
   },
   {
    "duration": 15,
    "start_time": "2024-11-26T11:26:47.400Z"
   },
   {
    "duration": 28,
    "start_time": "2024-11-26T11:26:47.417Z"
   },
   {
    "duration": 136,
    "start_time": "2024-11-26T11:26:47.447Z"
   },
   {
    "duration": 34,
    "start_time": "2024-11-26T11:26:47.585Z"
   },
   {
    "duration": 12,
    "start_time": "2024-11-26T11:26:47.620Z"
   },
   {
    "duration": 20,
    "start_time": "2024-11-26T11:26:47.633Z"
   },
   {
    "duration": 5,
    "start_time": "2024-11-26T11:26:47.669Z"
   },
   {
    "duration": 22,
    "start_time": "2024-11-26T11:26:47.675Z"
   },
   {
    "duration": 12,
    "start_time": "2024-11-26T11:26:47.699Z"
   },
   {
    "duration": 11,
    "start_time": "2024-11-26T11:26:47.712Z"
   },
   {
    "duration": 17,
    "start_time": "2024-11-26T11:26:47.724Z"
   },
   {
    "duration": 496,
    "start_time": "2024-11-26T11:26:47.770Z"
   },
   {
    "duration": 4,
    "start_time": "2024-11-26T11:26:48.270Z"
   },
   {
    "duration": 14,
    "start_time": "2024-11-26T11:26:48.276Z"
   },
   {
    "duration": 4,
    "start_time": "2024-11-26T11:26:48.292Z"
   },
   {
    "duration": 5,
    "start_time": "2024-11-26T11:26:48.297Z"
   },
   {
    "duration": 4,
    "start_time": "2024-11-26T11:26:48.303Z"
   },
   {
    "duration": 5,
    "start_time": "2024-11-26T11:26:48.308Z"
   },
   {
    "duration": 4,
    "start_time": "2024-11-26T11:26:48.314Z"
   },
   {
    "duration": 8,
    "start_time": "2024-11-26T11:26:48.320Z"
   },
   {
    "duration": 71,
    "start_time": "2024-11-26T11:26:48.330Z"
   },
   {
    "duration": 28,
    "start_time": "2024-11-26T11:26:48.403Z"
   },
   {
    "duration": 348,
    "start_time": "2024-11-26T11:26:48.433Z"
   },
   {
    "duration": 540,
    "start_time": "2024-11-26T11:26:48.783Z"
   },
   {
    "duration": 539,
    "start_time": "2024-11-26T11:26:49.325Z"
   },
   {
    "duration": 320,
    "start_time": "2024-11-26T11:26:49.870Z"
   },
   {
    "duration": 1523,
    "start_time": "2024-11-26T11:26:50.192Z"
   },
   {
    "duration": 1121,
    "start_time": "2024-11-26T11:26:51.717Z"
   },
   {
    "duration": 5,
    "start_time": "2024-11-26T11:28:28.169Z"
   },
   {
    "duration": 50,
    "start_time": "2024-11-26T11:28:28.177Z"
   },
   {
    "duration": 12,
    "start_time": "2024-11-26T11:28:28.229Z"
   },
   {
    "duration": 12,
    "start_time": "2024-11-26T11:28:28.242Z"
   },
   {
    "duration": 4,
    "start_time": "2024-11-26T11:28:28.271Z"
   },
   {
    "duration": 8,
    "start_time": "2024-11-26T11:28:28.277Z"
   },
   {
    "duration": 4,
    "start_time": "2024-11-26T11:28:28.287Z"
   },
   {
    "duration": 6,
    "start_time": "2024-11-26T11:28:28.293Z"
   },
   {
    "duration": 5,
    "start_time": "2024-11-26T11:28:28.302Z"
   },
   {
    "duration": 65,
    "start_time": "2024-11-26T11:28:28.309Z"
   },
   {
    "duration": 34,
    "start_time": "2024-11-26T11:28:28.376Z"
   },
   {
    "duration": 13,
    "start_time": "2024-11-26T11:28:28.411Z"
   },
   {
    "duration": 9,
    "start_time": "2024-11-26T11:28:28.425Z"
   },
   {
    "duration": 3,
    "start_time": "2024-11-26T11:28:28.437Z"
   },
   {
    "duration": 20,
    "start_time": "2024-11-26T11:28:28.470Z"
   },
   {
    "duration": 10,
    "start_time": "2024-11-26T11:28:28.492Z"
   },
   {
    "duration": 20,
    "start_time": "2024-11-26T11:28:28.503Z"
   },
   {
    "duration": 33,
    "start_time": "2024-11-26T11:28:28.525Z"
   },
   {
    "duration": 469,
    "start_time": "2024-11-26T11:28:28.560Z"
   },
   {
    "duration": 5,
    "start_time": "2024-11-26T11:28:29.031Z"
   },
   {
    "duration": 48,
    "start_time": "2024-11-26T11:28:29.037Z"
   },
   {
    "duration": 8,
    "start_time": "2024-11-26T11:28:29.086Z"
   },
   {
    "duration": 4,
    "start_time": "2024-11-26T11:28:29.095Z"
   },
   {
    "duration": 3,
    "start_time": "2024-11-26T11:28:29.101Z"
   },
   {
    "duration": 4,
    "start_time": "2024-11-26T11:28:29.105Z"
   },
   {
    "duration": 4,
    "start_time": "2024-11-26T11:28:29.111Z"
   },
   {
    "duration": 9,
    "start_time": "2024-11-26T11:28:29.116Z"
   },
   {
    "duration": 59,
    "start_time": "2024-11-26T11:28:29.127Z"
   },
   {
    "duration": 28,
    "start_time": "2024-11-26T11:28:29.188Z"
   },
   {
    "duration": 362,
    "start_time": "2024-11-26T11:28:29.217Z"
   },
   {
    "duration": 637,
    "start_time": "2024-11-26T11:28:29.581Z"
   },
   {
    "duration": 452,
    "start_time": "2024-11-26T11:28:30.219Z"
   },
   {
    "duration": 341,
    "start_time": "2024-11-26T11:28:30.673Z"
   },
   {
    "duration": 76,
    "start_time": "2024-11-26T11:28:31.016Z"
   },
   {
    "duration": 0,
    "start_time": "2024-11-26T11:28:31.094Z"
   },
   {
    "duration": 3,
    "start_time": "2024-11-26T11:28:39.860Z"
   },
   {
    "duration": 43,
    "start_time": "2024-11-26T11:28:39.865Z"
   },
   {
    "duration": 13,
    "start_time": "2024-11-26T11:28:39.910Z"
   },
   {
    "duration": 20,
    "start_time": "2024-11-26T11:28:39.924Z"
   },
   {
    "duration": 5,
    "start_time": "2024-11-26T11:28:39.946Z"
   },
   {
    "duration": 15,
    "start_time": "2024-11-26T11:28:39.952Z"
   },
   {
    "duration": 6,
    "start_time": "2024-11-26T11:28:39.970Z"
   },
   {
    "duration": 7,
    "start_time": "2024-11-26T11:28:39.977Z"
   },
   {
    "duration": 29,
    "start_time": "2024-11-26T11:28:39.986Z"
   },
   {
    "duration": 36,
    "start_time": "2024-11-26T11:28:40.018Z"
   },
   {
    "duration": 43,
    "start_time": "2024-11-26T11:28:40.055Z"
   },
   {
    "duration": 13,
    "start_time": "2024-11-26T11:28:40.099Z"
   },
   {
    "duration": 10,
    "start_time": "2024-11-26T11:28:40.114Z"
   },
   {
    "duration": 4,
    "start_time": "2024-11-26T11:28:40.126Z"
   },
   {
    "duration": 48,
    "start_time": "2024-11-26T11:28:40.131Z"
   },
   {
    "duration": 12,
    "start_time": "2024-11-26T11:28:40.180Z"
   },
   {
    "duration": 11,
    "start_time": "2024-11-26T11:28:40.194Z"
   },
   {
    "duration": 11,
    "start_time": "2024-11-26T11:28:40.207Z"
   },
   {
    "duration": 538,
    "start_time": "2024-11-26T11:28:40.219Z"
   },
   {
    "duration": 5,
    "start_time": "2024-11-26T11:28:40.758Z"
   },
   {
    "duration": 14,
    "start_time": "2024-11-26T11:28:40.770Z"
   },
   {
    "duration": 5,
    "start_time": "2024-11-26T11:28:40.785Z"
   },
   {
    "duration": 65,
    "start_time": "2024-11-26T11:28:40.792Z"
   },
   {
    "duration": 4,
    "start_time": "2024-11-26T11:28:40.858Z"
   },
   {
    "duration": 5,
    "start_time": "2024-11-26T11:28:40.864Z"
   },
   {
    "duration": 4,
    "start_time": "2024-11-26T11:28:40.870Z"
   },
   {
    "duration": 7,
    "start_time": "2024-11-26T11:28:40.876Z"
   },
   {
    "duration": 35,
    "start_time": "2024-11-26T11:28:40.887Z"
   },
   {
    "duration": 55,
    "start_time": "2024-11-26T11:28:40.924Z"
   },
   {
    "duration": 445,
    "start_time": "2024-11-26T11:28:40.981Z"
   },
   {
    "duration": 538,
    "start_time": "2024-11-26T11:28:41.428Z"
   },
   {
    "duration": 416,
    "start_time": "2024-11-26T11:28:41.970Z"
   },
   {
    "duration": 341,
    "start_time": "2024-11-26T11:28:42.388Z"
   },
   {
    "duration": 1697,
    "start_time": "2024-11-26T11:28:42.731Z"
   },
   {
    "duration": 1085,
    "start_time": "2024-11-26T11:28:44.430Z"
   },
   {
    "duration": 3,
    "start_time": "2024-11-26T11:29:48.859Z"
   },
   {
    "duration": 54,
    "start_time": "2024-11-26T11:29:48.864Z"
   },
   {
    "duration": 12,
    "start_time": "2024-11-26T11:29:48.919Z"
   },
   {
    "duration": 13,
    "start_time": "2024-11-26T11:29:48.933Z"
   },
   {
    "duration": 5,
    "start_time": "2024-11-26T11:29:48.947Z"
   },
   {
    "duration": 12,
    "start_time": "2024-11-26T11:29:48.953Z"
   },
   {
    "duration": 9,
    "start_time": "2024-11-26T11:29:48.967Z"
   },
   {
    "duration": 130,
    "start_time": "2024-11-26T11:29:48.977Z"
   },
   {
    "duration": 5,
    "start_time": "2024-11-26T11:29:49.111Z"
   },
   {
    "duration": 32,
    "start_time": "2024-11-26T11:29:49.118Z"
   },
   {
    "duration": 31,
    "start_time": "2024-11-26T11:29:49.152Z"
   },
   {
    "duration": 12,
    "start_time": "2024-11-26T11:29:49.185Z"
   },
   {
    "duration": 9,
    "start_time": "2024-11-26T11:29:49.199Z"
   },
   {
    "duration": 4,
    "start_time": "2024-11-26T11:29:49.210Z"
   },
   {
    "duration": 27,
    "start_time": "2024-11-26T11:29:49.216Z"
   },
   {
    "duration": 34,
    "start_time": "2024-11-26T11:29:49.245Z"
   },
   {
    "duration": 14,
    "start_time": "2024-11-26T11:29:49.280Z"
   },
   {
    "duration": 19,
    "start_time": "2024-11-26T11:29:49.295Z"
   },
   {
    "duration": 558,
    "start_time": "2024-11-26T11:29:49.316Z"
   },
   {
    "duration": 4,
    "start_time": "2024-11-26T11:29:49.876Z"
   },
   {
    "duration": 25,
    "start_time": "2024-11-26T11:29:49.882Z"
   },
   {
    "duration": 4,
    "start_time": "2024-11-26T11:29:49.908Z"
   },
   {
    "duration": 4,
    "start_time": "2024-11-26T11:29:49.914Z"
   },
   {
    "duration": 3,
    "start_time": "2024-11-26T11:29:49.921Z"
   },
   {
    "duration": 5,
    "start_time": "2024-11-26T11:29:49.926Z"
   },
   {
    "duration": 10,
    "start_time": "2024-11-26T11:29:49.932Z"
   },
   {
    "duration": 28,
    "start_time": "2024-11-26T11:29:49.943Z"
   },
   {
    "duration": 36,
    "start_time": "2024-11-26T11:29:49.972Z"
   },
   {
    "duration": 32,
    "start_time": "2024-11-26T11:29:50.010Z"
   },
   {
    "duration": 351,
    "start_time": "2024-11-26T11:29:50.043Z"
   },
   {
    "duration": 546,
    "start_time": "2024-11-26T11:29:50.396Z"
   },
   {
    "duration": 421,
    "start_time": "2024-11-26T11:29:50.943Z"
   },
   {
    "duration": 433,
    "start_time": "2024-11-26T11:29:51.366Z"
   },
   {
    "duration": 1413,
    "start_time": "2024-11-26T11:29:51.801Z"
   },
   {
    "duration": 1008,
    "start_time": "2024-11-26T11:29:53.215Z"
   },
   {
    "duration": 4,
    "start_time": "2024-11-26T11:30:06.735Z"
   },
   {
    "duration": 52,
    "start_time": "2024-11-26T11:30:06.741Z"
   },
   {
    "duration": 11,
    "start_time": "2024-11-26T11:30:06.795Z"
   },
   {
    "duration": 85,
    "start_time": "2024-11-26T11:30:06.808Z"
   },
   {
    "duration": 5,
    "start_time": "2024-11-26T11:30:06.895Z"
   },
   {
    "duration": 22,
    "start_time": "2024-11-26T11:30:06.902Z"
   },
   {
    "duration": 16,
    "start_time": "2024-11-26T11:30:06.925Z"
   },
   {
    "duration": 27,
    "start_time": "2024-11-26T11:30:06.942Z"
   },
   {
    "duration": 158,
    "start_time": "2024-11-26T11:30:06.970Z"
   },
   {
    "duration": 48,
    "start_time": "2024-11-26T11:30:07.129Z"
   },
   {
    "duration": 38,
    "start_time": "2024-11-26T11:30:07.179Z"
   },
   {
    "duration": 13,
    "start_time": "2024-11-26T11:30:07.219Z"
   },
   {
    "duration": 35,
    "start_time": "2024-11-26T11:30:07.236Z"
   },
   {
    "duration": 5,
    "start_time": "2024-11-26T11:30:07.273Z"
   },
   {
    "duration": 21,
    "start_time": "2024-11-26T11:30:07.279Z"
   },
   {
    "duration": 19,
    "start_time": "2024-11-26T11:30:07.302Z"
   },
   {
    "duration": 17,
    "start_time": "2024-11-26T11:30:07.323Z"
   },
   {
    "duration": 36,
    "start_time": "2024-11-26T11:30:07.343Z"
   },
   {
    "duration": 592,
    "start_time": "2024-11-26T11:30:07.381Z"
   },
   {
    "duration": 5,
    "start_time": "2024-11-26T11:30:07.974Z"
   },
   {
    "duration": 17,
    "start_time": "2024-11-26T11:30:07.981Z"
   },
   {
    "duration": 6,
    "start_time": "2024-11-26T11:30:08.000Z"
   },
   {
    "duration": 23,
    "start_time": "2024-11-26T11:30:08.008Z"
   },
   {
    "duration": 9,
    "start_time": "2024-11-26T11:30:08.032Z"
   },
   {
    "duration": 6,
    "start_time": "2024-11-26T11:30:08.043Z"
   },
   {
    "duration": 5,
    "start_time": "2024-11-26T11:30:08.071Z"
   },
   {
    "duration": 45,
    "start_time": "2024-11-26T11:30:08.078Z"
   },
   {
    "duration": 57,
    "start_time": "2024-11-26T11:30:08.125Z"
   },
   {
    "duration": 46,
    "start_time": "2024-11-26T11:30:08.185Z"
   },
   {
    "duration": 359,
    "start_time": "2024-11-26T11:30:08.233Z"
   },
   {
    "duration": 543,
    "start_time": "2024-11-26T11:30:08.594Z"
   },
   {
    "duration": 471,
    "start_time": "2024-11-26T11:30:09.138Z"
   },
   {
    "duration": 462,
    "start_time": "2024-11-26T11:30:09.611Z"
   },
   {
    "duration": 1665,
    "start_time": "2024-11-26T11:30:10.075Z"
   },
   {
    "duration": 1169,
    "start_time": "2024-11-26T11:30:11.742Z"
   },
   {
    "duration": 4,
    "start_time": "2024-11-26T11:35:11.943Z"
   },
   {
    "duration": 47,
    "start_time": "2024-11-26T11:35:11.949Z"
   },
   {
    "duration": 12,
    "start_time": "2024-11-26T11:35:11.997Z"
   },
   {
    "duration": 17,
    "start_time": "2024-11-26T11:35:12.011Z"
   },
   {
    "duration": 4,
    "start_time": "2024-11-26T11:35:12.031Z"
   },
   {
    "duration": 17,
    "start_time": "2024-11-26T11:35:12.037Z"
   },
   {
    "duration": 17,
    "start_time": "2024-11-26T11:35:12.056Z"
   },
   {
    "duration": 7,
    "start_time": "2024-11-26T11:35:12.075Z"
   },
   {
    "duration": 19,
    "start_time": "2024-11-26T11:35:12.083Z"
   },
   {
    "duration": 30,
    "start_time": "2024-11-26T11:35:12.103Z"
   },
   {
    "duration": 49,
    "start_time": "2024-11-26T11:35:12.135Z"
   },
   {
    "duration": 12,
    "start_time": "2024-11-26T11:35:12.186Z"
   },
   {
    "duration": 9,
    "start_time": "2024-11-26T11:35:12.201Z"
   },
   {
    "duration": 4,
    "start_time": "2024-11-26T11:35:12.211Z"
   },
   {
    "duration": 22,
    "start_time": "2024-11-26T11:35:12.217Z"
   },
   {
    "duration": 36,
    "start_time": "2024-11-26T11:35:12.240Z"
   },
   {
    "duration": 22,
    "start_time": "2024-11-26T11:35:12.278Z"
   },
   {
    "duration": 18,
    "start_time": "2024-11-26T11:35:12.302Z"
   },
   {
    "duration": 469,
    "start_time": "2024-11-26T11:35:12.322Z"
   },
   {
    "duration": 5,
    "start_time": "2024-11-26T11:35:12.793Z"
   },
   {
    "duration": 16,
    "start_time": "2024-11-26T11:35:12.800Z"
   },
   {
    "duration": 13,
    "start_time": "2024-11-26T11:35:12.817Z"
   },
   {
    "duration": 41,
    "start_time": "2024-11-26T11:35:12.832Z"
   },
   {
    "duration": 5,
    "start_time": "2024-11-26T11:35:12.875Z"
   },
   {
    "duration": 4,
    "start_time": "2024-11-26T11:35:12.882Z"
   },
   {
    "duration": 4,
    "start_time": "2024-11-26T11:35:12.887Z"
   },
   {
    "duration": 18,
    "start_time": "2024-11-26T11:35:12.893Z"
   },
   {
    "duration": 34,
    "start_time": "2024-11-26T11:35:12.912Z"
   },
   {
    "duration": 48,
    "start_time": "2024-11-26T11:35:12.947Z"
   },
   {
    "duration": 349,
    "start_time": "2024-11-26T11:35:12.996Z"
   },
   {
    "duration": 526,
    "start_time": "2024-11-26T11:35:13.347Z"
   },
   {
    "duration": 530,
    "start_time": "2024-11-26T11:35:13.875Z"
   },
   {
    "duration": 332,
    "start_time": "2024-11-26T11:35:14.407Z"
   },
   {
    "duration": 1632,
    "start_time": "2024-11-26T11:35:14.740Z"
   },
   {
    "duration": 1150,
    "start_time": "2024-11-26T11:35:16.374Z"
   },
   {
    "duration": 4,
    "start_time": "2024-11-26T11:36:23.776Z"
   },
   {
    "duration": 39,
    "start_time": "2024-11-26T11:36:23.782Z"
   },
   {
    "duration": 11,
    "start_time": "2024-11-26T11:36:23.823Z"
   },
   {
    "duration": 11,
    "start_time": "2024-11-26T11:36:23.835Z"
   },
   {
    "duration": 4,
    "start_time": "2024-11-26T11:36:23.848Z"
   },
   {
    "duration": 18,
    "start_time": "2024-11-26T11:36:23.853Z"
   },
   {
    "duration": 9,
    "start_time": "2024-11-26T11:36:23.873Z"
   },
   {
    "duration": 8,
    "start_time": "2024-11-26T11:36:23.883Z"
   },
   {
    "duration": 5,
    "start_time": "2024-11-26T11:36:23.893Z"
   },
   {
    "duration": 32,
    "start_time": "2024-11-26T11:36:23.900Z"
   },
   {
    "duration": 61,
    "start_time": "2024-11-26T11:36:23.934Z"
   },
   {
    "duration": 12,
    "start_time": "2024-11-26T11:36:23.996Z"
   },
   {
    "duration": 15,
    "start_time": "2024-11-26T11:36:24.009Z"
   },
   {
    "duration": 9,
    "start_time": "2024-11-26T11:36:24.027Z"
   },
   {
    "duration": 38,
    "start_time": "2024-11-26T11:36:24.038Z"
   },
   {
    "duration": 10,
    "start_time": "2024-11-26T11:36:24.078Z"
   },
   {
    "duration": 15,
    "start_time": "2024-11-26T11:36:24.090Z"
   },
   {
    "duration": 12,
    "start_time": "2024-11-26T11:36:24.107Z"
   },
   {
    "duration": 487,
    "start_time": "2024-11-26T11:36:24.120Z"
   },
   {
    "duration": 5,
    "start_time": "2024-11-26T11:36:24.609Z"
   },
   {
    "duration": 15,
    "start_time": "2024-11-26T11:36:24.616Z"
   },
   {
    "duration": 4,
    "start_time": "2024-11-26T11:36:24.633Z"
   },
   {
    "duration": 5,
    "start_time": "2024-11-26T11:36:24.638Z"
   },
   {
    "duration": 28,
    "start_time": "2024-11-26T11:36:24.645Z"
   },
   {
    "duration": 8,
    "start_time": "2024-11-26T11:36:24.674Z"
   },
   {
    "duration": 10,
    "start_time": "2024-11-26T11:36:24.684Z"
   },
   {
    "duration": 24,
    "start_time": "2024-11-26T11:36:24.695Z"
   },
   {
    "duration": 47,
    "start_time": "2024-11-26T11:36:24.720Z"
   },
   {
    "duration": 28,
    "start_time": "2024-11-26T11:36:24.768Z"
   },
   {
    "duration": 325,
    "start_time": "2024-11-26T11:36:24.798Z"
   },
   {
    "duration": 615,
    "start_time": "2024-11-26T11:36:25.124Z"
   },
   {
    "duration": 416,
    "start_time": "2024-11-26T11:36:25.740Z"
   },
   {
    "duration": 346,
    "start_time": "2024-11-26T11:36:26.157Z"
   },
   {
    "duration": 1671,
    "start_time": "2024-11-26T11:36:26.505Z"
   },
   {
    "duration": 1038,
    "start_time": "2024-11-26T11:36:28.179Z"
   },
   {
    "duration": 32,
    "start_time": "2024-11-26T12:17:58.891Z"
   },
   {
    "duration": 9,
    "start_time": "2024-11-26T12:18:25.273Z"
   },
   {
    "duration": 10,
    "start_time": "2024-11-26T12:18:59.330Z"
   },
   {
    "duration": 74,
    "start_time": "2024-11-26T12:19:23.908Z"
   },
   {
    "duration": 3360,
    "start_time": "2024-11-26T12:19:34.656Z"
   },
   {
    "duration": 60,
    "start_time": "2024-11-26T12:19:42.192Z"
   },
   {
    "duration": 636,
    "start_time": "2024-11-26T12:23:56.749Z"
   },
   {
    "duration": 615,
    "start_time": "2024-11-26T12:33:51.424Z"
   },
   {
    "duration": 35,
    "start_time": "2024-11-26T12:34:28.053Z"
   },
   {
    "duration": 15,
    "start_time": "2024-11-26T12:34:57.994Z"
   },
   {
    "duration": 16,
    "start_time": "2024-11-26T12:37:43.517Z"
   },
   {
    "duration": 2798,
    "start_time": "2024-11-26T12:37:51.600Z"
   },
   {
    "duration": 4,
    "start_time": "2024-11-26T12:37:54.401Z"
   },
   {
    "duration": 50,
    "start_time": "2024-11-26T12:37:54.406Z"
   },
   {
    "duration": 14,
    "start_time": "2024-11-26T12:37:54.458Z"
   },
   {
    "duration": 22,
    "start_time": "2024-11-26T12:37:54.476Z"
   },
   {
    "duration": 6,
    "start_time": "2024-11-26T12:37:54.500Z"
   },
   {
    "duration": 7,
    "start_time": "2024-11-26T12:37:54.507Z"
   },
   {
    "duration": 6,
    "start_time": "2024-11-26T12:37:54.516Z"
   },
   {
    "duration": 8,
    "start_time": "2024-11-26T12:37:54.523Z"
   },
   {
    "duration": 40,
    "start_time": "2024-11-26T12:37:54.534Z"
   },
   {
    "duration": 39,
    "start_time": "2024-11-26T12:37:54.577Z"
   },
   {
    "duration": 33,
    "start_time": "2024-11-26T12:37:54.617Z"
   },
   {
    "duration": 26,
    "start_time": "2024-11-26T12:37:54.670Z"
   },
   {
    "duration": 13,
    "start_time": "2024-11-26T12:37:54.697Z"
   },
   {
    "duration": 5,
    "start_time": "2024-11-26T12:37:54.712Z"
   },
   {
    "duration": 21,
    "start_time": "2024-11-26T12:37:54.718Z"
   },
   {
    "duration": 56,
    "start_time": "2024-11-26T12:37:54.741Z"
   },
   {
    "duration": 11,
    "start_time": "2024-11-26T12:37:54.799Z"
   },
   {
    "duration": 11,
    "start_time": "2024-11-26T12:37:54.811Z"
   },
   {
    "duration": 687,
    "start_time": "2024-11-26T12:37:54.824Z"
   },
   {
    "duration": 5,
    "start_time": "2024-11-26T12:37:55.513Z"
   },
   {
    "duration": 15,
    "start_time": "2024-11-26T12:37:55.519Z"
   },
   {
    "duration": 4,
    "start_time": "2024-11-26T12:37:55.536Z"
   },
   {
    "duration": 28,
    "start_time": "2024-11-26T12:37:55.542Z"
   },
   {
    "duration": 12,
    "start_time": "2024-11-26T12:37:55.573Z"
   },
   {
    "duration": 7,
    "start_time": "2024-11-26T12:37:55.591Z"
   },
   {
    "duration": 7,
    "start_time": "2024-11-26T12:37:55.600Z"
   },
   {
    "duration": 7,
    "start_time": "2024-11-26T12:37:55.610Z"
   },
   {
    "duration": 64,
    "start_time": "2024-11-26T12:37:55.618Z"
   },
   {
    "duration": 37,
    "start_time": "2024-11-26T12:37:55.685Z"
   },
   {
    "duration": 404,
    "start_time": "2024-11-26T12:37:55.724Z"
   },
   {
    "duration": 608,
    "start_time": "2024-11-26T12:37:56.130Z"
   },
   {
    "duration": 498,
    "start_time": "2024-11-26T12:37:56.739Z"
   },
   {
    "duration": 516,
    "start_time": "2024-11-26T12:37:57.238Z"
   },
   {
    "duration": 1799,
    "start_time": "2024-11-26T12:37:57.755Z"
   },
   {
    "duration": 51,
    "start_time": "2024-11-26T12:43:50.703Z"
   },
   {
    "duration": 2777,
    "start_time": "2024-11-26T12:43:59.155Z"
   },
   {
    "duration": 1373,
    "start_time": "2024-11-26T12:44:01.934Z"
   },
   {
    "duration": 101,
    "start_time": "2024-11-26T12:44:03.309Z"
   },
   {
    "duration": 15,
    "start_time": "2024-11-26T12:44:03.412Z"
   },
   {
    "duration": 24,
    "start_time": "2024-11-26T12:44:03.428Z"
   },
   {
    "duration": 26,
    "start_time": "2024-11-26T12:44:03.454Z"
   },
   {
    "duration": 26,
    "start_time": "2024-11-26T12:44:03.482Z"
   },
   {
    "duration": 14,
    "start_time": "2024-11-26T12:44:03.509Z"
   },
   {
    "duration": 26,
    "start_time": "2024-11-26T12:44:03.525Z"
   },
   {
    "duration": 39,
    "start_time": "2024-11-26T12:44:03.553Z"
   },
   {
    "duration": 35,
    "start_time": "2024-11-26T12:44:03.594Z"
   },
   {
    "duration": 33,
    "start_time": "2024-11-26T12:44:03.631Z"
   },
   {
    "duration": 32,
    "start_time": "2024-11-26T12:44:03.666Z"
   },
   {
    "duration": 15,
    "start_time": "2024-11-26T12:44:03.699Z"
   },
   {
    "duration": 5,
    "start_time": "2024-11-26T12:44:03.716Z"
   },
   {
    "duration": 28,
    "start_time": "2024-11-26T12:44:03.723Z"
   },
   {
    "duration": 29,
    "start_time": "2024-11-26T12:44:03.753Z"
   },
   {
    "duration": 11,
    "start_time": "2024-11-26T12:44:03.791Z"
   },
   {
    "duration": 31,
    "start_time": "2024-11-26T12:44:03.803Z"
   },
   {
    "duration": 602,
    "start_time": "2024-11-26T12:44:03.835Z"
   },
   {
    "duration": 5,
    "start_time": "2024-11-26T12:44:04.439Z"
   },
   {
    "duration": 54,
    "start_time": "2024-11-26T12:44:04.445Z"
   },
   {
    "duration": 4,
    "start_time": "2024-11-26T12:44:04.501Z"
   },
   {
    "duration": 22,
    "start_time": "2024-11-26T12:44:04.507Z"
   },
   {
    "duration": 12,
    "start_time": "2024-11-26T12:44:04.531Z"
   },
   {
    "duration": 20,
    "start_time": "2024-11-26T12:44:04.545Z"
   },
   {
    "duration": 12,
    "start_time": "2024-11-26T12:44:04.567Z"
   },
   {
    "duration": 18,
    "start_time": "2024-11-26T12:44:04.585Z"
   },
   {
    "duration": 43,
    "start_time": "2024-11-26T12:44:04.605Z"
   },
   {
    "duration": 31,
    "start_time": "2024-11-26T12:44:04.650Z"
   },
   {
    "duration": 415,
    "start_time": "2024-11-26T12:44:04.683Z"
   },
   {
    "duration": 717,
    "start_time": "2024-11-26T12:44:05.100Z"
   },
   {
    "duration": 509,
    "start_time": "2024-11-26T12:44:05.819Z"
   },
   {
    "duration": 398,
    "start_time": "2024-11-26T12:44:06.329Z"
   },
   {
    "duration": 1908,
    "start_time": "2024-11-26T12:44:06.730Z"
   },
   {
    "duration": 2491,
    "start_time": "2024-11-26T12:44:08.639Z"
   },
   {
    "duration": 2285,
    "start_time": "2024-11-26T12:45:45.140Z"
   },
   {
    "duration": 1977,
    "start_time": "2024-11-26T12:46:24.063Z"
   },
   {
    "duration": 83,
    "start_time": "2024-11-26T12:52:23.962Z"
   },
   {
    "duration": 39838,
    "start_time": "2024-11-26T12:52:30.178Z"
   },
   {
    "duration": 526,
    "start_time": "2024-11-26T12:55:43.228Z"
   },
   {
    "duration": 2838,
    "start_time": "2024-11-26T13:02:53.204Z"
   },
   {
    "duration": 1370,
    "start_time": "2024-11-26T13:02:56.045Z"
   },
   {
    "duration": 100,
    "start_time": "2024-11-26T13:02:57.417Z"
   },
   {
    "duration": 16,
    "start_time": "2024-11-26T13:02:57.519Z"
   },
   {
    "duration": 18,
    "start_time": "2024-11-26T13:02:57.536Z"
   },
   {
    "duration": 22,
    "start_time": "2024-11-26T13:02:57.556Z"
   },
   {
    "duration": 18,
    "start_time": "2024-11-26T13:02:57.580Z"
   },
   {
    "duration": 14,
    "start_time": "2024-11-26T13:02:57.600Z"
   },
   {
    "duration": 33,
    "start_time": "2024-11-26T13:02:57.615Z"
   },
   {
    "duration": 5,
    "start_time": "2024-11-26T13:02:57.651Z"
   },
   {
    "duration": 54,
    "start_time": "2024-11-26T13:02:57.658Z"
   },
   {
    "duration": 34,
    "start_time": "2024-11-26T13:02:57.714Z"
   },
   {
    "duration": 12,
    "start_time": "2024-11-26T13:02:57.750Z"
   },
   {
    "duration": 20,
    "start_time": "2024-11-26T13:02:57.764Z"
   },
   {
    "duration": 8,
    "start_time": "2024-11-26T13:02:57.791Z"
   },
   {
    "duration": 19,
    "start_time": "2024-11-26T13:02:57.801Z"
   },
   {
    "duration": 10,
    "start_time": "2024-11-26T13:02:57.822Z"
   },
   {
    "duration": 46,
    "start_time": "2024-11-26T13:02:57.834Z"
   },
   {
    "duration": 28,
    "start_time": "2024-11-26T13:02:57.887Z"
   },
   {
    "duration": 598,
    "start_time": "2024-11-26T13:02:57.917Z"
   },
   {
    "duration": 5,
    "start_time": "2024-11-26T13:02:58.516Z"
   },
   {
    "duration": 27,
    "start_time": "2024-11-26T13:02:58.523Z"
   },
   {
    "duration": 5,
    "start_time": "2024-11-26T13:02:58.551Z"
   },
   {
    "duration": 34,
    "start_time": "2024-11-26T13:02:58.557Z"
   },
   {
    "duration": 5,
    "start_time": "2024-11-26T13:02:58.594Z"
   },
   {
    "duration": 18,
    "start_time": "2024-11-26T13:02:58.600Z"
   },
   {
    "duration": 7,
    "start_time": "2024-11-26T13:02:58.620Z"
   },
   {
    "duration": 7,
    "start_time": "2024-11-26T13:02:58.630Z"
   },
   {
    "duration": 56,
    "start_time": "2024-11-26T13:02:58.638Z"
   },
   {
    "duration": 30,
    "start_time": "2024-11-26T13:02:58.696Z"
   },
   {
    "duration": 402,
    "start_time": "2024-11-26T13:02:58.727Z"
   },
   {
    "duration": 696,
    "start_time": "2024-11-26T13:02:59.130Z"
   },
   {
    "duration": 530,
    "start_time": "2024-11-26T13:02:59.828Z"
   },
   {
    "duration": 445,
    "start_time": "2024-11-26T13:03:00.359Z"
   },
   {
    "duration": 1851,
    "start_time": "2024-11-26T13:03:00.806Z"
   },
   {
    "duration": 1929,
    "start_time": "2024-11-26T13:03:02.658Z"
   },
   {
    "duration": 126,
    "start_time": "2024-11-26T13:04:12.750Z"
   },
   {
    "duration": 361,
    "start_time": "2024-11-26T13:04:28.291Z"
   },
   {
    "duration": 334,
    "start_time": "2024-11-26T13:07:14.701Z"
   },
   {
    "duration": 424,
    "start_time": "2024-11-26T13:07:24.460Z"
   },
   {
    "duration": 136,
    "start_time": "2024-11-26T13:08:02.195Z"
   },
   {
    "duration": 1884,
    "start_time": "2024-11-26T13:09:00.818Z"
   },
   {
    "duration": 484,
    "start_time": "2024-11-26T13:09:33.258Z"
   },
   {
    "duration": 10,
    "start_time": "2024-11-26T13:10:07.401Z"
   },
   {
    "duration": 14,
    "start_time": "2024-11-26T13:10:21.338Z"
   },
   {
    "duration": 12,
    "start_time": "2024-11-26T13:10:39.025Z"
   },
   {
    "duration": 61,
    "start_time": "2024-11-26T13:11:12.072Z"
   },
   {
    "duration": 353,
    "start_time": "2024-11-26T13:11:17.064Z"
   },
   {
    "duration": 2491,
    "start_time": "2024-11-26T13:17:32.206Z"
   },
   {
    "duration": 1276,
    "start_time": "2024-11-26T13:17:34.699Z"
   },
   {
    "duration": 90,
    "start_time": "2024-11-26T13:17:35.977Z"
   },
   {
    "duration": 16,
    "start_time": "2024-11-26T13:17:36.068Z"
   },
   {
    "duration": 13,
    "start_time": "2024-11-26T13:17:36.086Z"
   },
   {
    "duration": 11,
    "start_time": "2024-11-26T13:17:36.100Z"
   },
   {
    "duration": 41,
    "start_time": "2024-11-26T13:17:36.112Z"
   },
   {
    "duration": 29,
    "start_time": "2024-11-26T13:17:36.155Z"
   },
   {
    "duration": 22,
    "start_time": "2024-11-26T13:17:36.186Z"
   },
   {
    "duration": 18,
    "start_time": "2024-11-26T13:17:36.209Z"
   },
   {
    "duration": 34,
    "start_time": "2024-11-26T13:17:36.229Z"
   },
   {
    "duration": 64,
    "start_time": "2024-11-26T13:17:36.265Z"
   },
   {
    "duration": 13,
    "start_time": "2024-11-26T13:17:36.332Z"
   },
   {
    "duration": 17,
    "start_time": "2024-11-26T13:17:36.349Z"
   },
   {
    "duration": 24,
    "start_time": "2024-11-26T13:17:36.368Z"
   },
   {
    "duration": 29,
    "start_time": "2024-11-26T13:17:36.394Z"
   },
   {
    "duration": 14,
    "start_time": "2024-11-26T13:17:36.425Z"
   },
   {
    "duration": 15,
    "start_time": "2024-11-26T13:17:36.440Z"
   },
   {
    "duration": 14,
    "start_time": "2024-11-26T13:17:36.456Z"
   },
   {
    "duration": 506,
    "start_time": "2024-11-26T13:17:36.472Z"
   },
   {
    "duration": 5,
    "start_time": "2024-11-26T13:17:36.980Z"
   },
   {
    "duration": 28,
    "start_time": "2024-11-26T13:17:36.987Z"
   },
   {
    "duration": 4,
    "start_time": "2024-11-26T13:17:37.017Z"
   },
   {
    "duration": 37,
    "start_time": "2024-11-26T13:17:37.023Z"
   },
   {
    "duration": 24,
    "start_time": "2024-11-26T13:17:37.061Z"
   },
   {
    "duration": 5,
    "start_time": "2024-11-26T13:17:37.087Z"
   },
   {
    "duration": 12,
    "start_time": "2024-11-26T13:17:37.093Z"
   },
   {
    "duration": 18,
    "start_time": "2024-11-26T13:17:37.107Z"
   },
   {
    "duration": 42,
    "start_time": "2024-11-26T13:17:37.127Z"
   },
   {
    "duration": 30,
    "start_time": "2024-11-26T13:17:37.171Z"
   },
   {
    "duration": 370,
    "start_time": "2024-11-26T13:17:37.202Z"
   },
   {
    "duration": 651,
    "start_time": "2024-11-26T13:17:37.574Z"
   },
   {
    "duration": 458,
    "start_time": "2024-11-26T13:17:38.227Z"
   },
   {
    "duration": 362,
    "start_time": "2024-11-26T13:17:38.686Z"
   },
   {
    "duration": 1877,
    "start_time": "2024-11-26T13:17:39.050Z"
   },
   {
    "duration": 1665,
    "start_time": "2024-11-26T13:17:40.930Z"
   },
   {
    "duration": 316,
    "start_time": "2024-11-26T13:17:42.596Z"
   },
   {
    "duration": 105,
    "start_time": "2024-11-26T13:17:42.914Z"
   },
   {
    "duration": 14,
    "start_time": "2024-11-26T13:19:04.698Z"
   },
   {
    "duration": 13,
    "start_time": "2024-11-26T13:19:26.634Z"
   },
   {
    "duration": 13,
    "start_time": "2024-11-26T13:20:30.745Z"
   },
   {
    "duration": 16,
    "start_time": "2024-11-26T13:21:23.516Z"
   },
   {
    "duration": 14,
    "start_time": "2024-11-26T13:21:46.232Z"
   },
   {
    "duration": 13,
    "start_time": "2024-11-26T13:22:16.446Z"
   },
   {
    "duration": 11,
    "start_time": "2024-11-26T13:23:53.646Z"
   },
   {
    "duration": 12,
    "start_time": "2024-11-26T13:24:02.142Z"
   },
   {
    "duration": 2636,
    "start_time": "2024-11-26T13:34:42.856Z"
   },
   {
    "duration": 1336,
    "start_time": "2024-11-26T13:34:45.494Z"
   },
   {
    "duration": 90,
    "start_time": "2024-11-26T13:34:46.831Z"
   },
   {
    "duration": 16,
    "start_time": "2024-11-26T13:34:46.923Z"
   },
   {
    "duration": 13,
    "start_time": "2024-11-26T13:34:46.941Z"
   },
   {
    "duration": 4,
    "start_time": "2024-11-26T13:34:46.955Z"
   },
   {
    "duration": 9,
    "start_time": "2024-11-26T13:34:46.961Z"
   },
   {
    "duration": 8,
    "start_time": "2024-11-26T13:34:46.973Z"
   },
   {
    "duration": 11,
    "start_time": "2024-11-26T13:34:46.984Z"
   },
   {
    "duration": 5,
    "start_time": "2024-11-26T13:34:46.997Z"
   },
   {
    "duration": 34,
    "start_time": "2024-11-26T13:34:47.003Z"
   },
   {
    "duration": 41,
    "start_time": "2024-11-26T13:34:47.072Z"
   },
   {
    "duration": 11,
    "start_time": "2024-11-26T13:34:47.115Z"
   },
   {
    "duration": 12,
    "start_time": "2024-11-26T13:34:47.128Z"
   },
   {
    "duration": 48,
    "start_time": "2024-11-26T13:34:47.141Z"
   },
   {
    "duration": 29,
    "start_time": "2024-11-26T13:34:47.191Z"
   },
   {
    "duration": 10,
    "start_time": "2024-11-26T13:34:47.221Z"
   },
   {
    "duration": 13,
    "start_time": "2024-11-26T13:34:47.232Z"
   },
   {
    "duration": 10,
    "start_time": "2024-11-26T13:34:47.246Z"
   },
   {
    "duration": 553,
    "start_time": "2024-11-26T13:34:47.257Z"
   },
   {
    "duration": 5,
    "start_time": "2024-11-26T13:34:47.812Z"
   },
   {
    "duration": 17,
    "start_time": "2024-11-26T13:34:47.818Z"
   },
   {
    "duration": 4,
    "start_time": "2024-11-26T13:34:47.837Z"
   },
   {
    "duration": 7,
    "start_time": "2024-11-26T13:34:47.842Z"
   },
   {
    "duration": 6,
    "start_time": "2024-11-26T13:34:47.875Z"
   },
   {
    "duration": 13,
    "start_time": "2024-11-26T13:34:47.883Z"
   },
   {
    "duration": 8,
    "start_time": "2024-11-26T13:34:47.898Z"
   },
   {
    "duration": 11,
    "start_time": "2024-11-26T13:34:47.908Z"
   },
   {
    "duration": 47,
    "start_time": "2024-11-26T13:34:47.920Z"
   },
   {
    "duration": 44,
    "start_time": "2024-11-26T13:34:47.977Z"
   },
   {
    "duration": 416,
    "start_time": "2024-11-26T13:34:48.022Z"
   },
   {
    "duration": 651,
    "start_time": "2024-11-26T13:34:48.439Z"
   },
   {
    "duration": 477,
    "start_time": "2024-11-26T13:34:49.093Z"
   },
   {
    "duration": 353,
    "start_time": "2024-11-26T13:34:49.572Z"
   },
   {
    "duration": 1871,
    "start_time": "2024-11-26T13:34:49.927Z"
   },
   {
    "duration": 1742,
    "start_time": "2024-11-26T13:34:51.800Z"
   },
   {
    "duration": 372,
    "start_time": "2024-11-26T13:34:53.544Z"
   },
   {
    "duration": 119,
    "start_time": "2024-11-26T13:36:55.648Z"
   },
   {
    "duration": 368,
    "start_time": "2024-11-26T13:37:25.699Z"
   },
   {
    "duration": 1641,
    "start_time": "2024-11-26T13:39:43.866Z"
   },
   {
    "duration": 1677,
    "start_time": "2024-11-26T13:40:43.179Z"
   },
   {
    "duration": 1870,
    "start_time": "2024-11-26T13:40:56.988Z"
   },
   {
    "duration": 1692,
    "start_time": "2024-11-26T13:41:07.467Z"
   },
   {
    "duration": 393,
    "start_time": "2024-11-26T13:41:32.049Z"
   },
   {
    "duration": 369,
    "start_time": "2024-11-26T13:41:40.065Z"
   },
   {
    "duration": 1842,
    "start_time": "2024-11-26T13:42:06.355Z"
   },
   {
    "duration": 1644,
    "start_time": "2024-11-26T13:42:38.598Z"
   },
   {
    "duration": 369,
    "start_time": "2024-11-26T13:42:57.574Z"
   },
   {
    "duration": 1876,
    "start_time": "2024-11-26T13:43:08.978Z"
   },
   {
    "duration": 5,
    "start_time": "2024-11-26T15:26:26.902Z"
   },
   {
    "duration": 15,
    "start_time": "2024-11-26T15:33:19.038Z"
   },
   {
    "duration": 9,
    "start_time": "2024-11-26T15:33:47.718Z"
   },
   {
    "duration": 11,
    "start_time": "2024-11-26T15:41:07.618Z"
   },
   {
    "duration": 10,
    "start_time": "2024-11-26T15:42:05.777Z"
   },
   {
    "duration": 10,
    "start_time": "2024-11-26T15:44:48.647Z"
   },
   {
    "duration": 12,
    "start_time": "2024-11-26T15:50:11.484Z"
   },
   {
    "duration": 8,
    "start_time": "2024-11-26T15:59:04.572Z"
   },
   {
    "duration": 8,
    "start_time": "2024-11-26T15:59:22.027Z"
   },
   {
    "duration": 3646,
    "start_time": "2024-11-27T10:42:49.807Z"
   },
   {
    "duration": 1490,
    "start_time": "2024-11-27T10:42:53.455Z"
   },
   {
    "duration": 95,
    "start_time": "2024-11-27T10:42:54.946Z"
   },
   {
    "duration": 15,
    "start_time": "2024-11-27T10:42:55.043Z"
   },
   {
    "duration": 23,
    "start_time": "2024-11-27T10:42:55.059Z"
   },
   {
    "duration": 8,
    "start_time": "2024-11-27T10:42:55.083Z"
   },
   {
    "duration": 6,
    "start_time": "2024-11-27T10:42:55.093Z"
   },
   {
    "duration": 6,
    "start_time": "2024-11-27T10:42:55.101Z"
   },
   {
    "duration": 15,
    "start_time": "2024-11-27T10:42:55.108Z"
   },
   {
    "duration": 5,
    "start_time": "2024-11-27T10:42:55.126Z"
   },
   {
    "duration": 44,
    "start_time": "2024-11-27T10:42:55.133Z"
   },
   {
    "duration": 33,
    "start_time": "2024-11-27T10:42:55.179Z"
   },
   {
    "duration": 28,
    "start_time": "2024-11-27T10:42:55.213Z"
   },
   {
    "duration": 67,
    "start_time": "2024-11-27T10:42:55.242Z"
   },
   {
    "duration": 9,
    "start_time": "2024-11-27T10:42:55.310Z"
   },
   {
    "duration": 21,
    "start_time": "2024-11-27T10:42:55.321Z"
   },
   {
    "duration": 10,
    "start_time": "2024-11-27T10:42:55.343Z"
   },
   {
    "duration": 12,
    "start_time": "2024-11-27T10:42:55.355Z"
   },
   {
    "duration": 12,
    "start_time": "2024-11-27T10:42:55.369Z"
   },
   {
    "duration": 500,
    "start_time": "2024-11-27T10:42:55.382Z"
   },
   {
    "duration": 5,
    "start_time": "2024-11-27T10:42:55.884Z"
   },
   {
    "duration": 15,
    "start_time": "2024-11-27T10:42:55.890Z"
   },
   {
    "duration": 5,
    "start_time": "2024-11-27T10:42:55.906Z"
   },
   {
    "duration": 6,
    "start_time": "2024-11-27T10:42:55.912Z"
   },
   {
    "duration": 8,
    "start_time": "2024-11-27T10:42:55.919Z"
   },
   {
    "duration": 5,
    "start_time": "2024-11-27T10:42:55.951Z"
   },
   {
    "duration": 10,
    "start_time": "2024-11-27T10:42:55.958Z"
   },
   {
    "duration": 14,
    "start_time": "2024-11-27T10:42:55.971Z"
   },
   {
    "duration": 38,
    "start_time": "2024-11-27T10:42:55.986Z"
   },
   {
    "duration": 42,
    "start_time": "2024-11-27T10:42:56.025Z"
   },
   {
    "duration": 354,
    "start_time": "2024-11-27T10:42:56.068Z"
   },
   {
    "duration": 632,
    "start_time": "2024-11-27T10:42:56.424Z"
   },
   {
    "duration": 453,
    "start_time": "2024-11-27T10:42:57.058Z"
   },
   {
    "duration": 342,
    "start_time": "2024-11-27T10:42:57.512Z"
   },
   {
    "duration": 1770,
    "start_time": "2024-11-27T10:42:57.855Z"
   },
   {
    "duration": 1687,
    "start_time": "2024-11-27T10:42:59.626Z"
   },
   {
    "duration": 363,
    "start_time": "2024-11-27T10:43:01.314Z"
   },
   {
    "duration": 10,
    "start_time": "2024-11-27T10:43:01.679Z"
   },
   {
    "duration": 90,
    "start_time": "2024-11-27T10:43:01.691Z"
   },
   {
    "duration": 103,
    "start_time": "2024-11-27T10:44:59.878Z"
   },
   {
    "duration": 4,
    "start_time": "2024-11-27T10:45:11.782Z"
   },
   {
    "duration": 10,
    "start_time": "2024-11-27T10:45:16.942Z"
   },
   {
    "duration": 10,
    "start_time": "2024-11-27T10:46:33.820Z"
   },
   {
    "duration": 131,
    "start_time": "2024-11-27T11:08:13.160Z"
   },
   {
    "duration": 11,
    "start_time": "2024-11-27T11:09:08.008Z"
   },
   {
    "duration": 88,
    "start_time": "2024-11-27T11:11:09.903Z"
   },
   {
    "duration": 9,
    "start_time": "2024-11-27T11:11:13.527Z"
   },
   {
    "duration": 130,
    "start_time": "2024-11-27T11:12:31.616Z"
   },
   {
    "duration": 15,
    "start_time": "2024-11-27T11:19:10.708Z"
   },
   {
    "duration": 1150,
    "start_time": "2024-11-27T12:20:43.223Z"
   },
   {
    "duration": 1175,
    "start_time": "2024-11-27T12:25:02.986Z"
   },
   {
    "duration": 2586,
    "start_time": "2024-11-27T12:26:27.208Z"
   },
   {
    "duration": 4,
    "start_time": "2024-11-27T12:26:29.796Z"
   },
   {
    "duration": 49,
    "start_time": "2024-11-27T12:26:29.802Z"
   },
   {
    "duration": 13,
    "start_time": "2024-11-27T12:26:29.853Z"
   },
   {
    "duration": 16,
    "start_time": "2024-11-27T12:26:29.868Z"
   },
   {
    "duration": 4,
    "start_time": "2024-11-27T12:26:29.886Z"
   },
   {
    "duration": 21,
    "start_time": "2024-11-27T12:26:29.891Z"
   },
   {
    "duration": 5,
    "start_time": "2024-11-27T12:26:29.913Z"
   },
   {
    "duration": 6,
    "start_time": "2024-11-27T12:26:29.920Z"
   },
   {
    "duration": 28,
    "start_time": "2024-11-27T12:26:29.927Z"
   },
   {
    "duration": 32,
    "start_time": "2024-11-27T12:26:29.957Z"
   },
   {
    "duration": 33,
    "start_time": "2024-11-27T12:26:29.991Z"
   },
   {
    "duration": 34,
    "start_time": "2024-11-27T12:26:30.025Z"
   },
   {
    "duration": 10,
    "start_time": "2024-11-27T12:26:30.062Z"
   },
   {
    "duration": 7,
    "start_time": "2024-11-27T12:26:30.073Z"
   },
   {
    "duration": 40,
    "start_time": "2024-11-27T12:26:30.081Z"
   },
   {
    "duration": 11,
    "start_time": "2024-11-27T12:26:30.122Z"
   },
   {
    "duration": 56,
    "start_time": "2024-11-27T12:26:30.151Z"
   },
   {
    "duration": 21,
    "start_time": "2024-11-27T12:26:30.208Z"
   },
   {
    "duration": 763,
    "start_time": "2024-11-27T12:26:30.231Z"
   },
   {
    "duration": 6,
    "start_time": "2024-11-27T12:26:30.996Z"
   },
   {
    "duration": 26,
    "start_time": "2024-11-27T12:26:31.003Z"
   },
   {
    "duration": 5,
    "start_time": "2024-11-27T12:26:31.030Z"
   },
   {
    "duration": 17,
    "start_time": "2024-11-27T12:26:31.036Z"
   },
   {
    "duration": 20,
    "start_time": "2024-11-27T12:26:31.055Z"
   },
   {
    "duration": 5,
    "start_time": "2024-11-27T12:26:31.077Z"
   },
   {
    "duration": 35,
    "start_time": "2024-11-27T12:26:31.084Z"
   },
   {
    "duration": 24,
    "start_time": "2024-11-27T12:26:31.121Z"
   },
   {
    "duration": 37,
    "start_time": "2024-11-27T12:26:31.147Z"
   },
   {
    "duration": 32,
    "start_time": "2024-11-27T12:26:31.186Z"
   },
   {
    "duration": 365,
    "start_time": "2024-11-27T12:26:31.220Z"
   },
   {
    "duration": 561,
    "start_time": "2024-11-27T12:26:31.587Z"
   },
   {
    "duration": 449,
    "start_time": "2024-11-27T12:26:32.152Z"
   },
   {
    "duration": 455,
    "start_time": "2024-11-27T12:26:32.603Z"
   },
   {
    "duration": 1699,
    "start_time": "2024-11-27T12:26:33.060Z"
   },
   {
    "duration": 1694,
    "start_time": "2024-11-27T12:26:34.761Z"
   },
   {
    "duration": 341,
    "start_time": "2024-11-27T12:26:36.457Z"
   },
   {
    "duration": 12,
    "start_time": "2024-11-27T12:26:36.800Z"
   },
   {
    "duration": 12,
    "start_time": "2024-11-27T12:26:36.814Z"
   },
   {
    "duration": 28,
    "start_time": "2024-11-27T12:26:36.828Z"
   },
   {
    "duration": 11,
    "start_time": "2024-11-27T12:26:36.860Z"
   },
   {
    "duration": 1459,
    "start_time": "2024-11-27T12:26:36.873Z"
   },
   {
    "duration": 22,
    "start_time": "2024-11-27T12:27:02.840Z"
   },
   {
    "duration": 4,
    "start_time": "2024-11-27T12:27:48.480Z"
   },
   {
    "duration": 148,
    "start_time": "2024-11-27T12:28:25.688Z"
   },
   {
    "duration": 385,
    "start_time": "2024-11-27T13:00:14.682Z"
   },
   {
    "duration": 19,
    "start_time": "2024-11-27T13:06:39.012Z"
   },
   {
    "duration": 15,
    "start_time": "2024-11-27T13:07:09.374Z"
   },
   {
    "duration": 154,
    "start_time": "2024-11-27T13:07:30.347Z"
   },
   {
    "duration": 212,
    "start_time": "2024-11-27T13:09:15.315Z"
   },
   {
    "duration": 256,
    "start_time": "2024-11-27T13:21:50.543Z"
   },
   {
    "duration": 98,
    "start_time": "2024-11-27T13:22:00.416Z"
   },
   {
    "duration": 74,
    "start_time": "2024-11-27T13:54:28.527Z"
   },
   {
    "duration": 199,
    "start_time": "2024-11-27T14:55:42.231Z"
   },
   {
    "duration": 13,
    "start_time": "2024-11-27T15:14:27.509Z"
   },
   {
    "duration": 12,
    "start_time": "2024-11-27T15:15:45.639Z"
   },
   {
    "duration": 25,
    "start_time": "2024-11-27T15:19:54.275Z"
   },
   {
    "duration": 26,
    "start_time": "2024-11-27T15:20:55.317Z"
   },
   {
    "duration": 26,
    "start_time": "2024-11-27T15:25:21.105Z"
   },
   {
    "duration": 26,
    "start_time": "2024-11-27T16:20:42.014Z"
   },
   {
    "duration": 3745,
    "start_time": "2024-11-28T10:36:45.311Z"
   },
   {
    "duration": 1456,
    "start_time": "2024-11-28T10:36:49.058Z"
   },
   {
    "duration": 98,
    "start_time": "2024-11-28T10:36:50.515Z"
   },
   {
    "duration": 16,
    "start_time": "2024-11-28T10:36:50.615Z"
   },
   {
    "duration": 16,
    "start_time": "2024-11-28T10:36:50.633Z"
   },
   {
    "duration": 14,
    "start_time": "2024-11-28T10:36:50.651Z"
   },
   {
    "duration": 7,
    "start_time": "2024-11-28T10:36:50.667Z"
   },
   {
    "duration": 6,
    "start_time": "2024-11-28T10:36:50.676Z"
   },
   {
    "duration": 17,
    "start_time": "2024-11-28T10:36:50.684Z"
   },
   {
    "duration": 6,
    "start_time": "2024-11-28T10:36:50.704Z"
   },
   {
    "duration": 37,
    "start_time": "2024-11-28T10:36:50.711Z"
   },
   {
    "duration": 51,
    "start_time": "2024-11-28T10:36:50.750Z"
   },
   {
    "duration": 13,
    "start_time": "2024-11-28T10:36:50.803Z"
   },
   {
    "duration": 11,
    "start_time": "2024-11-28T10:36:50.817Z"
   },
   {
    "duration": 5,
    "start_time": "2024-11-28T10:36:50.829Z"
   },
   {
    "duration": 31,
    "start_time": "2024-11-28T10:36:50.835Z"
   },
   {
    "duration": 38,
    "start_time": "2024-11-28T10:36:50.868Z"
   },
   {
    "duration": 27,
    "start_time": "2024-11-28T10:36:50.908Z"
   },
   {
    "duration": 34,
    "start_time": "2024-11-28T10:36:50.937Z"
   },
   {
    "duration": 539,
    "start_time": "2024-11-28T10:36:50.973Z"
   },
   {
    "duration": 5,
    "start_time": "2024-11-28T10:36:51.514Z"
   },
   {
    "duration": 55,
    "start_time": "2024-11-28T10:36:51.521Z"
   },
   {
    "duration": 5,
    "start_time": "2024-11-28T10:36:51.578Z"
   },
   {
    "duration": 29,
    "start_time": "2024-11-28T10:36:51.584Z"
   },
   {
    "duration": 12,
    "start_time": "2024-11-28T10:36:51.615Z"
   },
   {
    "duration": 10,
    "start_time": "2024-11-28T10:36:51.628Z"
   },
   {
    "duration": 16,
    "start_time": "2024-11-28T10:36:51.639Z"
   },
   {
    "duration": 25,
    "start_time": "2024-11-28T10:36:51.659Z"
   },
   {
    "duration": 52,
    "start_time": "2024-11-28T10:36:51.685Z"
   },
   {
    "duration": 32,
    "start_time": "2024-11-28T10:36:51.739Z"
   },
   {
    "duration": 392,
    "start_time": "2024-11-28T10:36:51.773Z"
   },
   {
    "duration": 667,
    "start_time": "2024-11-28T10:36:52.167Z"
   },
   {
    "duration": 467,
    "start_time": "2024-11-28T10:36:52.836Z"
   },
   {
    "duration": 376,
    "start_time": "2024-11-28T10:36:53.305Z"
   },
   {
    "duration": 1824,
    "start_time": "2024-11-28T10:36:53.683Z"
   },
   {
    "duration": 1766,
    "start_time": "2024-11-28T10:36:55.508Z"
   },
   {
    "duration": 367,
    "start_time": "2024-11-28T10:36:57.276Z"
   },
   {
    "duration": 10,
    "start_time": "2024-11-28T10:36:57.645Z"
   },
   {
    "duration": 132,
    "start_time": "2024-11-28T10:36:57.657Z"
   },
   {
    "duration": 0,
    "start_time": "2024-11-28T10:36:57.797Z"
   },
   {
    "duration": 0,
    "start_time": "2024-11-28T10:36:57.799Z"
   },
   {
    "duration": 0,
    "start_time": "2024-11-28T10:36:57.800Z"
   },
   {
    "duration": 0,
    "start_time": "2024-11-28T10:36:57.802Z"
   },
   {
    "duration": 13,
    "start_time": "2024-11-28T10:38:05.226Z"
   },
   {
    "duration": 11,
    "start_time": "2024-11-28T10:38:17.825Z"
   },
   {
    "duration": 13,
    "start_time": "2024-11-28T10:38:23.961Z"
   },
   {
    "duration": 13,
    "start_time": "2024-11-28T10:38:35.241Z"
   },
   {
    "duration": 17,
    "start_time": "2024-11-28T10:38:39.489Z"
   },
   {
    "duration": 17,
    "start_time": "2024-11-28T10:42:05.678Z"
   },
   {
    "duration": 17,
    "start_time": "2024-11-28T10:42:13.447Z"
   },
   {
    "duration": 688,
    "start_time": "2024-11-28T10:55:14.596Z"
   },
   {
    "duration": 658,
    "start_time": "2024-11-28T10:55:25.907Z"
   },
   {
    "duration": 13,
    "start_time": "2024-11-28T10:57:09.424Z"
   },
   {
    "duration": 157,
    "start_time": "2024-11-28T10:57:36.953Z"
   },
   {
    "duration": 12,
    "start_time": "2024-11-28T11:00:36.157Z"
   },
   {
    "duration": 12,
    "start_time": "2024-11-28T11:01:43.646Z"
   },
   {
    "duration": 81,
    "start_time": "2024-11-28T11:02:14.573Z"
   },
   {
    "duration": 12,
    "start_time": "2024-11-28T11:03:14.803Z"
   },
   {
    "duration": 11,
    "start_time": "2024-11-28T11:03:24.908Z"
   },
   {
    "duration": 12,
    "start_time": "2024-11-28T11:03:35.037Z"
   },
   {
    "duration": 12,
    "start_time": "2024-11-28T11:06:50.426Z"
   },
   {
    "duration": 11,
    "start_time": "2024-11-28T11:07:17.250Z"
   },
   {
    "duration": 18,
    "start_time": "2024-11-28T11:21:25.469Z"
   },
   {
    "duration": 13,
    "start_time": "2024-11-28T11:22:03.182Z"
   },
   {
    "duration": 12,
    "start_time": "2024-11-28T11:23:27.258Z"
   },
   {
    "duration": 13,
    "start_time": "2024-11-28T11:24:05.171Z"
   },
   {
    "duration": 12,
    "start_time": "2024-11-28T11:26:16.152Z"
   },
   {
    "duration": 69,
    "start_time": "2024-11-28T11:27:32.450Z"
   },
   {
    "duration": 81,
    "start_time": "2024-11-28T11:29:35.647Z"
   },
   {
    "duration": 227,
    "start_time": "2024-11-28T12:04:48.099Z"
   },
   {
    "duration": 1346,
    "start_time": "2024-11-28T12:09:56.991Z"
   },
   {
    "duration": 2103,
    "start_time": "2024-11-28T12:12:58.772Z"
   },
   {
    "duration": 1676,
    "start_time": "2024-11-28T12:13:55.900Z"
   },
   {
    "duration": 2056,
    "start_time": "2024-11-28T12:14:05.326Z"
   },
   {
    "duration": 1313,
    "start_time": "2024-11-28T12:14:26.094Z"
   },
   {
    "duration": 2062,
    "start_time": "2024-11-28T12:14:59.604Z"
   },
   {
    "duration": 1299,
    "start_time": "2024-11-28T12:23:36.311Z"
   },
   {
    "duration": 1520,
    "start_time": "2024-11-28T12:25:30.880Z"
   },
   {
    "duration": 1227,
    "start_time": "2024-11-28T12:28:40.264Z"
   },
   {
    "duration": 442,
    "start_time": "2024-11-28T12:32:39.821Z"
   },
   {
    "duration": 564,
    "start_time": "2024-11-28T12:32:44.205Z"
   },
   {
    "duration": 480,
    "start_time": "2024-11-28T12:32:48.253Z"
   },
   {
    "duration": 373,
    "start_time": "2024-11-28T12:33:18.404Z"
   },
   {
    "duration": 4,
    "start_time": "2024-11-28T12:34:37.572Z"
   },
   {
    "duration": 1336,
    "start_time": "2024-11-28T12:36:08.179Z"
   },
   {
    "duration": 103,
    "start_time": "2024-11-28T13:05:31.908Z"
   },
   {
    "duration": 1409,
    "start_time": "2024-11-28T13:06:01.196Z"
   },
   {
    "duration": 1307,
    "start_time": "2024-11-28T13:06:21.051Z"
   },
   {
    "duration": 104,
    "start_time": "2024-11-28T13:07:04.155Z"
   },
   {
    "duration": 1265,
    "start_time": "2024-11-28T13:07:12.025Z"
   },
   {
    "duration": 1231,
    "start_time": "2024-11-28T13:08:02.898Z"
   },
   {
    "duration": 1288,
    "start_time": "2024-11-28T13:09:52.407Z"
   },
   {
    "duration": 520,
    "start_time": "2024-11-28T13:15:53.411Z"
   },
   {
    "duration": 496,
    "start_time": "2024-11-28T13:22:10.463Z"
   },
   {
    "duration": 609,
    "start_time": "2024-11-28T13:22:22.590Z"
   },
   {
    "duration": 2624,
    "start_time": "2024-11-28T14:07:35.569Z"
   },
   {
    "duration": 5,
    "start_time": "2024-11-28T14:07:38.196Z"
   },
   {
    "duration": 64,
    "start_time": "2024-11-28T14:07:38.202Z"
   },
   {
    "duration": 15,
    "start_time": "2024-11-28T14:07:38.268Z"
   },
   {
    "duration": 26,
    "start_time": "2024-11-28T14:07:38.284Z"
   },
   {
    "duration": 9,
    "start_time": "2024-11-28T14:07:38.312Z"
   },
   {
    "duration": 14,
    "start_time": "2024-11-28T14:07:38.323Z"
   },
   {
    "duration": 10,
    "start_time": "2024-11-28T14:07:38.339Z"
   },
   {
    "duration": 30,
    "start_time": "2024-11-28T14:07:38.351Z"
   },
   {
    "duration": 34,
    "start_time": "2024-11-28T14:07:38.385Z"
   },
   {
    "duration": 74,
    "start_time": "2024-11-28T14:07:38.420Z"
   },
   {
    "duration": 49,
    "start_time": "2024-11-28T14:07:38.496Z"
   },
   {
    "duration": 12,
    "start_time": "2024-11-28T14:07:38.546Z"
   },
   {
    "duration": 31,
    "start_time": "2024-11-28T14:07:38.560Z"
   },
   {
    "duration": 25,
    "start_time": "2024-11-28T14:07:38.593Z"
   },
   {
    "duration": 31,
    "start_time": "2024-11-28T14:07:38.619Z"
   },
   {
    "duration": 11,
    "start_time": "2024-11-28T14:07:38.652Z"
   },
   {
    "duration": 16,
    "start_time": "2024-11-28T14:07:38.664Z"
   },
   {
    "duration": 10,
    "start_time": "2024-11-28T14:07:38.682Z"
   },
   {
    "duration": 555,
    "start_time": "2024-11-28T14:07:38.694Z"
   },
   {
    "duration": 7,
    "start_time": "2024-11-28T14:07:39.251Z"
   },
   {
    "duration": 19,
    "start_time": "2024-11-28T14:07:39.260Z"
   },
   {
    "duration": 18,
    "start_time": "2024-11-28T14:07:39.281Z"
   },
   {
    "duration": 5,
    "start_time": "2024-11-28T14:07:39.301Z"
   },
   {
    "duration": 4,
    "start_time": "2024-11-28T14:07:39.308Z"
   },
   {
    "duration": 5,
    "start_time": "2024-11-28T14:07:39.314Z"
   },
   {
    "duration": 12,
    "start_time": "2024-11-28T14:07:39.321Z"
   },
   {
    "duration": 10,
    "start_time": "2024-11-28T14:07:39.338Z"
   },
   {
    "duration": 70,
    "start_time": "2024-11-28T14:07:39.350Z"
   },
   {
    "duration": 33,
    "start_time": "2024-11-28T14:07:39.421Z"
   },
   {
    "duration": 383,
    "start_time": "2024-11-28T14:07:39.456Z"
   },
   {
    "duration": 662,
    "start_time": "2024-11-28T14:07:39.841Z"
   },
   {
    "duration": 444,
    "start_time": "2024-11-28T14:07:40.504Z"
   },
   {
    "duration": 352,
    "start_time": "2024-11-28T14:07:40.950Z"
   },
   {
    "duration": 1224,
    "start_time": "2024-11-28T14:07:41.304Z"
   },
   {
    "duration": 1777,
    "start_time": "2024-11-28T14:07:42.529Z"
   },
   {
    "duration": 337,
    "start_time": "2024-11-28T14:07:44.308Z"
   },
   {
    "duration": 12,
    "start_time": "2024-11-28T14:07:44.647Z"
   },
   {
    "duration": 19,
    "start_time": "2024-11-28T14:07:44.661Z"
   },
   {
    "duration": 26,
    "start_time": "2024-11-28T14:07:44.682Z"
   },
   {
    "duration": 13,
    "start_time": "2024-11-28T14:07:44.710Z"
   },
   {
    "duration": 14,
    "start_time": "2024-11-28T14:07:44.725Z"
   },
   {
    "duration": 13,
    "start_time": "2024-11-28T14:07:44.741Z"
   },
   {
    "duration": 43,
    "start_time": "2024-11-28T14:07:44.756Z"
   },
   {
    "duration": 3593,
    "start_time": "2024-11-29T13:48:43.446Z"
   },
   {
    "duration": 1721,
    "start_time": "2024-11-29T13:48:47.041Z"
   },
   {
    "duration": 165,
    "start_time": "2024-11-29T13:48:48.764Z"
   },
   {
    "duration": 15,
    "start_time": "2024-11-29T13:48:48.931Z"
   },
   {
    "duration": 16,
    "start_time": "2024-11-29T13:48:48.947Z"
   },
   {
    "duration": 4,
    "start_time": "2024-11-29T13:48:48.964Z"
   },
   {
    "duration": 10,
    "start_time": "2024-11-29T13:48:48.969Z"
   },
   {
    "duration": 5,
    "start_time": "2024-11-29T13:48:48.980Z"
   },
   {
    "duration": 9,
    "start_time": "2024-11-29T13:48:49.012Z"
   },
   {
    "duration": 8,
    "start_time": "2024-11-29T13:48:49.023Z"
   },
   {
    "duration": 103,
    "start_time": "2024-11-29T13:48:49.032Z"
   },
   {
    "duration": 90,
    "start_time": "2024-11-29T13:48:49.137Z"
   },
   {
    "duration": 10,
    "start_time": "2024-11-29T13:48:49.228Z"
   },
   {
    "duration": 7,
    "start_time": "2024-11-29T13:48:49.239Z"
   },
   {
    "duration": 66,
    "start_time": "2024-11-29T13:48:49.247Z"
   },
   {
    "duration": 22,
    "start_time": "2024-11-29T13:48:49.314Z"
   },
   {
    "duration": 9,
    "start_time": "2024-11-29T13:48:49.338Z"
   },
   {
    "duration": 68,
    "start_time": "2024-11-29T13:48:49.348Z"
   },
   {
    "duration": 11,
    "start_time": "2024-11-29T13:48:49.417Z"
   },
   {
    "duration": 813,
    "start_time": "2024-11-29T13:48:49.429Z"
   },
   {
    "duration": 5,
    "start_time": "2024-11-29T13:48:50.244Z"
   },
   {
    "duration": 70,
    "start_time": "2024-11-29T13:48:50.251Z"
   },
   {
    "duration": 5,
    "start_time": "2024-11-29T13:48:50.323Z"
   },
   {
    "duration": 4,
    "start_time": "2024-11-29T13:48:50.330Z"
   },
   {
    "duration": 4,
    "start_time": "2024-11-29T13:48:50.335Z"
   },
   {
    "duration": 73,
    "start_time": "2024-11-29T13:48:50.340Z"
   },
   {
    "duration": 4,
    "start_time": "2024-11-29T13:48:50.414Z"
   },
   {
    "duration": 15,
    "start_time": "2024-11-29T13:48:50.421Z"
   },
   {
    "duration": 85,
    "start_time": "2024-11-29T13:48:50.437Z"
   },
   {
    "duration": 28,
    "start_time": "2024-11-29T13:48:50.524Z"
   },
   {
    "duration": 704,
    "start_time": "2024-11-29T13:48:50.553Z"
   },
   {
    "duration": 917,
    "start_time": "2024-11-29T13:48:51.312Z"
   },
   {
    "duration": 709,
    "start_time": "2024-11-29T13:48:52.230Z"
   },
   {
    "duration": 616,
    "start_time": "2024-11-29T13:48:52.940Z"
   },
   {
    "duration": 2171,
    "start_time": "2024-11-29T13:48:53.558Z"
   },
   {
    "duration": 2698,
    "start_time": "2024-11-29T13:48:55.730Z"
   },
   {
    "duration": 509,
    "start_time": "2024-11-29T13:48:58.430Z"
   },
   {
    "duration": 11,
    "start_time": "2024-11-29T13:48:58.941Z"
   },
   {
    "duration": 12,
    "start_time": "2024-11-29T13:48:59.012Z"
   },
   {
    "duration": 8,
    "start_time": "2024-11-29T13:48:59.025Z"
   },
   {
    "duration": 10,
    "start_time": "2024-11-29T13:48:59.034Z"
   },
   {
    "duration": 74,
    "start_time": "2024-11-29T13:48:59.045Z"
   },
   {
    "duration": 11,
    "start_time": "2024-11-29T13:48:59.121Z"
   },
   {
    "duration": 10,
    "start_time": "2024-11-29T13:48:59.133Z"
   },
   {
    "duration": 3701,
    "start_time": "2024-11-30T11:58:10.196Z"
   },
   {
    "duration": 1452,
    "start_time": "2024-11-30T11:58:13.900Z"
   },
   {
    "duration": 190,
    "start_time": "2024-11-30T11:58:15.355Z"
   },
   {
    "duration": 19,
    "start_time": "2024-11-30T11:58:15.547Z"
   },
   {
    "duration": 35,
    "start_time": "2024-11-30T11:58:15.567Z"
   },
   {
    "duration": 5,
    "start_time": "2024-11-30T11:58:15.603Z"
   },
   {
    "duration": 8,
    "start_time": "2024-11-30T11:58:15.609Z"
   },
   {
    "duration": 5,
    "start_time": "2024-11-30T11:58:15.619Z"
   },
   {
    "duration": 18,
    "start_time": "2024-11-30T11:58:15.625Z"
   },
   {
    "duration": 7,
    "start_time": "2024-11-30T11:58:15.646Z"
   },
   {
    "duration": 58,
    "start_time": "2024-11-30T11:58:15.655Z"
   },
   {
    "duration": 43,
    "start_time": "2024-11-30T11:58:15.715Z"
   },
   {
    "duration": 13,
    "start_time": "2024-11-30T11:58:15.760Z"
   },
   {
    "duration": 10,
    "start_time": "2024-11-30T11:58:15.775Z"
   },
   {
    "duration": 5,
    "start_time": "2024-11-30T11:58:15.787Z"
   },
   {
    "duration": 52,
    "start_time": "2024-11-30T11:58:15.794Z"
   },
   {
    "duration": 11,
    "start_time": "2024-11-30T11:58:15.847Z"
   },
   {
    "duration": 14,
    "start_time": "2024-11-30T11:58:15.860Z"
   },
   {
    "duration": 16,
    "start_time": "2024-11-30T11:58:15.875Z"
   },
   {
    "duration": 546,
    "start_time": "2024-11-30T11:58:15.893Z"
   },
   {
    "duration": 10,
    "start_time": "2024-11-30T11:58:16.442Z"
   },
   {
    "duration": 14,
    "start_time": "2024-11-30T11:58:16.454Z"
   },
   {
    "duration": 5,
    "start_time": "2024-11-30T11:58:16.469Z"
   },
   {
    "duration": 5,
    "start_time": "2024-11-30T11:58:16.475Z"
   },
   {
    "duration": 8,
    "start_time": "2024-11-30T11:58:16.481Z"
   },
   {
    "duration": 5,
    "start_time": "2024-11-30T11:58:16.490Z"
   },
   {
    "duration": 6,
    "start_time": "2024-11-30T11:58:16.496Z"
   },
   {
    "duration": 8,
    "start_time": "2024-11-30T11:58:16.542Z"
   },
   {
    "duration": 122,
    "start_time": "2024-11-30T11:58:16.552Z"
   },
   {
    "duration": 31,
    "start_time": "2024-11-30T11:58:16.676Z"
   },
   {
    "duration": 400,
    "start_time": "2024-11-30T11:58:16.709Z"
   },
   {
    "duration": 714,
    "start_time": "2024-11-30T11:58:17.110Z"
   },
   {
    "duration": 471,
    "start_time": "2024-11-30T11:58:17.826Z"
   },
   {
    "duration": 365,
    "start_time": "2024-11-30T11:58:18.298Z"
   },
   {
    "duration": 1332,
    "start_time": "2024-11-30T11:58:18.665Z"
   },
   {
    "duration": 1776,
    "start_time": "2024-11-30T11:58:19.999Z"
   },
   {
    "duration": 316,
    "start_time": "2024-11-30T11:58:21.776Z"
   },
   {
    "duration": 9,
    "start_time": "2024-11-30T11:58:22.094Z"
   },
   {
    "duration": 29,
    "start_time": "2024-11-30T11:58:22.104Z"
   },
   {
    "duration": 114,
    "start_time": "2024-11-30T11:58:22.135Z"
   },
   {
    "duration": 19,
    "start_time": "2024-11-30T11:58:22.254Z"
   },
   {
    "duration": 17,
    "start_time": "2024-11-30T11:58:22.274Z"
   },
   {
    "duration": 15,
    "start_time": "2024-11-30T11:58:22.293Z"
   },
   {
    "duration": 20,
    "start_time": "2024-11-30T11:58:22.310Z"
   },
   {
    "duration": 594,
    "start_time": "2024-11-30T12:28:30.816Z"
   },
   {
    "duration": 2555,
    "start_time": "2024-11-30T13:10:45.165Z"
   },
   {
    "duration": 5,
    "start_time": "2024-11-30T13:10:47.722Z"
   },
   {
    "duration": 53,
    "start_time": "2024-11-30T13:10:47.729Z"
   },
   {
    "duration": 14,
    "start_time": "2024-11-30T13:10:47.784Z"
   },
   {
    "duration": 43,
    "start_time": "2024-11-30T13:10:47.799Z"
   },
   {
    "duration": 5,
    "start_time": "2024-11-30T13:10:47.843Z"
   },
   {
    "duration": 7,
    "start_time": "2024-11-30T13:10:47.849Z"
   },
   {
    "duration": 6,
    "start_time": "2024-11-30T13:10:47.858Z"
   },
   {
    "duration": 6,
    "start_time": "2024-11-30T13:10:47.866Z"
   },
   {
    "duration": 16,
    "start_time": "2024-11-30T13:10:47.875Z"
   },
   {
    "duration": 58,
    "start_time": "2024-11-30T13:10:47.893Z"
   },
   {
    "duration": 33,
    "start_time": "2024-11-30T13:10:47.952Z"
   },
   {
    "duration": 12,
    "start_time": "2024-11-30T13:10:47.986Z"
   },
   {
    "duration": 8,
    "start_time": "2024-11-30T13:10:48.000Z"
   },
   {
    "duration": 4,
    "start_time": "2024-11-30T13:10:48.010Z"
   },
   {
    "duration": 21,
    "start_time": "2024-11-30T13:10:48.043Z"
   },
   {
    "duration": 10,
    "start_time": "2024-11-30T13:10:48.065Z"
   },
   {
    "duration": 13,
    "start_time": "2024-11-30T13:10:48.077Z"
   },
   {
    "duration": 11,
    "start_time": "2024-11-30T13:10:48.092Z"
   },
   {
    "duration": 654,
    "start_time": "2024-11-30T13:10:48.105Z"
   },
   {
    "duration": 6,
    "start_time": "2024-11-30T13:10:48.761Z"
   },
   {
    "duration": 91,
    "start_time": "2024-11-30T13:10:48.769Z"
   },
   {
    "duration": 12,
    "start_time": "2024-11-30T13:10:48.865Z"
   },
   {
    "duration": 13,
    "start_time": "2024-11-30T13:10:48.879Z"
   },
   {
    "duration": 36,
    "start_time": "2024-11-30T13:10:48.894Z"
   },
   {
    "duration": 8,
    "start_time": "2024-11-30T13:10:48.932Z"
   },
   {
    "duration": 4,
    "start_time": "2024-11-30T13:10:48.942Z"
   },
   {
    "duration": 9,
    "start_time": "2024-11-30T13:10:48.951Z"
   },
   {
    "duration": 34,
    "start_time": "2024-11-30T13:10:48.962Z"
   },
   {
    "duration": 49,
    "start_time": "2024-11-30T13:10:48.998Z"
   },
   {
    "duration": 353,
    "start_time": "2024-11-30T13:10:49.049Z"
   },
   {
    "duration": 591,
    "start_time": "2024-11-30T13:10:49.404Z"
   },
   {
    "duration": 472,
    "start_time": "2024-11-30T13:10:49.997Z"
   },
   {
    "duration": 473,
    "start_time": "2024-11-30T13:10:50.471Z"
   },
   {
    "duration": 1136,
    "start_time": "2024-11-30T13:10:50.946Z"
   },
   {
    "duration": 1717,
    "start_time": "2024-11-30T13:10:52.083Z"
   },
   {
    "duration": 379,
    "start_time": "2024-11-30T13:10:53.801Z"
   },
   {
    "duration": 10,
    "start_time": "2024-11-30T13:10:54.182Z"
   },
   {
    "duration": 12,
    "start_time": "2024-11-30T13:10:54.193Z"
   },
   {
    "duration": 11,
    "start_time": "2024-11-30T13:10:54.207Z"
   },
   {
    "duration": 32,
    "start_time": "2024-11-30T13:10:54.220Z"
   },
   {
    "duration": 12,
    "start_time": "2024-11-30T13:10:54.253Z"
   },
   {
    "duration": 63,
    "start_time": "2024-11-30T13:10:54.266Z"
   },
   {
    "duration": 124,
    "start_time": "2024-11-30T13:10:54.331Z"
   },
   {
    "duration": 3855,
    "start_time": "2025-01-22T14:02:53.386Z"
   },
   {
    "duration": 1444,
    "start_time": "2025-01-22T14:02:57.243Z"
   },
   {
    "duration": 100,
    "start_time": "2025-01-22T14:02:58.689Z"
   },
   {
    "duration": 15,
    "start_time": "2025-01-22T14:02:58.791Z"
   },
   {
    "duration": 36,
    "start_time": "2025-01-22T14:02:58.807Z"
   },
   {
    "duration": 7,
    "start_time": "2025-01-22T14:02:58.844Z"
   },
   {
    "duration": 17,
    "start_time": "2025-01-22T14:02:58.854Z"
   },
   {
    "duration": 5,
    "start_time": "2025-01-22T14:02:58.873Z"
   },
   {
    "duration": 9,
    "start_time": "2025-01-22T14:02:58.879Z"
   },
   {
    "duration": 5,
    "start_time": "2025-01-22T14:02:58.890Z"
   },
   {
    "duration": 66,
    "start_time": "2025-01-22T14:02:58.896Z"
   },
   {
    "duration": 29,
    "start_time": "2025-01-22T14:02:58.964Z"
   },
   {
    "duration": 11,
    "start_time": "2025-01-22T14:02:58.995Z"
   },
   {
    "duration": 8,
    "start_time": "2025-01-22T14:02:59.007Z"
   },
   {
    "duration": 47,
    "start_time": "2025-01-22T14:02:59.017Z"
   },
   {
    "duration": 21,
    "start_time": "2025-01-22T14:02:59.066Z"
   },
   {
    "duration": 8,
    "start_time": "2025-01-22T14:02:59.089Z"
   },
   {
    "duration": 10,
    "start_time": "2025-01-22T14:02:59.099Z"
   },
   {
    "duration": 11,
    "start_time": "2025-01-22T14:02:59.110Z"
   },
   {
    "duration": 508,
    "start_time": "2025-01-22T14:02:59.122Z"
   },
   {
    "duration": 5,
    "start_time": "2025-01-22T14:02:59.631Z"
   },
   {
    "duration": 24,
    "start_time": "2025-01-22T14:02:59.645Z"
   },
   {
    "duration": 99,
    "start_time": "2025-01-22T14:02:59.671Z"
   },
   {
    "duration": 5,
    "start_time": "2025-01-22T14:02:59.771Z"
   },
   {
    "duration": 5,
    "start_time": "2025-01-22T14:02:59.778Z"
   },
   {
    "duration": 5,
    "start_time": "2025-01-22T14:02:59.784Z"
   },
   {
    "duration": 9,
    "start_time": "2025-01-22T14:02:59.790Z"
   },
   {
    "duration": 6,
    "start_time": "2025-01-22T14:02:59.802Z"
   },
   {
    "duration": 49,
    "start_time": "2025-01-22T14:02:59.810Z"
   },
   {
    "duration": 28,
    "start_time": "2025-01-22T14:02:59.860Z"
   },
   {
    "duration": 348,
    "start_time": "2025-01-22T14:02:59.889Z"
   },
   {
    "duration": 595,
    "start_time": "2025-01-22T14:03:00.238Z"
   },
   {
    "duration": 448,
    "start_time": "2025-01-22T14:03:00.835Z"
   },
   {
    "duration": 331,
    "start_time": "2025-01-22T14:03:01.287Z"
   },
   {
    "duration": 1237,
    "start_time": "2025-01-22T14:03:01.620Z"
   },
   {
    "duration": 1641,
    "start_time": "2025-01-22T14:03:02.859Z"
   },
   {
    "duration": 336,
    "start_time": "2025-01-22T14:03:04.501Z"
   },
   {
    "duration": 16,
    "start_time": "2025-01-22T14:03:04.838Z"
   },
   {
    "duration": 14,
    "start_time": "2025-01-22T14:03:04.857Z"
   },
   {
    "duration": 10,
    "start_time": "2025-01-22T14:03:04.873Z"
   },
   {
    "duration": 13,
    "start_time": "2025-01-22T14:03:04.885Z"
   },
   {
    "duration": 14,
    "start_time": "2025-01-22T14:03:04.900Z"
   },
   {
    "duration": 46,
    "start_time": "2025-01-22T14:03:04.916Z"
   },
   {
    "duration": 35,
    "start_time": "2025-01-22T14:03:04.964Z"
   },
   {
    "duration": 3512,
    "start_time": "2025-01-27T13:11:39.321Z"
   },
   {
    "duration": 1519,
    "start_time": "2025-01-27T13:11:42.835Z"
   },
   {
    "duration": 42,
    "start_time": "2025-01-27T13:11:44.356Z"
   },
   {
    "duration": 17,
    "start_time": "2025-01-27T13:11:44.400Z"
   },
   {
    "duration": 13,
    "start_time": "2025-01-27T13:11:44.418Z"
   },
   {
    "duration": 5,
    "start_time": "2025-01-27T13:11:44.433Z"
   },
   {
    "duration": 15,
    "start_time": "2025-01-27T13:11:44.440Z"
   },
   {
    "duration": 5,
    "start_time": "2025-01-27T13:11:44.457Z"
   },
   {
    "duration": 9,
    "start_time": "2025-01-27T13:11:44.463Z"
   },
   {
    "duration": 5,
    "start_time": "2025-01-27T13:11:44.475Z"
   },
   {
    "duration": 61,
    "start_time": "2025-01-27T13:11:44.481Z"
   },
   {
    "duration": 34,
    "start_time": "2025-01-27T13:11:44.544Z"
   },
   {
    "duration": 12,
    "start_time": "2025-01-27T13:11:44.580Z"
   },
   {
    "duration": 9,
    "start_time": "2025-01-27T13:11:44.593Z"
   },
   {
    "duration": 27,
    "start_time": "2025-01-27T13:11:44.604Z"
   },
   {
    "duration": 25,
    "start_time": "2025-01-27T13:11:44.632Z"
   },
   {
    "duration": 11,
    "start_time": "2025-01-27T13:11:44.659Z"
   },
   {
    "duration": 12,
    "start_time": "2025-01-27T13:11:44.672Z"
   },
   {
    "duration": 13,
    "start_time": "2025-01-27T13:11:44.685Z"
   },
   {
    "duration": 576,
    "start_time": "2025-01-27T13:11:44.700Z"
   },
   {
    "duration": 6,
    "start_time": "2025-01-27T13:11:45.278Z"
   },
   {
    "duration": 45,
    "start_time": "2025-01-27T13:11:45.285Z"
   },
   {
    "duration": 25,
    "start_time": "2025-01-27T13:11:45.332Z"
   },
   {
    "duration": 21,
    "start_time": "2025-01-27T13:11:45.358Z"
   },
   {
    "duration": 37,
    "start_time": "2025-01-27T13:11:45.381Z"
   },
   {
    "duration": 16,
    "start_time": "2025-01-27T13:11:45.419Z"
   },
   {
    "duration": 19,
    "start_time": "2025-01-27T13:11:45.436Z"
   },
   {
    "duration": 25,
    "start_time": "2025-01-27T13:11:45.458Z"
   },
   {
    "duration": 39,
    "start_time": "2025-01-27T13:11:45.484Z"
   },
   {
    "duration": 41,
    "start_time": "2025-01-27T13:11:45.524Z"
   },
   {
    "duration": 380,
    "start_time": "2025-01-27T13:11:45.567Z"
   },
   {
    "duration": 670,
    "start_time": "2025-01-27T13:11:45.948Z"
   },
   {
    "duration": 466,
    "start_time": "2025-01-27T13:11:46.619Z"
   },
   {
    "duration": 388,
    "start_time": "2025-01-27T13:11:47.087Z"
   },
   {
    "duration": 1296,
    "start_time": "2025-01-27T13:11:47.477Z"
   },
   {
    "duration": 1795,
    "start_time": "2025-01-27T13:11:48.775Z"
   },
   {
    "duration": 337,
    "start_time": "2025-01-27T13:11:50.572Z"
   },
   {
    "duration": 10,
    "start_time": "2025-01-27T13:11:50.911Z"
   },
   {
    "duration": 13,
    "start_time": "2025-01-27T13:11:50.930Z"
   },
   {
    "duration": 10,
    "start_time": "2025-01-27T13:11:50.945Z"
   },
   {
    "duration": 16,
    "start_time": "2025-01-27T13:11:50.957Z"
   },
   {
    "duration": 30,
    "start_time": "2025-01-27T13:11:50.974Z"
   },
   {
    "duration": 28,
    "start_time": "2025-01-27T13:11:51.006Z"
   },
   {
    "duration": 20,
    "start_time": "2025-01-27T13:11:51.036Z"
   },
   {
    "duration": 3998,
    "start_time": "2025-01-30T12:49:44.543Z"
   },
   {
    "duration": 1403,
    "start_time": "2025-01-30T12:49:48.544Z"
   },
   {
    "duration": 80,
    "start_time": "2025-01-30T12:49:49.949Z"
   },
   {
    "duration": 16,
    "start_time": "2025-01-30T12:49:50.032Z"
   },
   {
    "duration": 15,
    "start_time": "2025-01-30T12:49:50.050Z"
   },
   {
    "duration": 60,
    "start_time": "2025-01-30T12:49:50.067Z"
   },
   {
    "duration": 41,
    "start_time": "2025-01-30T12:49:50.129Z"
   },
   {
    "duration": 19,
    "start_time": "2025-01-30T12:49:50.171Z"
   },
   {
    "duration": 24,
    "start_time": "2025-01-30T12:49:50.192Z"
   },
   {
    "duration": 12,
    "start_time": "2025-01-30T12:49:50.220Z"
   },
   {
    "duration": 54,
    "start_time": "2025-01-30T12:49:50.235Z"
   },
   {
    "duration": 34,
    "start_time": "2025-01-30T12:49:50.291Z"
   },
   {
    "duration": 51,
    "start_time": "2025-01-30T12:49:50.327Z"
   },
   {
    "duration": 10,
    "start_time": "2025-01-30T12:49:50.380Z"
   },
   {
    "duration": 6,
    "start_time": "2025-01-30T12:49:50.391Z"
   },
   {
    "duration": 35,
    "start_time": "2025-01-30T12:49:50.398Z"
   },
   {
    "duration": 128,
    "start_time": "2025-01-30T12:49:50.435Z"
   },
   {
    "duration": 85,
    "start_time": "2025-01-30T12:49:50.564Z"
   },
   {
    "duration": 37,
    "start_time": "2025-01-30T12:49:50.651Z"
   },
   {
    "duration": 500,
    "start_time": "2025-01-30T12:49:50.690Z"
   },
   {
    "duration": 4,
    "start_time": "2025-01-30T12:49:51.191Z"
   },
   {
    "duration": 0,
    "start_time": "2025-01-30T12:49:51.197Z"
   },
   {
    "duration": 0,
    "start_time": "2025-01-30T12:49:51.198Z"
   },
   {
    "duration": 0,
    "start_time": "2025-01-30T12:49:51.200Z"
   },
   {
    "duration": 0,
    "start_time": "2025-01-30T12:49:51.201Z"
   },
   {
    "duration": 0,
    "start_time": "2025-01-30T12:49:51.203Z"
   },
   {
    "duration": 0,
    "start_time": "2025-01-30T12:49:51.204Z"
   },
   {
    "duration": 0,
    "start_time": "2025-01-30T12:49:51.206Z"
   },
   {
    "duration": 0,
    "start_time": "2025-01-30T12:49:51.207Z"
   },
   {
    "duration": 0,
    "start_time": "2025-01-30T12:49:51.209Z"
   },
   {
    "duration": 0,
    "start_time": "2025-01-30T12:49:51.210Z"
   },
   {
    "duration": 0,
    "start_time": "2025-01-30T12:49:51.212Z"
   },
   {
    "duration": 0,
    "start_time": "2025-01-30T12:49:51.213Z"
   },
   {
    "duration": 0,
    "start_time": "2025-01-30T12:49:51.214Z"
   },
   {
    "duration": 0,
    "start_time": "2025-01-30T12:49:51.216Z"
   },
   {
    "duration": 0,
    "start_time": "2025-01-30T12:49:51.217Z"
   },
   {
    "duration": 0,
    "start_time": "2025-01-30T12:49:51.258Z"
   },
   {
    "duration": 0,
    "start_time": "2025-01-30T12:49:51.260Z"
   },
   {
    "duration": 0,
    "start_time": "2025-01-30T12:49:51.261Z"
   },
   {
    "duration": 0,
    "start_time": "2025-01-30T12:49:51.263Z"
   },
   {
    "duration": 0,
    "start_time": "2025-01-30T12:49:51.264Z"
   },
   {
    "duration": 1,
    "start_time": "2025-01-30T12:49:51.265Z"
   },
   {
    "duration": 0,
    "start_time": "2025-01-30T12:49:51.267Z"
   },
   {
    "duration": 0,
    "start_time": "2025-01-30T12:49:51.269Z"
   },
   {
    "duration": 33,
    "start_time": "2025-01-30T12:51:55.383Z"
   },
   {
    "duration": 2520,
    "start_time": "2025-01-30T12:51:58.396Z"
   },
   {
    "duration": 5,
    "start_time": "2025-01-30T12:52:00.918Z"
   },
   {
    "duration": 49,
    "start_time": "2025-01-30T12:52:00.924Z"
   },
   {
    "duration": 35,
    "start_time": "2025-01-30T12:52:00.975Z"
   },
   {
    "duration": 22,
    "start_time": "2025-01-30T12:52:01.011Z"
   },
   {
    "duration": 8,
    "start_time": "2025-01-30T12:52:01.035Z"
   },
   {
    "duration": 27,
    "start_time": "2025-01-30T12:52:01.044Z"
   },
   {
    "duration": 14,
    "start_time": "2025-01-30T12:52:01.073Z"
   },
   {
    "duration": 8,
    "start_time": "2025-01-30T12:52:01.089Z"
   },
   {
    "duration": 10,
    "start_time": "2025-01-30T12:52:01.099Z"
   },
   {
    "duration": 45,
    "start_time": "2025-01-30T12:52:01.110Z"
   },
   {
    "duration": 33,
    "start_time": "2025-01-30T12:52:01.157Z"
   },
   {
    "duration": 18,
    "start_time": "2025-01-30T12:52:01.192Z"
   },
   {
    "duration": 65,
    "start_time": "2025-01-30T12:52:01.211Z"
   },
   {
    "duration": 20,
    "start_time": "2025-01-30T12:52:01.277Z"
   },
   {
    "duration": 49,
    "start_time": "2025-01-30T12:52:01.299Z"
   },
   {
    "duration": 13,
    "start_time": "2025-01-30T12:52:01.350Z"
   },
   {
    "duration": 31,
    "start_time": "2025-01-30T12:52:01.365Z"
   },
   {
    "duration": 48,
    "start_time": "2025-01-30T12:52:01.398Z"
   },
   {
    "duration": 582,
    "start_time": "2025-01-30T12:52:01.448Z"
   },
   {
    "duration": 3,
    "start_time": "2025-01-30T12:52:02.032Z"
   },
   {
    "duration": 0,
    "start_time": "2025-01-30T12:52:02.037Z"
   },
   {
    "duration": 0,
    "start_time": "2025-01-30T12:52:02.038Z"
   },
   {
    "duration": 0,
    "start_time": "2025-01-30T12:52:02.039Z"
   },
   {
    "duration": 1,
    "start_time": "2025-01-30T12:52:02.040Z"
   },
   {
    "duration": 0,
    "start_time": "2025-01-30T12:52:02.042Z"
   },
   {
    "duration": 0,
    "start_time": "2025-01-30T12:52:02.058Z"
   },
   {
    "duration": 0,
    "start_time": "2025-01-30T12:52:02.059Z"
   },
   {
    "duration": 0,
    "start_time": "2025-01-30T12:52:02.061Z"
   },
   {
    "duration": 0,
    "start_time": "2025-01-30T12:52:02.062Z"
   },
   {
    "duration": 0,
    "start_time": "2025-01-30T12:52:02.063Z"
   },
   {
    "duration": 0,
    "start_time": "2025-01-30T12:52:02.064Z"
   },
   {
    "duration": 0,
    "start_time": "2025-01-30T12:52:02.065Z"
   },
   {
    "duration": 0,
    "start_time": "2025-01-30T12:52:02.067Z"
   },
   {
    "duration": 0,
    "start_time": "2025-01-30T12:52:02.069Z"
   },
   {
    "duration": 0,
    "start_time": "2025-01-30T12:52:02.070Z"
   },
   {
    "duration": 0,
    "start_time": "2025-01-30T12:52:02.071Z"
   },
   {
    "duration": 0,
    "start_time": "2025-01-30T12:52:02.072Z"
   },
   {
    "duration": 0,
    "start_time": "2025-01-30T12:52:02.073Z"
   },
   {
    "duration": 0,
    "start_time": "2025-01-30T12:52:02.075Z"
   },
   {
    "duration": 0,
    "start_time": "2025-01-30T12:52:02.076Z"
   },
   {
    "duration": 0,
    "start_time": "2025-01-30T12:52:02.077Z"
   },
   {
    "duration": 0,
    "start_time": "2025-01-30T12:52:02.078Z"
   },
   {
    "duration": 0,
    "start_time": "2025-01-30T12:52:02.080Z"
   },
   {
    "duration": 6,
    "start_time": "2025-01-30T12:52:26.335Z"
   },
   {
    "duration": 28,
    "start_time": "2025-01-30T12:52:30.622Z"
   },
   {
    "duration": 355,
    "start_time": "2025-01-30T12:52:35.014Z"
   },
   {
    "duration": 1138,
    "start_time": "2025-01-30T12:53:04.294Z"
   },
   {
    "duration": 1817,
    "start_time": "2025-01-30T12:53:13.453Z"
   },
   {
    "duration": 47,
    "start_time": "2025-03-11T12:00:11.815Z"
   }
  ],
  "kernelspec": {
   "display_name": "Python 3 (ipykernel)",
   "language": "python",
   "name": "python3"
  },
  "language_info": {
   "codemirror_mode": {
    "name": "ipython",
    "version": 3
   },
   "file_extension": ".py",
   "mimetype": "text/x-python",
   "name": "python",
   "nbconvert_exporter": "python",
   "pygments_lexer": "ipython3",
   "version": "3.9.5"
  },
  "toc": {
   "base_numbering": 1,
   "nav_menu": {},
   "number_sections": true,
   "sideBar": true,
   "skip_h1_title": true,
   "title_cell": "Table of Contents",
   "title_sidebar": "Contents",
   "toc_cell": false,
   "toc_position": {},
   "toc_section_display": true,
   "toc_window_display": false
  }
 },
 "nbformat": 4,
 "nbformat_minor": 2
}
