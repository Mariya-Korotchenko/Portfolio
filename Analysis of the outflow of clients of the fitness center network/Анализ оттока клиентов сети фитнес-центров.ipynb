{
 "cells": [
  {
   "cell_type": "markdown",
   "metadata": {},
   "source": [
    "# Анализ оттока клиентов сети фитнес-центров"
   ]
  },
  {
   "cell_type": "markdown",
   "metadata": {},
   "source": [
    "**Цель проекта** - проанализировать причины оттока клиентов сетти фитнес-центров и подготовить план действий по удержанию клиентов.\n",
    "\n",
    "**Задачи проекта:**\n",
    "* научиться прогнозировать вероятность оттока (на уровне следующего месяца) для каждого клиента;\n",
    "* сформировать типичные портреты клиентов: выделить несколько наиболее ярких групп и охарактеризовать их основные свойства;\n",
    "* проанализировать основные признаки, наиболее сильно влияющие на отток;\n",
    "* сформулировать основные выводы и разработать рекомендации по повышению качества работы с клиентами:\n",
    "1. выделить целевые группы клиентов;\n",
    "2. предложить меры по снижению оттока;\n",
    "3. определить другие особенности взаимодействия с клиентами.\n",
    "\n",
    "Мы имеем датасет gym_churn.csv, который содержит данные на месяц до оттока и факт оттока на определённый месяц. Набор данных включает следующие поля:\n",
    "<br>Данные клиента за предыдущий до проверки факта оттока месяц:\n",
    "* 'gender' — пол;\n",
    "* 'Near_Location' — проживание или работа в районе, где находится фитнес-центр;\n",
    "* 'Partner' — сотрудник компании-партнёра клуба (сотрудничество с компаниями, чьи сотрудники могут получать скидки на абонемент — в таком случае фитнес-центр хранит информацию о работодателе клиента);\n",
    "* Promo_friends — факт первоначальной записи в рамках акции «приведи друга» (использовал промо-код от знакомого при оплате первого абонемента);\n",
    "* 'Phone' — наличие контактного телефона;\n",
    "* 'Age' — возраст;\n",
    "* 'Lifetime' — время с момента первого обращения в фитнес-центр (в месяцах).\n",
    "\n",
    "<br>Информация на основе журнала посещений, покупок и информация о текущем статусе абонемента клиента:\n",
    "* 'Contract_period' — длительность текущего действующего абонемента (месяц, 6 месяцев, год);\n",
    "* 'Month_to_end_contract' — срок до окончания текущего действующего абонемента (в месяцах);\n",
    "* 'Group_visits' — факт посещения групповых занятий;\n",
    "* 'Avg_class_frequency_total' — средняя частота посещений в неделю за все время с начала действия абонемента;\n",
    "* 'Avg_class_frequency_current_month' — средняя частота посещений в неделю за предыдущий месяц;\n",
    "* 'Avg_additional_charges_total' — суммарная выручка от других услуг фитнес-центра: кафе, спорттовары, косметический и массажный салон.\n",
    "* 'Churn' — факт оттока в текущем месяце."
   ]
  },
  {
   "cell_type": "markdown",
   "metadata": {},
   "source": [
    "## Загрузка данных"
   ]
  },
  {
   "cell_type": "code",
   "execution_count": 1,
   "metadata": {},
   "outputs": [],
   "source": [
    "import pandas as pd\n",
    "import matplotlib\n",
    "import matplotlib.pyplot as plt\n",
    "from pandas.plotting import register_matplotlib_converters\n",
    "import datetime as dt\n",
    "import warnings\n",
    "warnings.filterwarnings('ignore')\n",
    "import seaborn as sns\n",
    "import numpy as np\n",
    "from sklearn.model_selection import train_test_split\n",
    "from sklearn.preprocessing import StandardScaler\n",
    "from sklearn.linear_model import LogisticRegression\n",
    "from sklearn.tree import DecisionTreeClassifier\n",
    "from sklearn.ensemble import RandomForestClassifier\n",
    "from sklearn.metrics import accuracy_score, precision_score, recall_score, f1_score\n",
    "from sklearn.metrics import roc_auc_score\n",
    "import scipy.stats as stats\n",
    "from scipy import stats as st\n",
    "from scipy.cluster.hierarchy import dendrogram, linkage \n",
    "from sklearn.cluster import KMeans\n",
    "pd.set_option('display.max_colwidth', None)\n",
    "plt.rcParams ['figure.figsize'] = [13, 8]"
   ]
  },
  {
   "cell_type": "code",
   "execution_count": 2,
   "metadata": {},
   "outputs": [],
   "source": [
    "try:\n",
    "    gym_churn = pd.read_csv('gym_churn.csv')\n",
    "except:\n",
    "    gym_churn = pd.read_csv('/datasets/gym_churn.csv')"
   ]
  },
  {
   "cell_type": "code",
   "execution_count": 3,
   "metadata": {},
   "outputs": [
    {
     "data": {
      "text/html": [
       "<div>\n",
       "<style scoped>\n",
       "    .dataframe tbody tr th:only-of-type {\n",
       "        vertical-align: middle;\n",
       "    }\n",
       "\n",
       "    .dataframe tbody tr th {\n",
       "        vertical-align: top;\n",
       "    }\n",
       "\n",
       "    .dataframe thead th {\n",
       "        text-align: right;\n",
       "    }\n",
       "</style>\n",
       "<table border=\"1\" class=\"dataframe\">\n",
       "  <thead>\n",
       "    <tr style=\"text-align: right;\">\n",
       "      <th></th>\n",
       "      <th>gender</th>\n",
       "      <th>Near_Location</th>\n",
       "      <th>Partner</th>\n",
       "      <th>Promo_friends</th>\n",
       "      <th>Phone</th>\n",
       "      <th>Contract_period</th>\n",
       "      <th>Group_visits</th>\n",
       "      <th>Age</th>\n",
       "      <th>Avg_additional_charges_total</th>\n",
       "      <th>Month_to_end_contract</th>\n",
       "      <th>Lifetime</th>\n",
       "      <th>Avg_class_frequency_total</th>\n",
       "      <th>Avg_class_frequency_current_month</th>\n",
       "      <th>Churn</th>\n",
       "    </tr>\n",
       "  </thead>\n",
       "  <tbody>\n",
       "    <tr>\n",
       "      <th>0</th>\n",
       "      <td>1</td>\n",
       "      <td>1</td>\n",
       "      <td>1</td>\n",
       "      <td>1</td>\n",
       "      <td>0</td>\n",
       "      <td>6</td>\n",
       "      <td>1</td>\n",
       "      <td>29</td>\n",
       "      <td>14.227470</td>\n",
       "      <td>5.0</td>\n",
       "      <td>3</td>\n",
       "      <td>0.020398</td>\n",
       "      <td>0.000000</td>\n",
       "      <td>0</td>\n",
       "    </tr>\n",
       "    <tr>\n",
       "      <th>1</th>\n",
       "      <td>0</td>\n",
       "      <td>1</td>\n",
       "      <td>0</td>\n",
       "      <td>0</td>\n",
       "      <td>1</td>\n",
       "      <td>12</td>\n",
       "      <td>1</td>\n",
       "      <td>31</td>\n",
       "      <td>113.202938</td>\n",
       "      <td>12.0</td>\n",
       "      <td>7</td>\n",
       "      <td>1.922936</td>\n",
       "      <td>1.910244</td>\n",
       "      <td>0</td>\n",
       "    </tr>\n",
       "    <tr>\n",
       "      <th>2</th>\n",
       "      <td>0</td>\n",
       "      <td>1</td>\n",
       "      <td>1</td>\n",
       "      <td>0</td>\n",
       "      <td>1</td>\n",
       "      <td>1</td>\n",
       "      <td>0</td>\n",
       "      <td>28</td>\n",
       "      <td>129.448479</td>\n",
       "      <td>1.0</td>\n",
       "      <td>2</td>\n",
       "      <td>1.859098</td>\n",
       "      <td>1.736502</td>\n",
       "      <td>0</td>\n",
       "    </tr>\n",
       "    <tr>\n",
       "      <th>3</th>\n",
       "      <td>0</td>\n",
       "      <td>1</td>\n",
       "      <td>1</td>\n",
       "      <td>1</td>\n",
       "      <td>1</td>\n",
       "      <td>12</td>\n",
       "      <td>1</td>\n",
       "      <td>33</td>\n",
       "      <td>62.669863</td>\n",
       "      <td>12.0</td>\n",
       "      <td>2</td>\n",
       "      <td>3.205633</td>\n",
       "      <td>3.357215</td>\n",
       "      <td>0</td>\n",
       "    </tr>\n",
       "    <tr>\n",
       "      <th>4</th>\n",
       "      <td>1</td>\n",
       "      <td>1</td>\n",
       "      <td>1</td>\n",
       "      <td>1</td>\n",
       "      <td>1</td>\n",
       "      <td>1</td>\n",
       "      <td>0</td>\n",
       "      <td>26</td>\n",
       "      <td>198.362265</td>\n",
       "      <td>1.0</td>\n",
       "      <td>3</td>\n",
       "      <td>1.113884</td>\n",
       "      <td>1.120078</td>\n",
       "      <td>0</td>\n",
       "    </tr>\n",
       "    <tr>\n",
       "      <th>5</th>\n",
       "      <td>1</td>\n",
       "      <td>1</td>\n",
       "      <td>0</td>\n",
       "      <td>0</td>\n",
       "      <td>1</td>\n",
       "      <td>1</td>\n",
       "      <td>1</td>\n",
       "      <td>34</td>\n",
       "      <td>450.743960</td>\n",
       "      <td>1.0</td>\n",
       "      <td>3</td>\n",
       "      <td>2.623477</td>\n",
       "      <td>2.637007</td>\n",
       "      <td>0</td>\n",
       "    </tr>\n",
       "    <tr>\n",
       "      <th>6</th>\n",
       "      <td>1</td>\n",
       "      <td>1</td>\n",
       "      <td>1</td>\n",
       "      <td>1</td>\n",
       "      <td>0</td>\n",
       "      <td>6</td>\n",
       "      <td>1</td>\n",
       "      <td>32</td>\n",
       "      <td>94.266389</td>\n",
       "      <td>6.0</td>\n",
       "      <td>2</td>\n",
       "      <td>1.138941</td>\n",
       "      <td>1.277242</td>\n",
       "      <td>0</td>\n",
       "    </tr>\n",
       "    <tr>\n",
       "      <th>7</th>\n",
       "      <td>0</td>\n",
       "      <td>1</td>\n",
       "      <td>0</td>\n",
       "      <td>0</td>\n",
       "      <td>1</td>\n",
       "      <td>1</td>\n",
       "      <td>0</td>\n",
       "      <td>30</td>\n",
       "      <td>217.786641</td>\n",
       "      <td>1.0</td>\n",
       "      <td>0</td>\n",
       "      <td>1.213502</td>\n",
       "      <td>1.049387</td>\n",
       "      <td>1</td>\n",
       "    </tr>\n",
       "    <tr>\n",
       "      <th>8</th>\n",
       "      <td>1</td>\n",
       "      <td>1</td>\n",
       "      <td>1</td>\n",
       "      <td>1</td>\n",
       "      <td>1</td>\n",
       "      <td>1</td>\n",
       "      <td>1</td>\n",
       "      <td>23</td>\n",
       "      <td>45.409909</td>\n",
       "      <td>1.0</td>\n",
       "      <td>1</td>\n",
       "      <td>1.106239</td>\n",
       "      <td>1.059333</td>\n",
       "      <td>0</td>\n",
       "    </tr>\n",
       "    <tr>\n",
       "      <th>9</th>\n",
       "      <td>0</td>\n",
       "      <td>1</td>\n",
       "      <td>0</td>\n",
       "      <td>0</td>\n",
       "      <td>1</td>\n",
       "      <td>1</td>\n",
       "      <td>0</td>\n",
       "      <td>31</td>\n",
       "      <td>65.310836</td>\n",
       "      <td>1.0</td>\n",
       "      <td>11</td>\n",
       "      <td>1.810852</td>\n",
       "      <td>1.951368</td>\n",
       "      <td>0</td>\n",
       "    </tr>\n",
       "  </tbody>\n",
       "</table>\n",
       "</div>"
      ],
      "text/plain": [
       "   gender  Near_Location  Partner  Promo_friends  Phone  Contract_period  \\\n",
       "0       1              1        1              1      0                6   \n",
       "1       0              1        0              0      1               12   \n",
       "2       0              1        1              0      1                1   \n",
       "3       0              1        1              1      1               12   \n",
       "4       1              1        1              1      1                1   \n",
       "5       1              1        0              0      1                1   \n",
       "6       1              1        1              1      0                6   \n",
       "7       0              1        0              0      1                1   \n",
       "8       1              1        1              1      1                1   \n",
       "9       0              1        0              0      1                1   \n",
       "\n",
       "   Group_visits  Age  Avg_additional_charges_total  Month_to_end_contract  \\\n",
       "0             1   29                     14.227470                    5.0   \n",
       "1             1   31                    113.202938                   12.0   \n",
       "2             0   28                    129.448479                    1.0   \n",
       "3             1   33                     62.669863                   12.0   \n",
       "4             0   26                    198.362265                    1.0   \n",
       "5             1   34                    450.743960                    1.0   \n",
       "6             1   32                     94.266389                    6.0   \n",
       "7             0   30                    217.786641                    1.0   \n",
       "8             1   23                     45.409909                    1.0   \n",
       "9             0   31                     65.310836                    1.0   \n",
       "\n",
       "   Lifetime  Avg_class_frequency_total  Avg_class_frequency_current_month  \\\n",
       "0         3                   0.020398                           0.000000   \n",
       "1         7                   1.922936                           1.910244   \n",
       "2         2                   1.859098                           1.736502   \n",
       "3         2                   3.205633                           3.357215   \n",
       "4         3                   1.113884                           1.120078   \n",
       "5         3                   2.623477                           2.637007   \n",
       "6         2                   1.138941                           1.277242   \n",
       "7         0                   1.213502                           1.049387   \n",
       "8         1                   1.106239                           1.059333   \n",
       "9        11                   1.810852                           1.951368   \n",
       "\n",
       "   Churn  \n",
       "0      0  \n",
       "1      0  \n",
       "2      0  \n",
       "3      0  \n",
       "4      0  \n",
       "5      0  \n",
       "6      0  \n",
       "7      1  \n",
       "8      0  \n",
       "9      0  "
      ]
     },
     "execution_count": 3,
     "metadata": {},
     "output_type": "execute_result"
    }
   ],
   "source": [
    "gym_churn.head(10)"
   ]
  },
  {
   "cell_type": "code",
   "execution_count": 4,
   "metadata": {},
   "outputs": [
    {
     "name": "stdout",
     "output_type": "stream",
     "text": [
      "<class 'pandas.core.frame.DataFrame'>\n",
      "RangeIndex: 4000 entries, 0 to 3999\n",
      "Data columns (total 14 columns):\n",
      " #   Column                             Non-Null Count  Dtype  \n",
      "---  ------                             --------------  -----  \n",
      " 0   gender                             4000 non-null   int64  \n",
      " 1   Near_Location                      4000 non-null   int64  \n",
      " 2   Partner                            4000 non-null   int64  \n",
      " 3   Promo_friends                      4000 non-null   int64  \n",
      " 4   Phone                              4000 non-null   int64  \n",
      " 5   Contract_period                    4000 non-null   int64  \n",
      " 6   Group_visits                       4000 non-null   int64  \n",
      " 7   Age                                4000 non-null   int64  \n",
      " 8   Avg_additional_charges_total       4000 non-null   float64\n",
      " 9   Month_to_end_contract              4000 non-null   float64\n",
      " 10  Lifetime                           4000 non-null   int64  \n",
      " 11  Avg_class_frequency_total          4000 non-null   float64\n",
      " 12  Avg_class_frequency_current_month  4000 non-null   float64\n",
      " 13  Churn                              4000 non-null   int64  \n",
      "dtypes: float64(4), int64(10)\n",
      "memory usage: 437.6 KB\n"
     ]
    }
   ],
   "source": [
    "gym_churn.info()"
   ]
  },
  {
   "cell_type": "markdown",
   "metadata": {},
   "source": [
    "**Вывод:**\n",
    "<br>Датафрейм gym_churn имеет 14 столбцов и 4000 строк без пропусков. Вес датафрейма 437.6 Кб. Столбец Month_to_end_contract необходмо привести к типу int64. Названия столбцов необходимо привести к стилю snake_case.      "
   ]
  },
  {
   "cell_type": "markdown",
   "metadata": {},
   "source": [
    "## Предобработка данных"
   ]
  },
  {
   "cell_type": "code",
   "execution_count": 5,
   "metadata": {},
   "outputs": [],
   "source": [
    "# Приведем столбец Month_to_end_contract к типу int64\n",
    "gym_churn['Month_to_end_contract'] = gym_churn['Month_to_end_contract'].astype(\"int\")"
   ]
  },
  {
   "cell_type": "code",
   "execution_count": 6,
   "metadata": {},
   "outputs": [
    {
     "name": "stdout",
     "output_type": "stream",
     "text": [
      "<class 'pandas.core.frame.DataFrame'>\n",
      "RangeIndex: 4000 entries, 0 to 3999\n",
      "Data columns (total 14 columns):\n",
      " #   Column                             Non-Null Count  Dtype  \n",
      "---  ------                             --------------  -----  \n",
      " 0   gender                             4000 non-null   int64  \n",
      " 1   Near_Location                      4000 non-null   int64  \n",
      " 2   Partner                            4000 non-null   int64  \n",
      " 3   Promo_friends                      4000 non-null   int64  \n",
      " 4   Phone                              4000 non-null   int64  \n",
      " 5   Contract_period                    4000 non-null   int64  \n",
      " 6   Group_visits                       4000 non-null   int64  \n",
      " 7   Age                                4000 non-null   int64  \n",
      " 8   Avg_additional_charges_total       4000 non-null   float64\n",
      " 9   Month_to_end_contract              4000 non-null   int64  \n",
      " 10  Lifetime                           4000 non-null   int64  \n",
      " 11  Avg_class_frequency_total          4000 non-null   float64\n",
      " 12  Avg_class_frequency_current_month  4000 non-null   float64\n",
      " 13  Churn                              4000 non-null   int64  \n",
      "dtypes: float64(3), int64(11)\n",
      "memory usage: 437.6 KB\n"
     ]
    }
   ],
   "source": [
    "gym_churn.info()"
   ]
  },
  {
   "cell_type": "code",
   "execution_count": 7,
   "metadata": {},
   "outputs": [],
   "source": [
    "# Приведем названия столбцов к стилю snake_case\n",
    "gym_churn.columns = map(str.lower, gym_churn.columns)"
   ]
  },
  {
   "cell_type": "code",
   "execution_count": 8,
   "metadata": {},
   "outputs": [
    {
     "data": {
      "text/html": [
       "<div>\n",
       "<style scoped>\n",
       "    .dataframe tbody tr th:only-of-type {\n",
       "        vertical-align: middle;\n",
       "    }\n",
       "\n",
       "    .dataframe tbody tr th {\n",
       "        vertical-align: top;\n",
       "    }\n",
       "\n",
       "    .dataframe thead th {\n",
       "        text-align: right;\n",
       "    }\n",
       "</style>\n",
       "<table border=\"1\" class=\"dataframe\">\n",
       "  <thead>\n",
       "    <tr style=\"text-align: right;\">\n",
       "      <th></th>\n",
       "      <th>gender</th>\n",
       "      <th>near_location</th>\n",
       "      <th>partner</th>\n",
       "      <th>promo_friends</th>\n",
       "      <th>phone</th>\n",
       "      <th>contract_period</th>\n",
       "      <th>group_visits</th>\n",
       "      <th>age</th>\n",
       "      <th>avg_additional_charges_total</th>\n",
       "      <th>month_to_end_contract</th>\n",
       "      <th>lifetime</th>\n",
       "      <th>avg_class_frequency_total</th>\n",
       "      <th>avg_class_frequency_current_month</th>\n",
       "      <th>churn</th>\n",
       "    </tr>\n",
       "  </thead>\n",
       "  <tbody>\n",
       "    <tr>\n",
       "      <th>0</th>\n",
       "      <td>1</td>\n",
       "      <td>1</td>\n",
       "      <td>1</td>\n",
       "      <td>1</td>\n",
       "      <td>0</td>\n",
       "      <td>6</td>\n",
       "      <td>1</td>\n",
       "      <td>29</td>\n",
       "      <td>14.227470</td>\n",
       "      <td>5</td>\n",
       "      <td>3</td>\n",
       "      <td>0.020398</td>\n",
       "      <td>0.000000</td>\n",
       "      <td>0</td>\n",
       "    </tr>\n",
       "    <tr>\n",
       "      <th>1</th>\n",
       "      <td>0</td>\n",
       "      <td>1</td>\n",
       "      <td>0</td>\n",
       "      <td>0</td>\n",
       "      <td>1</td>\n",
       "      <td>12</td>\n",
       "      <td>1</td>\n",
       "      <td>31</td>\n",
       "      <td>113.202938</td>\n",
       "      <td>12</td>\n",
       "      <td>7</td>\n",
       "      <td>1.922936</td>\n",
       "      <td>1.910244</td>\n",
       "      <td>0</td>\n",
       "    </tr>\n",
       "    <tr>\n",
       "      <th>2</th>\n",
       "      <td>0</td>\n",
       "      <td>1</td>\n",
       "      <td>1</td>\n",
       "      <td>0</td>\n",
       "      <td>1</td>\n",
       "      <td>1</td>\n",
       "      <td>0</td>\n",
       "      <td>28</td>\n",
       "      <td>129.448479</td>\n",
       "      <td>1</td>\n",
       "      <td>2</td>\n",
       "      <td>1.859098</td>\n",
       "      <td>1.736502</td>\n",
       "      <td>0</td>\n",
       "    </tr>\n",
       "    <tr>\n",
       "      <th>3</th>\n",
       "      <td>0</td>\n",
       "      <td>1</td>\n",
       "      <td>1</td>\n",
       "      <td>1</td>\n",
       "      <td>1</td>\n",
       "      <td>12</td>\n",
       "      <td>1</td>\n",
       "      <td>33</td>\n",
       "      <td>62.669863</td>\n",
       "      <td>12</td>\n",
       "      <td>2</td>\n",
       "      <td>3.205633</td>\n",
       "      <td>3.357215</td>\n",
       "      <td>0</td>\n",
       "    </tr>\n",
       "    <tr>\n",
       "      <th>4</th>\n",
       "      <td>1</td>\n",
       "      <td>1</td>\n",
       "      <td>1</td>\n",
       "      <td>1</td>\n",
       "      <td>1</td>\n",
       "      <td>1</td>\n",
       "      <td>0</td>\n",
       "      <td>26</td>\n",
       "      <td>198.362265</td>\n",
       "      <td>1</td>\n",
       "      <td>3</td>\n",
       "      <td>1.113884</td>\n",
       "      <td>1.120078</td>\n",
       "      <td>0</td>\n",
       "    </tr>\n",
       "  </tbody>\n",
       "</table>\n",
       "</div>"
      ],
      "text/plain": [
       "   gender  near_location  partner  promo_friends  phone  contract_period  \\\n",
       "0       1              1        1              1      0                6   \n",
       "1       0              1        0              0      1               12   \n",
       "2       0              1        1              0      1                1   \n",
       "3       0              1        1              1      1               12   \n",
       "4       1              1        1              1      1                1   \n",
       "\n",
       "   group_visits  age  avg_additional_charges_total  month_to_end_contract  \\\n",
       "0             1   29                     14.227470                      5   \n",
       "1             1   31                    113.202938                     12   \n",
       "2             0   28                    129.448479                      1   \n",
       "3             1   33                     62.669863                     12   \n",
       "4             0   26                    198.362265                      1   \n",
       "\n",
       "   lifetime  avg_class_frequency_total  avg_class_frequency_current_month  \\\n",
       "0         3                   0.020398                           0.000000   \n",
       "1         7                   1.922936                           1.910244   \n",
       "2         2                   1.859098                           1.736502   \n",
       "3         2                   3.205633                           3.357215   \n",
       "4         3                   1.113884                           1.120078   \n",
       "\n",
       "   churn  \n",
       "0      0  \n",
       "1      0  \n",
       "2      0  \n",
       "3      0  \n",
       "4      0  "
      ]
     },
     "execution_count": 8,
     "metadata": {},
     "output_type": "execute_result"
    }
   ],
   "source": [
    "gym_churn.head()"
   ]
  },
  {
   "cell_type": "code",
   "execution_count": 10,
   "metadata": {},
   "outputs": [
    {
     "data": {
      "text/plain": [
       "0"
      ]
     },
     "execution_count": 10,
     "metadata": {},
     "output_type": "execute_result"
    }
   ],
   "source": [
    "# Проверка таблицы на явные дубликаты\n",
    "gym_churn.duplicated().sum()"
   ]
  },
  {
   "cell_type": "markdown",
   "metadata": {},
   "source": [
    "**Вывод:**\n",
    "В данных отсутствуют пропуски и явные дубликаты. В датафрейме столбцы были приведены к стилю snake_case. Столбец month_to_end_contract привели к типу int64."
   ]
  },
  {
   "cell_type": "markdown",
   "metadata": {},
   "source": [
    "## Исследовательский анализ данных"
   ]
  },
  {
   "cell_type": "markdown",
   "metadata": {},
   "source": [
    "### Статистические данные"
   ]
  },
  {
   "cell_type": "code",
   "execution_count": 11,
   "metadata": {},
   "outputs": [
    {
     "data": {
      "text/html": [
       "<div>\n",
       "<style scoped>\n",
       "    .dataframe tbody tr th:only-of-type {\n",
       "        vertical-align: middle;\n",
       "    }\n",
       "\n",
       "    .dataframe tbody tr th {\n",
       "        vertical-align: top;\n",
       "    }\n",
       "\n",
       "    .dataframe thead th {\n",
       "        text-align: right;\n",
       "    }\n",
       "</style>\n",
       "<table border=\"1\" class=\"dataframe\">\n",
       "  <thead>\n",
       "    <tr style=\"text-align: right;\">\n",
       "      <th></th>\n",
       "      <th>count</th>\n",
       "      <th>mean</th>\n",
       "      <th>std</th>\n",
       "      <th>min</th>\n",
       "      <th>25%</th>\n",
       "      <th>50%</th>\n",
       "      <th>75%</th>\n",
       "      <th>max</th>\n",
       "    </tr>\n",
       "  </thead>\n",
       "  <tbody>\n",
       "    <tr>\n",
       "      <th>gender</th>\n",
       "      <td>4000.0</td>\n",
       "      <td>0.510250</td>\n",
       "      <td>0.499957</td>\n",
       "      <td>0.000000</td>\n",
       "      <td>0.000000</td>\n",
       "      <td>1.000000</td>\n",
       "      <td>1.000000</td>\n",
       "      <td>1.000000</td>\n",
       "    </tr>\n",
       "    <tr>\n",
       "      <th>near_location</th>\n",
       "      <td>4000.0</td>\n",
       "      <td>0.845250</td>\n",
       "      <td>0.361711</td>\n",
       "      <td>0.000000</td>\n",
       "      <td>1.000000</td>\n",
       "      <td>1.000000</td>\n",
       "      <td>1.000000</td>\n",
       "      <td>1.000000</td>\n",
       "    </tr>\n",
       "    <tr>\n",
       "      <th>partner</th>\n",
       "      <td>4000.0</td>\n",
       "      <td>0.486750</td>\n",
       "      <td>0.499887</td>\n",
       "      <td>0.000000</td>\n",
       "      <td>0.000000</td>\n",
       "      <td>0.000000</td>\n",
       "      <td>1.000000</td>\n",
       "      <td>1.000000</td>\n",
       "    </tr>\n",
       "    <tr>\n",
       "      <th>promo_friends</th>\n",
       "      <td>4000.0</td>\n",
       "      <td>0.308500</td>\n",
       "      <td>0.461932</td>\n",
       "      <td>0.000000</td>\n",
       "      <td>0.000000</td>\n",
       "      <td>0.000000</td>\n",
       "      <td>1.000000</td>\n",
       "      <td>1.000000</td>\n",
       "    </tr>\n",
       "    <tr>\n",
       "      <th>phone</th>\n",
       "      <td>4000.0</td>\n",
       "      <td>0.903500</td>\n",
       "      <td>0.295313</td>\n",
       "      <td>0.000000</td>\n",
       "      <td>1.000000</td>\n",
       "      <td>1.000000</td>\n",
       "      <td>1.000000</td>\n",
       "      <td>1.000000</td>\n",
       "    </tr>\n",
       "    <tr>\n",
       "      <th>contract_period</th>\n",
       "      <td>4000.0</td>\n",
       "      <td>4.681250</td>\n",
       "      <td>4.549706</td>\n",
       "      <td>1.000000</td>\n",
       "      <td>1.000000</td>\n",
       "      <td>1.000000</td>\n",
       "      <td>6.000000</td>\n",
       "      <td>12.000000</td>\n",
       "    </tr>\n",
       "    <tr>\n",
       "      <th>group_visits</th>\n",
       "      <td>4000.0</td>\n",
       "      <td>0.412250</td>\n",
       "      <td>0.492301</td>\n",
       "      <td>0.000000</td>\n",
       "      <td>0.000000</td>\n",
       "      <td>0.000000</td>\n",
       "      <td>1.000000</td>\n",
       "      <td>1.000000</td>\n",
       "    </tr>\n",
       "    <tr>\n",
       "      <th>age</th>\n",
       "      <td>4000.0</td>\n",
       "      <td>29.184250</td>\n",
       "      <td>3.258367</td>\n",
       "      <td>18.000000</td>\n",
       "      <td>27.000000</td>\n",
       "      <td>29.000000</td>\n",
       "      <td>31.000000</td>\n",
       "      <td>41.000000</td>\n",
       "    </tr>\n",
       "    <tr>\n",
       "      <th>avg_additional_charges_total</th>\n",
       "      <td>4000.0</td>\n",
       "      <td>146.943728</td>\n",
       "      <td>96.355602</td>\n",
       "      <td>0.148205</td>\n",
       "      <td>68.868830</td>\n",
       "      <td>136.220159</td>\n",
       "      <td>210.949625</td>\n",
       "      <td>552.590740</td>\n",
       "    </tr>\n",
       "    <tr>\n",
       "      <th>month_to_end_contract</th>\n",
       "      <td>4000.0</td>\n",
       "      <td>4.322750</td>\n",
       "      <td>4.191297</td>\n",
       "      <td>1.000000</td>\n",
       "      <td>1.000000</td>\n",
       "      <td>1.000000</td>\n",
       "      <td>6.000000</td>\n",
       "      <td>12.000000</td>\n",
       "    </tr>\n",
       "    <tr>\n",
       "      <th>lifetime</th>\n",
       "      <td>4000.0</td>\n",
       "      <td>3.724750</td>\n",
       "      <td>3.749267</td>\n",
       "      <td>0.000000</td>\n",
       "      <td>1.000000</td>\n",
       "      <td>3.000000</td>\n",
       "      <td>5.000000</td>\n",
       "      <td>31.000000</td>\n",
       "    </tr>\n",
       "    <tr>\n",
       "      <th>avg_class_frequency_total</th>\n",
       "      <td>4000.0</td>\n",
       "      <td>1.879020</td>\n",
       "      <td>0.972245</td>\n",
       "      <td>0.000000</td>\n",
       "      <td>1.180875</td>\n",
       "      <td>1.832768</td>\n",
       "      <td>2.536078</td>\n",
       "      <td>6.023668</td>\n",
       "    </tr>\n",
       "    <tr>\n",
       "      <th>avg_class_frequency_current_month</th>\n",
       "      <td>4000.0</td>\n",
       "      <td>1.767052</td>\n",
       "      <td>1.052906</td>\n",
       "      <td>0.000000</td>\n",
       "      <td>0.963003</td>\n",
       "      <td>1.719574</td>\n",
       "      <td>2.510336</td>\n",
       "      <td>6.146783</td>\n",
       "    </tr>\n",
       "    <tr>\n",
       "      <th>churn</th>\n",
       "      <td>4000.0</td>\n",
       "      <td>0.265250</td>\n",
       "      <td>0.441521</td>\n",
       "      <td>0.000000</td>\n",
       "      <td>0.000000</td>\n",
       "      <td>0.000000</td>\n",
       "      <td>1.000000</td>\n",
       "      <td>1.000000</td>\n",
       "    </tr>\n",
       "  </tbody>\n",
       "</table>\n",
       "</div>"
      ],
      "text/plain": [
       "                                    count        mean        std        min  \\\n",
       "gender                             4000.0    0.510250   0.499957   0.000000   \n",
       "near_location                      4000.0    0.845250   0.361711   0.000000   \n",
       "partner                            4000.0    0.486750   0.499887   0.000000   \n",
       "promo_friends                      4000.0    0.308500   0.461932   0.000000   \n",
       "phone                              4000.0    0.903500   0.295313   0.000000   \n",
       "contract_period                    4000.0    4.681250   4.549706   1.000000   \n",
       "group_visits                       4000.0    0.412250   0.492301   0.000000   \n",
       "age                                4000.0   29.184250   3.258367  18.000000   \n",
       "avg_additional_charges_total       4000.0  146.943728  96.355602   0.148205   \n",
       "month_to_end_contract              4000.0    4.322750   4.191297   1.000000   \n",
       "lifetime                           4000.0    3.724750   3.749267   0.000000   \n",
       "avg_class_frequency_total          4000.0    1.879020   0.972245   0.000000   \n",
       "avg_class_frequency_current_month  4000.0    1.767052   1.052906   0.000000   \n",
       "churn                              4000.0    0.265250   0.441521   0.000000   \n",
       "\n",
       "                                         25%         50%         75%  \\\n",
       "gender                              0.000000    1.000000    1.000000   \n",
       "near_location                       1.000000    1.000000    1.000000   \n",
       "partner                             0.000000    0.000000    1.000000   \n",
       "promo_friends                       0.000000    0.000000    1.000000   \n",
       "phone                               1.000000    1.000000    1.000000   \n",
       "contract_period                     1.000000    1.000000    6.000000   \n",
       "group_visits                        0.000000    0.000000    1.000000   \n",
       "age                                27.000000   29.000000   31.000000   \n",
       "avg_additional_charges_total       68.868830  136.220159  210.949625   \n",
       "month_to_end_contract               1.000000    1.000000    6.000000   \n",
       "lifetime                            1.000000    3.000000    5.000000   \n",
       "avg_class_frequency_total           1.180875    1.832768    2.536078   \n",
       "avg_class_frequency_current_month   0.963003    1.719574    2.510336   \n",
       "churn                               0.000000    0.000000    1.000000   \n",
       "\n",
       "                                          max  \n",
       "gender                               1.000000  \n",
       "near_location                        1.000000  \n",
       "partner                              1.000000  \n",
       "promo_friends                        1.000000  \n",
       "phone                                1.000000  \n",
       "contract_period                     12.000000  \n",
       "group_visits                         1.000000  \n",
       "age                                 41.000000  \n",
       "avg_additional_charges_total       552.590740  \n",
       "month_to_end_contract               12.000000  \n",
       "lifetime                            31.000000  \n",
       "avg_class_frequency_total            6.023668  \n",
       "avg_class_frequency_current_month    6.146783  \n",
       "churn                                1.000000  "
      ]
     },
     "execution_count": 11,
     "metadata": {},
     "output_type": "execute_result"
    }
   ],
   "source": [
    "# Изучим средние значения и стандартные отклонения\n",
    "gym_churn.describe().T"
   ]
  },
  {
   "cell_type": "markdown",
   "metadata": {},
   "source": [
    "**Вывод**\n",
    "<br>Данные равномерные, стандартные отклонения не очень далеки от средних значений.\n",
    "* Пол представлен примерно поровну.\n",
    "* Большая часть клиентов (85%) фитнес-центра живет рядом.\n",
    "* Почти половина клиентов (48%) являются сотрудником компании-партнера фитнес-центра.\n",
    "* 30% клиентов записались на первое занятие в рамках акции «приведи друга».\n",
    "* Почти все клиенты оставили свой контактный телефон.\n",
    "* Средний возраст клиентов - 29 лет. Максимальный - 41 год.\n",
    "* Среднее время жизни клиента - 3.7 мес.\n",
    "* Средний срок окончания действия текущего абонемента - 4.3 мес.\n",
    "* 41% клиентов посещают групповые занятия.\n",
    "* В среднем клиенты посещали фитнес-центр 1.8 раз в неделю за весь период.\n",
    "* Средняя частота посещений за текущий месяц - 1.77 в неделю.\n",
    "* Средняя суммарная выручка от других услуг фитнес-центра составляет 146.9 ед.\n",
    "* Отток в текущем месяце составляет 26%."
   ]
  },
  {
   "cell_type": "code",
   "execution_count": 12,
   "metadata": {},
   "outputs": [
    {
     "data": {
      "text/html": [
       "<div>\n",
       "<style scoped>\n",
       "    .dataframe tbody tr th:only-of-type {\n",
       "        vertical-align: middle;\n",
       "    }\n",
       "\n",
       "    .dataframe tbody tr th {\n",
       "        vertical-align: top;\n",
       "    }\n",
       "\n",
       "    .dataframe thead th {\n",
       "        text-align: right;\n",
       "    }\n",
       "</style>\n",
       "<table border=\"1\" class=\"dataframe\">\n",
       "  <thead>\n",
       "    <tr style=\"text-align: right;\">\n",
       "      <th>churn</th>\n",
       "      <th>0</th>\n",
       "      <th>1</th>\n",
       "    </tr>\n",
       "  </thead>\n",
       "  <tbody>\n",
       "    <tr>\n",
       "      <th>gender</th>\n",
       "      <td>0.510037</td>\n",
       "      <td>0.510839</td>\n",
       "    </tr>\n",
       "    <tr>\n",
       "      <th>near_location</th>\n",
       "      <td>0.873086</td>\n",
       "      <td>0.768143</td>\n",
       "    </tr>\n",
       "    <tr>\n",
       "      <th>partner</th>\n",
       "      <td>0.534195</td>\n",
       "      <td>0.355325</td>\n",
       "    </tr>\n",
       "    <tr>\n",
       "      <th>promo_friends</th>\n",
       "      <td>0.353522</td>\n",
       "      <td>0.183789</td>\n",
       "    </tr>\n",
       "    <tr>\n",
       "      <th>phone</th>\n",
       "      <td>0.903709</td>\n",
       "      <td>0.902922</td>\n",
       "    </tr>\n",
       "    <tr>\n",
       "      <th>contract_period</th>\n",
       "      <td>5.747193</td>\n",
       "      <td>1.728558</td>\n",
       "    </tr>\n",
       "    <tr>\n",
       "      <th>group_visits</th>\n",
       "      <td>0.464103</td>\n",
       "      <td>0.268615</td>\n",
       "    </tr>\n",
       "    <tr>\n",
       "      <th>age</th>\n",
       "      <td>29.976523</td>\n",
       "      <td>26.989632</td>\n",
       "    </tr>\n",
       "    <tr>\n",
       "      <th>avg_additional_charges_total</th>\n",
       "      <td>158.445715</td>\n",
       "      <td>115.082899</td>\n",
       "    </tr>\n",
       "    <tr>\n",
       "      <th>month_to_end_contract</th>\n",
       "      <td>5.283089</td>\n",
       "      <td>1.662582</td>\n",
       "    </tr>\n",
       "    <tr>\n",
       "      <th>lifetime</th>\n",
       "      <td>4.711807</td>\n",
       "      <td>0.990575</td>\n",
       "    </tr>\n",
       "    <tr>\n",
       "      <th>avg_class_frequency_total</th>\n",
       "      <td>2.024876</td>\n",
       "      <td>1.474995</td>\n",
       "    </tr>\n",
       "    <tr>\n",
       "      <th>avg_class_frequency_current_month</th>\n",
       "      <td>2.027882</td>\n",
       "      <td>1.044546</td>\n",
       "    </tr>\n",
       "  </tbody>\n",
       "</table>\n",
       "</div>"
      ],
      "text/plain": [
       "churn                                       0           1\n",
       "gender                               0.510037    0.510839\n",
       "near_location                        0.873086    0.768143\n",
       "partner                              0.534195    0.355325\n",
       "promo_friends                        0.353522    0.183789\n",
       "phone                                0.903709    0.902922\n",
       "contract_period                      5.747193    1.728558\n",
       "group_visits                         0.464103    0.268615\n",
       "age                                 29.976523   26.989632\n",
       "avg_additional_charges_total       158.445715  115.082899\n",
       "month_to_end_contract                5.283089    1.662582\n",
       "lifetime                             4.711807    0.990575\n",
       "avg_class_frequency_total            2.024876    1.474995\n",
       "avg_class_frequency_current_month    2.027882    1.044546"
      ]
     },
     "execution_count": 12,
     "metadata": {},
     "output_type": "execute_result"
    }
   ],
   "source": [
    "# Посмотрим на средние значения признаков в двух группах — тех, кто ушел в отток и тех, кто остался\n",
    "gym_churn.groupby('churn').mean().T"
   ]
  },
  {
   "cell_type": "markdown",
   "metadata": {},
   "source": [
    "**Вывод:**\n",
    "* Пол распределился равномерно, соответственно, этот признак не влияет на отток.\n",
    "* Не попавшие в отток клиенты чуть чаще живут/работают рядом с фитнес-центром (86% и 77% соответственно). Можно сказать, что данный признак слабо влияет на отток.\n",
    "* Только треть (35%) клиентов, попавших в отток, являются сотрудником компании-партнера клуба, среди оставшихся таких клиентов - 53%. Можно сказать, что данный признак влияет на отток. Среди сотрудников компании-партнера клуба отток ниже.\n",
    "* 35% клиентов, не попавших в отток, пришли по программе \"приведи друга\", среди попавших в отток - 18%. Данный признак влияет на отток. Среди клиентов данной акции отток ниже.\n",
    "* Телефон указывают одинаково часто, данный признак не влияет на отток.\n",
    "* Средняя длительность текущего абонемента у клиентов, ушедших в отток, составляет 1.7 мес, у остальных - 5.7 мес. Данный признак влият на отток. Те, кто купили длительный абонемент, реже уходят в отток.\n",
    "* Клиенты, попавшие в отток, реже посещают групповые занятия (46% и 26% сответственно). Данный признак влияет на отток.\n",
    "* Средний возраст клиентов, попавших в отток - 27 лет, оставшихся - 30 лет. Данный признак не влияет на отток.\n",
    "* Клиенты, не попавшие в отток, тратят больше денег на другие услуги фитнес-центра, чем ушедшие (158 и 115 ед. соответственно). Данный признак влият на отток.\n",
    "* Средняя длительность текущего абонемента у клиентов, ушедших в отток, составляет 1.6 мес, у оставшихся - 5.3 мес. Данный признак влияет на отток. Клиенты реже уходят из фитнес-клуба, если их абонемент не закончен.\n",
    "* Средний срок жизни оставшихся клиентов выше, чем у ушедшх в отток (4.7 мес. и 1 мес. соответственно). Данный признак влияет на отток. Клиенты реже ухоят из фитнес-клуба, если ходят туда несколько месяцев.\n",
    "* Средняя частота посещений за весь период у клиентов, попавших в отток, ниже, чем у оставшихся (1.47 и 2 раза в неделю соответственно). Можно сказать, что данный признак незначительно влияет на отток.\n",
    "* Средняя частота посещений за последний месяц у попавших в отток клиентов в 2 раза ниже, чем у оставшихся - 1 против 2 раз в неделю. Данный признак влияет на отток. Те, кто ушли, постепенно уменьшали количество походов в фитнес-клуб в неделю."
   ]
  },
  {
   "cell_type": "markdown",
   "metadata": {},
   "source": [
    "### Столбчатые гистограммы и распределения признаков для тех, кто ушёл (отток) и тех, кто остался (не попали в отток)"
   ]
  },
  {
   "cell_type": "code",
   "execution_count": 13,
   "metadata": {},
   "outputs": [
    {
     "data": {
      "image/png": "[encoded data removed]",
      "text/plain": [
       "<Figure size 936x576 with 6 Axes>"
      ]
     },
     "metadata": {
      "needs_background": "light"
     },
     "output_type": "display_data"
    }
   ],
   "source": [
    "# Построим распределения категориальных признаков\n",
    "categorical_features = gym_churn[['gender', 'near_location', 'partner', 'promo_friends', 'phone', 'group_visits']]\n",
    "fig, axes = plt.subplots(nrows=2, ncols=3)\n",
    "axes_list = [item for sublist in axes for item in sublist]\n",
    "fig.tight_layout(pad=5.0)\n",
    "fig.suptitle('Распределение категориальных признаков', fontsize=17)\n",
    "for feature in categorical_features:\n",
    "    ax = axes_list.pop(0)\n",
    "    sns.distplot(gym_churn.query('churn == 1')[feature].astype(int), bins=4, ax=ax, kde=False, color='#FF0000',label='ушли')\n",
    "    sns.distplot(gym_churn.query('churn == 0')[feature].astype(int), bins=4, ax=ax, kde=False, color='#FFA500',label='остались')\n",
    "    ax.set_xticks([0,1])\n",
    "    ax.set_xlabel(feature, fontsize=12)\n",
    "    ax.set_ylabel('Кол-во клиентов', fontsize=13)\n",
    "    ax.legend()"
   ]
  },
  {
   "cell_type": "markdown",
   "metadata": {},
   "source": [
    "**Вывод**\n",
    "* Пол распределен равномерно среди оставшихся клиентов и попавших в отток.\n",
    "* Среди людей, живущих отдаленно от фитнес-центра, доля попавших в отток значительно выше, чем среди живущих неподалеку.\n",
    "* Почти половина клиентов, не работающих компании-партнёра клуба, попали в отток. Доля ушедших клиентов, работающих в компании-партнера клуба, знаительно ниже.\n",
    "* Клиенты, приходящие по акции \"приведи друга\", значительно реже попадают в отток, чем остальные.\n",
    "* Наличие контактного телефона не влияет на попадание в отток.\n",
    "* Клиенты, посещающие групповые занятия реже попадают в отток, чем те, кто их не посещает."
   ]
  },
  {
   "cell_type": "code",
   "execution_count": 14,
   "metadata": {},
   "outputs": [
    {
     "data": {
      "image/png": "[encoded data removed]",
      "text/plain": [
       "<Figure size 936x936 with 8 Axes>"
      ]
     },
     "metadata": {
      "needs_background": "light"
     },
     "output_type": "display_data"
    }
   ],
   "source": [
    "# Построим распределения количественных признаков\n",
    "numeric_features = gym_churn[['age', 'lifetime', 'contract_period', 'month_to_end_contract', 'avg_class_frequency_total', 'avg_class_frequency_current_month', 'avg_additional_charges_total']]\n",
    "fig, axes = plt.subplots(nrows=4, ncols=2, figsize=(13,13))\n",
    "axes_list = [item for sublist in axes for item in sublist]\n",
    "fig.tight_layout(pad=5.0)\n",
    "fig.suptitle('Распределение количественных признаков', fontsize=17)\n",
    "for feature in numeric_features:\n",
    "    ax = axes_list.pop(0)\n",
    "    sns.distplot(gym_churn.query('churn == 1')[feature], bins=10, ax=ax, kde=False, color='#FF0000',label='ушли')\n",
    "    sns.distplot(gym_churn.query('churn == 0')[feature], bins=10, ax=ax, kde=False, color='#FFA500',label='остались')\n",
    "    ax.set_xlabel(feature, fontsize=11)\n",
    "    ax.set_ylabel('Кол-во клиентов', fontsize=13)\n",
    "    ax.legend()"
   ]
  },
  {
   "cell_type": "markdown",
   "metadata": {},
   "source": [
    "**Вывод**\n",
    "* Возраст распределен равномерно среди оставшихся и попавших в отток клиентов.\n",
    "* Попадающие в отток клиенты чаще уходят после первого месяца. У клиентов с выскоим 'lifetime' оттока почти нет.\n",
    "* Чаще уходят клиенты с длительностью абонемента 1 месяц. Чем дольше абонемент у клиентов, тем меньше доля оттока.\n",
    "* Клиенты, которые ушли, ходили в среднем немного реже за все время, чем те, кто остался. Если клиент ходит 4 и более раз в неделю в фитнес-центр, то он скорее всего не уйдет.\n",
    "* Последний перед оттоком месяц большинство ушедших клиентов не посещали клуб."
   ]
  },
  {
   "cell_type": "markdown",
   "metadata": {},
   "source": [
    "### Матрица корреляций признаков"
   ]
  },
  {
   "cell_type": "code",
   "execution_count": 15,
   "metadata": {},
   "outputs": [
    {
     "data": {
      "image/png": "[encoded data removed]",
      "text/plain": [
       "<Figure size 1152x648 with 2 Axes>"
      ]
     },
     "metadata": {
      "needs_background": "light"
     },
     "output_type": "display_data"
    }
   ],
   "source": [
    "cm = gym_churn.corr()\n",
    "plt.figure(figsize=(16,9))\n",
    "sns.heatmap(cm, annot = True, square=False)\n",
    "plt.title('Матрица корреляций признаков')\n",
    "plt.xlabel('Признаки') \n",
    "plt.ylabel('Признаки') \n",
    "plt.show()"
   ]
  },
  {
   "cell_type": "markdown",
   "metadata": {},
   "source": [
    "**Вывод**\n",
    "* Пол (gender) и телефон (phone) имеют практически нулевую корреляцию с оттоком.\n",
    "* На целевую переменную оказывают умеренное влияние 'age', 'contract_period', 'lifetime' и 'avg_class_frequency_current_month'. Чем больше возраст, срок действия абонемента, время с момента первого посещения и среднее количество посещений в последний месяц, тем ниже отток.\n",
    "* Остальные признаки практически не влияют на отток клиентов.\n",
    "* Между собой сильно коррелируют две пары признаков:\n",
    "<br>срок абонемента 'contract_period' и количество месяцев до конца абонемента 'month_to_end_contract'- чем больше срок абонемента, тем скорее всего больше месяцев осталось;\n",
    "<br>средняя частота посещений за последний месяц'avg_class_frequency_current_month' и средняя частота посещений за весь период 'avg_class_frequency_total' - клиенты, которые давно ходят с определенным графиком, скорее всего и за последний месяц ходили с таким же графиком."
   ]
  },
  {
   "cell_type": "markdown",
   "metadata": {},
   "source": [
    "**Общий вывод по исследовательскому анализу данных**\n",
    "\n",
    "**1. Демография и основные характеристики клиентов**\n",
    "* Гендерный состав клиентов сбалансирован (примерно 50/50), и пол не влияет на отток.\n",
    "* Средний возраст клиентов — **29 лет**, при этом возраст также не оказывает значимого влияния на отток.\n",
    "* **85% клиентов** живут или работают рядом с фитнес-центром, что снижает вероятность их ухода.\n",
    "* **48% клиентов** являются сотрудниками компаний-партнеров, что также уменьшает отток.\n",
    "* **30% клиентов** пришли по акции «приведи друга», и у них отток значительно ниже.\n",
    "\n",
    "**2. Факторы, влияющие на отток**\n",
    "  \n",
    "**Сильное влияние:**\n",
    "* **Срок абонемента:** Клиенты с долгосрочными абонементами (особенно от 6 месяцев) уходят реже.\n",
    "* **Групповые занятия:** Посещающие их клиенты оттокают реже (46% vs 26%).\n",
    "* **Средний чек допуслуг:** Клиенты, тратящие больше на дополнительные услуги, менее склонны к оттоку.\n",
    "* **Lifetime (время с первого визита):** Чем дольше клиент посещает клуб, тем ниже вероятность ухода.\n",
    "* **Частота посещений в последний месяц:** Резкое снижение посещений (1 раз/нед. у ушедших vs 2 раза/нед. у оставшихся) — ключевой индикатор оттока.\n",
    "\n",
    "**Слабое влияние:**\n",
    "* **Проживание/работа рядом:** Небольшая разница в оттоке (77% у ушедших vs 86% у оставшихся).\n",
    "* **Частота посещений за весь период:** Незначительная разница (1.47 vs 2 раза/нед.).\n",
    "\n",
    "**Не влияют:**\n",
    "* Пол, наличие телефона, возраст.\n",
    "\n",
    "**3. Вывод**\n",
    "\n",
    "Основные драйверы оттока — **краткосрочные абонементы, низкая вовлеченность (редкие посещения), отсутствие участия в групповых занятиях и партнерских программах.** Удержать клиентов можно за счет **персонализированных предложений, долгосрочных абонементов и повышения вовлеченности** через дополнительные услуги и групповые активности."
   ]
  },
  {
   "cell_type": "markdown",
   "metadata": {},
   "source": [
    "## Модель прогнозирования оттока клиентов"
   ]
  },
  {
   "cell_type": "markdown",
   "metadata": {},
   "source": [
    "### Разделим наши данные на признаки (матрица X) и целевую переменную (y)"
   ]
  },
  {
   "cell_type": "code",
   "execution_count": 16,
   "metadata": {},
   "outputs": [],
   "source": [
    "# разделяем данные на признаки (матрица X) и целевую переменную (y)\n",
    "X = gym_churn.drop('churn', axis = 1)\n",
    "y = gym_churn['churn']"
   ]
  },
  {
   "cell_type": "code",
   "execution_count": 17,
   "metadata": {},
   "outputs": [],
   "source": [
    "# разделяем модель на обучающую и валидационную выборку\n",
    "X_train, X_test, y_train, y_test = train_test_split(X, y, test_size=0.2, random_state=0)\n",
    "\n",
    "# стандартизируем данные \n",
    "scaler = StandardScaler()\n",
    "X_train_st = scaler.fit_transform(X_train) \n",
    "X_test_st = scaler.transform(X_test) "
   ]
  },
  {
   "cell_type": "markdown",
   "metadata": {},
   "source": [
    "### Логистическая регрессия"
   ]
  },
  {
   "cell_type": "code",
   "execution_count": 18,
   "metadata": {},
   "outputs": [],
   "source": [
    "# зададим алгоритм для нашей модели:\n",
    "lr_model = LogisticRegression(solver='liblinear')\n",
    "\n",
    "# обучим модель:\n",
    "lr_model.fit(X_train, y_train)\n",
    "\n",
    "# воспользуемся уже обученной моделью, чтобы сделать прогнозы:\n",
    "lr_predictions = lr_model.predict(X_test) "
   ]
  },
  {
   "cell_type": "markdown",
   "metadata": {},
   "source": [
    "### Случайный лес"
   ]
  },
  {
   "cell_type": "code",
   "execution_count": 19,
   "metadata": {},
   "outputs": [],
   "source": [
    "# зададим алгоритм для модели на основе алгоритма случайного леса\n",
    "rf_model = RandomForestClassifier(n_estimators = 100, random_state = 0)\n",
    "\n",
    "# обучим модель случайного леса\n",
    "rf_model.fit(X_train, y_train)\n",
    "\n",
    "# воспользуемся уже обученной моделью, чтобы сделать прогнозы\n",
    "rf_predictions = rf_model.predict(X_test)"
   ]
  },
  {
   "cell_type": "code",
   "execution_count": 20,
   "metadata": {},
   "outputs": [],
   "source": [
    "# функция, выводящая метрики\n",
    "def print_all_metrics(y_true, y_pred, title):\n",
    "    print(title)\n",
    "    print('\\tAccuracy: {:.2f}'.format(accuracy_score(y_true, y_pred)))\n",
    "    print('\\tPrecision: {:.2f}'.format(precision_score(y_true, y_pred)))\n",
    "    print('\\tRecall: {:.2f}'.format(recall_score(y_true, y_pred)))\n",
    "    print('\\tF1: {:.2f}'.format(f1_score(y_true, y_pred)))"
   ]
  },
  {
   "cell_type": "code",
   "execution_count": 21,
   "metadata": {},
   "outputs": [
    {
     "name": "stdout",
     "output_type": "stream",
     "text": [
      "Метрики для алгоритма логистической регрессии:\n",
      "\tAccuracy: 0.93\n",
      "\tPrecision: 0.86\n",
      "\tRecall: 0.83\n",
      "\tF1: 0.85\n",
      "Метрики для модели случайного леса:\n",
      "\tAccuracy: 0.92\n",
      "\tPrecision: 0.84\n",
      "\tRecall: 0.82\n",
      "\tF1: 0.83\n"
     ]
    }
   ],
   "source": [
    "# выведем все метрики\n",
    "print_all_metrics(y_test, lr_predictions, 'Метрики для алгоритма логистической регрессии:')\n",
    "print_all_metrics(y_test, rf_predictions, title = 'Метрики для модели случайного леса:')"
   ]
  },
  {
   "cell_type": "markdown",
   "metadata": {},
   "source": [
    "**Вывод:**\n",
    "<br>Доля правильных прогнозов, точность и полнота чуть выше в модели логистической регрессии\n",
    "<br>Таким образом, модель логистической регрессии показала себя лучше."
   ]
  },
  {
   "cell_type": "markdown",
   "metadata": {},
   "source": [
    "## Кластеризация клиентов"
   ]
  },
  {
   "cell_type": "markdown",
   "metadata": {},
   "source": [
    "### Стандартизируем данные"
   ]
  },
  {
   "cell_type": "code",
   "execution_count": 22,
   "metadata": {},
   "outputs": [],
   "source": [
    "sc = StandardScaler()\n",
    "x_sc = sc.fit_transform(X)"
   ]
  },
  {
   "cell_type": "markdown",
   "metadata": {},
   "source": [
    "### Построим матрицу расстояний функцией linkage() на стандартизованной матрице признаков и нарисуем дендрограмму"
   ]
  },
  {
   "cell_type": "code",
   "execution_count": 23,
   "metadata": {},
   "outputs": [
    {
     "data": {
      "image/png": "[encoded data removed]",
      "text/plain": [
       "<Figure size 1080x720 with 1 Axes>"
      ]
     },
     "metadata": {
      "needs_background": "light"
     },
     "output_type": "display_data"
    }
   ],
   "source": [
    "linked = linkage(x_sc, method = 'ward') \n",
    "plt.figure(figsize=(15, 10))  \n",
    "dendrogram(linked, orientation='top')\n",
    "plt.title('Иерархическая кластерзация')\n",
    "plt.show() "
   ]
  },
  {
   "cell_type": "markdown",
   "metadata": {},
   "source": [
    "**Вывод:**\n",
    "<br>По дендрограмме можно выделить от 4 до 6 кластеров."
   ]
  },
  {
   "cell_type": "markdown",
   "metadata": {},
   "source": [
    "### Обучим модель кластеризации на основании алгоритма K-Means и спрогнозируем кластеры клиентов"
   ]
  },
  {
   "cell_type": "code",
   "execution_count": 24,
   "metadata": {},
   "outputs": [],
   "source": [
    "# задаём модель k_means с числом кластеров 5 и фиксируем значение random_state\n",
    "km = KMeans(n_clusters = 5, random_state=0) \n",
    "# прогнозируем кластеры для наблюдений \n",
    "labels = km.fit_predict(x_sc)\n",
    "gym_churn['cluster_km'] = labels"
   ]
  },
  {
   "cell_type": "markdown",
   "metadata": {},
   "source": [
    "### Посмотрим на средние значения признаков для кластеров"
   ]
  },
  {
   "cell_type": "code",
   "execution_count": 25,
   "metadata": {},
   "outputs": [
    {
     "data": {
      "text/html": [
       "<div>\n",
       "<style scoped>\n",
       "    .dataframe tbody tr th:only-of-type {\n",
       "        vertical-align: middle;\n",
       "    }\n",
       "\n",
       "    .dataframe tbody tr th {\n",
       "        vertical-align: top;\n",
       "    }\n",
       "\n",
       "    .dataframe thead th {\n",
       "        text-align: right;\n",
       "    }\n",
       "</style>\n",
       "<table border=\"1\" class=\"dataframe\">\n",
       "  <thead>\n",
       "    <tr style=\"text-align: right;\">\n",
       "      <th>cluster_km</th>\n",
       "      <th>0</th>\n",
       "      <th>1</th>\n",
       "      <th>2</th>\n",
       "      <th>3</th>\n",
       "      <th>4</th>\n",
       "    </tr>\n",
       "  </thead>\n",
       "  <tbody>\n",
       "    <tr>\n",
       "      <th>gender</th>\n",
       "      <td>0.502970</td>\n",
       "      <td>0.522078</td>\n",
       "      <td>0.495050</td>\n",
       "      <td>0.485737</td>\n",
       "      <td>0.559666</td>\n",
       "    </tr>\n",
       "    <tr>\n",
       "      <th>near_location</th>\n",
       "      <td>0.959406</td>\n",
       "      <td>0.862338</td>\n",
       "      <td>0.000000</td>\n",
       "      <td>1.000000</td>\n",
       "      <td>0.976134</td>\n",
       "    </tr>\n",
       "    <tr>\n",
       "      <th>partner</th>\n",
       "      <td>0.783168</td>\n",
       "      <td>0.470130</td>\n",
       "      <td>0.463366</td>\n",
       "      <td>0.350238</td>\n",
       "      <td>0.356802</td>\n",
       "    </tr>\n",
       "    <tr>\n",
       "      <th>promo_friends</th>\n",
       "      <td>0.574257</td>\n",
       "      <td>0.306494</td>\n",
       "      <td>0.079208</td>\n",
       "      <td>0.240095</td>\n",
       "      <td>0.230310</td>\n",
       "    </tr>\n",
       "    <tr>\n",
       "      <th>phone</th>\n",
       "      <td>1.000000</td>\n",
       "      <td>0.000000</td>\n",
       "      <td>1.000000</td>\n",
       "      <td>1.000000</td>\n",
       "      <td>0.998807</td>\n",
       "    </tr>\n",
       "    <tr>\n",
       "      <th>contract_period</th>\n",
       "      <td>10.889109</td>\n",
       "      <td>4.787013</td>\n",
       "      <td>2.352475</td>\n",
       "      <td>1.948494</td>\n",
       "      <td>2.669451</td>\n",
       "    </tr>\n",
       "    <tr>\n",
       "      <th>group_visits</th>\n",
       "      <td>0.542574</td>\n",
       "      <td>0.425974</td>\n",
       "      <td>0.215842</td>\n",
       "      <td>0.341521</td>\n",
       "      <td>0.473747</td>\n",
       "    </tr>\n",
       "    <tr>\n",
       "      <th>age</th>\n",
       "      <td>29.982178</td>\n",
       "      <td>29.301299</td>\n",
       "      <td>28.477228</td>\n",
       "      <td>28.167987</td>\n",
       "      <td>30.125298</td>\n",
       "    </tr>\n",
       "    <tr>\n",
       "      <th>avg_additional_charges_total</th>\n",
       "      <td>160.761016</td>\n",
       "      <td>143.957664</td>\n",
       "      <td>135.457501</td>\n",
       "      <td>131.622204</td>\n",
       "      <td>161.657905</td>\n",
       "    </tr>\n",
       "    <tr>\n",
       "      <th>month_to_end_contract</th>\n",
       "      <td>9.954455</td>\n",
       "      <td>4.475325</td>\n",
       "      <td>2.198020</td>\n",
       "      <td>1.856577</td>\n",
       "      <td>2.459427</td>\n",
       "    </tr>\n",
       "    <tr>\n",
       "      <th>lifetime</th>\n",
       "      <td>4.736634</td>\n",
       "      <td>3.924675</td>\n",
       "      <td>2.809901</td>\n",
       "      <td>2.440571</td>\n",
       "      <td>4.898568</td>\n",
       "    </tr>\n",
       "    <tr>\n",
       "      <th>avg_class_frequency_total</th>\n",
       "      <td>1.982055</td>\n",
       "      <td>1.847220</td>\n",
       "      <td>1.660461</td>\n",
       "      <td>1.247634</td>\n",
       "      <td>2.852002</td>\n",
       "    </tr>\n",
       "    <tr>\n",
       "      <th>avg_class_frequency_current_month</th>\n",
       "      <td>1.974789</td>\n",
       "      <td>1.716369</td>\n",
       "      <td>1.477324</td>\n",
       "      <td>1.012983</td>\n",
       "      <td>2.850161</td>\n",
       "    </tr>\n",
       "    <tr>\n",
       "      <th>churn</th>\n",
       "      <td>0.027723</td>\n",
       "      <td>0.267532</td>\n",
       "      <td>0.443564</td>\n",
       "      <td>0.514263</td>\n",
       "      <td>0.068019</td>\n",
       "    </tr>\n",
       "  </tbody>\n",
       "</table>\n",
       "</div>"
      ],
      "text/plain": [
       "cluster_km                                  0           1           2  \\\n",
       "gender                               0.502970    0.522078    0.495050   \n",
       "near_location                        0.959406    0.862338    0.000000   \n",
       "partner                              0.783168    0.470130    0.463366   \n",
       "promo_friends                        0.574257    0.306494    0.079208   \n",
       "phone                                1.000000    0.000000    1.000000   \n",
       "contract_period                     10.889109    4.787013    2.352475   \n",
       "group_visits                         0.542574    0.425974    0.215842   \n",
       "age                                 29.982178   29.301299   28.477228   \n",
       "avg_additional_charges_total       160.761016  143.957664  135.457501   \n",
       "month_to_end_contract                9.954455    4.475325    2.198020   \n",
       "lifetime                             4.736634    3.924675    2.809901   \n",
       "avg_class_frequency_total            1.982055    1.847220    1.660461   \n",
       "avg_class_frequency_current_month    1.974789    1.716369    1.477324   \n",
       "churn                                0.027723    0.267532    0.443564   \n",
       "\n",
       "cluster_km                                  3           4  \n",
       "gender                               0.485737    0.559666  \n",
       "near_location                        1.000000    0.976134  \n",
       "partner                              0.350238    0.356802  \n",
       "promo_friends                        0.240095    0.230310  \n",
       "phone                                1.000000    0.998807  \n",
       "contract_period                      1.948494    2.669451  \n",
       "group_visits                         0.341521    0.473747  \n",
       "age                                 28.167987   30.125298  \n",
       "avg_additional_charges_total       131.622204  161.657905  \n",
       "month_to_end_contract                1.856577    2.459427  \n",
       "lifetime                             2.440571    4.898568  \n",
       "avg_class_frequency_total            1.247634    2.852002  \n",
       "avg_class_frequency_current_month    1.012983    2.850161  \n",
       "churn                                0.514263    0.068019  "
      ]
     },
     "execution_count": 25,
     "metadata": {},
     "output_type": "execute_result"
    }
   ],
   "source": [
    "gym_churn.groupby('cluster_km').mean().T"
   ]
  },
  {
   "cell_type": "markdown",
   "metadata": {},
   "source": [
    "**Выводы:**\n",
    "\n",
    "**Кластер 0:**\n",
    "* 96% живут или работают рядом с финес-центром\n",
    "* Среди них больше всего клиентов, которые являются сотрудником компании-партнёра клуба (78%)\n",
    "* Чаще остальных записались на занятие в рамках акции «приведи друга» (57%)\n",
    "* Самая высокая длительность текущего абонемента (10.9 месяцев)\n",
    "* Чаще остальных посещают групповые занятия (54%)\n",
    "* Отток 3% - самый низкий\n",
    "\n",
    "**Кластер 1:**\n",
    "* 86% живут или работают рядом с финес-центром\n",
    "* 47% являются сотрудником компании-партнёра клуба\n",
    "* 30% записались на занятие в рамках акции «приведи друга»\n",
    "* Никто из них не оставил номер телефона\n",
    "* Длительность текущего абонемента сосавляет 4.8 месяца\n",
    "* 43% посещают групповые занятия\n",
    "* Отток составляет 27%\n",
    "\n",
    "**Кластер 2:**\n",
    "* Все живут или работают далеко от фитнес-центра\n",
    "* 46% являются сотрудником компании-партнёра клуба\n",
    "* Самый низкий % пришедших по промокоду «приведи друга» (8%)\n",
    "* Длительность текущего абонемента составляет 2 месяца\n",
    "* Меньше остальных посещают групповые занятия - 22%\n",
    "* Отток составляет 44%\n",
    "\n",
    "**Кластер 3:**\n",
    "* 100% живут или работают рядом с финес-центром\n",
    "* 35% являются сотрудником компании-партнёра клуба\n",
    "* 24% записались на занятие в рамках акции «приведи друга»\n",
    "* Самая короткая длительность текущего абонемента (1.9 месяцев)\n",
    "* 34% посещают групповые занятия\n",
    "* Самый короткий срок с первого обращения в фитнес-центр (2,4 месяца)\n",
    "* Меньше остальных совершают доп. покупок\n",
    "* Самая маленькая частота посещений в неделю (около 1 в неделю)\n",
    "* Отток 51% - самый высокий\n",
    "\n",
    "**Кластер 4:**\n",
    "* 98% живут или работают рядом с финес-центром\n",
    "* 36% являются сотрудником компании-партнёра клуба\n",
    "* 23% записались на занятие в рамках акции «приведи друга»\n",
    "* 47% посещают групповые занятия\n",
    "* Самый высокий средний возраст - 30 лет\n",
    "* Больше остальных совершают доп. покупок\n",
    "* Длительность текущего абонемента составляет 2.5 месяца\n",
    "* Самый долгий срок с первого обращения в фитнес-центр (4.9 месяца)\n",
    "* Самая высокая частота посещений в неделю (2.9 в неделю)\n",
    "* Отток составляет 7%"
   ]
  },
  {
   "cell_type": "markdown",
   "metadata": {},
   "source": [
    "### Построим распределения признаков для кластеров"
   ]
  },
  {
   "cell_type": "code",
   "execution_count": 26,
   "metadata": {
    "scrolled": true
   },
   "outputs": [
    {
     "data": {
      "image/png": "[encoded data removed]",
      "text/plain": [
       "<Figure size 648x576 with 1 Axes>"
      ]
     },
     "metadata": {
      "needs_background": "light"
     },
     "output_type": "display_data"
    },
    {
     "data": {
      "image/png": "[encoded data removed]",
      "text/plain": [
       "<Figure size 648x576 with 1 Axes>"
      ]
     },
     "metadata": {
      "needs_background": "light"
     },
     "output_type": "display_data"
    },
    {
     "data": {
      "image/png": "[encoded data removed]",
      "text/plain": [
       "<Figure size 648x576 with 1 Axes>"
      ]
     },
     "metadata": {
      "needs_background": "light"
     },
     "output_type": "display_data"
    },
    {
     "data": {
      "image/png": "[encoded data removed]",
      "text/plain": [
       "<Figure size 648x576 with 1 Axes>"
      ]
     },
     "metadata": {
      "needs_background": "light"
     },
     "output_type": "display_data"
    },
    {
     "data": {
      "image/png": "[encoded data removed]",
      "text/plain": [
       "<Figure size 648x576 with 1 Axes>"
      ]
     },
     "metadata": {
      "needs_background": "light"
     },
     "output_type": "display_data"
    }
   ],
   "source": [
    "# построим распределения для категориальных признаков\n",
    "cluster_categorical = ['churn', 'near_location', 'partner', 'promo_friends', 'group_visits']\n",
    "for column in cluster_categorical:\n",
    "    plt.figure(figsize=(9, 8))\n",
    "    sns.countplot(x = gym_churn[column], hue='cluster_km', data=gym_churn)\n",
    "    plt.title(column)\n",
    "    plt.show()"
   ]
  },
  {
   "cell_type": "markdown",
   "metadata": {},
   "source": [
    "**Выводы:**\n",
    "* Больше половины 3 кластера попали в отток. Наименьшая доля оттока у 0 и 4 кластеров.\n",
    "* Все представители 3 кластера живут или работают рядом с фитес-центром. Больший % 0, 1 и 4 кластеров живут или работают рядом с фитес-центром. Только 2 кластер живет/работает далеко от фитнес-центра.\n",
    "* Большая часть 3 и 4 кластеров не является сотрудником компании-партнёра клуба. Большая часть 0 кластера является сотрудником компании-партнёра клуба. 1 и 2 кластеры примерно поровну.\n",
    "* Большая часть 2, 3 и 4 кластеров не воспользовались акцией «приведи друга». Самый высокий процент воспользовавшихся акцией у 0 кластера.\n",
    "* Большая часть 2 и 3 кластеров не посещают групповые зантия. Больше остальных посещает групповые занятия 0 кластер."
   ]
  },
  {
   "cell_type": "code",
   "execution_count": 27,
   "metadata": {
    "scrolled": true
   },
   "outputs": [
    {
     "data": {
      "image/png": "[encoded data removed]",
      "text/plain": [
       "<Figure size 648x576 with 1 Axes>"
      ]
     },
     "metadata": {
      "needs_background": "light"
     },
     "output_type": "display_data"
    },
    {
     "data": {
      "image/png": "[encoded data removed]",
      "text/plain": [
       "<Figure size 648x576 with 1 Axes>"
      ]
     },
     "metadata": {
      "needs_background": "light"
     },
     "output_type": "display_data"
    },
    {
     "data": {
      "image/png": "[encoded data removed]",
      "text/plain": [
       "<Figure size 648x576 with 1 Axes>"
      ]
     },
     "metadata": {
      "needs_background": "light"
     },
     "output_type": "display_data"
    },
    {
     "data": {
      "image/png": "[encoded data removed]",
      "text/plain": [
       "<Figure size 648x576 with 1 Axes>"
      ]
     },
     "metadata": {
      "needs_background": "light"
     },
     "output_type": "display_data"
    },
    {
     "data": {
      "image/png": "[encoded data removed]",
      "text/plain": [
       "<Figure size 648x576 with 1 Axes>"
      ]
     },
     "metadata": {
      "needs_background": "light"
     },
     "output_type": "display_data"
    },
    {
     "data": {
      "image/png": "[encoded data removed]",
      "text/plain": [
       "<Figure size 648x576 with 1 Axes>"
      ]
     },
     "metadata": {
      "needs_background": "light"
     },
     "output_type": "display_data"
    }
   ],
   "source": [
    "# построим распределения для количественных признаков\n",
    "cluster_numeric = ['age', 'lifetime', 'month_to_end_contract', 'avg_class_frequency_total', 'avg_class_frequency_current_month', 'avg_additional_charges_total']\n",
    "for column in cluster_numeric:\n",
    "    plt.figure(figsize=(9, 8))\n",
    "    sns.boxplot(x = 'cluster_km', y = gym_churn[column], data = gym_churn)\n",
    "    plt.title(column)\n",
    "    plt.show()"
   ]
  },
  {
   "cell_type": "markdown",
   "metadata": {},
   "source": [
    "**Выводы:**\n",
    "* Максимальный возраст у 4 кластера, минимальный - у 2 кластера.\n",
    "* Самый высокий lifetime у 4 кластера, минимальный у 3 кластера.\n",
    "* По параметру длительности контракта выделяется кластер 0 - большая часть подписала контракт на год.\n",
    "* Самая высокая посещаемость фитнес-центра у кластера 4. Самая низкая - у 3 кластера.\n",
    "* Больше других тратят на доп. услуги кластеры 0 и 4."
   ]
  },
  {
   "cell_type": "markdown",
   "metadata": {},
   "source": [
    "### Посчитаем долю оттока "
   ]
  },
  {
   "cell_type": "code",
   "execution_count": 28,
   "metadata": {},
   "outputs": [
    {
     "data": {
      "text/plain": [
       "cluster_km\n",
       "0    0.026390\n",
       "1    0.097078\n",
       "2    0.211122\n",
       "3    0.611687\n",
       "4    0.053723\n",
       "Name: churn, dtype: float64"
      ]
     },
     "execution_count": 28,
     "metadata": {},
     "output_type": "execute_result"
    }
   ],
   "source": [
    "churn_share = gym_churn.query('churn==1').groupby('cluster_km')['churn'].count() / gym_churn.query('churn==1')['churn'].count()\n",
    "churn_share"
   ]
  },
  {
   "cell_type": "markdown",
   "metadata": {},
   "source": [
    "**Вывод:**\n",
    "Самая высокая доля оттока у 3 кластера (61%), самая низкая у 0 кластера (2.6%)"
   ]
  },
  {
   "cell_type": "markdown",
   "metadata": {},
   "source": [
    "## Выводы и рекомендации"
   ]
  },
  {
   "cell_type": "markdown",
   "metadata": {},
   "source": [
    "После проведения анализа и подготовки данных мы разработали алгоритм для предсказывания оттока клиентов на уровне следующего месяца с полнотой 83%. \n",
    "\n",
    "**1. Выводы по имеющимся данным:**\n",
    "* Пол представлен примерно поровну.\n",
    "* Большая часть клиентов (85%) фитнес-центра живет рядом.\n",
    "* Почти половина клиентов (48%) являются сотрудником компании-партнера фитнес-центра.\n",
    "* 30% клиентов записались на первое занятие в рамках акции «приведи друга».\n",
    "* Почти все клиенты оставили свой контактный телефон.\n",
    "* Средний возраст клиентов - 29 лет. Максимальный - 41 год.\n",
    "* Среднее время жизни клиента - 3.7 мес.\n",
    "* Средний срок окончания действия текущего абонемента - 4.3 мес.\n",
    "* 41% клиентов посещают групповые занятия.\n",
    "* Средняя частота посещений за текущий месяц - 1.77 в неделю.\n",
    "* Средняя суммарная выручка от других услуг фитнес-центра составляет 146.9 ед.\n",
    "* Отток в текущем месяце составляет 26%.\n",
    "\n",
    "**2. Ключевые факторы оттока**\n",
    "* **Длительность абонемента** – клиенты с короткими абонементами (1.7 мес. vs. 5.7 мес.) чаще уходят.\n",
    "* **Частота посещений** – уходящие клиенты посещают клуб реже (1 раз в неделю vs. 2 раза).\n",
    "* **Групповые занятия** – клиенты, не посещающие групповые занятия, чаще уходят (41% vs. ниже у оттока).\n",
    "* **Доп. услуги** – клиенты, тратящие меньше на доп. услуги, чаще уходят.\n",
    "* **Акции и партнерства** – сотрудники компаний-партнеров и участники акции «приведи друга» реже уходят.\n",
    "\n",
    "**Рекомендации:**\n",
    "\n",
    "* Стимулировать переход на долгосрочные абонементы (скидки, бонусы).\n",
    "* Повышать вовлеченность через групповые занятия (персональные рекомендации, бесплатные пробные занятия).\n",
    "* Мониторить частоту посещений – клиенты, снижающие активность, в зоне риска (можно предлагать мотивационные программы).\n",
    "\n",
    "**3. Анализ кластеров**\n",
    "* **Кластер 0 (низкий отток 3%)** – лояльные клиенты (партнерские компании, акция «приведи друга», долгие абонементы).\n",
    "    * **Стратегия:** Удерживать, поощрять рекомендации.\n",
    "* **Кластер 1 (отток 27%)** – не оставляют телефон, средний абонемент.\n",
    "    * **Стратегия:** Сбор контактов, улучшение коммуникации (email, push-уведомления).\n",
    "* **Кластер 2 (высокий отток 44%)** – живут далеко, редко ходят на групповые занятия.\n",
    "    * **Стратегия:** Предлагать онлайн-тренировки или транспортные льготы.\n",
    "* **Кластер 3 (максимальный отток 51%)** – новички с низкой вовлеченностью.\n",
    "    * **Стратегия:** Персональный коучинг, программы адаптации, пробные групповые занятия.\n",
    "* **Кластер 4 (низкий отток 7%)** – активные клиенты с высокими тратами.\n",
    "    * **Стратегия:** Программы лояльности, премиум-услуги."
   ]
  }
 ],
 "metadata": {
  "ExecuteTimeLog": [
   {
    "duration": 1309,
    "start_time": "2024-10-15T11:02:09.574Z"
   },
   {
    "duration": 166,
    "start_time": "2024-10-15T11:03:40.252Z"
   },
   {
    "duration": 17,
    "start_time": "2024-10-15T11:04:06.699Z"
   },
   {
    "duration": 11,
    "start_time": "2024-10-15T11:05:05.531Z"
   },
   {
    "duration": 13,
    "start_time": "2024-10-15T11:11:17.207Z"
   },
   {
    "duration": 4,
    "start_time": "2024-10-15T11:14:37.723Z"
   },
   {
    "duration": 10,
    "start_time": "2024-10-15T11:14:49.798Z"
   },
   {
    "duration": 93,
    "start_time": "2024-10-15T11:17:35.065Z"
   },
   {
    "duration": 3,
    "start_time": "2024-10-15T11:17:41.496Z"
   },
   {
    "duration": 12,
    "start_time": "2024-10-15T11:17:51.761Z"
   },
   {
    "duration": 6,
    "start_time": "2024-10-15T11:18:08.056Z"
   },
   {
    "duration": 8,
    "start_time": "2024-10-15T11:18:19.336Z"
   },
   {
    "duration": 44,
    "start_time": "2024-10-15T11:22:59.126Z"
   },
   {
    "duration": 80,
    "start_time": "2024-10-15T11:26:36.549Z"
   },
   {
    "duration": 4,
    "start_time": "2024-10-15T11:52:28.306Z"
   },
   {
    "duration": 44,
    "start_time": "2024-10-15T11:52:31.490Z"
   },
   {
    "duration": 71,
    "start_time": "2024-10-15T11:59:36.189Z"
   },
   {
    "duration": 3,
    "start_time": "2024-10-15T12:00:00.212Z"
   },
   {
    "duration": 73,
    "start_time": "2024-10-15T12:00:04.524Z"
   },
   {
    "duration": 81,
    "start_time": "2024-10-15T12:00:37.147Z"
   },
   {
    "duration": 40,
    "start_time": "2024-10-15T12:01:43.858Z"
   },
   {
    "duration": 11,
    "start_time": "2024-10-15T12:02:09.377Z"
   },
   {
    "duration": 6,
    "start_time": "2024-10-15T13:16:13.347Z"
   },
   {
    "duration": 13,
    "start_time": "2024-10-15T13:16:47.417Z"
   },
   {
    "duration": 53,
    "start_time": "2024-10-15T13:20:54.885Z"
   },
   {
    "duration": 61,
    "start_time": "2024-10-15T13:21:20.879Z"
   },
   {
    "duration": 51,
    "start_time": "2024-10-15T13:28:13.797Z"
   },
   {
    "duration": 731,
    "start_time": "2024-10-15T13:35:41.226Z"
   },
   {
    "duration": 824,
    "start_time": "2024-10-15T13:54:03.701Z"
   },
   {
    "duration": 5,
    "start_time": "2024-10-15T13:54:49.107Z"
   },
   {
    "duration": 19,
    "start_time": "2024-10-15T13:54:53.676Z"
   },
   {
    "duration": 711,
    "start_time": "2024-10-15T13:56:46.169Z"
   },
   {
    "duration": 71,
    "start_time": "2024-10-15T13:57:07.529Z"
   },
   {
    "duration": 1091,
    "start_time": "2024-10-15T13:57:12.872Z"
   },
   {
    "duration": 9,
    "start_time": "2024-10-15T13:57:25.507Z"
   },
   {
    "duration": 1028,
    "start_time": "2024-10-15T13:57:30.103Z"
   },
   {
    "duration": 9,
    "start_time": "2024-10-15T13:58:07.800Z"
   },
   {
    "duration": 987,
    "start_time": "2024-10-15T13:58:25.343Z"
   },
   {
    "duration": 1001,
    "start_time": "2024-10-15T13:58:51.841Z"
   },
   {
    "duration": 1094,
    "start_time": "2024-10-15T14:01:06.541Z"
   },
   {
    "duration": 1005,
    "start_time": "2024-10-15T14:06:00.009Z"
   },
   {
    "duration": 951,
    "start_time": "2024-10-15T14:06:23.456Z"
   },
   {
    "duration": 1067,
    "start_time": "2024-10-15T14:06:50.896Z"
   },
   {
    "duration": 981,
    "start_time": "2024-10-15T14:07:09.647Z"
   },
   {
    "duration": 980,
    "start_time": "2024-10-15T14:07:25.464Z"
   },
   {
    "duration": 908,
    "start_time": "2024-10-15T14:14:39.121Z"
   },
   {
    "duration": 824,
    "start_time": "2024-10-15T14:29:24.692Z"
   },
   {
    "duration": 738,
    "start_time": "2024-10-15T14:29:42.501Z"
   },
   {
    "duration": 1197,
    "start_time": "2024-10-15T14:31:06.188Z"
   },
   {
    "duration": 1576,
    "start_time": "2024-10-15T14:31:42.471Z"
   },
   {
    "duration": 1553,
    "start_time": "2024-10-15T14:32:00.266Z"
   },
   {
    "duration": 1611,
    "start_time": "2024-10-15T14:32:55.954Z"
   },
   {
    "duration": 1500,
    "start_time": "2024-10-15T15:18:21.492Z"
   },
   {
    "duration": 20,
    "start_time": "2024-10-15T15:20:10.626Z"
   },
   {
    "duration": 1477,
    "start_time": "2024-10-15T15:20:20.002Z"
   },
   {
    "duration": 1656,
    "start_time": "2024-10-15T15:21:00.212Z"
   },
   {
    "duration": 252,
    "start_time": "2024-10-15T15:43:54.513Z"
   },
   {
    "duration": 2,
    "start_time": "2024-10-15T15:47:56.854Z"
   },
   {
    "duration": 4,
    "start_time": "2024-10-15T15:49:34.310Z"
   },
   {
    "duration": 11,
    "start_time": "2024-10-15T15:49:42.973Z"
   },
   {
    "duration": 24,
    "start_time": "2024-10-15T15:56:36.984Z"
   },
   {
    "duration": 814,
    "start_time": "2024-10-15T15:57:59.470Z"
   },
   {
    "duration": 21,
    "start_time": "2024-10-15T16:01:22.546Z"
   },
   {
    "duration": 27,
    "start_time": "2024-10-15T16:01:48.980Z"
   },
   {
    "duration": 20,
    "start_time": "2024-10-15T16:01:53.971Z"
   },
   {
    "duration": 12,
    "start_time": "2024-10-15T16:03:32.456Z"
   },
   {
    "duration": 374,
    "start_time": "2024-10-15T16:03:36.389Z"
   },
   {
    "duration": 4,
    "start_time": "2024-10-15T16:05:33.409Z"
   },
   {
    "duration": 16,
    "start_time": "2024-10-15T16:05:53.232Z"
   },
   {
    "duration": 5,
    "start_time": "2024-10-15T16:06:35.786Z"
   },
   {
    "duration": 12,
    "start_time": "2024-10-15T16:06:37.433Z"
   },
   {
    "duration": 4,
    "start_time": "2024-10-15T16:07:09.867Z"
   },
   {
    "duration": 14,
    "start_time": "2024-10-15T16:07:13.890Z"
   },
   {
    "duration": 4,
    "start_time": "2024-10-15T16:07:54.263Z"
   },
   {
    "duration": 16,
    "start_time": "2024-10-15T16:07:56.295Z"
   },
   {
    "duration": 13,
    "start_time": "2024-10-15T16:09:08.342Z"
   },
   {
    "duration": 13,
    "start_time": "2024-10-15T16:09:33.840Z"
   },
   {
    "duration": 1728,
    "start_time": "2024-10-19T10:39:03.389Z"
   },
   {
    "duration": 176,
    "start_time": "2024-10-19T10:39:05.120Z"
   },
   {
    "duration": 17,
    "start_time": "2024-10-19T10:39:05.298Z"
   },
   {
    "duration": 30,
    "start_time": "2024-10-19T10:39:05.317Z"
   },
   {
    "duration": 18,
    "start_time": "2024-10-19T10:39:05.349Z"
   },
   {
    "duration": 27,
    "start_time": "2024-10-19T10:39:05.369Z"
   },
   {
    "duration": 32,
    "start_time": "2024-10-19T10:39:05.398Z"
   },
   {
    "duration": 38,
    "start_time": "2024-10-19T10:39:05.432Z"
   },
   {
    "duration": 26,
    "start_time": "2024-10-19T10:39:05.473Z"
   },
   {
    "duration": 18,
    "start_time": "2024-10-19T10:39:05.503Z"
   },
   {
    "duration": 54,
    "start_time": "2024-10-19T10:39:05.522Z"
   },
   {
    "duration": 11,
    "start_time": "2024-10-19T10:39:05.578Z"
   },
   {
    "duration": 1067,
    "start_time": "2024-10-19T10:39:05.590Z"
   },
   {
    "duration": 1508,
    "start_time": "2024-10-19T10:39:06.658Z"
   },
   {
    "duration": 1586,
    "start_time": "2024-10-19T10:39:08.168Z"
   },
   {
    "duration": 3,
    "start_time": "2024-10-19T10:39:09.756Z"
   },
   {
    "duration": 20,
    "start_time": "2024-10-19T10:39:09.761Z"
   },
   {
    "duration": 821,
    "start_time": "2024-10-19T10:39:09.782Z"
   },
   {
    "duration": 550,
    "start_time": "2024-10-19T10:39:10.606Z"
   },
   {
    "duration": 4,
    "start_time": "2024-10-19T10:39:11.157Z"
   },
   {
    "duration": 26,
    "start_time": "2024-10-19T10:39:11.162Z"
   },
   {
    "duration": 83,
    "start_time": "2024-10-19T11:12:23.414Z"
   },
   {
    "duration": 4,
    "start_time": "2024-10-19T11:12:26.926Z"
   },
   {
    "duration": 17,
    "start_time": "2024-10-19T11:12:29.502Z"
   },
   {
    "duration": 9,
    "start_time": "2024-10-19T11:29:46.213Z"
   },
   {
    "duration": 6,
    "start_time": "2024-10-19T11:32:22.298Z"
   },
   {
    "duration": 180,
    "start_time": "2024-10-19T11:41:34.685Z"
   },
   {
    "duration": 36,
    "start_time": "2024-10-19T11:41:34.882Z"
   },
   {
    "duration": 4,
    "start_time": "2024-10-19T11:41:34.919Z"
   },
   {
    "duration": 11,
    "start_time": "2024-10-19T11:41:34.925Z"
   },
   {
    "duration": 3,
    "start_time": "2024-10-19T11:41:34.938Z"
   },
   {
    "duration": 25,
    "start_time": "2024-10-19T11:41:34.942Z"
   },
   {
    "duration": 75,
    "start_time": "2024-10-19T11:41:34.968Z"
   },
   {
    "duration": 27,
    "start_time": "2024-10-19T11:41:35.045Z"
   },
   {
    "duration": 55,
    "start_time": "2024-10-19T11:41:35.074Z"
   },
   {
    "duration": 11,
    "start_time": "2024-10-19T11:41:35.130Z"
   },
   {
    "duration": 885,
    "start_time": "2024-10-19T11:41:35.143Z"
   },
   {
    "duration": 1553,
    "start_time": "2024-10-19T11:41:36.030Z"
   },
   {
    "duration": 1571,
    "start_time": "2024-10-19T11:41:37.585Z"
   },
   {
    "duration": 4,
    "start_time": "2024-10-19T11:41:39.166Z"
   },
   {
    "duration": 26,
    "start_time": "2024-10-19T11:41:39.172Z"
   },
   {
    "duration": 39,
    "start_time": "2024-10-19T11:41:39.200Z"
   },
   {
    "duration": 526,
    "start_time": "2024-10-19T11:41:39.241Z"
   },
   {
    "duration": 3,
    "start_time": "2024-10-19T11:41:39.769Z"
   },
   {
    "duration": 41,
    "start_time": "2024-10-19T11:41:39.774Z"
   },
   {
    "duration": 52,
    "start_time": "2024-10-19T11:41:39.817Z"
   },
   {
    "duration": 122981,
    "start_time": "2024-10-19T11:41:39.871Z"
   },
   {
    "duration": 5,
    "start_time": "2024-10-19T11:43:42.853Z"
   },
   {
    "duration": 22,
    "start_time": "2024-10-19T11:43:42.859Z"
   },
   {
    "duration": 1610,
    "start_time": "2024-10-19T12:26:11.713Z"
   },
   {
    "duration": 1391,
    "start_time": "2024-10-19T12:27:10.312Z"
   },
   {
    "duration": 13,
    "start_time": "2024-10-19T12:27:27.735Z"
   },
   {
    "duration": 12,
    "start_time": "2024-10-19T12:27:47.649Z"
   },
   {
    "duration": 18,
    "start_time": "2024-10-19T12:30:42.893Z"
   },
   {
    "duration": 14,
    "start_time": "2024-10-19T12:33:32.571Z"
   },
   {
    "duration": 18,
    "start_time": "2024-10-19T13:50:01.323Z"
   },
   {
    "duration": 20,
    "start_time": "2024-10-19T13:50:10.586Z"
   },
   {
    "duration": 1138,
    "start_time": "2024-10-19T13:56:11.223Z"
   },
   {
    "duration": 3575,
    "start_time": "2024-10-19T14:02:16.810Z"
   },
   {
    "duration": 3394,
    "start_time": "2024-10-19T14:03:27.168Z"
   },
   {
    "duration": 1122,
    "start_time": "2024-10-19T14:03:47.431Z"
   },
   {
    "duration": 1162,
    "start_time": "2024-10-19T14:06:34.153Z"
   },
   {
    "duration": 942,
    "start_time": "2024-10-19T14:12:27.840Z"
   },
   {
    "duration": 1095,
    "start_time": "2024-10-19T15:07:33.484Z"
   },
   {
    "duration": 1131,
    "start_time": "2024-10-19T15:10:43.786Z"
   },
   {
    "duration": 228,
    "start_time": "2024-10-19T15:11:26.490Z"
   },
   {
    "duration": 4695,
    "start_time": "2024-10-19T15:11:32.250Z"
   },
   {
    "duration": 1160,
    "start_time": "2024-10-19T15:17:25.443Z"
   },
   {
    "duration": 11,
    "start_time": "2024-10-19T15:28:36.755Z"
   },
   {
    "duration": 16,
    "start_time": "2024-10-19T15:30:50.026Z"
   },
   {
    "duration": 18,
    "start_time": "2024-10-19T15:32:55.606Z"
   },
   {
    "duration": 9,
    "start_time": "2024-10-19T15:34:20.781Z"
   },
   {
    "duration": 12,
    "start_time": "2024-10-19T15:34:28.580Z"
   },
   {
    "duration": 16,
    "start_time": "2024-10-19T15:37:34.643Z"
   },
   {
    "duration": 14,
    "start_time": "2024-10-19T15:37:59.186Z"
   },
   {
    "duration": 16,
    "start_time": "2024-10-19T15:38:18.026Z"
   },
   {
    "duration": 12,
    "start_time": "2024-10-19T15:38:33.097Z"
   },
   {
    "duration": 941,
    "start_time": "2024-10-19T16:27:45.313Z"
   },
   {
    "duration": 14,
    "start_time": "2024-10-19T16:28:46.753Z"
   },
   {
    "duration": 735,
    "start_time": "2024-10-19T16:38:18.833Z"
   },
   {
    "duration": 922,
    "start_time": "2024-10-19T16:38:28.314Z"
   },
   {
    "duration": 1124,
    "start_time": "2024-10-19T16:38:58.480Z"
   },
   {
    "duration": 727,
    "start_time": "2024-10-19T16:40:46.367Z"
   },
   {
    "duration": 614,
    "start_time": "2024-10-19T16:41:09.478Z"
   },
   {
    "duration": 5,
    "start_time": "2024-10-19T16:48:56.203Z"
   },
   {
    "duration": 71,
    "start_time": "2024-10-19T16:48:56.210Z"
   },
   {
    "duration": 14,
    "start_time": "2024-10-19T16:48:56.282Z"
   },
   {
    "duration": 17,
    "start_time": "2024-10-19T16:48:56.298Z"
   },
   {
    "duration": 12,
    "start_time": "2024-10-19T16:48:56.317Z"
   },
   {
    "duration": 26,
    "start_time": "2024-10-19T16:48:56.331Z"
   },
   {
    "duration": 14,
    "start_time": "2024-10-19T16:48:56.359Z"
   },
   {
    "duration": 28,
    "start_time": "2024-10-19T16:48:56.375Z"
   },
   {
    "duration": 43,
    "start_time": "2024-10-19T16:48:56.405Z"
   },
   {
    "duration": 12,
    "start_time": "2024-10-19T16:48:56.450Z"
   },
   {
    "duration": 47,
    "start_time": "2024-10-19T16:48:56.464Z"
   },
   {
    "duration": 13,
    "start_time": "2024-10-19T16:48:56.512Z"
   },
   {
    "duration": 978,
    "start_time": "2024-10-19T16:48:56.527Z"
   },
   {
    "duration": 1525,
    "start_time": "2024-10-19T16:48:57.507Z"
   },
   {
    "duration": 1507,
    "start_time": "2024-10-19T16:48:59.034Z"
   },
   {
    "duration": 4,
    "start_time": "2024-10-19T16:49:00.542Z"
   },
   {
    "duration": 20,
    "start_time": "2024-10-19T16:49:00.548Z"
   },
   {
    "duration": 40,
    "start_time": "2024-10-19T16:49:00.569Z"
   },
   {
    "duration": 614,
    "start_time": "2024-10-19T16:49:00.611Z"
   },
   {
    "duration": 4,
    "start_time": "2024-10-19T16:49:01.226Z"
   },
   {
    "duration": 17,
    "start_time": "2024-10-19T16:49:01.232Z"
   },
   {
    "duration": 25,
    "start_time": "2024-10-19T16:49:01.250Z"
   },
   {
    "duration": 114960,
    "start_time": "2024-10-19T16:49:01.276Z"
   },
   {
    "duration": 1463,
    "start_time": "2024-10-19T16:50:56.238Z"
   },
   {
    "duration": 104,
    "start_time": "2024-10-19T16:50:57.703Z"
   },
   {
    "duration": 1165,
    "start_time": "2024-10-19T16:50:57.809Z"
   },
   {
    "duration": 1104,
    "start_time": "2024-10-19T16:50:58.976Z"
   },
   {
    "duration": 22,
    "start_time": "2024-10-19T16:51:00.084Z"
   },
   {
    "duration": 1544,
    "start_time": "2024-11-19T13:53:46.273Z"
   },
   {
    "duration": 167,
    "start_time": "2024-11-19T13:53:47.819Z"
   },
   {
    "duration": 18,
    "start_time": "2024-11-19T13:53:47.987Z"
   },
   {
    "duration": 12,
    "start_time": "2024-11-19T13:53:48.006Z"
   },
   {
    "duration": 3,
    "start_time": "2024-11-19T13:53:48.021Z"
   },
   {
    "duration": 17,
    "start_time": "2024-11-19T13:53:48.026Z"
   },
   {
    "duration": 3,
    "start_time": "2024-11-19T13:53:48.044Z"
   },
   {
    "duration": 12,
    "start_time": "2024-11-19T13:53:48.049Z"
   },
   {
    "duration": 10,
    "start_time": "2024-11-19T13:53:48.062Z"
   },
   {
    "duration": 8,
    "start_time": "2024-11-19T13:53:48.073Z"
   },
   {
    "duration": 66,
    "start_time": "2024-11-19T13:53:48.082Z"
   },
   {
    "duration": 10,
    "start_time": "2024-11-19T13:53:48.150Z"
   },
   {
    "duration": 981,
    "start_time": "2024-11-19T13:53:48.162Z"
   },
   {
    "duration": 1470,
    "start_time": "2024-11-19T13:53:49.145Z"
   },
   {
    "duration": 1564,
    "start_time": "2024-11-19T13:53:50.616Z"
   },
   {
    "duration": 3,
    "start_time": "2024-11-19T13:53:52.182Z"
   },
   {
    "duration": 74,
    "start_time": "2024-11-19T13:53:52.187Z"
   },
   {
    "duration": 25,
    "start_time": "2024-11-19T13:53:52.262Z"
   },
   {
    "duration": 485,
    "start_time": "2024-11-19T13:53:52.289Z"
   },
   {
    "duration": 5,
    "start_time": "2024-11-19T13:53:52.776Z"
   },
   {
    "duration": 13,
    "start_time": "2024-11-19T13:53:52.782Z"
   },
   {
    "duration": 9,
    "start_time": "2024-11-19T13:53:52.796Z"
   },
   {
    "duration": 114026,
    "start_time": "2024-11-19T13:53:52.830Z"
   },
   {
    "duration": 1084,
    "start_time": "2024-11-19T13:55:46.858Z"
   },
   {
    "duration": 18,
    "start_time": "2024-11-19T13:55:48.028Z"
   },
   {
    "duration": 1109,
    "start_time": "2024-11-19T13:55:48.047Z"
   },
   {
    "duration": 1041,
    "start_time": "2024-11-19T13:55:49.158Z"
   },
   {
    "duration": 11,
    "start_time": "2024-11-19T13:55:50.200Z"
   },
   {
    "duration": 1350,
    "start_time": "2024-11-25T10:54:54.013Z"
   },
   {
    "duration": 112,
    "start_time": "2024-11-25T10:54:55.365Z"
   },
   {
    "duration": 15,
    "start_time": "2024-11-25T10:54:55.478Z"
   },
   {
    "duration": 10,
    "start_time": "2024-11-25T10:54:55.494Z"
   },
   {
    "duration": 3,
    "start_time": "2024-11-25T10:54:55.505Z"
   },
   {
    "duration": 18,
    "start_time": "2024-11-25T10:54:55.509Z"
   },
   {
    "duration": 2,
    "start_time": "2024-11-25T10:54:55.529Z"
   },
   {
    "duration": 12,
    "start_time": "2024-11-25T10:54:55.533Z"
   },
   {
    "duration": 11,
    "start_time": "2024-11-25T10:54:55.546Z"
   },
   {
    "duration": 6,
    "start_time": "2024-11-25T10:54:55.560Z"
   },
   {
    "duration": 37,
    "start_time": "2024-11-25T10:54:55.568Z"
   },
   {
    "duration": 10,
    "start_time": "2024-11-25T10:54:55.606Z"
   },
   {
    "duration": 779,
    "start_time": "2024-11-25T10:54:55.617Z"
   },
   {
    "duration": 1322,
    "start_time": "2024-11-25T10:54:56.398Z"
   },
   {
    "duration": 1346,
    "start_time": "2024-11-25T10:54:57.722Z"
   },
   {
    "duration": 13,
    "start_time": "2024-11-25T10:54:59.070Z"
   },
   {
    "duration": 15,
    "start_time": "2024-11-25T10:54:59.085Z"
   },
   {
    "duration": 36,
    "start_time": "2024-11-25T10:54:59.101Z"
   },
   {
    "duration": 538,
    "start_time": "2024-11-25T10:54:59.138Z"
   },
   {
    "duration": 4,
    "start_time": "2024-11-25T10:54:59.678Z"
   },
   {
    "duration": 52,
    "start_time": "2024-11-25T10:54:59.683Z"
   },
   {
    "duration": 7,
    "start_time": "2024-11-25T10:54:59.737Z"
   },
   {
    "duration": 89357,
    "start_time": "2024-11-25T10:54:59.746Z"
   },
   {
    "duration": 1056,
    "start_time": "2024-11-25T10:56:29.104Z"
   },
   {
    "duration": 97,
    "start_time": "2024-11-25T10:56:30.162Z"
   },
   {
    "duration": 775,
    "start_time": "2024-11-25T10:56:30.260Z"
   },
   {
    "duration": 1051,
    "start_time": "2024-11-25T10:56:31.036Z"
   },
   {
    "duration": 9,
    "start_time": "2024-11-25T10:56:32.091Z"
   },
   {
    "duration": 1443,
    "start_time": "2024-11-26T11:59:11.563Z"
   },
   {
    "duration": 217,
    "start_time": "2024-11-26T11:59:13.008Z"
   },
   {
    "duration": 19,
    "start_time": "2024-11-26T11:59:13.226Z"
   },
   {
    "duration": 12,
    "start_time": "2024-11-26T11:59:13.247Z"
   },
   {
    "duration": 4,
    "start_time": "2024-11-26T11:59:13.263Z"
   },
   {
    "duration": 13,
    "start_time": "2024-11-26T11:59:13.268Z"
   },
   {
    "duration": 3,
    "start_time": "2024-11-26T11:59:13.283Z"
   },
   {
    "duration": 12,
    "start_time": "2024-11-26T11:59:13.288Z"
   },
   {
    "duration": 14,
    "start_time": "2024-11-26T11:59:13.302Z"
   },
   {
    "duration": 12,
    "start_time": "2024-11-26T11:59:13.318Z"
   },
   {
    "duration": 51,
    "start_time": "2024-11-26T11:59:13.331Z"
   },
   {
    "duration": 11,
    "start_time": "2024-11-26T11:59:13.383Z"
   },
   {
    "duration": 916,
    "start_time": "2024-11-26T11:59:13.396Z"
   },
   {
    "duration": 1554,
    "start_time": "2024-11-26T11:59:14.316Z"
   },
   {
    "duration": 1507,
    "start_time": "2024-11-26T11:59:15.871Z"
   },
   {
    "duration": 4,
    "start_time": "2024-11-26T11:59:17.380Z"
   },
   {
    "duration": 15,
    "start_time": "2024-11-26T11:59:17.386Z"
   },
   {
    "duration": 26,
    "start_time": "2024-11-26T11:59:17.402Z"
   },
   {
    "duration": 498,
    "start_time": "2024-11-26T11:59:17.430Z"
   },
   {
    "duration": 4,
    "start_time": "2024-11-26T11:59:17.929Z"
   },
   {
    "duration": 15,
    "start_time": "2024-11-26T11:59:17.934Z"
   },
   {
    "duration": 21,
    "start_time": "2024-11-26T11:59:17.950Z"
   },
   {
    "duration": 113483,
    "start_time": "2024-11-26T11:59:17.972Z"
   },
   {
    "duration": 1515,
    "start_time": "2024-11-26T12:01:11.457Z"
   },
   {
    "duration": 21,
    "start_time": "2024-11-26T12:01:12.975Z"
   },
   {
    "duration": 913,
    "start_time": "2024-11-26T12:01:12.998Z"
   },
   {
    "duration": 1260,
    "start_time": "2024-11-26T12:01:13.913Z"
   },
   {
    "duration": 12,
    "start_time": "2024-11-26T12:01:15.175Z"
   }
  ],
  "kernelspec": {
   "display_name": "Python 3 (ipykernel)",
   "language": "python",
   "name": "python3"
  },
  "language_info": {
   "codemirror_mode": {
    "name": "ipython",
    "version": 3
   },
   "file_extension": ".py",
   "mimetype": "text/x-python",
   "name": "python",
   "nbconvert_exporter": "python",
   "pygments_lexer": "ipython3",
   "version": "3.11.9"
  },
  "toc": {
   "base_numbering": 1,
   "nav_menu": {},
   "number_sections": true,
   "sideBar": true,
   "skip_h1_title": true,
   "title_cell": "Table of Contents",
   "title_sidebar": "Contents",
   "toc_cell": false,
   "toc_position": {},
   "toc_section_display": true,
   "toc_window_display": false
  }
 },
 "nbformat": 4,
 "nbformat_minor": 4
}
